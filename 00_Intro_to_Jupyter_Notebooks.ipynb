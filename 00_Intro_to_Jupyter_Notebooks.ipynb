{
  "nbformat": 4,
  "nbformat_minor": 0,
  "metadata": {
    "kernelspec": {
      "display_name": "Python 3",
      "language": "python",
      "name": "python3"
    },
    "language_info": {
      "codemirror_mode": {
        "name": "ipython",
        "version": 3
      },
      "file_extension": ".py",
      "mimetype": "text/x-python",
      "name": "python",
      "nbconvert_exporter": "python",
      "pygments_lexer": "ipython3",
      "version": "3.6.8"
    },
    "colab": {
      "provenance": [],
      "include_colab_link": true
    }
  },
  "cells": [
    {
      "cell_type": "markdown",
      "metadata": {
        "id": "view-in-github",
        "colab_type": "text"
      },
      "source": [
        "<a href=\"https://colab.research.google.com/github/tinkercademy/ml-notebooks/blob/main/00_Intro_to_Jupyter_Notebooks.ipynb\" target=\"_parent\"><img src=\"https://colab.research.google.com/assets/colab-badge.svg\" alt=\"Open In Colab\"/></a>"
      ]
    },
    {
      "cell_type": "markdown",
      "metadata": {
        "id": "dWIci0eiLdIa"
      },
      "source": [
        "# Getting started with Jupyter Notebooks"
      ]
    },
    {
      "cell_type": "markdown",
      "metadata": {
        "id": "0kmyGK8uLdIh"
      },
      "source": [
        "Hello! Welcome! You can navigate this notebook by just reading, but the most satisfying way of reading any Jupyter notebook is by clicking on any text, then using the arrow keys to follow the big outline. Try it! Just be careful not to double-click on any cell yet."
      ]
    },
    {
      "cell_type": "markdown",
      "metadata": {
        "id": "s1Ngyo44LdIh"
      },
      "source": [
        "## What is Jupyter? What does it have to do with Python?"
      ]
    },
    {
      "cell_type": "markdown",
      "metadata": {
        "id": "L7SyxCdaLdIh"
      },
      "source": [
        "Python programs are just plain text files, usually with a `.py` extension. You can actually edit Python files on your computer without any special software--just use a text editor. You can even program Python online using tools such as [Trinket](http://trinket.io). (If you'd like, you can try our [Tinkeracdemy Trinket Courses](https://tinkercademy.trinket.io/) to learn some Python and encryption!) Many learners download [Python IDLE](http://python.org/idle) program to run on their computers to program in Python. We're not doing that for this course, though."
      ]
    },
    {
      "cell_type": "markdown",
      "metadata": {
        "id": "g7Ph1Uj-LdIh"
      },
      "source": [
        "We're going to use [Jupyter](http://jupyter.org), a slightly different web-based Python environment. (You may also see it referred to as its old name, IPython.) Jupyter is favoured by researchers and analysts as a way of \"showing your working\"--you can mix code with text. This block is text, and the block below is code:"
      ]
    },
    {
      "cell_type": "code",
      "metadata": {
        "id": "g2O0vTfULdIh"
      },
      "source": [
        "print(\"This is code\")"
      ],
      "execution_count": null,
      "outputs": []
    },
    {
      "cell_type": "markdown",
      "metadata": {
        "id": "vSRG4Gm2LdIh"
      },
      "source": [
        "Other than using this website, you can start Jupyter Notebooks in several ways. If you have [Anaconda](https://www.anaconda.com/download) installed, open the launcher, and launch Jupyter notebooks (sometimes called IPython notebooks). If you installed it separately, you can start Jupyter from a terminal (Windows: run `cmd` or **Command Prompt** in the start menu) by running `jupyter notebook`."
      ]
    },
    {
      "cell_type": "markdown",
      "metadata": {
        "id": "cxRxHQADLdIi"
      },
      "source": [
        "Here are some interesting Jupyter notebooks that are hosted online. These are usually _read-only_ when hosted on a web server, i.e. you can't run code live (requires quite some processing power!), but you can download them to try:\n",
        "\n",
        "* [Quantum mechanics lectures](https://github.com/jrjohansson/qutip-lectures)\n",
        "* GovTech's [analysis of the SMRT signalling issue in 2016](https://blog.data.gov.sg/how-we-caught-the-circle-line-rogue-train-with-data-79405c86ab6a)\n",
        "* [Gallery of interesting notebooks across many fields](https://github.com/jupyter/jupyter/wiki#a-gallery-of-interesting-jupyter-notebooks)\n",
        "* [Another gallery](http://nb.bianp.net/sort/views/)"
      ]
    },
    {
      "cell_type": "markdown",
      "metadata": {
        "id": "8axn_54OLdIi"
      },
      "source": [
        "## Using Jupyter"
      ]
    },
    {
      "cell_type": "markdown",
      "metadata": {
        "id": "rt1ekM-MLdIi"
      },
      "source": [
        "First, we need to explain how to run cells. Try to _run_ the cell below! Click on it, and follow the instructions in the cell."
      ]
    },
    {
      "cell_type": "code",
      "metadata": {
        "id": "enp0NbAWLdIi",
        "outputId": "1f37b13d-0420-4bc8-8068-d8e824960f45"
      },
      "source": [
        "import pandas as pd\n",
        "print(\"Hi! This is a cell. Press the ▶ button above to run it\")"
      ],
      "execution_count": null,
      "outputs": [
        {
          "output_type": "stream",
          "text": [
            "Hi! This is a cell. Press the ▶ button above to run it\n"
          ],
          "name": "stdout"
        }
      ]
    },
    {
      "cell_type": "markdown",
      "metadata": {
        "id": "kSzQDL-rLdIi"
      },
      "source": [
        "You can also run a cell with *Ctrl+Enter* or *Shift+Enter*. *Alt-Enter* will create a new cell below for you. Try it with the code blocks below--and feel free to vandalise this document!"
      ]
    },
    {
      "cell_type": "code",
      "metadata": {
        "id": "8uhl5uqTLdIj"
      },
      "source": [
        "print(\"Try running this with Ctrl-Enter\")"
      ],
      "execution_count": null,
      "outputs": []
    },
    {
      "cell_type": "code",
      "metadata": {
        "id": "09hRv4gTLdIj"
      },
      "source": [
        "print(\"How about Alt-Enter? How is it different?\")"
      ],
      "execution_count": null,
      "outputs": []
    },
    {
      "cell_type": "code",
      "metadata": {
        "collapsed": true,
        "id": "b5nV2_ZTLdIj"
      },
      "source": [
        "# this is a blank cell with a comment, that does nothing."
      ],
      "execution_count": null,
      "outputs": []
    },
    {
      "cell_type": "markdown",
      "metadata": {
        "id": "512tYsofLdIj"
      },
      "source": [
        "## Getting help"
      ]
    },
    {
      "cell_type": "markdown",
      "metadata": {
        "id": "7mIrebwnLdIj"
      },
      "source": [
        "One of the most useful things about Jupyter is *tab completion*. Try this: click just after read_csv( in the cell below, press and hold Shift, then press Tab 4 times, slowly..."
      ]
    },
    {
      "cell_type": "code",
      "metadata": {
        "id": "9BIXXvqaLdIj"
      },
      "source": [
        "pd.read_csv()"
      ],
      "execution_count": null,
      "outputs": []
    },
    {
      "cell_type": "markdown",
      "metadata": {
        "id": "jq3y-LL1LdIj"
      },
      "source": [
        "After the first time, you should see something like this:\n",
        "<div align=\"center\">\n",
        "<img src=\"tab-once.png\" width=\"75%\">\n",
        "</div>\n",
        "\n",
        "After the second time:\n",
        "<div align=\"center\">\n",
        "<img src=\"tab-twice.png\" width=\"75%\">\n",
        "</div>\n",
        "\n",
        "After the fourth time, a big help box should pop up at the bottom of the screen, with the full documentation for the `read_csv` function:\n",
        "<div align=\"center\">\n",
        "<img src=\"tab-4-times.png\" width=\"90%\">\n",
        "</div>"
      ]
    },
    {
      "cell_type": "markdown",
      "metadata": {
        "id": "B8_Qv0jALdIj"
      },
      "source": [
        "Think of this as \"the more confused I am, the more times I should press Shift+Tab\". Nothing bad will happen if you tab complete 12 times!\n",
        "\n",
        "You can also try tab completion for function names. Put your cursor after the `read_`, and press Tab:"
      ]
    },
    {
      "cell_type": "code",
      "metadata": {
        "scrolled": false,
        "id": "82Qxy-C9LdIj"
      },
      "source": [
        "pd.read_"
      ],
      "execution_count": null,
      "outputs": []
    },
    {
      "cell_type": "markdown",
      "metadata": {
        "id": "bAP2BQ4xLdIk"
      },
      "source": [
        "You should see something like this, trying to help you complete the function whose name you forgot:\n",
        "\n",
        "<div align=\"center\">\n",
        "<img src=\"function-completion.png\" width=\"30%\">\n",
        "</div>"
      ]
    },
    {
      "cell_type": "markdown",
      "metadata": {
        "id": "DtLq8rtnLdIk"
      },
      "source": [
        "## Writing code"
      ]
    },
    {
      "cell_type": "markdown",
      "metadata": {
        "id": "5dLTVNGuLdIk"
      },
      "source": [
        "To write code in a cell, make sure the box next to the refresh button says \"Code\", and write as normal:"
      ]
    },
    {
      "cell_type": "code",
      "metadata": {
        "id": "t4OCXTqsLdIk"
      },
      "source": [
        "num_monkeys = 5\n",
        "num_bananas = 2\n",
        "bananas_per_monkey = num_bananas / num_monkeys\n",
        "print(\"Each monkey has\", bananas_per_monkey, \"bananas.\")"
      ],
      "execution_count": null,
      "outputs": []
    },
    {
      "cell_type": "markdown",
      "metadata": {
        "id": "KHDXsIyDLdIk"
      },
      "source": [
        "Code carries forward from cell to cell, **depending on what order you run the cell**. That's what the `In [xx]` indicators mean--if you lined them up in numerical order, you would see what order your code is running!"
      ]
    },
    {
      "cell_type": "code",
      "metadata": {
        "id": "EBjV4v31LdIk"
      },
      "source": [
        "# this should work, if you already ran the code above this\n",
        "print(\"There are\", num_monkeys, \"monkeys.\")"
      ],
      "execution_count": null,
      "outputs": []
    },
    {
      "cell_type": "markdown",
      "metadata": {
        "id": "Hd23uTdbLdIk"
      },
      "source": [
        "## Writing text"
      ]
    },
    {
      "cell_type": "markdown",
      "metadata": {
        "id": "rIKLsLe6LdIl"
      },
      "source": [
        "To write text, like this line, select **Markdown** from the drop-down menu that says **Code** (for entering Code), or you can choose **Heading**. (You can also create headings using a number of hashtags, `#`, in front of your plain text.) You can also explore the keyboard shortcuts for toggling text and code--in this case, it's `<esc>-m` to switch to Markdown."
      ]
    },
    {
      "cell_type": "markdown",
      "metadata": {
        "id": "Eol5X3wGLdIl"
      },
      "source": [
        "To find out more about Markdown formatting, look it up online: [Markdown syntax](https://daringfireball.net/projects/markdown/syntax). You can also double-click on this text to see how we do the following:\n",
        "\n",
        "This is **bold** text, followed by a single line break<br>\n",
        "This is *italics*\n",
        "\n",
        "* This is a bullet point\n",
        "* Another bullet point\n",
        "\n",
        "This is a link: [Google](http://google.com)"
      ]
    },
    {
      "cell_type": "markdown",
      "metadata": {
        "id": "QLZwB8agLdIl"
      },
      "source": [
        "## Writing equations"
      ]
    },
    {
      "cell_type": "markdown",
      "metadata": {
        "id": "Lfz9dG5mLdIl"
      },
      "source": [
        "If you ever need to write equations, use $$ to surround your equation. E.g., ``$$a^2 + b^2 = c^2$$`` will give you:"
      ]
    },
    {
      "cell_type": "markdown",
      "metadata": {
        "id": "YZuLltrPLdIl"
      },
      "source": [
        "$$a^2 + b^2 = c^2$$"
      ]
    },
    {
      "cell_type": "markdown",
      "metadata": {
        "id": "ZnKz-YAPLdIl"
      },
      "source": [
        "## Saving and Exiting"
      ]
    },
    {
      "cell_type": "markdown",
      "metadata": {
        "id": "uWj5hZ9ILdIl"
      },
      "source": [
        "These notebooks autosave, but you can also save manually with `Ctrl-S` (`Cmd-S` on Mac), which gives you a handy checkpoint.\n",
        "\n",
        "When done, it's good practice to _Close_ your notebook. This saves memory on the server (or on your own computer, if you're running Anaconda locally). To do this, select __File__, then __Close and Halt__, and you'll be done with this document. Bye!!\n",
        "\n",
        "Here are some code lines for you to fiddle with. We're awfully generous about these."
      ]
    },
    {
      "cell_type": "code",
      "metadata": {
        "collapsed": true,
        "id": "fnInRLevLdIl"
      },
      "source": [],
      "execution_count": null,
      "outputs": []
    },
    {
      "cell_type": "code",
      "metadata": {
        "collapsed": true,
        "id": "wE6TTq-ALdIl"
      },
      "source": [],
      "execution_count": null,
      "outputs": []
    },
    {
      "cell_type": "code",
      "metadata": {
        "collapsed": true,
        "id": "dTFLM6A0LdIl"
      },
      "source": [],
      "execution_count": null,
      "outputs": []
    },
    {
      "cell_type": "code",
      "metadata": {
        "collapsed": true,
        "id": "oZV98UsvLdIl"
      },
      "source": [],
      "execution_count": null,
      "outputs": []
    }
  ]
}