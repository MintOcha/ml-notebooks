{
  "cells": [
    {
      "cell_type": "markdown",
      "metadata": {
        "colab_type": "text",
        "id": "view-in-github"
      },
      "source": [
        "<a href=\"https://colab.research.google.com/github/tinkercademy/ml-notebooks/blob/main/Data Science (Answers)/03_Intro_to_NumPy_Answers.ipynb\" target=\"_parent\"><img src=\"https://colab.research.google.com/assets/colab-badge.svg\" alt=\"Open In Colab\"/></a>"
      ]
    },
    {
      "cell_type": "markdown",
      "metadata": {
        "id": "Pnp0wzI9d8iq"
      },
      "source": [
        "# Introduction to NumPy\n",
        "\n",
        "You are becoming proficient with **pandas**, having totally crushed the previous notebook. **pandas** is built on top of **NumPy**, and you might occasionally want to drop down to using NumPy every once in a while. At the very least, you want to explore NumPy to better understand how pandas work."
      ]
    },
    {
      "cell_type": "code",
      "execution_count": 1,
      "metadata": {
        "id": "sLu0Yu3cd8iq"
      },
      "outputs": [],
      "source": [
        "import numpy as np # because we don't want to type 'numpy', only 'np'. Think of all the hours of typing saved!"
      ]
    },
    {
      "cell_type": "markdown",
      "metadata": {
        "id": "IxBleFUsd8iu"
      },
      "source": [
        "## What is NumPy\n",
        "\n",
        "While Python has lists, it is slow on the kind of list operations we want to perform when we work with large amount of data. **NumPy** was created to address this.\n",
        "\n",
        "Here are some assumptions that NumPy makes in its implementation so that it can be speedy:\n",
        "* It understands that when analyzing data, you'll often want to carry out operations over entire collections of values.\n",
        "* A NumPy array can easily support N-dimensional data, but the length of each dimension is the same (so you can have a 7 x 3 x 8 x 4 array, but not one where in the second dimension, the first element has 3 sub-elements, and the second element has 5 sub-elements)\n",
        "* To be fast, a NumPy array adds the constraint that the values in each dimension of array can only be of a single data type (homogenous).\n"
      ]
    },
    {
      "cell_type": "markdown",
      "metadata": {
        "id": "nrwK4ZefnPH_"
      },
      "source": [
        "### A BMI problem\n",
        "\n",
        "You are given the weights and heights of an entire class of people, and you need to calculate the BMI.\n",
        "\n",
        "This is how you would do it using generic Python lists\n"
      ]
    },
    {
      "cell_type": "code",
      "execution_count": 2,
      "metadata": {
        "colab": {
          "base_uri": "https://localhost:8080/"
        },
        "id": "_hgMA6Nfd8iu",
        "outputId": "88b2da34-21a8-4e3e-e6cc-9e80191499a9"
      },
      "outputs": [
        {
          "name": "stdout",
          "output_type": "stream",
          "text": [
            "[28.710937499999993, 18.884637188208618, 22.365856160870017, 23.994552155103346]\n"
          ]
        }
      ],
      "source": [
        "weight = [73.5, 53.3, 65.4, 59.9]\n",
        "height = [1.6, 1.68, 1.71, 1.58]\n",
        "\n",
        "bmi = []\n",
        "for i in range(len(weight)):\n",
        "  bmi.append(weight[i] / (height[i] * height[i]))\n",
        "\n",
        "print(bmi)"
      ]
    },
    {
      "cell_type": "markdown",
      "metadata": {
        "id": "dnbFz-QqoKfn"
      },
      "source": [
        "You wish you can calculate the BMI across all the datapoints at one go instead. You can with NumPy."
      ]
    },
    {
      "cell_type": "code",
      "execution_count": 3,
      "metadata": {
        "colab": {
          "base_uri": "https://localhost:8080/"
        },
        "id": "A_TV8cGOd8ix",
        "outputId": "c8683e4d-f315-49a7-9b49-28d09a2f489e"
      },
      "outputs": [
        {
          "name": "stdout",
          "output_type": "stream",
          "text": [
            "[28.7109375  18.88463719 22.36585616 23.99455216]\n"
          ]
        }
      ],
      "source": [
        "weight_np = np.array(weight)\n",
        "height_np = np.array(height)\n",
        "\n",
        "bmi = weight_np / (height_np * height_np)\n",
        "print(bmi)"
      ]
    },
    {
      "cell_type": "markdown",
      "metadata": {
        "id": "WBftrzP_d8i0"
      },
      "source": [
        "\n",
        "The NumPy version is faster than the list, and it becomes obvious with bigger datasets."
      ]
    },
    {
      "cell_type": "markdown",
      "metadata": {
        "id": "8b9gawH5p3Ls"
      },
      "source": [
        "You can access individual elements of the NumPy array `ndarray` just like a list using the indexing operator (square brackets). Slicing `ndarray` is also supported\n",
        "\n"
      ]
    },
    {
      "cell_type": "code",
      "execution_count": 4,
      "metadata": {
        "colab": {
          "base_uri": "https://localhost:8080/"
        },
        "id": "wMuYeqTupz4T",
        "outputId": "df888c22-9636-46c2-b091-0d9aa476e422"
      },
      "outputs": [
        {
          "name": "stdout",
          "output_type": "stream",
          "text": [
            "28.710937499999993\n",
            "[22.36585616 23.99455216]\n"
          ]
        }
      ],
      "source": [
        "# Get the first element\n",
        "print(bmi[0])\n",
        "\n",
        "# Get the last 2 elements\n",
        "print(bmi[2:])"
      ]
    },
    {
      "cell_type": "markdown",
      "metadata": {
        "id": "EdEBPxSdqh4v"
      },
      "source": [
        "In addition, `ndarray` also supports list subsetting using an array of booleans. You have used it with pandas (and this is a feature not supported in generic lists)"
      ]
    },
    {
      "cell_type": "code",
      "execution_count": 5,
      "metadata": {
        "colab": {
          "base_uri": "https://localhost:8080/"
        },
        "id": "WJjg_oUwrQMN",
        "outputId": "9e8f6009-a11d-42a0-add3-114a55da58cd"
      },
      "outputs": [
        {
          "name": "stdout",
          "output_type": "stream",
          "text": [
            "[ True False False  True]\n",
            "[28.7109375  23.99455216]\n"
          ]
        }
      ],
      "source": [
        "# Return an array of booleans\n",
        "print(bmi > 23)\n",
        "\n",
        "# Return a subset of elements at the positions where the array of booleans if True\n",
        "print(bmi[bmi > 23])"
      ]
    },
    {
      "cell_type": "markdown",
      "metadata": {
        "id": "XZ_NlokGd8i_"
      },
      "source": [
        "<hr>"
      ]
    },
    {
      "cell_type": "markdown",
      "metadata": {
        "id": "KyjhxmFld8jO"
      },
      "source": [
        "### <font color=\"red\">Exercise 1: P/E Ratio Calculation</font>\n",
        "\n",
        "The price-to-earnings ratio (P/E ratio) is the ratio for valuing a company that measures its current share price relative to its per-share earnings (EPS). The P/E ratio is a signal to stock traders on the fair value of a stock.\n",
        "\n",
        "Use **NumPy** to calculate the P/E ratio of a bunch of stocks.\n",
        "\n",
        "```\n",
        "stocks = ['ABC', 'NBC', 'GOOG', 'FB', 'SIA']\n",
        "prices = [56.7, 3.1, 18.4, 9.9, 103.5]\n",
        "eps = [1.5, 0.04, 0.9, 0.5, 1.4]\n",
        "```"
      ]
    },
    {
      "cell_type": "code",
      "execution_count": 6,
      "metadata": {
        "colab": {
          "base_uri": "https://localhost:8080/"
        },
        "id": "CCHubmjvd8jO",
        "outputId": "b8814195-9d90-44d1-cb9f-b97bc7f31982"
      },
      "outputs": [
        {
          "data": {
            "text/plain": [
              "array([37.8       , 38.75      , 20.44444444, 19.8       , 23.52272727])"
            ]
          },
          "execution_count": 6,
          "metadata": {},
          "output_type": "execute_result"
        }
      ],
      "source": [
        "stocks = ['ABC', 'NBC', 'GOOG', 'FB', 'SIA']\n",
        "prices = [56.7, 3.1, 18.4, 9.9, 103.5]\n",
        "eps = [1.5, 0.08, 0.9, 0.5, 4.4]\n",
        "\n",
        "stocks = np.array(stocks)\n",
        "prices = np.array(prices)\n",
        "eps = np.array(eps)\n",
        "\n",
        "prices/eps"
      ]
    },
    {
      "cell_type": "markdown",
      "metadata": {
        "id": "0v27NDiruy4T"
      },
      "source": [
        "Find the undervalued stocks. These are stocks with a P/E ratio of less than 21."
      ]
    },
    {
      "cell_type": "code",
      "execution_count": 7,
      "metadata": {
        "colab": {
          "base_uri": "https://localhost:8080/"
        },
        "id": "tSXfc92lvG4k",
        "outputId": "1e73b887-c70c-4e42-dbd0-1119ff03f222"
      },
      "outputs": [
        {
          "data": {
            "text/plain": [
              "array(['GOOG', 'FB'], dtype='<U4')"
            ]
          },
          "execution_count": 7,
          "metadata": {},
          "output_type": "execute_result"
        }
      ],
      "source": [
        "stocks[prices/eps < 21]"
      ]
    },
    {
      "cell_type": "markdown",
      "metadata": {
        "id": "8so0C-xuvSUD"
      },
      "source": [
        "Your answer should be GOOG and FB"
      ]
    },
    {
      "cell_type": "markdown",
      "metadata": {
        "id": "FBDIduT1d8jR"
      },
      "source": [
        "<hr>"
      ]
    },
    {
      "cell_type": "markdown",
      "metadata": {
        "id": "DOUIvlufvsDN"
      },
      "source": [
        "# 2D NumPy Arrays\n",
        "\n",
        "Let's break out of 1-D and work in higher dimensions. We keep it simple with a 2-D array first.\n",
        "\n",
        "Here's one way to create a 2-D NumPy array:"
      ]
    },
    {
      "cell_type": "code",
      "execution_count": 8,
      "metadata": {
        "id": "-xorh-YPw8Pk"
      },
      "outputs": [],
      "source": [
        "np_2d = np.array([[3.5, 6.4, 12.6, 9.7],\n",
        "                  [6.1, 8.1, 10.3, 14.2]])"
      ]
    },
    {
      "cell_type": "code",
      "execution_count": 9,
      "metadata": {
        "colab": {
          "base_uri": "https://localhost:8080/"
        },
        "id": "emicUm9uxVi-",
        "outputId": "0a5dfaa8-a991-40cb-89d5-3525bb7bf1e3"
      },
      "outputs": [
        {
          "data": {
            "text/plain": [
              "(2, 4)"
            ]
          },
          "execution_count": 9,
          "metadata": {},
          "output_type": "execute_result"
        }
      ],
      "source": [
        "np_2d.shape"
      ]
    },
    {
      "cell_type": "markdown",
      "metadata": {
        "id": "-qU0NPEGx-xn"
      },
      "source": [
        "The `shape` attribute will return the shape of the `ndarray`."
      ]
    },
    {
      "cell_type": "markdown",
      "metadata": {
        "id": "VGRfzfyWyQak"
      },
      "source": [
        "The `arange` function is similar to the `range` function. We use it to create a larger array to manipulate."
      ]
    },
    {
      "cell_type": "code",
      "execution_count": 10,
      "metadata": {
        "colab": {
          "base_uri": "https://localhost:8080/"
        },
        "id": "yInNprTfylWB",
        "outputId": "79cf8b81-b082-47c1-bdc7-88ca7c1d44c4"
      },
      "outputs": [
        {
          "data": {
            "text/plain": [
              "array([ 0,  1,  2,  3,  4,  5,  6,  7,  8,  9, 10, 11, 12, 13, 14, 15, 16,\n",
              "       17, 18, 19, 20, 21, 22, 23, 24, 25, 26, 27, 28, 29, 30, 31, 32, 33,\n",
              "       34, 35, 36, 37, 38, 39, 40, 41, 42, 43, 44, 45, 46, 47, 48, 49])"
            ]
          },
          "execution_count": 10,
          "metadata": {},
          "output_type": "execute_result"
        }
      ],
      "source": [
        "np_2d = np.arange(50)\n",
        "np_2d"
      ]
    },
    {
      "cell_type": "markdown",
      "metadata": {
        "id": "Wp-AU6Ykyq9k"
      },
      "source": [
        "We can re-shape an array using the `reshape` function\n",
        "\n",
        "\n"
      ]
    },
    {
      "cell_type": "code",
      "execution_count": 11,
      "metadata": {
        "colab": {
          "base_uri": "https://localhost:8080/"
        },
        "id": "zy7j5kvuyn1O",
        "outputId": "28328c8f-9d8e-4143-da61-1f6ad27965d9"
      },
      "outputs": [
        {
          "data": {
            "text/plain": [
              "array([[ 0,  1,  2,  3,  4,  5,  6,  7,  8,  9],\n",
              "       [10, 11, 12, 13, 14, 15, 16, 17, 18, 19],\n",
              "       [20, 21, 22, 23, 24, 25, 26, 27, 28, 29],\n",
              "       [30, 31, 32, 33, 34, 35, 36, 37, 38, 39],\n",
              "       [40, 41, 42, 43, 44, 45, 46, 47, 48, 49]])"
            ]
          },
          "execution_count": 11,
          "metadata": {},
          "output_type": "execute_result"
        }
      ],
      "source": [
        "np_2d = np_2d.reshape(5, 10)\n",
        "np_2d"
      ]
    },
    {
      "cell_type": "markdown",
      "metadata": {
        "id": "StHovytRz1RT"
      },
      "source": [
        "Higher-dimensional arrays also respond to arithmetical operations on the entire list. Here are some examples:"
      ]
    },
    {
      "cell_type": "code",
      "execution_count": 12,
      "metadata": {
        "colab": {
          "base_uri": "https://localhost:8080/"
        },
        "id": "0qsRauA2z7Yz",
        "outputId": "6e0a68ba-e843-43fb-a153-e49419a78455"
      },
      "outputs": [
        {
          "data": {
            "text/plain": [
              "array([[ 0,  2,  4,  6,  8, 10, 12, 14, 16, 18],\n",
              "       [20, 22, 24, 26, 28, 30, 32, 34, 36, 38],\n",
              "       [40, 42, 44, 46, 48, 50, 52, 54, 56, 58],\n",
              "       [60, 62, 64, 66, 68, 70, 72, 74, 76, 78],\n",
              "       [80, 82, 84, 86, 88, 90, 92, 94, 96, 98]])"
            ]
          },
          "execution_count": 12,
          "metadata": {},
          "output_type": "execute_result"
        }
      ],
      "source": [
        "np_2d * 2"
      ]
    },
    {
      "cell_type": "code",
      "execution_count": 13,
      "metadata": {
        "colab": {
          "base_uri": "https://localhost:8080/"
        },
        "id": "T6r782kFz8PN",
        "outputId": "3bd96d99-9275-4557-e156-ad644dc8c45b"
      },
      "outputs": [
        {
          "data": {
            "text/plain": [
              "array([[12, 13, 14, 15, 16, 17, 18, 19, 20, 21],\n",
              "       [22, 23, 24, 25, 26, 27, 28, 29, 30, 31],\n",
              "       [32, 33, 34, 35, 36, 37, 38, 39, 40, 41],\n",
              "       [42, 43, 44, 45, 46, 47, 48, 49, 50, 51],\n",
              "       [52, 53, 54, 55, 56, 57, 58, 59, 60, 61]])"
            ]
          },
          "execution_count": 13,
          "metadata": {},
          "output_type": "execute_result"
        }
      ],
      "source": [
        "np_2d + 12"
      ]
    },
    {
      "cell_type": "code",
      "execution_count": 14,
      "metadata": {
        "colab": {
          "base_uri": "https://localhost:8080/"
        },
        "id": "Q0-kYUaez_Ss",
        "outputId": "965e5c1d-a7f3-4ddf-f841-b91aaac35044"
      },
      "outputs": [
        {
          "data": {
            "text/plain": [
              "array([[ 0. ,  0.5,  1. ,  1.5,  2. ,  2.5,  3. ,  3.5,  4. ,  4.5],\n",
              "       [ 5. ,  5.5,  6. ,  6.5,  7. ,  7.5,  8. ,  8.5,  9. ,  9.5],\n",
              "       [10. , 10.5, 11. , 11.5, 12. , 12.5, 13. , 13.5, 14. , 14.5],\n",
              "       [15. , 15.5, 16. , 16.5, 17. , 17.5, 18. , 18.5, 19. , 19.5],\n",
              "       [20. , 20.5, 21. , 21.5, 22. , 22.5, 23. , 23.5, 24. , 24.5]])"
            ]
          },
          "execution_count": 14,
          "metadata": {},
          "output_type": "execute_result"
        }
      ],
      "source": [
        "np_2d / 2"
      ]
    },
    {
      "cell_type": "markdown",
      "metadata": {
        "id": "JLt83LFX0V-J"
      },
      "source": [
        "## Subsetting Data\n",
        "\n",
        "You can retrieve individual elements of an n-dimensional `ndarray` like so:"
      ]
    },
    {
      "cell_type": "code",
      "execution_count": 15,
      "metadata": {
        "colab": {
          "base_uri": "https://localhost:8080/"
        },
        "id": "rURJ-_yW0Iee",
        "outputId": "ccfd7238-1870-46f5-ca6d-c0806078d025"
      },
      "outputs": [
        {
          "name": "stdout",
          "output_type": "stream",
          "text": [
            "43\n",
            "43\n"
          ]
        }
      ],
      "source": [
        "print(np_2d[4][3])\n",
        "print(np_2d[4,3])"
      ]
    },
    {
      "cell_type": "markdown",
      "metadata": {
        "id": "pjgW1RWD0v7y"
      },
      "source": [
        "You can also do fancier subsetting like so:"
      ]
    },
    {
      "cell_type": "code",
      "execution_count": 16,
      "metadata": {
        "colab": {
          "base_uri": "https://localhost:8080/"
        },
        "id": "mdcVzrNA0gB8",
        "outputId": "5aa174f5-0e28-40fc-9567-9c76ea5c1928"
      },
      "outputs": [
        {
          "data": {
            "text/plain": [
              "array([[ 4,  5,  6,  7,  8],\n",
              "       [14, 15, 16, 17, 18]])"
            ]
          },
          "execution_count": 16,
          "metadata": {},
          "output_type": "execute_result"
        }
      ],
      "source": [
        "np_2d[:2, 4:9]"
      ]
    },
    {
      "cell_type": "markdown",
      "metadata": {
        "id": "GyRQbwGL1KX8"
      },
      "source": [
        "# Calculating the value of Pi\n",
        "\n",
        "We can calculate the value of Pi numerically using the Monte Carlo method. This is how it works. Drop points randomly onto a square of 1 x 1 dimensions. The ratio of points falling within one quadrant is pi / 4.\n"
      ]
    },
    {
      "cell_type": "markdown",
      "metadata": {
        "id": "J3456-jd21AO"
      },
      "source": [
        "\n",
        "![pi_chart.png](data:image/png;base64,iVBORw0KGgoAAAANSUhEUgAAA5YAAAL0CAYAAAB3QKibAAAMSWlDQ1BJQ0MgUHJvZmlsZQAASImVVwdYk9caPv/IJAkjEAEZYS9R9pQRwoogIFNwEZJAwogxIYi4KaUK1i0ioFa0KmLRagWkTtQ6i4K7jotaVCq1OHChck8GaO1z733u9zzf/7/5znfeb+T8/38OALp1fJksH9UDoEBaKE+MCmNPTs9gk3oAAkiADBhAjy9QyDgJCbEAyvD97/LqGvSGctlVxfXP8f8q+kKRQgAAkgBxllAhKID4JwDwMoFMXggA0Q/abWYXylR4KsSGcpggxDIVztHgMhXO0uBqtU9yIhfi3QCQaXy+PAcARiu0s4sEOZCHcQNiN6lQIgVAlwxxsEDMF0IcDfGYgoKZKgz9gGPWZzw5f+PMGuHk83NGsKYWtZDDJQpZPn/O/9mO/y0F+crhGPZQaWJ5dKKqZti3G3kzY1SYBnGfNCsuHmIDiN9IhGp/iFGqWBmdovFHzQQKLuwZYEHsJuSHx0BsBnGkND8uVmvPypZE8iCGKwQtlhTykrVzl4gUEUlazjr5zMT4YZwt53K0c5v4cnVclf9JZV4KR8t/QyziDfO/LBEnp2lyxqhFktQ4iBkQsxR5STEaH8y2RMyNG/aRKxNV+dtCHCCSRoVp+LHp2fLIRK2/vEAxXC+2RCzhxWlxTaE4OVrLs1vAV+dvDHGrSMpJGeYRKSbHDtciFIVHaGrHLomkKdp6sW5ZYViidu5zWX6C1h+nivKjVHZriM0URUnauXhwIVyQGn48TlaYkKzJE8/K5U9I0OSDF4NYwAXhgA2UULPATJALJB19LX3wl2YkEvCBHOQAEXDVWoZnpKlHpPCaBErAnxCJgGJkXph6VASKoP3DiFVzdQXZ6tEi9Yw88BDiAhAD8uFvpXqWdCRaKvgdWiT/iC6AueZDVY3908aBllitRTnMy9Yd9iRGEMOJ0cRIohNuigfjgXgsvIZC9cD9cP/hbD/5Ex4SOgn3CVcJ3YSbMySl8i/qYYOJoBtGiNTWnPV5zbg9ZPXGw/AgyA+5cRZuClxxLxiJg4fA2N7QytVmrqr+S+6/1fBZ17V+FDcKShlFCaU4fjmT4czwHmFR9fTzDmlyzRrpK3dk5Mv43M86LYT3mC89sSXYfuw0dhw7ix3CWgAbO4q1Yhewwyo8sop+V6+i4WiJ6nzyII/kH/H42piqTircGt163d5rxgpFxar3I+DOlM2RS3LEhWwOfPOL2DypYOwYtoebhzsAqu+I5jX1gqX+PiCsc59spVsBCAoeGho69MkW0wPA/n4AqHc+2Rzhs8voAuDMWoFSXqSx4aoLAVCBLnyiTIAFsAGOsB4P4AMCQSiIABNAPEgG6WA67LIYrmc5mA3mgcWgHFSClWAdqAGbwVawE/wA9oEWcAgcB7+A8+ASuApuwdXTA56AfvAKDCIIQkLoCBMxQSwRO8QF8UD8kGAkAolFEpF0JBPJQaSIEpmHfIVUIquRGmQL0oD8iBxEjiNnkU7kJnIP6UWeI+9QDKWhhqg5ao+OQ/1QDhqDJqPT0Bx0FlqClqHL0Wq0Ht2NNqPH0fPoVbQbfYIOYADTwViYFeaK+WFcLB7LwLIxObYAq8CqsHqsCWuD//NlrBvrw97iRJyJs3FXuIKj8RRcgM/CF+DL8Bp8J96Mn8Qv4/fwfvwjgU4wI7gQAgg8wmRCDmE2oZxQRdhOOEA4BZ+mHsIrIpHIIjoQfeHTmE7MJc4lLiNuJO4hHiN2Eh8QB0gkkgnJhRREiifxSYWkctIG0m7SUVIXqYf0hqxDtiR7kCPJGWQpuZRcRd5FPkLuIj8iD1L0KHaUAEo8RUiZQ1lB2UZpo1yk9FAGqfpUB2oQNZmaS11MraY2UU9Rb1Nf6OjoWOv460zSkegs0qnW2atzRueezluaAc2ZxqVNpSlpy2k7aMdoN2kv6HS6PT2UnkEvpC+nN9BP0O/S3zCYjLEMHkPIWMioZTQzuhhPdSm6droc3em6JbpVuvt1L+r26VH07PW4eny9BXq1egf1rusN6DP13fXj9Qv0l+nv0j+r/9iAZGBvEGEgNCgz2GpwwuABE2PaMLlMAfMr5jbmKWaPIdHQwZBnmGtYafiDYYdhv5GBkZdRqlGxUa3RYaNuFsayZ/FY+awVrH2sa6x3o8xHcUaJRi0d1TSqa9Rr49HGocYi4wrjPcZXjd+ZsE0iTPJMVpm0mNwxxU2dTSeZzjbdZHrKtG+04ejA0YLRFaP3jf7NDDVzNks0m2u21eyC2YC5hXmUucx8g/kJ8z4LlkWoRa7FWosjFr2WTMtgS4nlWsujln+wjdgcdj67mn2S3W9lZhVtpbTaYtVhNWjtYJ1iXWq9x/qODdXGzybbZq1Nu02/raXtRNt5to22v9lR7PzsxHbr7U7bvbZ3sE+z/8a+xf6xg7EDz6HEodHhtiPdMcRxlmO94xUnopOfU57TRqdLzqizt7PYudb5ogvq4uMicdno0jmGMMZ/jHRM/ZjrrjRXjmuRa6PrvbGssbFjS8e2jH06znZcxrhV406P++jm7Zbvts3tlruB+wT3Uvc29+cezh4Cj1qPK550z0jPhZ6tns+8XLxEXpu8bngzvSd6f+Pd7v3Bx9dH7tPk0+tr65vpW+d73c/QL8Fvmd8Zf4J/mP9C/0P+bwN8AgoD9gX8FegamBe4K/DxeIfxovHbxj8Isg7iB20J6g5mB2cGfxfcHWIVwg+pD7kfahMqDN0e+ojjxMnl7OY8DXMLk4cdCHvNDeDO5x4Lx8KjwivCOyIMIlIiaiLuRlpH5kQ2RvZHeUfNjToWTYiOiV4VfZ1nzhPwGnj9E3wnzJ9wMoYWkxRTE3M/1jlWHts2EZ04YeKaibfj7OKkcS3xIJ4Xvyb+ToJDwqyEnycRJyVMqp30MNE9cV7i6SRm0oykXUmvksOSVyTfSnFMUaa0p+qmTk1tSH2dFp62Oq178rjJ8yefTzdNl6S3ZpAyUjO2ZwxMiZiybkrPVO+p5VOvTXOYVjzt7HTT6fnTD8/QncGfsT+TkJmWuSvzPT+eX88fyOJl1WX1C7iC9YInwlDhWmGvKEi0WvQoOyh7dfbjnKCcNTm94hBxlbhPwpXUSJ7lRuduzn2dF5+3I28oPy1/TwG5ILPgoNRAmic9OdNiZvHMTpmLrFzWPStg1rpZ/fIY+XYFopimaC00hBv2C0pH5dfKe0XBRbVFb2anzt5frF8sLb4wx3nO0jmPSiJLvp+LzxXMbZ9nNW/xvHvzOfO3LEAWZC1oX2izsGxhz6KoRTsXUxfnLf611K10denLr9K+aiszL1tU9uDrqK8byxnl8vLr3wR+s3kJvkSypGOp59INSz9WCCvOVbpVVlW+XyZYdu5b92+rvx1anr28Y4XPik0riSulK6+tClm1c7X+6pLVD9ZMXNO8lr22Yu3LdTPWna3yqtq8nrpeub67Ora6dYPthpUb3teIa67WhtXuqTOrW1r3eqNwY9em0E1Nm803V25+953kuxtborY019vXV20lbi3a+nBb6rbT3/t937DddHvl9g87pDu6dybuPNng29Cwy2zXika0UdnYu3vq7ks/hP/Q2uTatGUPa0/lXrBXufePHzN/vLYvZl/7fr/9TT/Z/VR3gHmgohlpntPc3yJu6W5Nb+08OOFge1tg24Gfx/6845DVodrDRodXHKEeKTsydLTk6MAx2bG+4znHH7TPaL91YvKJKycnnew4FXPqzC+Rv5w4zTl99EzQmUNnA84ePOd3ruW8z/nmC94XDvzq/euBDp+O5ou+F1sv+V9q6xzfeaQrpOv45fDLv1zhXTl/Ne5q57WUazeuT73efUN44/HN/JvPfiv6bfDWotuE2xV39O5U3TW7W/8vp3/t6fbpPnwv/N6F+0n3bz0QPHjyu+L39z1lD+kPqx5ZPmp47PH4UG9k76U/pvzR80T2ZLCv/E/9P+ueOj796a/Qvy70T+7veSZ/NvR82QuTFzteer1sH0gYuPuq4NXg64o3Jm92vvV7e/pd2rtHg7Pfk95Xf3D60PYx5uPtoYKhIRlfzldvBTCoaHY2AM93AEBPB4B5Ce4fpmjOeWpBNGdTNQL/CWvOgmrxAaAJ3lTbde4xAPZCtYdKh6raqieHAtTTc0S1osj29NBw0eCJh/BmaOiFOQCkNgA+yIeGBjcODX3YBpO9CcCxWZrzpUqI8GzwnZcKdbEk08AX8m9yC4DWFKomAQAAAAlwSFlzAAAWJQAAFiUBSVIk8AAAAZ1pVFh0WE1MOmNvbS5hZG9iZS54bXAAAAAAADx4OnhtcG1ldGEgeG1sbnM6eD0iYWRvYmU6bnM6bWV0YS8iIHg6eG1wdGs9IlhNUCBDb3JlIDUuNC4wIj4KICAgPHJkZjpSREYgeG1sbnM6cmRmPSJodHRwOi8vd3d3LnczLm9yZy8xOTk5LzAyLzIyLXJkZi1zeW50YXgtbnMjIj4KICAgICAgPHJkZjpEZXNjcmlwdGlvbiByZGY6YWJvdXQ9IiIKICAgICAgICAgICAgeG1sbnM6ZXhpZj0iaHR0cDovL25zLmFkb2JlLmNvbS9leGlmLzEuMC8iPgogICAgICAgICA8ZXhpZjpQaXhlbFhEaW1lbnNpb24+OTE4PC9leGlmOlBpeGVsWERpbWVuc2lvbj4KICAgICAgICAgPGV4aWY6UGl4ZWxZRGltZW5zaW9uPjc1NjwvZXhpZjpQaXhlbFlEaW1lbnNpb24+CiAgICAgIDwvcmRmOkRlc2NyaXB0aW9uPgogICA8L3JkZjpSREY+CjwveDp4bXBtZXRhPgoOF6tMAAAAHGlET1QAAAACAAAAAAAAAXoAAAAoAAABegAAAXoAAOeYn11nPQAAQABJREFUeAHsnQV4VEcXhr/NRnGH4u5QtJQCxd1d+pfipS3uLQVapFiRAqU4FCsuLUWLe3F3LxSXBEiIbP6ZTdd3s5tkN2vfPM8+e+/Mnbkz79zAfnfOnKOIFglMJEACJEACHkWgVKlSKFGiBBYsWOBR4+JgSIAESIAESIAEXJOAgsLSNSeGvSIBEiCB+BJ48OABsmbNiowZM0IeKxSK+DbFeiRAAiRAAiRAAiRgEwEKS5sw8SISIAEScB8Co0ePxrBhw9QdPnnyJEqWLOk+nWdPSYAESIAESIAE3JIAhaVbThs7TQIkQAKWCTRo0AB//vmn+oIxY8bgm2++sXwxS0iABEiABEiABEjADgQoLO0AkU2QAAmQgKsQiIyMRNq0aREcHKzuUqVKlbBv3z5X6R77QQIkQAIkQAIk4KEEKCw9dGI5LBIgAe8ksH//fnz88cfawfv6+uLJkydIlSqVNo8HJEACJEACJEACJGBvAhSW9ibK9kiABEjAiQSGDh2KH374waAHq1atQsuWLQ3yeEICJEACJEACJEAC9iRAYWlPmmyLBEiABJxMQIYZOXXqlEEvOnbsyLAjBkR4QgIkQAIkQAIkYG8CFJb2Jsr2SIAESMBJBP79919kyZIFxuGJ33vvPdy/f59hR5w0L7wtCZAACZAACXgDAQpLb5hljpEESMArCCxcuBCdOnUyO1aGHTGLhZkkQAIkQAIkQAJ2IkBhaSeQbIYESIAEnE2gVatWWL16tdluMOyIWSzMJAESIAESIAESsBMBCks7gWQzJEACJOBMAjLMSPr06fHy5Uuz3WDYEbNYmEkCJEACJEACJGAnAhSWdgLJZkiABEjAmQSMw4wY94VhR4yJ8JwESIAESIAESMCeBCgs7UmTbZEACZCAkwiYCzNi3BWGHTEmwnMSIAESIAESIAF7EaCwtBdJtkMCJEACTiRgLsyIcXcYdsSYCM9JgARIgARIgATsRYDC0l4k2Q4JkAAJOImApTAjxt1h2BFjIjwnARIgARIgARKwFwEKS3uRZDskQAIk4CQCsYUZMe4Sw44YE+E5CZAACZAACZCAPQhQWNqDItsgARIgAScSiC3MiHG3GHbEmAjPSYAESIAESIAE7EGAwtIeFNkGCZAACTiJgLUwI8bdYtgRYyI8JwESIAESIAESsAcBCkt7UGQbJEACJOAkAtbCjBh3i2FHjInwnARIgARIgARIwB4EKCztQZFtkAAJkICTCNgSZsS4aww7YkyE5yRAAiRAAiRAAgklQGGZUIKsTwIkQAJOJGBLmBHj7jHsiDERnpMACZAACZAACSSUAIVlQgmyPgmQAAk4iYCtYUaMu8ewI8ZEeE4CJEACJEACJJBQAhSWCSXI+iRAAiTgJAJxCTNi3EWGHTEmwnMSIAESIAESIIGEEKCwTAg91iUBEiABJxKwFGbEx8cHKpUKgYGBCAsLM9tDhh0xi4WZJEACJEACJEAC8SRAYRlPcKxGAiRAAs4kYCnMiBSVY8eOxeDBg5EmTRp88sknmD59uklXGXbEBAkzSIAESIAESIAEEkCAwjIB8FiVBEiABJxFwFyYESkqZ8+ejVq1aiFHjhxqYfn06VP07t3bRFwy7IizZo73JQESIAESIAHPJEBh6ZnzylGRAAl4OAHjMCMaUdmlSxfcvXtXKyyfPXuG6Ohos+KSYUc8/CHh8EiABEiABEggEQlQWCYibN6KBEiABOxFoFixYjh//ry6OX1RKTOMhaXMMycuGXZEkmEiARIgARIgARKwBwEKS3tQZBskQAIkkIgEHjx4gCxZsmjvOHfuXMiVSk0yJyxlmTlxKZ38KBQKTVV+kwAJkAAJkAAJkEC8CFBYxgsbK5EACZCA8wjohxmZM2cOunbtatAZS8JSXiTFZdu2bbFy5Up1HYYdMUDHExIgARKwicDjZ9HIXzUMr0KiUb+aEpvmB9hUjxeRgCcToLD05Nnl2EiABDySgAwzsnbtWrWjHv2VSs1gYxOW8hr9lUuGHdFQ4zcJkAAJ2E6gy5BwzF8Zqa6QI4sCtw8E2V6ZV5KAhxKgsPTQieWwSIAEPJOADDOSMWNGjB8/3sD8VX+01oSlvFYjLk+fPo19+/bpV+cxCZAACZBALASOn1Phg8Zh4t/RmIvkboLg80mQLEkslVhEAl5AgMLSCyaZQyQBEvAcAgcPHsSlS5csiko5UluEpbxOisv+/ftj+PDhSJUqlcxiIgESIAESiIWAFJMVWoTh8EmVwVVH1geiXAkfgzyekIC3EaCw9LYZ53hJgATcmkBISAiSJ08e6xhsFZayESku37x5g2TJksXaJgtJgARIgASAJesj0b5fuAmK+eP90amVr0k+M0jAmwhQWHrTbHOsJEACXkEgLsLSK4BwkCRAAiRgBwKv30I47AnFv4//s4HVa7NvZ19M/tZfL4eHJOB9BCgsvW/OOWISIAEPJ0Bh6eETzOGRAAk4hcCQ8REYPyvC7L1rVVJi22J6hjULh5leQ4DC0mummgMlARLwFgIUlt4y0xwnCZBAYhG4ficaRWqGIty8rkTmjArcP0LPsIk1H7yPaxKgsHTNeWGvSIAESCDeBCgs442OFUmABEjALIGGnd9h064os2WazOeng5A6pXARy0QCXkqAwtJLJ57DJgES8FwCFJaeO7ccGQmQQOIT2Lo3CnU7vLN64/2rA1GxDD3DWgXFCzyWAIWlx04tB0YCJOCtBCgsvXXmOW4SIAF7E4iIBIrVDsOVm4bhRczdZ9YYf3zejp5hzbFhnncQoLD0jnnmKEmABLyIAIWlF002h0oCJOBQApPmRmDADxY2VhrduUd7X0z/np5hjbDw1IsIUFh60WRzqCRAAt5BgMLSO+aZoyQBEnAsgUdPo0V4kTAEvzYNL2LuzlXLK7FrOT3DmmPDPO8gQGHpHfPMUZIACXgRAQpLL5psDpUESMBhBDoNCsfC1cIW9r9U5UMl9hyx7MAnfRoFHp+gZ1gNL357HwEKS++bc46YBEjAwwlQWHr4BHN4JEACDifw9xkVPmwahuj/FivTpFLgwvZAZPsoFJE6rWnSDykspcBkIoHEJjBvZSSevYhG0iQKSLNsZyQKS2dQ5z1JgARIwIEEKCwdCJdNkwAJeDwBKSbLNwvD0dM6hz1y76T8sV64ZhguXdflG8OQprDSJJaJBBKTwO7DUajWLsZzcaG8Pri4IzAxb6+9F4WlFgUPSIAESMAzCFBYesY8chQkQALOIfDr2kh0GBCuvXnhfD44szkQvmIRqOWX77Bmi2VzWI0A1VbmgUcTkF6DT19U4fwVFSLFY+EjFqsV4uMjos7of/sqFernx1e8c5DPkeG3An4meRB5lurE5N99EI2T51U4cCwKs5dHIvw/H1NtGirx2zTn7PWlsPTox52DIwES8EYCFJbeOOscMwmQgD0IhLyJcdjz8InOYc+2xQGoVSlmFfL7nyLw3VTLXmJluBEZdoTJswlIs1O5/1YKuzDrIU4TFcb4IX4Y9Llfot5TczMKSw0JfpMACZCAhxCgsPSQieQwSIAEEp3AoLERmDhHJxwbVFPij/m61R+5WilXLS2limV8sH+1c8wQLfWJ+fYj8OJVNLoMCce6rZZXre13t7i3lCKZAtf2BCJDWufs86WwjPucsQYJkAAJuDQBCkuXnh52jgRIwEUJXL0VjWK1Q7UmhdI88fz2IOTPpfuRLvdXyn2WllLqlAo8P03PsJb4uHO+DD/zQeMwSBNUV02ThvqjXxfx4DopUVg6CTxvSwIkQAKOIkBh6SiybJcESMCTCdTv9A6bd+tWouQPdPlDXT9Jj7BJC7/Vik/9Ms3x/SNByJxRJ0Y1+fx2bwJNur3Dxh2658PVRlO9ghJbFgWo92s6q28Uls4iz/uSAAmQgIMIUFg6CCybJQES8FgCUlBKYalJMmSINClMmdxUIBavE4ZzwlmLpaS/J9PSNcx3LwLGDp1cqfdyZX30AD8M6OqndhrkzL5RWDqTPu9NAiRAAg4gQGHpAKhskgRIwGMJSG+aRWuF4tptnYmjdMAjHfGYS+16v8Nvv1teuZr8rT/6djZf11x7zsgbOzMC1+/oxuuMPsR2z+RJgSnD/NWeVWO7LjHKXr8Fsn4YilchprySiX7my+mj9vKq3xdpLitNZ2XKmE6B7JlNX1DoX685PnbW8gsLzTWa77SpFWhUQ4leHXxRorBwQ+sCicLSBSaBXSABEiABexKgsLQnTbZFAiTg6QSksx7ptEeTihf0wclNgVBaCEc5ZkYEvp2ku15TT/PdqZUv5o83NKHVlLnKd4bSoXjy3FQouUr/ZD+enQpCmlS2CTJH9nvZhkj8r68u/EyTWkq0b+YL+Zzkzq4wK35HTY/A8Mkxz8i8cf7o3Nr6iwbpifi9D0ItDmXVzwHI9p4CUsxKsZpOCEsZ0sSVEoWlK80G+0ICJEACdiBAYWkHiGyCBEjAKwjIH/P5q4ZBhhnRpF3LA1C1vAVVKS7asD0KTT/Xmc1q6mm+y5XwwZH1ru0ZlsJSM1vWvxt2fodNu2JWqOXq4NTh1ldSP2oehsMnY1Yf/zkchCyZrCvAlZui0Kan+edKmmY/Oh7kckLSmB6FpTERnpMACZCAmxOgsHTzCWT3SYAEEo1AhwHhkPvnNKlpbSXWzdKFF9Hk639LE9J8VSyvLCVPqsCrc64tAigs9WfU8rEML5KpbIyn4EzpFbi1PwiBsT8ekHXSixXhKKFFixXwwdmttr1k6D40HLOX655F/V61qKvE6plWbqxfwUnHFJZOAs/bkgAJkICjCFBYOoos2yUBEvAkAkdPq1C+WRii/1usDBDWqxd3BKnNG2Mbp0osRCUr8hahlqOO4PaBIOTIYn2VKrb7OLKMwtI2uqcvqjDghxiT1v81UaJDC+smrav+jELrHjErjwO7+WHC13423axg9TBcuWl+j+XPI/3x5afW723TjRx4EYWlA+GyaRIgARJwBgEKS2dQ5z1JgATciYAUk+WahEHfWcrg7n4YN9g2EVCqQRhOXTAvAiSHTfMDUL+aZXNaZ7OisHTcDHQcGI5Fa2JWHncuC0C1j6w/B/8+jkbmcpZXwS/uCEShvK7hoCc2chSWsdFhGQmQAAm4IQEKSzecNHaZBEggUQksXB2JToN0DlmkmePV3YGQZqy2pPb9wrFkvXmzRVl//BA/DPrcNpFqy/3sfc3MJZFixVW3r9Te7dujva/a+1k1O7XHfezZhnxhkUV4kJVCUTrZeXYqCfxteAykl2Hpbdhcko56Hh4LMlfkcnkUli43JewQCZAACSSMAIVlwvixNgmQgGcTCH4d47BHEw5CjlZ6cZXeXG1N42dFYMh4y55hP23qi8WTXdszrK1j5XW2E5CmsyXrx9hIN6yuxO/zbNsX2e3rcMxdYf5FResGSqyYbls7tvfUMVdSWDqGK1slARIgAacRoLB0GnremARIwA0IyD1zk+bqRGGpoj44tjEwTsHl/xReQhsIb6GWkmzzxB+2OW2x1Abz3Y/AuF8i8PWEmGdr5ih/fPE/215W5K9qGEdVf+SxxVTVv84VjiksXWEW2AcSIAESsCMBCks7wmRTJEACHkVAOkcpVjsMEXqLQ/tWBaJS2bjtX7v9TzRyVbK8Jy5IaMrXF5LESax6FGgvHUzl1mHY93fM3tub+4KQK5t10+r7D6ORtbzlZ+nyzkAUyB2359NZ+CksnUWe9yUBEiABBxGgsHQQWDZLAiTg9gTqdniHrXtjYhJqBvNdHxs2wWku/u9beoYdOU236mlUrD69ticIeXNYFxbm6jLP/Qi8ColGulKhiBQvLfLnUuDKLtv2RS7bEIn/9dXt99UfeeaMCtw/Yls7+vWcdUxh6SzyvC8JkAAJOIgAhaWDwLJZEiABtyYgg9zLYPeJldbPDkCTWtY9giZWf3gfxxJYsyUKLb+Meb56dfDFTyNs22PbZUg45q/UW0LX62a7xr5YNtW2dvSqOe2QwtJp6HljEiABEnAMAQpLx3BlqyRAAu5LIFwsLhapGYrrdxLPE+ro/n4Y2iPuq6HuS9m7e64fZmTzwgDUrWLbS4W8VUJxw8JzOXecP7q0tm2fpivQp7B0hVlgH0iABEjAjgQoLO0Ik02RAAl4BAFjL66+4rd6QAIXgqTJ4zvzFoxqZm0aKvHbNPfw5ukRk+zEQUjTaBmHUnoaDhRT/vx0Esh9ttbSvX+jkf0jy/sr3c2cmsLS2oyznARIgATcjACFpZtNGLtLAiTgUAIPHkWjQPVQvH6ju400L5RmhglJf+yMQqMulk1rixXwwdmtNqiLhHSCdV2CwN6jKlRpExNmpPbHSmz91bYXCjIWqoyJai5lzaTAvcPus79SjoHC0txMMo8ESIAE3JgAhaUbTx67TgIkYHcC8oe7/AGvSUXz++DMlriFF9HU1f++eksI1mqWV5v8hRXsm4tJIFdHmTybwFfDwzFzScwzNnW4P3p3tG3SOw0Kx8LVumdTn5I7xkKlsNSfQR6TAAmQgAcQoLD0gEnkEEiABOxC4PBJFSq0CEO03tbKdbMC0LS2bfvfYuuENIVNUuitQegS4+sv7ghEobyuFypCeiKVIVNcNSVPpoB0gOMOKUo4GZZmsI+fxfCMi/lq7o9Dceue+XmYP94fnVq5BwPNPFFYakjwmwRIgAQ8hACFpYdMJIdBAiSQIAJy31u5JmE4fi4mrqBsrHQxHxz/3X7mqYVqhOHyDV37xh1e9XMAWtZLuIg1bjeh5xlKh+LJc/OCJqFt26v+s1NBSJPK9cO1/P5XFBp3jTGJzpdTgau7bTNfvXM/GjkrWl7xtjUOpr1426MdCkt7UGQbJEACJOBCBCgsXWgy2BUSIAGnEZi7IhLdvjbcv7ZlUQDqVLaf0GvS7R027jCMi6k/4BG9/RCfOJn6bTjimMLSflTrdXyHLXtingFpAitNYW1Jv66NRIcBhs+npl6OLArcPmCbQNXUcYVvCktXmAX2gQRIgATsSIDC0o4w2RQJkIBbEnjxKhr5q4bh6QvdqlzFMj7Yv9p+q5USzOBxEZgwW8QysZCa11VizUzbHLlYaCLW7ONnVTh1UaU2p3wpxgyxwJcqhQK5silQsogPyogVWnOJwtIclZi812+BZ+K5kV6DM6WPfcX05t1o5KsaCrk6LtPOZQGo9pFtLy6kqJTi0lz6rLkvFv1om0A1V99ZeRSWziLP+5IACZCAgwhQWDoILJslARJwGwL6zlQ0nd6zIhCVy5kXWppr4vq9YFUkOg82v+ok2yqYxweX/rKvmD1xXgV537VbotThLWLrsxRGLYS4lXv1pNDUJApLDQnT72GTIjB6RoQ6XMirc0ngF8s2xy5DwjF/ZYw4lKzvHwmCjw6zaeN6ObkqhVrc5ypFpRSXsaXvpkagbHEf1KuqhCJ2/RtbM3Yto7C0K042RgIkQALOJ0Bh6fw5YA9IgAScR+DUBRXKNArTriLJntSooMSOpfZfOTx4XIWKLWPCTJgbsfQI+/pCkgTHzJRt3xLOdoYL0bNUON6JT2rfzBej+vkhuzCzpLC0TFBj2qoUC4+R15NYvPDGnWgUrBEK6cRJpriYwf7zMBrZylveX3nnYBCyZ7asFlf8EYW2vWL2df74jR/6dxUuiF0gUVi6wCSwCyRAAiRgTwIUlvakybZIgATciYA0SfywaRiOCRNR/XRkfSDKlbBxKUm/opVjaWqbvpRlgSCry9AmxQsm7N7SZPLLb8Px1rKGtdLTmOJkQifNHO2P81ei8fqtzkzYpsqJfNGEIf5IalnXOaw3GcvEeHhNlhQIOW++A9LLcI3/vcOuQ7r9tUc3BOKD922bZ31haDyQnFkVuLXf8v7KkDfRkE6j7gtxGijelVzZFbsINW7fkecUlo6ky7ZJgARIwAkEKCydAJ23JAEScAkCPy+ORI8RhqaptSopsW2x/VcrNQNOWzIUz19aFmlLpvjjf01iN2vUtGXue+S0CIyYYn4fZ31hBlm1vA+KFvBBhrQxK1yPnkYL4ajC7sMqbP7PqYxxu6P7+2FoD9dY5TLumzPPJbtMZXUvCkLEarMU48Zp7MwIfDNRNyfyxYF8gWBrGvdLBL6eoKuvX69mRSW2L7H8vErTa2kKLdOQL/wwdpDrzCOFpf5M8pgESIAEPIAAhaUHTCKHQAIkEGcCcgWnSK0wvAoxFHm7lgcI8WWbQ5U431RUkCukR08brpDqt9O3sy8mfxs/Ryxyr5/c82ecpOmjNL3M9p5lc0lZR4a0mLYwApPnm5rP/jDQD19/6TqixHiMzjg/f1WFYrV1y8IzvvfHV+11LwXkSqUUlUN/NJyTuMac7D8mHJPnmc6JHHOHFr5YONH887JhexSafh5jAps+jQLX9wYihYj56SqJwtJVZoL9IAESIAE7EaCwtBNINkMCJOBWBOp3eofNu3WmibLzKZMr8OJMkEOdmzTr/g7rtxneVx/cR6V9cHCN7atZmrq//R6Fdr1jRIQmr0RhH8z+wd9mk0tNvSOnVPj8m3CcvWwogFfOCECr+o4T3Zr7u8v33qMqVGmjE5bSM6xcFZQCXiVE5S9LIyH38OonKfDuHgpSm6Xq58d2/Fn/cCxeZ15YfitWkkeJFWXjdFvssS0r9g5rPB3PHeePLq11otf4emecU1g6gzrvSQIkQAIOJEBh6UC4bJoESMAlCUjPnNJDp3FytBmsvJ85QavfD+nA59mpoDitLD1+FrOPTt/EtrpwQLRhToBZ00z9+1k6liu5TbqFY88RnQiW5rMXhdfatKlcZ9XLUv8TI19/RdDW+40f4odBn5sKwdjqt+8XjiXrzQvLCV/7YWA3w/bk81CxRRiu3Y5ZjW9SS4n1sy2by8Z2b0eWUVg6ki7bJgESIAEnEKCwdAJ03pIESMBpBE6cU6FSqzCE6haatH3p08kXU4aZNyvUXpTAA42zl9iaievq0hfCUc+sZTrhUSSfWPVcG6BegY3tPtbKpFCt0OIdLt/Qrbr1EKae04XJJxOwdW8U6nYwXCWOjUvu7EKY7wiKs9ffUdMjMHyyoTmt5j4yfMifC3SiMfh1tFhFfaddKc2aSaHez5nGBV8GUFhqZpHfJEACJOAhBCgsPWQiOQwSIAGrBKQJ6qf93uGNCGpvLslVvh3CEYqj4vzFJhD0+5NDhPiQXkMzprO+MnjzbjTyVNY5kJHt2DMGp/RkWv0TQ/F054DwLCr66O3JeI+lNR4b5wagUY24mxKv3hyFVl8ZzoHmXjIO5s8j/dGguhIHjqkwZHy4eq+sLJdlu38LxMcf2OZ9VtNmYn1TWCYWad6HBEiABBKJAIVlIoHmbUiABJxCQDpQ2SnE0ZzlkVizJQryPLbUpqESX37qh5JFfOJtRqppX+5vk8LvuAhnsnFHFLbv15mVaq6x9J08qQLSkU8N4fWzeEGFxdXH4cID7CjhCVaTurb1xRyxr9KeSd+zqGz3+75+GN7L0PzSnvdzl7bCBXbpFfbFKysPlRjQAOFAaaKIIRmfJJ+j/FXDbLqPpn0Z/mTxpAA0rR13Iatpw9HfFJaOJsz2SYAESCCRCVBYJjJw3o4ESCBRCUxbFIne35vup7SlE/LH+ZnNQZAmjHFNuSqFQjpQsVdaMMEfHVuaOl8pVidMHS5Ec58zm0UczEL2XaE6eV6F0g11tsPSKdCpP+PuYEjTR0/6NjZDNje21g2UWDY1AMoEaDxp6izvZUvKk0OBjWJ/bZH89n0ObLl3XK6hsIwLLV5LAiRAAm5AgMLSDSaJXSQBEog3gdlipbL7UNt+kJu7iQwonz9X3IWlDEMhTSXtlX4Z7Y/unxgKy39EyJRs5XVmsGWL++DvjY4RfKUahGn37ckx/ft3EDKljzsXe/FwlXakkyO5p/H0RdO5ThIE9cru4O7xW6nUH6NKNP/TwkgMnxKO12/0S3TH0vRVOuqZJzzApk7p+nNDYambOx6RAAmQgEcQoLD0iGnkIEiABLyQgAyXIr3MalK/Lr6YNNS+ZrCatvuMDFcLG835tsUBkF50mYQXX2GqunRDFOR+VGkWmzOrj9qUukMLpd0Fnoy/Kr3RXrimEk6VotWm3dkzK9QvPz5p4ivu7fqCUvPMUFhqSPCbBEiABDyEAIWlh0wkh0ECJOB1BIzNI+PqTTYuwEzuNVbERWxjuIIal/Z4LQlQWPIZIAESIAEPI0Bh6WETyuGQAAl4DYEJsyIweLzOcc+6WY5z1mLsmVSujMoVUiYSiC8BCsv4kmM9EiABEnBRAhSWLjox7BYJkAAJWCHw45wIDByrE5arZwagRV3HmKeu+CMKbXvpzG5lvE8Z95OJBOJLgMIyvuRYjwRIgARclACFpYtODLtFAiRAAlYILFgdic6DdI6Jpn3nj56fOUbsTZkfiX6jdff6dZI/2jdzzL2sDJvFHkKAwtJDJpLDIAESIAENAQpLDQl+kwAJkIB7Edh7VCU8kurCgHRp7Qu5z9IRqePAcCxaE6lt+sCaQFQo7drhLLSd5YFLEqCwdMlpYadIgARIIP4EKCzjz441SYAESMCZBGTYieRF32q7kEt4BL25X8S4cEDK/lEo7v2ri8sZejkJAgMccCM26TUEKCy9Zqo5UBIgAW8hQGHpLTPNcZIACXgigWrt3mH34Sjt0P5cEIB6Ve27z/L3v6LQuKtuf2XNikpsX0JVqYXOg3gRoLCMFzZWIgESIAHXJUBh6bpzw56RAAmQgDUCvyyNxJfDdHsfHSH6qgvxuktPvM4RoUa6MtSItalhuRUCFJZWALGYBEiABNyNAIWlu80Y+0sCJEACOgIRwinse+VC8eyFzkx19g/+6NbWPo51jIVrxnQKPDgaBB9ur9RNAo/iRYDCMl7YWIkESIAEXJcAhaXrzg17RgIkQAK2EJgowo4M0gs7IuvsWxWISmUTpv72HIlC1bY6E1jZ7uRv/dG3s31Eq2yPyXsJUFh679xz5CRAAh5KgMLSQyeWwyIBEvAqAhWah+HQSZV2zGlSKrB2lj+qfBi//ZY7D0WhefdwvArRrYRKoSoFKxMJ2IMAhaU9KLINEiABEnAhAhSWLjQZ7AoJkAAJxJPAmUsqlG8WhlBd9BF1S1OG+aNPp7itME6eF4n+Y3T7NmVDyZICh9cFomj+hK2CxnN4rOaBBCgsPXBSOSQSIAHvJkBh6d3zz9GTAAl4DoE/dkahURdD01U5ug/e90GPz3zRtpEvfC0sYEaIEJXLN0Zixq+ROH5Ot/KpoeMIb7OatvntnQQoLL1z3jlqEiABDyZAYenBk8uhkQAJeB2BP3dHoV3vcATrmbBqIMi4k9I0tkg+BdKnVaizHz+LxoWr0ZD7Kd8ZLlKqy1MLk9rlP/mjTmULilTTOL9JII4EKCzjCIyXkwAJkICrE6CwdPUZYv9IgARIIG4ELt9QoceICOw8qItvGbcWYq6uVUmJGd/7I1+uGBEanzZYhwQsEaCwtESG+SRAAiTgpgQoLN104thtEiABErBCYM7ySEycG4Hrt3UOeKxUURfnF0JyYDc/dGGsSltw8Zp4EqCwjCc4ViMBEiABVyVAYemqM8N+kQAJkIB9CKzZEoV1WyPFCqYK0vTVXJLxKatXUKJ5HSWaiQ8TCTiaAIWlowmzfRIgARJIZAIUlokMnLcjARIgAScSuP1PNG79o8LLV6ITwsI1dQogZ1Yf8aG5qxOnxStvTWHpldPOQZMACXgyAQpLT55djo0ESIAESIAEXJMAhaVrzgt7RQIkQALxJkBhGW90rEgCJEACJEACJBBPAhSW8QTHaiRAAiTgqgQoLF11ZtgvEiABEiABEvBcAhSWnju3HBkJkICXEqCw9NKJ57BJgARIgARIwIkEKCydCJ+3JgESIAFHEKCwdARVtkkCJEACJEACJBAbAQrL2OiwjARIgATckACFpRtOGrtMAiRAAiRAAm5OgMLSzSeQ3ScBEiABYwIUlsZEeE4CJEACJEACJOBoAhSWjibM9kmABEggkQlQWCYycN6OBEiABEiABEgAFJZ8CEiABEjAwwhcX74Y+T75DKn9/XGzeV0PGx2HQwIkkFACiqRJEdi0NQLqNUpoU6xPAiRAAloCFJZaFDwgARIgAdcl8C4ceP0mGq/fAm/eRuNtKBD6Dgh7F4134js8AoiIFP1//Qr5x5VDqTPXkdpXiavv53HdQbFnJEACziOgUCDN5n3wSZ/BeX3gnUmABDyKAIWlR00nB0MCJOAOBMKFSHzwOBoPn8R8Hj+Lhvw8fS4+L4DnL6PVnxevgJch0QgWnzAhHm1JhZXXsCxJM5Q8d5PC0hZgvIYEvJhAygUr4Fe8pBcT4NBJgATsSYDC0p402RYJkAAJCAJSJN66F43b/8iPCncfROOe+PzzMObzRJQ7KhkLyzPFi2B7xMeOup1Bu2IBBEGBMZ8kgQokCZIfIKn8JFGov319DarwhARIIBEJRJz4G6rnz7R3pLDUouABCZCAHQhQWNoBIpsgARLwPgIvg6Nx+UY0rtxU4eqtaFy7pcL1O9G4IT7Brx0nHK2RNhaWZXNvwvbwxBGW1vomyzNnVCBPdgXy5vRB/lwK8fFBgdwKFMzrA6WPLS3wGhIggfgSkMLy1eefaqtTWGpR8IAESMAOBCgs7QCRTZAACXgugdAw4NxlFc5dUeH8VRUuXosWH5V69dEVR+3qwjI2ZoWFuCycT4Ei+X1QVHyKFVQI0Um1GRszlpFAXAhQWMaFFq8lARKIKwEKy7gS4/UkQAIeS+DFq2icPK/CyQsqnL4QjdOXpJBUJep4UyZXIG0qIE0qBVKlFJ8UQCqRlyIZkDyZAsmSxJiVShPTIGFuGhgABPoDwgEs/HyF6enDK1B800C7x/LQr9sRVqIKVGIY8hMZFePkJyJCOP0Rez3lR4rn0LBovBEOgaRjoJA3QIhYdQ1+LfZ4ipVZ+ZH7PZ+JvZ/PXti+39Me4JKK8b5fyAclCvugpPwU9UFp8WEigdgIvBXerUZ+Nwrnzp1HylQp0a9/H5QpUzq2Kl5RRmHpFdPMQZKA0whQWDoNPW9MAiTgbAJHT6sgP8fOqnBcfC7fcJyIfC+DAtneUyBrJgWyiI88l59M6RXImE6BDGkVSC8+/n4JoxJ57QrON6+nFZYPd+2Af6WqCWvUqHaI8E77RGzTeiT2ij76zwHRv8IZ0YNH0bgv9pHekx+xp/SVcDrkiOQnGJUp5oOyxcXnfR+UK6FEvpxigyeTRxGY9tMMLF+2HCEhwUiWLDmat2yOQYMGWB3jhQsX0a7NJ7hy/iwUiHkGM2bJhnaffoofxo62Wt+TL6Cw9OTZ5dhIwPkEKCydPwfsAQmQQCIQkJ5WDx5X4dBJ8TkRhSOnVOoQHfa6dfKkCrW4yZND7CHM4YNc2RTqT86sPsiRJeGC0dZ+JoawtLUvcqUzxoFRjDOjm/dU6j2o1++I/ahiX6o9ZacU6R+W9MFHpcSnjFL9bWs/eZ3rEfjyi55YuWwp3oaIpfL/kn+SpGjWsjUWLpqnyTL7XfGjj3Hi8AGTskzZcuLPrZtRuHBBkzJvyaCw9JaZ5jhJwDkEKCydw513JQEScDABGbpj71EV9v0dhf3HVDglzFvtkaSAKZxP7AXMG+NwpqBwPCP3AcpVSFdIriQsY+MhzXKvCodHV25KJ0gqXLou9q5eV+GC2McqY3QmNEnvtBXLKvFxWR98XE58f0Dz2YQyTaz6jx49RoUPK+D+7Rsmt3wve07s3rcHOXJkNymTGQ8e/IuPPiiPR/fvmpRHi/XLHv3648dJE0zKXCFj/boNmDFjJoKDg5EmTRp8M/RrVK5cya5do7C0K042RgIkYESAwtIICE9JgATck0B4BLDrUJT4qLD7cBSOn0uYkJShM+S+Prm/T36kI5liwqFMBmG26srJXYRlbAyv3Y5WO0w6K5wmnRX7XOVeVxm+JSFJCs2qHypRtbwPqn2kRCnu00wITofW3bB+I1o3aw4fmP4Nq4Q4nLNoET77TOfZVL8zt27dRqXyFfHs0QP9bPWxfII6fv4lfpk1w6TM2Rn9+w3C8iWL8fLpY21XMgjz3T79+qFvv97avIQeUFgmlCDrkwAJxEaAwjI2OiwjARJwaQLSU+v2/Srs2B+FnQej1I5p4tvh94WILCv27ZUWHyk6ShXxgTvGXPQEYWluDp+IFehTwrHSCfGRLw3knlgZHzS+SYY9qVFRiZoVfVCrklK9xzW+bbGefQns2bMPjevVR3io8CJllBRKP6xcvw4NG9Y3KtGdlny/NC6fPaXL+O8oeeq0WLl2DapWrawtmz1rDjZs+EM4torCx5U/xtChQ7RliXXwzz/3UbliZTy4c9PklrkKFMbZ86fFv0X2CQBLYWmCmBkkQAJ2JEBhaUeYbIoESMCxBFRCR2zZHYUte6OwTXxk3Mj4pPRpFCgv9uLJPXnlSsQ4f5HeRz0huYqw/OrLnjh44CBCQ0ORMmVKfNbxM3z11Rd2RSyF5d/C+dIR+TkZpd4/Gy0fCVUIFE+7QxFxHYiOBHwzQJVqhHCf+6HF+1co44M6lZWoW0XplV5nly37DTOmzcCL58/hHxiIUqVKYtGvCyzycnRBieKlcOXcaZPb5C1cDOcunDHJ189Ysngphn87DA/v3dFmq8T6Z636DfDHpg3avNo162H/np3iERHmDiLJ1dAywgT3wKG9UAiThbt37+HmzVvIkiUz8uXLq61n74M5c+ah5+efix6a/nvmFxiEP7ZuESaxH9vlthSWdsHIRkiABCwQoLC0AIbZJEACrkFAhrf4Y2cU/twlPkJUytAYcU3ZMytQ6QMlKgrxID9FC3jufrvYhOW1a9fx99/HxA/lLKhSxT4/VM3NRf36jfHX5k0GP5TlalHX7t0x5odR5qrYJS9C6IODwjHTp60r4Mndv4VM0KUI31yISjdLiMsKukwLR7mzK1C/qhINqivVq5kWLvOY7J+mTsfEceMNzEflfsQKVatj567tThnnzp270fOrHrh55bLoiXT0pEDOvAUwQeyPbNSogdU+7d27D9+LcCPPnj5FoBDKtWrVxKgxI7X1Ro4cgzEjRpiY28r7NGvTDs+fv8Cl8+fw+OG/SJMuPfLmL4CVq39DpkwZtW3Y62Dhwl/RvVMng78XTduBSZLhj21bULGi2HN6/wGm/TQdd+7cRanSJTFwYH+1ANZca8s3haUtlHgNCZBAfAlQWMaXHOuRAAk4jIAMWbFxR5T6s12YucY1yfAdci9dFbGnrnI5HxTM47lC0piNJWHZsEETnDl5Ao/+fSBiXgYgT4GCmPLTFAOzQOO24nN+6NARNG/UGC+fPTGpnjN/IVy4dA4+PobzERkZiXv3/kH27NmgVCpN6sUlY/Dgb/DThPFqMWJcL1yISlWmbcbZsZ6nFfFEG9ZQonFNJZrUSljfYr2REwvfL1YSV8+brgIGCC+sC5YsQbNmTZzSu2fPnmHC+B9x7ep15MqTSy2k7CXsKleqhr8P7DE7roDkqREW8tLkGSpZ7iMcOmLqbdZsI3HIlOP8qFwF3L1x1aRW3sLFxQrtaSxatAQ/jB4jrrmm7pdcXS1U7H0sXb4ERYsWMalnKYPC0hIZ5pOAYwmoxP7pKPE37lemPMR/dI69mRNbp7B0InzemgRIQEdAxkFctzUK67ZJBzxxF5Nyv1yNCj6oXkGpjnGoa9m7jswJy0+nzcXGNStNfijnKlAE+w/uQdq0ae0GaejQ4Zj0wxiTe8kbJE2RCtt27URpsdqiSc2btcTZM2fwJiQEyZKnwPslSmD12pWa4jh/16xRBwd2ml9ly5anAKbOPa/ej7vjoErtICguN0ieFGhS2xfNanuOyLx9+45wdlMBTx+aOruRbNp17Iz5C+bGBZNbXFuxQmWcOLTfbF+j/YKEGbWpa+LApMmxZuMGVK9e1Wy9hGSOGzcRs36eiUf/6Mx3s+TMg5FjRqFOndpqL7m3r102uUUJ4QH38NGDJvmWMigsLZGJe77q+TO8aFYD0a9D4F+xKlJM9by/k7hTYQ1jAqrnTxG6aDbC1ixHdPg7pF69DcpceYwv85hzCkuPmUoOhATcj0Dw62is/jMKa7ZEYavYMxmXlDOrQr0nrvbHMeaKSYLiUttzrzUWlv/u3IHinb/E3etXTAYtzf76f/2NXc1Tp06ZhsH9+po160ub8T3s3r9Xu1+tbp0G2C3M/DRB7GUHZZ+q16mHP7f8YdJfWzIaN2yK7Zs2mr00T6FiOH9RtzInPc1u2yf264qPfP7C3pmtZjYzVQoFWtRVokU9JeQz6K5JrpaVLVUW/969bTIEORe9BgzEhInjTMrcPaNnj96Y+/MMg2dPM6ZIhR98o4VdtVGSPEYKk+FBgwcYlVg/ffnyJQYOGIyrV64hIDAAbdu1QUex71g/HT36N8aNnSDMcJ8jY8aMGPHdMBQpUhjTxN7Xgb17m/2bSp0hE3bt3Y2CBQvoN2XxmMLSIpo4F7we9TXCNq5W1/N5LwvS/LE3zm2wgucSUL18gdDFcxG2agmiw3QvqlKv2gplbsft2XY2UQpLZ88A708CXkhgvViVXLkpEquEqFQ7W7GRgXS0I/e+1RWfMsJ7K5MpAWNheWH1SpT7qi+ePPjH9GKR07hVW6xYucxsWXwy5d60j4QDlDtmVldKivxDh2NWic6dO4+6NesY7OvT3C+d+JG2XQjiQoXiHsh+69bt6PTpZ3jx9JGmOfW3FAWNW7bGylXLDfI1J1GqGMdQm8U+3k3icy8OHmflHt5WDXzRpoFw/OOGz2W1qjVxWDixkQ5uZNKE+cicI7eYh+3Ikye3BpNHfZcvVxGn/j6sFZfSdU5usYofLETgs0f3TcYqVyzX/r4R1apVMSmLLePq1Wto0byVMDc+q71XgNg7Wa1WbaxbHyNMYqs/Yvj3GD9qpLau/rVJkqcUVgB/oUyZ0vrZFo8pLC2iiVNB5MVzePlZM/Em7D+HS8LZU9q9Z6BI4iFe4OJEgxfrE4gOfoXQpfMQuuJXRL99q1+kPqawNEHCDBIgARKIO4FjIjzE8o2R+O33KDx6aur90FKLNYRpq9zj1rC6Ermy6btjsVTDu/ONheXDXTtQslsv3Lx8wQSM3Kc1evwEDBzU36QsIRlLFi/D6JGjcEdvP1iR90ti+Ypl2pWVX8WesW4dO5hdhZH9WrR8Odq2bR2vbnTv/hU2//EHHgsxLZ8YX/9A4e2zPHbv3Wlze4dOqPD7X1Hqz6XrQnXamMoW90HbRr5o11gJudfXHVKvnn0xf+48RL6Leasu+adMnRrfDP0G/fr3cYchxLuP3bp0xxlhiq1SqZA7Tx51jMtP2rU3WUmXNyj1YUUcPLwvzveqVqUGDu/dZVIvacrUmLtwAZo2bWxSpp9x9OgxNG3YCC+eGL4skdfkzFcI5y+dtXlvMoWlPtl4Hgsx+bJzK0QahbRJtWgtfIu+H89GWc3dCUiT6NDlCxG6bAGi37y2OBwKS4toWEACJEACsRN4GRyNpeujsHRDJI6KkBC2JmlaKB2lyE+m9O7x49zWsTn6OnPCctDaTZj3y0xEif0d+qlwidI4ceqYfpbdjh8+fIjp02fi9q3b+OCDsujdp6dB2wcPHhKxChvgTfBLg3x5kixVGmzauhnlyn1gUmZrxunTZzBv7gKEiL2bDYUX0RYtxOpCPNNJETtzw/YoyJX281dtf45b1lfif0180Ui8GHHVtFiE5hjcfwBeCscS+kmaWM5ftBB169bWz/aa43p1G+Ki8Ar79NEjpEqbDvny58cqsU85ffp0cWIQFRWFgkL8/XNLhL4xk+o3bYk166zvKW4kTLy3bfrd4EVMitTp0PWL7hit5+3WzC0MsigsDXDE6+Td5g0IGW5qDp1s+FgENmoZrzZZyX0JyFXJ0BWLxCrlfMjVSmuJwtIaIZaTAAmQgBGBPUei8OvaKCxeFylWAowKLZxKD65yz1pz8aGYtADJhmxzwtK/UlX07NEHf23fjufPRPiFoCDkzJUbC0Wcwty5c9nQqmMuKS88YZ4WpojGqaTIP3QkxmTWuMzZ58fFyvta4WRqzeZIm+OoypX2z5r7qj9yb7ArpUoVq+D4QfOrcBWq1cRfO7e5UncTtS8PHvyrjmOZOfN78f47iRAxcArlL4L7t80Ly7pNmttkDisH3rdPf+zdsxeh4odsilSp0KlzR3z+edc4MaGwjBMuk4uliJAOe6SHT+MU1K4jkvYbapzNcw8lIPdNyv2Tch+l3E9pa6KwtJUUryMBEvBqAm+EFd3CVZFYuCYScoXHllSisA9aiVWdVvV9kSeHa/3gtqX/rniNJWGp6euVK1eRSvwozZgxgybLad+3xGpmuzaf4PKF8wgVpkNJkiVHgSJF1fsgs2fP7rR+2XrjPUdUYp9wpNgvHIXnL20z725WR4mOLX3RoJprrGKWLF4al8+dMjvkYqU/wN/Hj5gtY6btBD4WL3aOHdhrUkHGqPx5zhy0+6SNQdmpU6ch91U+fvQYyVMkx+fduyVoxV2/cQpLfRpxP34zfSJCf51ttqKfMJVOOWOR2TJmeg4B6dlVengNXTQL0jNwXBOFZVyJ8XoSIAGvInD6ogrzV0ZivhCVoWHWh54+rQLtGinRpqEvPizpY70Cr4gTAWvCMk6NJdLF+/cfxLmz51D8/eIiEPxHiXRX+95m9eYosX84Um0ua0vLhfP5oHMrX3Rpo0SKZM57qVJV7P87Ymb/nxxDldr1sGXrJluGw2tiIXD69Fl80rad2Od8UXtVtEIpvB/XxZ+bf9fmyYMVK1Zj6JCv8eDOTW1+ijTp0KxlK/X+T21mPA8oLOMJTlSLuncHL1rVAcQqtLnkkz4D0mw5ZK6IeR5EQDrlefPjKPWIfEVs5oBa9eH7fmn45smHiNMnEfJtH7NOezQIKCw1JPhNAiRAAnoE5J6zub9FYvMe28KEyH1mn4j9ZnKFkslxBNxRWDqORuK3LOOxLhN7ipduiMKZS9ZX7v39ga5tfNGtrS+KF0z8Fy3bt+9A105d8fj+XQNY72XPhWUrlqN8+XIG+TyJH4F79/5B/34DcPfOPQQE+KN+g/pmw5aUKF4KV86dNrlJxqw5sHXHVq3zK5MLbMygsLQRlJnLgvt2Q/j+XWZKdFlpd52AIkVKXQaPPI5A+J4dCBfezQObtIJvoaIm43s94Xu1iaxJwX8ZFJaWyDCfBEjA6wgIPxSYtSwSs5ZH4vwV6z+a82RXoL3YW9a+mS9cbW+Zp04ehaXrzKw0lV0i9hn/Kj7yb8daalxTic8/8UXdyon78mXunPmYLmIlPvr3PhQibEKmzFnx9dAhaN064Y5Inj17jmvXriFDhgzqfYqXL1/Bq1fBKFasCJIwNIPBI3HmzFnUqlYDwSKgunGS4XKGCk/Lw4Z9Y1wUp3MKyzjh0l4cfmgfgnt10p5bOkg5bwX8SpSxVMx8LyBgybmTZugUlhoS/CYBEvBaAg+fRGPmkkj8sjQST19Y30smfyDLfWTymylxCVBYJi5vW+4mvSNLZ1YLV0fatIop47V+8b8YZz+2tG+vay5duiyEpY9YFctvlyabCY+np0+exJPHD5E0aTKEvotAgL8v3oWGIsN77+HjylUwf8Ecu9zLExo5K8zBa1atblFYDh89RoSAGZKgoVJYxgNfZCRetK6HKD3zZEutJPtmFAKbtbVUzHwvIBB+cA+Ce3exOFIKS4toWEACJODpBC7fUGHG4kj8LD7WUrrUCnRu7YtOYt9Y/lzO2zNmrZ+eXu6qwlJ62JTeNb09bd8Xpd6PvOpP60uYeYVDq6/a+6HnZ74iTqF7kWverCU2rV9nEB5DjiACSvjhv7Er/US4jC8xbfoU9xqcA3tb8v0yuHz2pMkdMmXLie07tyNfvrwmZXHJoLCMC62Ya2UYiTdTx9pUMbDVp0g2aIRN1/IizyQQ8fdBvPryM4uDo7C0iIYFJEACnkrghPDqOm1hpDpciLUxyoDwXcX+sC5CVAorOiYnE3C0sJThE1atWoMH9x+gcpXKIkZl7GZfn7XvhKNHjuBNSDCChBfMYsJBz9p1q5xMyfm3v3k3GnNXRGKO2KdszaOsdHjVS4jLXh19nerox1ZqL168QJmSZQ0c0Gjqqv6TmkrEmNLnEXuUzl88qyn2+u/ff9+E/n36GcS9TJM+E1q3a4fJU39MMB8Ky7ghVAmz5BdNa8Qa8F6/Rb8yHyLlrKX6WTz2MgIUltHR1u3avOyh4HBJwFsJHD6pwtQFQjjYsJrSpJYS3cV+sNofu9lSiodPriOF5erVa/Hd8O9wXXi3lO8QUqZJi+IlS2HHX1vNUm3erJVYtVprsGol94p9XKMWtu/YYraOt2XKvZezhbicLfYun70c+77lZEmA3p380LeTL9IKCwFXTTJchjTpfPPKNLabnP8o8UT4/rdqmUk4pTlx5gTSpEkT63AOHTqCiRN+xMuXL8XKd2aMHPUd8uTJHWsddy2UJsnDvh2Bh/8+RIqUKdCnb2/UqlXDLsOhsIwbxtcjhyDs9zXaSn6lyyHixFHtufGBT+o0SLPjb+NsnnsRAQpLCksvetw5VBIwT+DQCRUmz4tQB343f4UuV4pJuf/LGR4sdb3gkSUCtgrLUSPHYMP6DQgJDkaSpElRpWoVTP1psqVm8c8/91G9ag3cvX7F4BopFOo0aoING9ca5EsvmB9XqISHwkW/cUqVLgN+37wJZcvGvtppXM/Tz9dvi8JMsY/5rwOxm8kKp6Lo19kP/br4Il0a1xOYT58+Q7ky5WxascxdsAguXDoX69R+N2IkFs6bj8cP7mmvy54nP6ZO/wl169bW5vHAOgEKS+uMNFdEXjiDlx1aAP+tvyhSpELq1VvwvF5FEXvE8t+oFJZSYDJ5JwEKSwpL73zyOWoSEASOnlbhxzkRWLPF8n+SEpSMs9ejva/Y7+WLzBld74csJ1NHwBZh+Xm3L7Fi6RKEh77RVlQJgVi/cTOs27Bam6d/MGDAYMyY9KO4ytTIJVvufLh45QJ8fX21VbZt247G9RpAoTLdnyvF6PgpU9G7T0/t9TzQEdj3t0rsa7ZuOSAF5oCufhjQzRepUrjW32XjRs2w7Y+NJs+L/h5LaRbboWs3zJ4zUzd4oyP5QqNKpSq4f/uGUQlQUITmOHXmuEk+MywToLC0zMagRIjJlx1bIPL8GW223Dsp91C+aFkbUbdMn0fNhdIUVprEMnknAQpLCkvvfPI5aq8mIOPrTZgdieUbTX/064N5L4PY29XBFz07+CFpkH4Jj12VgDVhKcM/lBM/eu7fvm4yhHSZsmDz9i0iFERRk7I2rT/BxlW/meTLjPQiPMXR40fxnvD0qUlnzpxDneo18fLZY02W9lvpH4hVwrFLvXoi2DiTRQLy73TaokgsWBX732mypMCgbn4Y1N1PeF212FyiFzRs0ATnTp/Gwwf/IFnyFAiPjIZShOoMe/sG72XNjg8/Ko/lvy2JtV9TpvyEr/v1MxGoslLy1GmxbecOlCxZItY2WKgjQGGpYxHb0btN6xDy3SDtJcrceZH6tz8hvWiFDO6BdzvNm//LChoBqq3MA68iQGFJYelVDzwH690EpMOQcbMiMFfs6Yot5ciiQB+xl6uP2MvF5F4ErAnLnTt3o1GdulBFhpsMLGYl8SexktjDpGzq1OkY3LePwX5JzUV5CxfDOWE2ZpwqflQZJ0QgaeNUuGQZnDjJfUjGXCydX70VjZ8WRqhD/li6RuZnEE5+Bn8hTGQ7u87frVxxvHpVxrFMj6JFi+DkyVPqOJbFixdF2rRpYxuOumzC+B8xfMhgs8IyqTBN3PLXdppUW6Wou4DCUsfC0lG0ePEhHfaonj3RXpJyxiL4fVhRff52zjTIj6Ukw1N3KoQAAEAASURBVI3IsCNM3kmAwpLC0juffI7aqwjIOHo//ByJicLsNbaUK5tCvXerh/BAyeSeBKwJy+PHT6JerdoIefHMZIDSNHHxit/QunVLkzKZUa5MeZw1clyRJEVKfNWrt9qZinElKSpaNm+NS8KcLOztWyh9/VCwWHEsXDQfxYsXM77c685XrlyD+fMW4O2b18iSNSvGjf8BuXLltMjh1r1oTJkfgem/xv5iKF9OBb7+0k8dS9ZiY25ScOXKVdSpURsP/zHdq2vphYabDM0u3ZRemv38/Gxui8LSOqo308YjdPFc7YX+laohxRRdvFW5WilXLS0lvxJlkHLeCkvFzPdwAhSWFJYe/ohzeN5OQIrJMTMi8SrEdG+chk22zAr1Xi1p9srk3gSsCUs5ug+EQDxnJBBlft7CxXHm3En4+Ah7RTPpyZMn+KRde9y4fh0R794hlfDk2bxlc4wYMczM1bqsPXv24u+/jwkT22J0tvIflvafdsTWP/5AyKvnWlA58hXEvAVzUbFiBW2euQMpMCfNjcDPS2IXmB+W9MHQHn5oUE1prhm3yevW9QusX70ar/VYSW+yg4d+g+7du7rNOOzV0Xfib691q3a4cvkSwt+FI5VwFNOpS0d89dUXVm9BYRk7oqi7t/CidT0RcPW/l7Bi33jqVVugzJ5LW1Hur5T7LC0lhXjZlnbXCUvFzPdwAhSWFJYe/ohzeN5KYOmGSIyeHokrNy2HMEgvPEoO+txXOP+w/Y23t/J0l3HbIixPnz6DDu074tK5M2rTVmkCm6dgIUz5aapNYQ3eiR+zr169FOaNGdwFi137eeTIUfwkTINfv36NMmVKY8R3sQtr45tLkd28cVM8ffjAuAjFhTfVo8cOm+Sby5AmshNnR2DeytgFpgwNNKynH0oVNf/CwFzbrpa3ePFSLJy/ECEhr5E2XVoMGz7UqgB3tTHYqz8VP/oYxw8fNDAPlp6W+w4YiEGD+8d6GwrLWPEguHcXhB/co70o6JNOSNr3G+25+kB4hH1aUexD14hPw1L1WZoth+CT3jv/fTSDw6uyKCwpLL3qgedgPZ/AfuFR8vtpEdh5MMriYAMDgCFiL9Zg4exDHjN5DgFbhKVmtNN+moGTIuZggQL50KPHV0iePJmmiN8WCPTq2Qfr16zRikIpyouUKCW86a5FjhzZLdQyzO7xVW/MmznDQBhorsiQORsOHj2ErFmzaLKsfp++qMJ4sXd6xR+W/+ZlIz2FRcKI3n5Im8o1PMjKvZdhYWE0i7Y6w7oL5s6Zh57du0MRbfrCMH/R94XFwSndxWaOKCzNQPkvSwpKKSw1SYYMSb1+JxTJkmuytN8v29RHpFHoJW2hONDfk6mfz2PPJ0BhSWHp+U85R+gVBB48isaIqWL1YkXsqxe9O/qq919lTOcaPy69YnIScZBxEZaJ2C2PuJVcaWzRtDmeCC+nxql8lerYtXuHcbbZ86++7IX5v0hhaZqkh91DamGZ1bTQSs7eoyqMnRmBbfssC8yUyRX4ro9zHXPt2bMPA/oNxH0R4zQiPBwZ3suM1m1ax3nl1woOk+Jjx07gt+W/ibCE0WjTtjXKlfvA5BpHZCxauBiHjxxB7ly50P2LbkiZMmW8b9O2zf+wYeVys/Xls3Pk2BFkzpzZbLnMpLC0gEasPr5oXRdRd29rL5AOeKQjHnMpZGhfvNv2h7kidV7SfkMR1K6jxXJXKAhdOAtRZuIMu0LfZB8UIr6y5AiFuX8pXaWXpv2gsKSwNH0qmEMCbkZAxqIcPiUCoWGWO96usa/Yb+WLwnnd1xzO8uhYoiFAYakhYf/vTh274LdFC8w2nDlHbpwVnnGTih9D1tLhw0fRsmkzPHv0r8mlxUqXw9/HbTOFNan8X8barVFiX3UETl0wXdXS1ClT3Acj+/qhbpXE3X9548ZN1KtTH3eNVntSpEmH4d9/j696WN8nqBlDXL5btWyLg/v24tnjh+pqadJlRPlKlbB23aq4NBOna2/duo1WLVrj7MnjWpPzXPkLYszYMWjWrEmc2tJc3LdPf/wiTNbNxZPNkiuP8M58FkFBlmNDUVhqSBp+S2c90mmPJvmK/c6plm0EfMz/fbxdMBNvZ07WXG7yHdioJZINH2uS70oZz2t+ANUL3R5vV+qbpi9pdx2HQnh/dqdEYUlh6U7PK/tKAgYENu+JwrBJETh53vIPyCofiv1VvXxRrbz5/yANGuSJ2xOgsHTcFMYWyzNTthw4fuqECKGRxqYOtGv7Kbb9uQlvQ15pr8+eNz9mz52DKlU+1uYl5ODnxZEYNT0Cj55adtzVvpkvRvX3Q3bhwCsxUru2/8O6FcvNrtbaQ1SbG8OkH6fg+2HfIiIs1KBY4euPb0YMx7ffGu2hM7gq/ieVKlTG8UP7TRrIlb+wWFk8jBQpTE0sTS42yrh58yZq16iDf25dNyiRJtnV6tTD5i2WV9FkBQpLA2zqExlWRIYXkWFGNCnlrKXwE/F+LaXwPTsQPMDySxBfYZacatFaS9VdIp/C0jHTQGFJYemYJ4utkoADCUiz16E/RmDRGstmr7lF6JDhYj/VZ83p6dWBU+FyTVNYOm5KfvttFbp37ozwUN0PUM3dipb+AMeOH9Gc2vS9+NclkJ83IhSLNF8cO24M8ufPZ1NdWy96I7TUyJ8iMEE4+bGUAvyBMQP90L+L4514Va1cA0f27TLbFekV9/LVi2bLEpJpSeDJNkuW+wiHjhxISPNm616/fgNVK1URe3Hvm5SrhAic+NM09Or1lUmZLRmzZs3FlB8n4c6Na+LyaPgHJkGJ0mWwdfsWJEliebVStk1haUo45LtBeLdpnbbAv2otpJg4U3tu7kCakL5oWt1ckTpPkSQp0u497dJmnBSWFqcvQQUUlhSWCXqAWJkEEpuAjGH3zYRwvH5r+c7SQccIsY8qcdYgLPeDJYlPgMLSscxr1aiLvTu3q00bNXeSZrA/zZiGBg1EmAIXTReuqvCd2IO9Zovl/ZflS/ngh4H+qPKh48zlZVzTTetWm6VUuGQZnDj5t9myhGSWFebF508eM9tE4RKlceKU+TKzFWzMPHHiJGpXq4E3wS9NasjVxX5ff4MffhhlUmZrxtOnT7FQ7N3898ED1KhZA/Xq1TGoevv2Hdy9ew/Zs2dDzpw5tGUUlloU6oNIEWP3ZccWQp/HrOor/P2RavU2KLNkM7zQ+EylwrNKxRH9zvL+kzR/7IXPe1mMa7rMOYWlY6aCwpLC0jFPFlslATsTOHZGhSHjI7DrsOUfhm0aKsW+KX/ky0VJaWf8btMchaXjp6qP2Od2cP8ByHiCMuTKqDEjUb68ZbO5hPbo8eMnmPbTdMj9iSVLlkD/AX2hVMbPtH39tij1fuzzVyybz0sHX+MG+zvEY/SZM2fRrHEzPLhz0wCLf1BS9B8yBMNFGBF7pyaNm2Pb7+vNNlu9XkNs+lPspTNKEcKZy+RJUyFD8+TNmwe9+/REunTpjK6yfCrrFyvyPu5cu2xyUfLUabF243pUqlTRpCyhGW/evEHjRs1w9dIlPH3yCOnSZ0T+QoWw8fd16v2/FJZ6hIWYfPlZc0RePKvNDPrscyTtOVB7HtvBy08aIfKK5RX2FFPnwr9i1diacGoZhaVj8FNYUlg65sliqyRgRwJyH+Vo4YzDUipawAejxT6pxjXj92PTUrvMdz8CFJbuN2ex9XjN6rX4dui3uH3tqljnioY0oyxYtDgWLV4kROb7sVWNtUw69/lW/LtiKeXMqsCEr/3Rsp79/01ZsmQ5Jowbj9vXryFceIXNljMXqotVt9lzfrHUnQTl37x5Cw3rN8LNyxcM2smZvxDWb1yHggULGOSfOHEKnTp0wpXzZ9XM5QpjznwFMHb8WDRt2tjg2thO+gvPt4vmzTPYRyvnr2rN2sJsdXNsVeNdVrVydRzet1vcRZfkWlz5j6ti996dNIXVYUHY72vweuQQbY5P2vQivMhfkGastqSQ4QPwbvMGi5cm7TUIQe27WSx3dkHY6mWxrrg6u3/y/oGt/geFf4ArdMXmPlBYUlja/LDwQhJIbAJ/iViUA3+IgIxTZyl9Lzw7Du/l+L1Rlu7PfNciYKuwPHnyFLZu3YZUKVOhVesWVldjli9fievXrqFCxQqoXt1138K71mwkrDdvxd7LsmLv5s3LpqsixcuUw1HhACYh6dptsVd7YjhWb7ZsBSGd+/z4jR/Sp9WXKgm5q67uvn378ebNWxH2oyzSpLHN6ZGudtyOzp+/iF49e+P+P/fktkRkzpIVU6dNxvvvFzdp6APhtOXcCVOT3DyFiqrNZgMCbP+hO27cRKxeuQqvXr5EUJIkKF2mNBb9usDknvbIkIK4QZ26ePn0sUlzqdJlwKatW1AcEXj1+afa8pQLVsCveEntubccRL95rXbYo3r+VDtk6cVVenO1NYX+Ohtvpk+0eHlAvSZIPvJHi+Us8EwCFJYUlp75ZHNUbk+g/5hwTJ5n2TlPoxpKjB3kh8L5HLcfyu0heuEAbBGWDes3xoljf+P5k5gfoNlz50Xnbl0weLCpCdi+fQfQ86ueuKxevQECxI/jouKH6AZhWpc+ve2mgV44FQke8oIFi/CFcBbkI5WQUUopVle27dxhVhgZXWr1dOWmKHwt9m3fumd6H1k5XRoFJg31gxSZnp7kC5c6NWoh5MUzk6HK1cZ5vy7Gp+0/MSlzhQy5Etyl/admnxd13xcvQZvCeSksxWS9mToWoUvna6fNt2ARpFoszKV9bP//NPzAbgT36aptw/hA3eZSUzNr4+t47lkEKCwpLD3rieZo3J7A9v1R6DcqAheumV+lzCBWDsYN9kPHlp7/I8/tJ9MJA7AmLDt36oalC+eb/PjMlDUHVq5dhQ8+KKvtdWRkJEqVKINrIjaecfqwcjXs3vOXcTbP7Uhg/PiJGCH2HZqLWSj3JP65fSsqihVke6T9+49i8uxH2LCvCKB8z2yTMhbu5G/9kDGd/Vcvzd7QCZl79+5Dw9p1EfHOMDSJ7Io0if1h0iT069fHCT2zfkuuWFpnJK+IEvt7X7SuB4h/3zQp5dzf4FdS92+fJj+276gH/+BFoyoWL1EEBCLtfvFvZxzEqsXGWOA2BCgsKSzd5mFlRz2fwMCxEfhxjuV9T51b+WL8135Im8pzf9h5/iw7doTWhGXxoiXMCkXZqwbNW2H1mhXaDs6dMx89Pu9mIkLlBekzZ8XeA/uQK1dOccbkCALScUyDuvXx7OEDk+az58mPk2dOqB2ymBTGIWPv3v3o27svbor9jqHCPDBthux4pyyD5wG/mm0lvVi9nDLcD58IkemJKTg4GGWEwLh385rJ8NILD59/btuCYsWKmpS5SkYVscfyyD7TPZYfij2We7jHUj1Nwb06IfzQPoMpS9Ktl8G5TSfC+c/budNjvTT1+p1Qihi3TN5DgMKSwtJ7nnaO1GUJHDimQu+R4Th53vwqZZ7sIu7ZN/5oWtv+jjRcFgo7Fi8C1oRl/jwFzP5oljerVKM2tu/Yor3v0G+GYdLYH8yumCVJnhJbhSlm2bJltNfzwP4EmjZpgc3Cg6i+OWzSFKnQvlMnTJ6SsP1bT548ReVKVXDLyLOlNJss8sFnOPV4hsUBdRIvuX4a4Y9kSSxe4rYFvXv1xdJFi4yc7vigQdNmWLtulUuPi15hY5+e8P27ENw38RzqpPjxF/hXqRl7p1jqUQQoLCksPeqB5mDcj4A174xftfcV+5v8IYOYM5GANQLWhGW5suVx9vhRk2akmV+3Hj0xbfpUbdmuXXvQsklTgx/YmsJsufOpV8ySJUumyeK3gwgM6DcIu3btwlvh6CZFyhRo90k79OkbjxUWo/4N7D8Y0yf/aPbFQa4ChbFo5Vn0Hx2OA8fNv/DKLV54TfvOH/Wret4LLxlq5LffViDkVTCSJE2i9lo7ceI4I4Kue3r79m3cuXMPOXLIOJY5tR316nAjIgTMi1Z1EHXvjpaHow+SfNkPSTp96ejbsH0XIkBhSWHpQo8ju+JNBK7dikaPEeGQeyrNpTw5FGI/kz+kkx4mErCVgDVhKR18fDNoMJ4+vG/QZIFiJXBAmIcZC8VqVWrg0F5pWqdz7KLw9UPbTz/D/AVzDNrgiXsRaN60JTZvWGu20xmzZsfxU8fV3oJHTY/A8MmWTfQHd/dT7/s22xAzXYqANwtLEy+uIhaswj+Bb2yjohAtQuZYSgG1GiD5D7qXdZauY77nEKCwpLD0nKeZI3EbAovWROKr4eF4a+ofQj2Gbu18MXWYP4IC3WZI7KiLELAmLGU3pbfRn6f/jGdPn0Cp9EUOsaIxd/4c5MmT2+womjVpiQsXziFMPLDJU6ZEzVo1MWXqJLPXukLmpUuXcfToMWTPnhXVqlV1hS65ZB+GDRuBiaNHG7w00HQ0T6FiOH/xjOYUh0+q0EeY6/99xvzqZcUyPvh5lD+KF7Tdq6a2cR4kGgFvFZYq4QH7RfMaiBYhfDQp+ejJCKjTSHMar+/wfcK0tp9l01rfvAWQasWf8WqbldyTAIUlhaV7PrnstVsSUInfZF8MC8ec5TpvdPoDkd4W5b6l1g24SqnPhce2E7BFWGpae/nyFZIkCYK/jW/tnz17jrRpHRtvUNO3+H7Xq9sQZ0+dwpNH/8LPzx95CxbClJ+moGrVyvFt0mPrvRUvCsqX+whXz+sEpBys0i8AXb/8Srw8MN3D+fWECIz7xfzqpXR++YsQl/LFGJNrEvBWYRkyfADebd6gnRSlcH6V+rdNCfbYGnX3Fl40i2UPpZ8f0h04L/6o+H+6Fr6HH1BYUlh6+CPO4bkKgSOnVPji23Ccvmj+jX/LekpM/97fo135u8pceHI/4iIsPY1Di2atsWn9GpMVuNwFC2P/wf1Ikya1pw05weM5d+48unXtjnu3byFUrOaky5AR1WpUxy+zfrbY9ta9Uej5XTiu39aZR+tfLB37zBrjDz/qS30sdjtWiTeUp06dRlBQEhQuXDBO7XqjsIw8ewovO7cS8WJ0z2uKiTPhX7VWnNiZvViYwj6tIEL06IUuMb4u9eptUObKY5zt9PN3WzYi6l/DLRFO75ReBxRJkiKozWd6Oe5xSGFJYekeTyp76dYEZiyORE+xn9JSmiZWKXt24K8wS3yYbzsBbxWWEcIxRxFhvnnvxlUTWNIx0aBvh2HkqO9MypgRQ+DWrdt49eoVihYtAl9f6/8WvRFm/D2EOb806zeXpEnsrB/8Ub4kTWPN8Ylv3oABg7Hp9z/w6MF9BAQGIGv2nJg0ZRIqV65kU5NeJyyFCH/ZoTkiL57T8vEtVBSpluhWL7UF8Tx40aI2om7fsFg7+bjpCKhR12K5swqe1/wAqhfPnXV7m+6bdtdxKIQXbHdKFJYUlu70vLKvbkZAvMxE16/DsXC1+R9f5UrE7EsqXZQ/vtxsal22u94qLO/evYcKwqzT2CmRZqKatvkEy39bojnlt50IzFsRiS+FeX+E+X/i8PNIf3z5qXWhaqfuaJsJCwtDcHAIMmRIr81z14PXr1/ji+49sHfvPjyRK0xRhqbIOfIVwjYRJihHjuxWh+htwjJs/Uq8HjPUgEuKaQvg/9HHBnkJOQnu3x3he/+y2ISMkRmvOJkWW7RPAYWlfTgat0JhSWFp/EzwnATsQkDGpOwyJBynLpg3fe3dUTjoGZ5Aj3R26Skb8SQC3ios5RzKFcubly+YTKeMyzh+8hS7hOgwaZwZOH81xsxfxuM1l7q28cWcsYnzb939+w/wWfuOuHXzBiKEt87UadKi3f/aYfDggea65vJ5z549Q60adXDh9ElEimimfjD1Ii5X5Nu074BFv863Oh5vEpbRwa/E/scaUL18oeXiV6IMUs5boT23x8GbaRMQutiyh+yAanWQfILlmLBm+6CKQtQ/dwFhieGo9KprW6gEI1dOXLF05dkx3zeF0JU6o3Pz1zCXBEggjgR+XRuJzoPDIVcsjVOypMBssf+oXePEf4tv3Beeex4BbxaWvXv1w/zZvyAq/J3BxBYpWRbHT5rG7jS4iCcJJtB/TDgmzzO/dCmtM+aP90eR/I61zihT6gNcEGFS9FOKNOnQb9AgIS4H6Ge7xXGz/0LCKERvI6GErxlhKQdSsXot7Phrq9UxeZOwfD1+BMJWLzNgknLOcviJZ8SeKez31Xg98muLTSpz5kHqNdsslhsXSPPUV13aIOrOTeMirzunsHS/KaewdL85Y49dnMCgsRGYOMf8W8bK5XwwW+w7KpDbsT+uXBwRu+dAAt4sLCXWXj37Ysf27Xjx7CkChXOTXLlzY/HSRciWLZsDqbNpDYHlv0fic2H+/1oX1UFThKRJRKibCQFoVd8xHjJHj/4Bo4YNE+t6pu/LZZzW02dPavviygfHjh3HmzdvUapUCVSuVBWXhfMZmSKEsDS/Ygm0aPcpli771eqwvEVYRl65iJefNgGkK/b/kt8HFZBypnVGmutt/Y44cwKvOre2fLnwCJt2/zmbY2aGrVqK1xO+s9yeF5VQWLrfZFNYut+csccuSuDJ82h0HBiOP3eZWaYUfe7TyRdTRGxKJhJwJAFvF5YatteuXUfq1KmRLl1aTRa/E4nA5Rsq9d5yS6ax3/Xxw4jefnbvTdMmLbB14zqz7WbKlhOnhLBMlcp1HYFs2bINXw/+Bndv3UBYaCgyZ8uBVyEheP3skXpMUUJYKoRo9oFOLMmCbLnzYdOWTcifP5/ZsetneoWwVDvsaSEc9pzVHzpSLVoL36LvG+TZ40Sa2j6vUTbWplKJ0Ca++Wzz4Bu6aBbezDAN9RPrDRJY6F+hMnwyZ01gK/avnrTXECiCguzfsANb5B5LmsI68PFi095C4OAJFTr0f4frd0zflCvF4uQ8YQLWoQVNX73leXDmOCksnUmf99YnIL3G/rzEvGls20ZK/PpjgIg1ql8jYcfdP/8Ki+bMUosv45ZyCgc3l66a7r81vs5Z5zdu3ETd2vVMvRor/RAZpdKawEpzWJnkqqyvgCfjtI4aPRKNGjWwqeveICzNrfj5fVgRKWcssolRfC56Vq0MooNfWqyafOQkBNRrbLFcv8BYWPqkTgP/yjX0L0nwcdiGVQZtpJg0y+73MLiBF51QWFJYetHjzqE6goDcT9lhgPlQIu8XitlXVLoYTV8dwZ5tmhKgsDRlwhznEZi1LFIdv9dcD8oU98HiSf4olNc+/z5ev34DdWvVxT+3rhvcTjq3adSiFVat/s0g35VO2n/aEauW/ip6app8k6RA+NsQrYmvShwVKVEKM3+Zjg8/LGdaIZYcTxeWqseP8KJVHUS/DjGgkHLWUviV+dAgz54n6pAm589YbDKoXUck7WfondbSxcbC0hGiLzHuYWl8np4ffmA3gvt0tTjM1Ku2Qpk7r8Vydy+gKay7zyD771QCwydHYNR08/sp2zZUYsHEAIhQY0wkkGgErAnLv/7aicmTpiIkOBiZMmXCyNHfo1Ah20y0Em0QvJFHEdgvvMV2GmjeoiN1SgUWT/ZHg2r22Xe5aNFijB87ATevXlKLtNTp0uP9UqWxddufic705xm/YP269QgPj0BB8Tc2afJEJE+ezGw/atWsi/1/mXfwklWYun7yv09w4MBB+Pj4oG7dOujbr7fZdqxlerqwDO7dBeEH9xhgUCRLjrS7xf5ahTnZbnBpvE+CB36J8N3bLdb3K14KKRcYrhJaujgxRF9i3MPS+Dw9P2ztcrweO9ziMFMt/wO++QtZLHf3AgpLd59B9t9pBNr3C8eS9ebNvL4Xe4iGO2APkdMGyxu7DYHYhGX/foOwYtlSPH/8UDuerLny4kcRYL1x44baPB6QgL0JPBV70DvEsgd9+vf+6NHePtsFQsX+xNWr1uDho8eoXr0qSpcuZe/hWG2vQf3G2P1/9q4CLKqmC780KHZ3dysWJordYid2IHZ3d3d3d2BgYLdidysG1mdL888s/657996FZdli98zzfN/eOVNn3rmy+86cOeeoLyLCoqxZ+Klp3kJFsHf/HmTNmkXUvmOHzti8dg2rJb5Oka9IcfjfFHq6FXWgocCciWXQPuaddYLYO6u+zWA59FKEVrAk3IGP33VYJZTeWFCuawjSZ4gxlOdkSc+/F8zA33XL1E450bSFcKhaU215fC8gYhnfV5D0NzgCAe8j0bpvMM5cETpQ4IrYs/tC62Y5oAU7raRECBgDAXXEkpsJVmchCd6/fiFSK2/hYrjBPBtSMg4CkydNxaVLl+Hs7Azv3r1QtmzszBuNo7V2o/afGII5q6Q35AZ1tcP0YTq8dKmdinFutXrVWvTr1QshQWLXuBXca+DoscOiMV6/fsPiVdbAqycPBWWOCRPJQqWMGq2ZGaWgsUTGXIll2IO7shAdkcFBolnHxgxV1FhDwdfqpRHx9Uu0tZ1HToZjw2bR1uGFhiB9hhgjxomaYwU1jqOUp5qgWx8k6OKtLDKrZyKWZrWcNBl9I3DpRgRa9QnGizcSu8rsnhC/L8TvDVEiBIyFgDpiOWXyNIwbMVzyRITH+TvqdxxFihQ2ltoWOe67d+9Rv25D3GFxF+UhMlKmzYD6jRph0eL5ZovJYubQx4s59pFKfFNuy/z4fX+An1aeOHRAanrIwjyDPnx8X7Ls9Okz6N9vIAJevURw0F+kYV46a9epjTlzZ0nW10ZojsSSm6D+HD0AkeykWirZlXJFkkUszIieTGH/rFyIP0vnSg0tkFmny4Ck63bBmv29jS4ZgvQZYozo5miuZX+3rsPvmROinR5f/yRrd8LGBL3wRqu4hoVELDUEiqoRArt9w9HSOxjsuowo1XazwQZ2Tyh5Uv3d4RANSgJCQAIBdcRy0sQpLMbfSGlimSwFfBmxLFpU9674JVQk0f8RqOZeE+dOiO9lcXK5bdcOuLrqz9mIsRfhyOlwtOkXgi//iTfpKpaylpHL9Gni59/TOrXrw++wjyTEWXIyYvlEmljKG9y9ew9//vxBsWJFmddc3Z7gmg2xjIxE6NULCNq9FcEnjgAsH11yqF4Xjk1bwzZPAVglYAFV45B4eJGIt69ZOJO7CD59DKGXzmncm1WChHBq3RGc7PLwI/z+p2oyBOkzxBiq8zLLPDuhDP/wDmF3byLk+BEEn2T3pGN4FzkOnFQ6NmkFO9dKsM2RW2+bHsbAnIilMVCnMeMdAos3sh32UdI77D3a2GLxBIpPGe8W1UwVVkcsHz16jJrVauDDm1eimecuWBS37jDnFpQMhkBwcAgK5iso8mAqV8CjdTts3LhWnjXLTx7vsnXfEPjfFV8ryJXNCtsWOKBYgfhnAbJ0yXIM7NMH4aHBonUr5+aO437izQRRRT0JzIVYanIypA5CTiyTbjkImwyZ1FVRK/+vfmWEvwtQWx7bAufRU+FYv4mgmSFInyHGEEzKzDI/endE2POniPz6GZEh0r8NNZ4y2zziIWX4SSbfcEjYe4jGTU2xIhFLU1wV0smkEBg7NxTj5kkcUzItJw+2w7Aeut1RNqnJkzLxDgF1xJJPpGcPb+zavg0/2JehPKXPkh0Tp0xCy5bN5SK9fPr4HMLbt29RrpwrChYsoJcx4lOn379/RzF2t/X965eSatf1aIodO7dJlpmT8A+zXuTXC/YdCxdNK3EiK2xfaI8aFePfnfWa1Wvj5LGjzMQ5ijTz87TcBQpj5+4dyJ07l2iuhhKYC7EM2r0FvyaP0hq2ZLuPwSZztli3/695bYQ/exzrduoaOA8bD0ePVoJiQ5A+Q4whmJSZZb7WqYCIwPc6nxU/WU80OWazap0PrMMOiVjqEEzqyvwQ6DWGBfheL+1ogt+nbNtYN14MzQ85mpGxEIiOWHKddu3ag6VLlrFwIz+ROk1qjB03BsWLF9WbuocOHcHQwUPxmJmNcROhFKnToEix4jh0RNpUUG+K/L/jGTNm4eSJk7BmXho9mjRGhw7t9T2k2v5LlSyLO9cui8pt7B2wcOlSeBpRN5FSehbwO5f87qVU2jjXHq0bxL+/tfxe85HDvuz6RAiyZ8+OufNmI1WqlFJTNJjMXIilwQAzwkCGIH2GGMMI0NGQJoAAEUsTWARSwTQR4LvoW/aLd9FTJLPC1gX2cC8X/3bRTRNp0kqXCMRELHU5Vkx9ffgQCLeKbnip4umSh16o27gJdu4y7IlchXKVcOXCOYWjHFt7R5R3q4LDRiK5hxnp6NXDC+9ePVdAGcGwKe9WFSeMaC6pUMbADxMXhmLULGnrkPlj7eHdPv6RSwNDGONwRCxjhMjoFQxB+gwxhtGBJAWMggARS6PAToOaMgJ/mbdyjx7BOHxKTCrzMc+v25hpVqE88e/ejyljTrrpDgFTIpaDBw/D/BnTJR0GZWYOCx4w75g84LshUpvW7bFz80aRLhGMZo6ZOBHDRww1hBqiMS5evIxRI0bh48ePsLe3R+kypZlH2AWiepYiWLE1DF2HSd9ZGt/fDqO86epBXN4FIpZxQc8wbQ1B+gwxhmHQolFMDQEilqa2IqSPUREI/BwJj+7BOH9d7EyCeyrcvsgBaVLGT0+FRgWWBjcYAqZELJs3a4X9O7ZKzj1V+ky4dPUS0qdPJ1mua2HxIi54cFvaQVHpCpVx6oyfroek/rREYO/RcDTzCkaohGXsQBbrcoYZxLrUEpo4NyNiGWcI9d6BIUifIcbQO1A0gEkiQMTSJJeFlDIGAs9fR6JRt2DcfigmlQ2r22DHYgfYkvWrMZaGxowFAqZELGfOmI0RgwcpTE+Vp5EjXyHcvX9LWaTX5yKFiuHxXenxSrhWwLnzp/U6PnUeOwTOXo1A057B4Jt9qql7a1ssmUieuFVx0SRPxFITlIxbxxCkzxBjGBdFGt1YCBCxNBbyNK5JIXD3cQQadQ3G01fiHzEdmtpi9XT6EWNSC0bKqEXAlIglV9KleGncu3FVoK9DAmd069UL06ZNFsj1malXtyGOH9wvGoLf9+zc0wsLF80XlZHAuAjcY3+XPXqE4NFz8WZfO+Y4bR1zoEYpdggQsYwdXsaobQjSZ4gxjIEdjWl8BIhYGn8NSAMjI3D9TgQaMFL59oOYVPbpYIu5o+nHi5GXiIaPBQKmRiwDAt6iXZv2ePH8OUKCgpA0RQrUrVcX06ZPicWs4l6V61GnVl08YqeWcmN2TiqLliyDS1fOx30A6kEvCAS8Z9cT2J33K7fE5LJZHRt2591BL+Oaa6dELE1/ZQ1B+gwxhukjTRrqAwEilvpAlfqMNwhc9GekskswPn0Vk8qRvewwYQA5iog3i0mKyhAwNWIpXxYet/Hbt2/IkiWLXGTwz8DAj/Dq6c1I7guZ06CChQpi1erlBnMgZPAJazngqpWrceTIUTg4OKBb966oUKGclj3pptn3n5Fo3D0EfhfEDtX4NYU9y4hcaoo0EUtNkTJePUOQPkOMYTwEaWRjIkDE0pjo09hGReAcu8NTr3Mwvv0Qk8opg+0wtAeRSqMuEA2uFQKmSiy1mgw1MigCERERqFyxCi6f5yFZok4Ik6VMA7dq1bBp83qD6qI6WBjjlPwOvM8JMbmsU8UGB1Y6wEp+FK3aOJ7nHz9+gkSJnJEuXdwdXRGxNP2XwRCkzxBjmD7SpKE+ECBiqQ9UqU+TR+DMlQjU7RiMn7/FpHLOKHv07Ujx0kx+EUlBSQSIWErCQkINEGjWtAX279whCsninDQ5Fi9bhqbNPDToRb9VuLfYHYfE5LJWZRv4rHJgp8/6Hd+QvQ8bNhL79+7Dl08f2emxIzKx0/5lK5aiQIH8WqtBxFJr6AzW0BCkzxBjGAwwGsikECBiaVLLQcoYAgFOKut0DMKv3+LRFk+wR482RCrFyJAkviBAxNI0Vurhw0cYMXwU3r9/j0TOzujarQs8mjQ2DeXUaFGoQBE8vX9HsrQKu5968JDY+ZFkZT0L2/QNwaZ94lgkNSvZ4OBq8yCX48dNxLxZs/Dn53cBmrkLFsH5i+fg7JxQINc0Q8RSU6SMV88QpM8QYxgPQRrZmAgQsTQm+jS2wRE4dy0CtTuwk8pf4pPKFVPs0bkFkUqDLwoNqFMEiFjqFE6tOuP3E3t7eePN8yeK9omTp0T9Ro2xYuVShSw2D+Hh4fD1PQZ+V7VChfLImDFDbJprVDdfngJ4+fiBZN1yVarh+AlfyTJjCD0HhmDdLjG5rO0WRS6NoZMuxyxauDge3bkp6pI7nOozaLDWzq+IWIogNTmBIUifIcYwOWBJIYMgQMTSIDDTIKaAwKUbEajlKX2nkocT4WFFKBEC8R0BIpbGX8ESxUri/s3rIkVSZ8iEA4d8ULhwIVFZdIIVy1dhzuy5ePaIk75IpM+UBa7ly+v83mPlSlVx+cxJkSoRjMz0HzIUU6ZOEpUZU9BpSAhWbxeTy3ruNti/Iv469Pn16xcKs9Pj969fSMLrXrc+DhzYK1kWk5CIZUwIGb9clfQl6NkfDpXcdarYn3XLEHxon6LPxLOWwl7HYyg6pweLQoCIpUUtt+VO1v9uBGoyUvnpi/ikcvUMRiqbEKm03LfDvGZOxNK468kdrVQuXwn/ffogUoSfNvVlBG1qLAiav/9NNGnkISIZVrZ26N1/AKbqMBbolSvX0LZVG7x+9lihu6mHZFFHLj1q2mDnkvhLLgvmL4xnD+4q1kH+wNfDs2s3LF22WC6K1ScRy1jBZZTKqsTSEEoQsTQEypYxBhFLy1hni57l/ScRqNE+GDwemmpaxU4qO9JJpSoslI/HCBCxNO7i6ZpYNvVoDp/dOyQnlY+ZS/rfuiZZpq3w5s1bGDRgsOxuqI2tLfLmzYv1G9Yy5zGmG8+34+AQrNkhPrlsVd8Wm+aZrt7RrVGnjl2xcc0q5p1X+L2VOUdu+B4/gqxZs0bXXG0ZEUu10JhMwV92mvh7wQyD6pN49jLYV6xq0DFpMPNEgIilea4rzer/CLwMiET1dkF48kL45cyLl7M7lV3oTiW9K2aGABFL4y+oLk1hq7pVw4VTJyQnlTlnHjx6In0nUrKBGQvbDQjBht1ictmpmS1WTouf5LJx46a4fuUKPrwNgI2NLXLkyYfxE8ehUaMGWq8kEUutoTNYw7B7t/CtveE8MFs5OiHZ/pOwZvfAKRECcUWAiGVcEaT2JovAp6+MVLYNxs37UfHYlBVdNN4ePduS+asyJvRsHggQsTT+OurSeU/7dh2wbcN6ZgAp3hwrVKI0rly7aPwJm4gGLXsHY+sBcSiS3p62mDcmfpLL589f4OLFS0iTJjXc3eN+okTE0kRe1hjUCL3tjxBfH0QGB8VQM27FVomTwrGeB2yy5YhbR9SaEPg/AkQs6VUwSwSCQ4BqbYJw9qqYVM4eaY9+nYhUmuXC06RAxNI0XgJdhRsJCHiL6u418OLRfcHEkqZMjbETJqBb9y4CuaVnGncPxh5fMbkc0csOEwfYWTo8IGJp8a8AAUAI6BUBIpZ6hZc6NxYCdTsF46Cf+MfFpIF2GO5FPy6MtS40rv4RIGKpf4wNPcLly1fQx7sf3r55jbCwUKRMnQZt2rXBkCGDDK1KvBivJrtT73tG/Pd/+jA7DOpq2X//iVjGi1eYlCQE4i0CRCzj7dKR4uoQaNsvBBv3iu/acELJiSUlQsCcESBiab6rGxAQgL9/g5ArV07znaQOZsYgkt2tPydhsWLp8YqJWOrgBaMuCAFCQC0CRCzVQkMF8RGBPuNCMH+tmFR6szs28+PpHZv4uA6ks/EQIGJpPOxpZNNBgN+xr9YmGLceiK9D7F7qgEY1bExHWQNqQsTSgGDTUISABSJAxNICF91cpzxxQShGzQ4VTa+dhy3WzYyfjhtEkyEBIRADAoYgljykxp7dUQHaGzVuiNy5c8WgFRUTAoZH4NmrSLizu/bcO7hysmWc0m+LIyqUtFYWW8QzEUuLWGaaJCFgNASIWBoNehpYlwgs3xKGbsOZxx6VVN/dBvtWxN8g2SrToSwhECMC+iaWnu074dSJEywEwhuZLmkzZEKVau5YvWZljLpRBULA0AhcvxOBqq2D8f2nkFymS22FU1sdkDubZZFLIpaGfgNpPELAshAgYmlZ622Ws91/PBwNugSL5lauhDVObHaECcf1FulMAkIgrgjok1guWLAIY4YPx99fPwVqOiVKgglTpsDLq7tArpoJDPyIDoyYPn/+DGGhYUiVOjVGjRmJ2rVrqlalPCGgMwSOng1HjXbi74hiBaxl5DKxs5XOxjL1johYmvoKkX6EQPxGgIhl/F4/i9f+GtuNrtQ8CH/+CqHInc0KJ5mpU/o0lvODQYgA5SwVAX0SywrlKuHahbOS0LqUq4iz505JlnFhKCOSZUq74v6Na4I6aTNlxaKli4lcClChjK4R2Lw/DK37iK1a6rjZwGe15Vi1ELHU9ZtF/REChIAyAkQsldGg53iFwIdPkajISOWTF0ITpySJokyciua3LBOneLV4pKzeENAnsSxRrCTu37wuqXuBYi645n9FsowLBw4YjIWzZ8EKwn+vvKxY6XK4cEmasPJySoSApgg8fcpOw8PCkDdvHlGTuavD0G+CmFx2bWmLZZMt4x4+EUvRa0ECQoAQ0ACB/de34fufb3C0d0LT0u3UtiBiqRYaKjB1BNzZvZkTF8Sxyg6vdUDNSsw7AyVCwAIR0CexrF2rHk4eOSiJapVadXHw0H7JMi6sXq0Wzh73lSzPnCM3Hj19KFmmL+HDh4+waeNmWfiOxh6N4OpaRl9DUb8GQODwYV+MHD4S798GIDw8HGnSpUfX7l3Rq1dPwehDp4Vi2lKxk7cJA+wwspf5h6MiYil4HShDCBACGiBw/cUleK1pLauZNVVObPWW/i7nFYhYagAoVTE9BDoNDsHqHeKwIqun26NDU1vTU5g0IgQMhIA+ieWtW3fQ1KMp3jx7LJhNJkYMd+3ZiUKFCgrkypnGDZvg8L7dyiLFc878hXDn3i1FXt8PPXt445DPAXwIiHJAlCR5CpQsUxY+B/fpe2jqXw8I3L59Bx4NPRDw4qmi90h2Nm7jmBAZM2Zk/2VA23Zt4dkhape93YAQbNgt/v7YMNsebRqZ9/cHEUvFK0IPhIDJIxAWHobHH+7j+cfHCI8Ig5WVNfvLZgVr9sky7JPn2N86a1v2n43i01Y1b8PLVerY2Mna2Cq1U64T+P0dHr27i5uvr2Hv1S0IDY/akKtWqC4mNJ2nFjsilmqhoQJTRWACCysyWiKsyPj+dhjlbf47zqa6LqSXaSCgT2LJZ3j+/EUMGjgYH969k004bfr0mDlrRownfqdPn0WbFq3w+cNbAVCcAHi0bI1Nm9cL5PrK8DApPbp2w/cvnwRDRDA9uvXyxvwFcwVyypg+Ag0beMB3/x6FohGwBl9PW/yzaOEOpmrWqYvNWzbI6lVpFYyTF/+Vyxuf2+GIci7me42CiKV8pemTEDBdBLjZ6YEbOxmxu4eQMLHjMWNq7lV9CNqW76pWBSKWaqGhAlNEQJ0Dhs4tbLFiimXckTHFdSGdTAcBfRNL+Uz//uUes6zg5OQoF8X4OXjQUOzcvgPvXr9kdSORMHFSFC9ZCseOH4mxra4q1KxRB6ePHpbsLl/REvC/cVWyjISmi4BrmQq4cfm8QsFQ2MBOiVTKC1KkSYede/egTJlSeP8xEhWaBYHHulRO2TNb4fxOR6RNZZ6O34hYKq82PRMCpoXAz7/fMWnfMJy6r97U1JgaJ3Rwxs6+fkiWMIVaNYhYqoWGCkwNgau3I+DqEcQcMwg1q1beBkc3WI5XP+HsKUcICBEwFLEUjqp57smTp1i/bgN+/PiBBg0boEqVypo31kHNiuUr4+r5M5I9Zc9bEPce3JYsI6HpIlC7Jrv76xt195efgPMTSxsJYsnLunj1woKFUWZcl25EoEJT9p2icnBZvYINfNeb53cKEUvTfY9JM8tG4Ouvz+i4rBE+MBNUU019ag5HS9dO0apHxDJaeKjQVBD48SsSZRsH4/6TCIFKObJE7S6nSWmeu8uCyVKGENAAAVMnlhpMQa9VPNt3xNb16xjFEJ5U8UFLV3TDqdMn9Do+da57BLiZdbvWbfHx7Wu2qlaMUloLzGDlI/Kybt69MW/+HLkIWw6Eo1VvsalZr3a2WDDO/KxgiFgqlp4eCAGTQmDw5m448/C4SemkrEzJ7K6Y03YNbNl9zegSEcvo0KEyk0HAo3swdvuqbCsz7c7vcoRrcfO9D2MyC0CKxBsEiFhGv1RfvnxFlcpV8fiu0FlQ+iw5sG7jOpQv7xp9BzGU7mZ3OBfOX4TvP74jadKkGDCwv9nH6Hz79h369O6HVy9fwdbWFuUYhjNnTY8BKd0Wz5k9D8uXLceLJ48QFmklaQqbMl0G7Nm/Dy4uxQWDT1oYipGzxJ5iFzJi6cUIpjklIpbmtJo0F3NB4ODN3Ziwe5BJTocTyW5VB6B1uc5RToNi0JKIZQwAUbHxEeBf+PyLXzWtm2WPdo3N60tfdY6UJwRiiwARy5gRe/78Bbp17YHXL1+y0BQRSJM2LSZPnYhKlSrG3DiaGkMGD8OGtWvx36dARa0UadKjS49uGDNmlEJmTg+PHj2GR6OmePbgjmJa3HGOa8XKOGng09/Q0FCcPHkaN27cxKoVKwXeixMlS4G6DRpi9ZoVCj2VHzwHhmDdLpV7FqyC32YHuJU1n/BVRCyVV52eCQHjI/A35A/qzXTFr6CfImWc7BMgU4qs4F5elRM3l+Wmszwld06JtEnSKxerfb7/VvOrHkkSJEWFPO5oVrY9cqfNr7ZP1QIilqqIUN6kENjKzJRaSpgpDfeyw6SBdialKylDCJgCAkQsjbMKHz9+RLky5QUhL+SaZM6ZB9f8ryBRokRykdl8VnOviXMnjormw8nluMlTMHTYYFGZIQQv2enpsKHDEfAmAAmdndG1Wxc0btww2qHLNg4Cv3epnLJlssLlPY5IlcI8rlsQsVReXXomBIyPgO/tfRizs79CkUr5qqFW0cbIlSYv0ifLxKKKiP/2rD61EMv9okz6hzecgvrFmynaq3v48usT6kxXH695UvMFSJM4HZwcEiJFwpRIkiCZ5Njq+pfLiVjKkaBPk0PgHrtPWapBEP5w55NKqXFNG+xaYp6OFZSmSY+EgFYIELHUCrY4N9q0aQs6tmnDbveJ726C7TbvZCaYderUivM4ptZBvjwF8fLxfUm1KrjXwNFj0h54JRsYWfjwWYTsLv+3H8I1rOdug/0r4v6d8/nzF9y6dVu2wVCqlItRZkvE0iiw06CEgFoEBm7qgnOP/GTlzcq0R79ao2IkdF1WNMGdNzdkbQ4MvIBUidOo7V9ecPzuQYzc3lueFXwmTZgchwdfiXFcQSM1GSKWaoAhsfER4B5gL/oLd4/z5rDGpT0OSJJIvINjfI1JA0LA+AgQsTTOGuzauRutmjaTRVBU1cDG3gH7Dh1E1apVVIvifb5AvkJ4/vCe5Dwq16iNw0d8JMtMVbiH3eVvzO70q6aRLEbyBBYrWdvUpnV7XDx3Dm/fvEKChM7Imj0nZs2dBTe3SqIu+SbF/n0HYO/ggC5dOqFixfKiOtoKiFhqixy1IwR0jwAPL1J7emmEhocihXMq7Ol/Gva20W9i8TY1ppVEREQ4cqTJg01ehzRSbNqBkdhzdYtk3SoFamFy84WSZbEVErGMLWJU3yAI9BwVgiUbxfddeHwx1xLkrMcgi0CDxEsEiFgaZ9n+/PkDl2Il8eLxA5ECOfIVxJ17t3SyGyzq3MiCenUb4tjB/czwVZjsHRNg5vz5jBh1FBbEg9yEBaEYPVt8r59bynCLmdgm7159sXzRQtGmQ9Zc+XDi1DGkT//vfpRbZXdcvXAe4aFR5DZpytSoVKUKtm7bHNthJesTsZSEhYSEgFEQePzhPhYcmSIbu2aRhqhTzCNGPU6wk8cR/z95bFO+C3pVHxpjG16h+fxqePX5uWTdQXXHwaNUG8my2AqJWMYWMaqvdwRWbgtDl6EhonGWTrJHt1bCC8yiSiQgBCwcASKWxnkBfv36jc6du8L3sC/+/PimIBHc2+yY8WPQrp1uvrSNMzv1o379+hU1qtXGHf+rjFxGmZDaOyVEparu2H9gj/qGJl7S1CsYOw8JPZGnSGaFa/sdkTWjKo2OfjKFChTB0/v/nBvJa/PwJ516eGHR4vkyUds2ntixaYMCR3m9BImSYNb8efD0bCcXaf1JxFJr6KghIWASCEzYMxgHb+yS6bLQcyNcspeNUa/PPz+i7gz19bZ6+yJrqpwx9qNJBSKWmqBEdQyGwK0HEShRL4h5ahQO2b21LZZMNL+YYsJZUo4QiDsCRCzjjmFse9i6dTvGjRmP5+y0klMOK+ae3TFhYri7V8G4CWORP3++2HYZ7+oPHTIC165dg729PZq3aIb27dvGuzkoK/z9ZyRK1g/Ck5fC+5Y1KtrgyLroTdWU+/n9+zcK5S+M969fKIsVz+616+PAwb2yfNHCxfHozk1FmfKDru6rErFURpWeCYH4hUBkZKTMgywnitxj7NFh/rCzidlE/+idAxi9o6/kZLlX2UODL0uWaSMkYqkNatRGbwhIeeUrXZTfq3TU25jUMSFgTggQsTTsan74EIhKFSrj9dNHgoE5HalUrSZ8j4rvv/AfB8eOncD3799RrpwrM4VMJ2hLGdNA4NSlcLi1DBYpE9v7loULFsMTZgqtmviJZffefTF33ixZUXT3VUuzd+zUmSgHH6r9xCZPxDI2aFFdQsC0EOCms+0W15MpVT5PVcxsvVwjBafsG4F917dK1nUvWAcTm0VZTUhWiKWQiGUsAaPq+kOg7/gQzFsjvFfJYm3LTI+K5KN7lfpDnno2JwSIWBp2NUePHofpE8aLzBe5FukyZ8P1m9eQLFkyhVKrV63FrJmz8OzRQ0RGRiB9piwoX7ECNmxcp6hDD6aDwKyVYRg4SXw1w2eVA+pU0ey+5ZAhw7Fk3jyEBgtdnPO7t6fOnETKlClkE65apTounDwumjwnoF28emHBwnmistgKiFjGFjGqTwiYDgLrzy7F4mMzZAoNrjsejUu11ki5pvOq4s2Xl5J1h9SbiEYlW0qWaSMkYqkNatRG5whs8wlHC2/xzvDKafbo1IzuVeoccOrQbBHQN7Hk4RISJEiAXLl0cx8jvi9Ep45dsXnNSslpJE+dFqfPn0XOnDlk5Tdv3oJHQw+8eyV0oGBla48+AwZgytRJkv0YQujrexSTJk7B1y9f4ODgiPIVymPe/NmGGNrkx+CxlLfuZmbOX4fCKuwds3W2hlOiXHh4ew0ypnfWSH+vnt44fvQYPr5/B0cnFvQ8azYsZHcrS5UqqWjP348WzVri1ZOHChknlYWKu+Di5fOw5TutcUxELOMIIDUnBIyIQI/VLXHj5RWZBrv7nZLFuYxJnU8/AmXms+rqbet9DFlSZldXHGs5EctYQ0YNdI1AwIdIFKsdhM//ceOxf6lrS1ssm0z3Kv8hQk+EQMwI6ItYDhs6Anv37MWnD+9lYRAyZs6COfPmMFPOsjErZcY1Nm/eiq6eHRRePJWnmj1vQdx7cFshatqkBXx2bVfklR/ysft1/reuKYsM9rx61Rp2R3QcPr59rRgzghEat+o1ccT3oEJmqQ8XLt1F1SosAPlfIeFLlNoFge8vwtpaM4uakJAQ3L59RxbHMk+e3JJw3rlzF/37DcS7t+9gY2ONXLlzYc3aVUicOLFk/dgKiVjGFjGqTwiYBgK/gn6ixtQSCGdhRjKnyIbtfcTWDVKa+t7ehzE7+0sVIWWiNPAZdEGyTFshEUttkaN2OkOgUbdg7D0q9NZTOK81/A86gn2vUiIECIFYIKAPYjlt6gzMmDIFv5m3U+WULU8+HDtxFBkyZFAWa/UcFhaGnz9/MbPRpFq1N2avWXQIAABAAElEQVSjCuUqsxARZwXmsAkTJ0X3Xt6YOGmcQrWqbtVw4dQJRV75IXOOPHj0VByqRLmOvp6LFimBR7ejgm0rj8G9kW7YugW1a9dUFlvcczX3mjjH3nPVxE8Ty1brhZNH426iqtq3vvJELPWFLPVLCOgXAb97hzF8Wy/ZIM3KtEf/2qM1GnDy3mHY7y+9oVmjcH2MazJHo340rUTEUlOkqJ5eEJi9KgwDJorvr5zdwUyxXIhV6gV06tSsEdAHsSzB4jPev3ldhBv/Yd26QyesWq2ZAwFRB0zwlp3MeLbriBfPnyEsNBTJUqREx84d4O3tJVXdJGWhoWFo2qQ5Hj54gOCgICRhdypbtGiOocMGC/Rtz+a5bcM6AQGVVyhUohSuXLskzxrs89Wr1yhfphw+f3grOWbrjl2wctUyyTJLERZkXl2fPbgrOd0Qx4q4ddMPBfPEj+8rIpaSy6iV8L/fX8DvrvGTpHK53TCrjbRJvFadUyNCQAUB5TAjc9quRtlclVRqSGc95rrh7dfXkoXDG0xG/RLNJcu0FRKx1BY5ahdnBPzvRoUWUe1o6hA7DOkes/tk1XaUJwQIAUAfxDJX9jwIePFEEt64hEGIiIhAyRJlGGkVmoAmS5UGw0ePQq9ePSXHNGXhnz9/ZHdQpXR88yaAxXysiReP7guKk6ZMjdHjxqFHz24CuSEynz59QqkSpfHhzUvRcHzjoGe//pg9O8pZhKiChQiiCwMS7FQVlRv6wG+z5iFIjAkbEUvdoa98EpQ2aQbs7X9Gd51TT4SAEgIRzNEbj0P59ddn2Ns64BgLM+JgF3O0hMDv79FgVnmlnoSPO/v6IWPyLEJhHHNELOMIIDXXHoEKzYJw7mqEoAPuZY9726NECBAC2iGgD2Kp7oc1vxXt0bINNm1er5Wy3KPqNOZR1RrC+9W8s/xFS+D6jata9WvKjS5duow+vfvh3ZvXCGUntClTp0HrNq0xbPgQo6ldqYIbrpw7jTDYyFaCx+LkK5I0WXKcPX8G+fLlMZpupjBwm9btsXPzRtFJc7iVM8KST0dkonYY398Oo7xNf0OUiKVu3qgHb++g4/JGzLNz1N8uKysr+I24LYstqJsRqBdC4B8CN15eRo/VrWSCMjkrYm67Nf8Ko3k6fGsPxu0aKFkjdeK02D/wvGRZXIRELOOCHrXVGoGxc0Mxbl6ooH2ihMCtw07Ilon/rKFECBAC2iCgD2LJwyUsnD0bEWFCs/WM2XLB5/ABqHNEEpP+9eo2xPGD+yWrpc+SHbfv3UbChAkky+O78PXrN/j796/W2Oly/s+ePYdL8dL48+OrgOTbOiRAN6+emDlrui6Hi5d9Va5YFZeZh1/2j0Cmf5h1CoQ7VUJkqn+bKud3OcK1uLVJz4+IZdyXh5PJriub4s4b4b3kVV13oUDGonEfgHogBFQQmOEzBruubJRJ+9UaheZlPVVqSGcn7hkCnxs7JQtrFWmEMR4zJcviIiRiGRf0qK1WCJy/FoHyTYNEbVdPt0eHpnF3py7qmASEgAUhoA9iyeHzbN8JZ0+fRsCrl3BwdEDWHLkwZtxYeHg01Bpd3ufW9WvYSZA4ZcuTH/cfSt9rE9cmSVwQ8Pe/gfq16+JL4HtRN9yp0M07/nBychKVWZpgzZp1OOhzCHZ2dggMaYeTN4QmZqWKWuPynpjN04yJGxHLuKOv7hRoRMOpqFe8adwHoB4IASUEIpgX2DrMDJbf6eUpNuarjedUxrv/3ij19u9RX+8rEct/GNOTgRAo3TAIV24JTWDbNLTFhjn2BtKAhiEEzBcBfRFLjtjnz59x9ep1WbiE8uVd4wzivXv3Ub9OfVFcR363r2GzFti6bVOcx6AOYkZgyuRpGDdiuMjUk7d0SJAQh44dhaurZYeVUUUx8HMkCtcMwscvQjPukcwcdgIzizXVRMQybivzN+SPzGHP558fRR21dO2IPjVHiOQkIATigsDZh8cxaHM3WReZUmTFjj7SnsVVx/jw7S0azq6oKlbkNY2DqWig4QMRSw2Bomq6QWD0nFBMmC80gU2bygp3fB2RMpnUuYVuxqVeCAFLQUCfxFIfGC5etBTz587Di6ePZSeXSZlX2KIlXCh+oj7AVtPnihWr0atrF4EZrLxqkhSpcOzkCRQqVFAuos//I7B5Xxha9xWah/OiczsdUa6EaZrEErGM2+u76Nh0bDgr7SW5dM4KmNdubdwGoNaEgAoC/TZ0xMUnp2VSbgLLTWE1SQdv7saE3YMkq+rT2RQRS0nISagPBC7diEDZxmIT2M3zHdCyno0+hqQ+CQGLQyC+EUu+QN++fce2rdtlJ6LVqrujVKmSFrduxpzwr1+/UcqltMhbLdepsEsZXL6q2wDaxpyrrsfuMCgEa3dG3buU912mmDUu7jZNk1gilvJViv1nwNdXaLmgBkLDhZvj8p70EWxe3jd9mg8C/NT7+5//YGdrjxTOqaKd2Ftmxtp0bhVwr7A8LfTcCJfsmlmPcFLJyaVUqlO0MUY11o+3byKWUoiTTC8IVGD3Ks+x+5XKybOJLdbMIBNYZUzomRCICwLxkVjGZb7UVjcIbN+2A6NGjsYr2clxJCLY+XHeQkWwfsNaFClSWDeDmGEvX79HomD1ILz/KDSJ5eaw3CzW1BIRS+1XZOCmLjj3yC/aDngYiEROSaKtQ4WWjcCyE7Ox5vQiWbiQE8NvwdZGvW8R5ZA2nIQeGHQB1laaWUM0ml0J778FSILNSSUnl9GllSfnIV+GwnDNVRnc67GmiYilpkhRvTghMG1pKIZOE+7ypUlphXvHHJEiqeYvbJyUoMaEgAUgQMTSAhZZT1MMDPyI+fMW4vnz5yhevBgGDOwHa2vNfsToSSXJbh89esycCTkic+bMkuWGFm7ez0xi+4hNYm8cdETR/KaFHxFL7d6OS0/OoO+GDjE2XtZpG4pkcYmxHlWwXATkpq3W1ja4MPaxWiDefn2NZvPdEc6c9/AUGzPYjz8+oP7Mcmr73jvgLNImSa+2/NgdH4za0UdW3rvGMLQq11ltXdUCIpaqiFBe5wg8eBqB/NXEJrDrZ9ujbSP1OzU6V4Q6JAQsAAEilhawyBY6xUkTp2LLps349PED88xqjwyMWM6bPwdlypQ2OiJt+oVg016hSWz1ijbwXedgdN2UFSBiqYyGZs9h4WzjYFEtvPr8PMYGQ+pNRKOSLWOsRxUsF4Fa00rJPLw62SfAyZF3JIHgIW2817XFtecXFeWru+5G/oxFFPnoHpSJoWq9dEkzYk//qDubqmU8/yf4N5ovqIZPPwJhb+uA7X2OR0tCVfsgYqmKCOV1jkCDLsHYfzxqx0XeefO6Nti6wLS+cOW60SchEJ8RIGIZn1fPPHQPCwuTBY7nYTl0lRYtXIIJY8bi+9dPgi55WJqjx32RMWMGgdzQGW4Km889CN9/Ck1iF0+wR482mm+g/vnzB729++HBgwfMRM4GblXcMHbcaJ1Nh4hl7KHcfH4l5vtO0ahh09LtMKDOGI3qUiXLQ+Drr8+oPf3fRhgnlpxgqqZ1Z5ZgyfF/MSZzpsmLjV4HVaupza8/uxSLj0nfoSyVozzmt1+ntu2kvUNxwH+HrLxdhe7oWU3aAZC6DohYqkOG5DpBgDs14M4NlBOzYMKD407IkoFMYJVxoWdCQBcIELHUBYrUhzYIXLvmj359+uPd26h7PWnTpcf0mdNQrpxmziaiG7MkcyJ09/oVURUemqZFO0+sXbdKVGZowfItYeg2XPh9lySRFR6ecAT3fh5TCgwMRK0adXD/1g02qyiCyu+6lqtUBX6njsXUXKNyIpYawaSoxIlA03lV8Tv4l0IW3UOJbGWwqAOFSYoOI0sue/bxMVovrKWAYGCdsWhSuq0iz08q151dgqXHZylk/CG2MSfnHZmMLRek/ybWKeaBUY2mC/qXZ04/OIYhW7rLskkTJseuvieR0MFZXqzRJxFLjWCiStog8PM3kKfKX5FTg/lj7OHtqfkOrjZjUxtCwFIRIGJpqStv3Hnze48N6jXEqycPBYpkypEL23ZsR7FimplwCRorZfLkzIvXz6TvI7m6ueOE31Gl2sZ7rNMxGIdOhgsU6NDUFqunx+ykrl7dhjh+cL+gLc9wcjli3HiMHj1CVBZbARHL2CE2cc8Q+NzYqWhUPFtp+L+4rMirPvAf40eGXFUVU54QkCFw4+Vl9FjdSoEG9wzbnp0Kpk6Sjll5RGDXlU14/P6+opw/8Hdq/4BzMrNUQUE0mfG7B+LQzT2SNTpU8kK3qv1FZdzRT4elDfGNeazlaXiDyahformoXkwCIpYxIUTlWiPQe2wIFqwT3jlxK2sDv81kAqs1qNSQEIgBASKWMQBExXpBoEH9Rjh6YJ9k35Wq14pzXNJiRVzw8La/ZP/1mjTH9h1bJMsMLbz9MAJFaol9Chxa44BalaMPq1WoQBE8vS9956ps5arwOxn3U0silpq/EfcDbqHTCg+ZWTdvldgpKbZ4H5E5RZE7VJHqjRNLTgYoEQKqCCifCKqWqct7VR+CtuW7qiuWlI/bNRCHb0kTy17Vh6JN+S6Cdv/9/oKuK5vhzZeXMnmlfNUwreVSQR1NM0QsNUWK6sUKAR5WhIcXUU2X9jiidFHT8pKnqiPlCYH4jAARy/i8evFXd3WmqnxG+QoXh/+ta3Ga3LAhIzBv9kxEhoUK+kmfJTt279vDQqIUEsiNmRk7NxTj5gn1LFbAGv4+0ce2jI5YujJieYKIpcGWlZskdl7RBPcCbirG5Hcn+R3KFiyW5ctPTxVy1QduCstNYikRAqoIaOpdWN4uQ7JM2Op9VBbzUi7T5HP1qYVY7jdHsqpr7sqY3eafmSw38+6xuqXipDR14rSy+5x8I0WbRMRSG9SoTYwIuLUMwqlLEYJ6A7vYYcZw3TlzEHROGUKAEJAhQMSSXgRjIFCpQhVcOXdKcuhiZcrhwsWzkmWxEbZt44nzZ8/i7euXLAyKDbLnzotBgwfCs0O72HRjkLqFagTh7mPhd+C0IXYY3F39d2CDeo3g67OPGb4KEzeFHT1xEkaMGCos0CJHJ5aagcYDy/MA8/KULVVO9mP7EGzYezd8Wy/43TssLxJ9ygmoqIAEFo+A6h3LmACZ0WoZKuR1j6maqPzEvUMYsc1bJOcCHgdzYN1xKJ+nCm69uoZFx6bjw7e3srq8jG+MFMtaSrKtJkIilpqgRHVihcDyzcyBwQihAwPuqOexnxPsY75mEquxqDIhQAgIESBiKcQjutydO3dx/NgJJEueHB4eDZEoUaLoqlNZNAgsX7YCwwYNxp+f3wW17BydMHLsOAweMlAg1zbz/v17nD9/EUmTJoG7e1Vtu9F7u33HwtGwa7BgHHvGKZ+eckKm9KrUMara589fUJOZDd+9cZ1RyX/OeyqwO6TH/XwFfWmbIWIZM3I83AJ32PPl1z8PxPParUXpnBVkjVeenA8ePF5d4uFGeNgRSoSAKgKh4aEyr7A//wr/TqrW4/nW5brAu4Z2m0n8niR/hzUZRz429047xmMWKuerLhdp9UnEUivYqJE6BH79AXJW+ovAz1FfivJ6FLNSjgR9EgL6RYCIpWb41menQ/5Xr+Bz4AfZT/hsOXPDq3cveHt7adYB1RIh0MGzM/yOH0fg2zeystTpMqBcxYrYsnWjqK4lCFr1CcGW/UI/A55NbLFmhvod1pCQEPTrOwC3b9+Bra0tqlevhmHDh+gMLiKWMUO58OhUbDy3QlGRn+zMbP0vz08r+amlulQkiwuWddqmrpjkFo7A9AOjsPvq5mhRcC9YB+ObzJFZZkRbMZpCPgYfS5OUIXlmzGi1HNlT59KkerR1iFhGCw8VxhaBgZNDMWuF8G5Jbeaw4CBzXECJECAE9I8AEcuYMe7UqSs2rl4F6/+fCslbpMucjd3X242iRYvIRfQZSwQePnyEnTt2ISIiAo0aN0KhQgVi2YP5VH/2KhK53P4y5y/COR3f5ICqrtE78hG20F2OiGX0WL7+8kIWDoKfLPFka2OLzb2OIHOKbIqG/H4lv2epLiVySoJjw6QdTalrQ3LLQeBX0E/0ZJ5hH38Qen/lCDjaOaFTZW+0rdAtzoBEMC+z2y6uld21/BvCTn0kEjd9rcgc9YxoMAX8vdVFImKpCxSpDxkCtx8wb3i1xQ57ru53hEshcthDrwkhYAgEiFjGjHJ0TlIaNm/JTtg2xdwJ1SAENEBgwoJQjJ4t3GytUNIaZ7ZH78hHg661qkLEMnrY+m/shAuPTykqtXTthD41hyvy/IF7hK08oQDk5FNQ+P+Mz6ALSJkojVQRyQgBfP/zDUdu7cW1Fxdl5qrpkmZE7nT5UZfFmNQVwZPD/OlHIE4/OIrnn57g1adnbDs1EmmTpJdtltQo0gB8bF0mIpa6RNPC+/LoEYzdR4Txu/p2tMWcUerNfiwcMpo+IaBzBIhYRg8pP0njMREDXkh7daxUjYXGOHow+k6olBCIBQJ5qwbh0XOhI5+VU+3RqbltLHrRTVUilupx5ISSE0t54iFDdvbxg7Oj+O5160W18Szwkbyq6FP5TqaokASEgBkjQMTSjBfXkFPzORGOep2FjgpSJLXCszOOSJJI2lGBIfWjsQgBS0GAiGXMK+1SojTu+YuDmEcylynd+/TF3LmzYu6EahACGiKwZX84WvURfj9mZg7tXpxxYneoNOxER9WIWEoDyU8fWy2sqYjjx2txBzzcEY9UGr2jL47eOSBVJJP1qTkCLV07qi03hYJ1Z5Yg4OsrU1BFUocEDgnRt+ZIWFnRb0hJgExUSMTSRBcmvqlVumEQrtwS7sjOG2OP3p6G35GNb9iRvoSALhEgYhkzmtyD6bjRY/D14wdB5dyFiuL8hTNwdnYWyClDCMQVgVqewThyWmjRM7avHcb0Ya5iDZiIWEqDzZ31cKc98pQzTV6s77FfrfOUtacXYemJ2fLqos96xZtiRMN//YkqmICg5rSS+Pb7qwlool6Fo8OuQ9t4iup7pRJ9IkDEUp/oWkjfK7aEoetwYXgRTYJBWwg8NE1CwKAIELHUDO4FCxZh9YrV+PLlE/O+aYfMWbJg+cplyJ077l7xNNOAalkSAhf8I1DOQ+iDwI7tu74464QMaQ13IkPEUvzW8bAiPDQDDzMiTzyWX4lsZeRZ0efpB8cwZEt3kVwuKJCxKFZ13SXPmuQnEUuTXJZ4rxQRy3i/hMafQNbyf/HqrdDt3e6lDmhUwzhe74yPCGlACBgPASKWscM+MPAjEiZMYBKnlMuXr8Thg0dgY2uDdu3bon79urGbDNU2aQS6DA3Bym1hAh17tLHF4gmG80NAxFIAvywzYfcgHLy5W1HA4/hNbblEkZd64CakTeZWkSqSybgZ54nht0zajJOIpdrlo4I4IEDEMg7gUVNg8uJQjJgh9HhXx80GPqspvAi9H4SAMRDQN7G8c+ceEiRwQo4c2Y0xvXgx5rNnz9Hbuw/evH7DTOmskSt3bqxeswKJEomdgMgnVLliVVw6dxpWzEU8TwkSJUH5ym7Yt//fD155XfqMnwjwDVi+Eauabh5yRJF8hrlsScRSiP69gJvovKIJCwkTtTluZ2uPrd5HkSFZJmFFlRwP5eA2sRCCQ4Wn0MrV9vY/g7RJMyiLTOqZiKVJLYfZKEPE0myW0vAT+e97JLKU+4uf/6xHZEqc3+UI1+KG+ZI0/KxpRELAtBHQF7EcMWI09uzajU8f3sPOwQGZMmXB3AVzUbZsadMGxMDaPXnyFA3rN8bzh3cVI3OnQIWKu+Acu7/pwLBTTZ7tO2Lr+nWsltDyw8beAROnTkPffr1Vm1A+niIwclYoJi1U2owNOoPcqQ+had2kaO/ZDrly5dTrzIhY/oOXk8lOyxvj/tvbCiGPH+hVbbAiH91DuyX18Pi9OBahvM2sNitRLrebPGtyn0QsTW5JzEIhIpZmsYzGmcSQqaGYvkzpC5Kp0d7DFmtnGs6sxzgzp1EJAdNFQB/Ecsb0WZg+eTJ+ff9PMPFsefLjuN9RpE+fXiCPayYkJAT8v/joRKdWzbo45XtIBAEnl+06d8XyFWITu+JFXfDglr+oDReUrVQFfqeOS5aRMP4h8IcdWPJTy09f2RvxoQFsg6/BOvI7m4gV0rPNGo9mzTBjptDpS3BwMLx69sa9e/dkJ+ClS5fG7DkztJo8Ect/sPnc2ImJe4YoBCmcU2FHnxPgZqyapHG7BuLwrT1qq3pVH4K25buqLTd2wa4rG6M9cTW2fnz8JqXbwt5WvBlnCrqRDtIIELGUxoWkMSDw+l3UaaVqtYcnHJEnO51WquJCeULAUAjog1iWKFYS929eF02Bk6U2HTtj5aplojJtBHfv3odXj14IePMaPN5kqtSpMXzkcDRsWF+b7ozSpnDBonhy798JiLISJVwr4Nz508oi2XN0bVxYm7MSbUSd6Fnw+vVrHDvmBycnR9SpUwtJkiTR84jm2/3sVWEY2Kcd7H9vY/+ChKfUKdNmwMatm1GpUgUZAN++fYd7leq4e+Oaoi7/d+dStpzsBDy2KBGxjELsd/AvmcOer78+KyDkXly5N1dN04azy7Do2HS11WsVaYQxHjPVllOBeSEQxkLWRKr8ezavGaqfjRX7m2RrE+XhmoilepyoJBoEeo0JwaL1QicEfTrYYu5oOq2MBjYqIgT0joA+iGWu7HkQ8OKJpO4V3Gvg6LHDkmWxEb5//wHVqlbHswf/TEh5+7SZsmLF6hVwd68am+6MVrd40ZLs9FFMwrlC6k4fa7NTzpNqTjk7dOuOJUsXGW0+fOD27TrizKlTePfmlUyPLNlzoV2HdhjJSD8l7RBwSlgY+CN81+U91WrQGLv37pRlm3g0h8/unQpSKa/DyWW3Xr0xb8EcuUijTyKWUTDN952CzedXKjDLk64A1nTfC2srzTfGzz8+iQEbOyv6UH3gfa5jIUsoWQYCHZY1xIO3dyxjsiqzVPaCTMRSBRzKxozA4xeRyFOF2fMoJebEEK8vOCFdasO5TVcanh4JAULg/wjog1gWLVwcj+7cFGHMz1o8WrbBps3rRWWxFbRp3R47N28U/YDm/ZQsVxFnzp2KbZdGqd+pYxdsWrNaNA9be0dMnDYNffp6i/Ti9zIbMTKhTKo5cShcoiQuXDrHwqEYLx7wxImTMX3SJIQGCf/mp0qXEes2bYCbWyXRfEgQMwLp0ubFt8DHkhWVN2uKFXHBw9vSZtLFy5aXxV2V7ESNkIgl8Orzc7ReVAth4f82x5d22oqiWUqqQU1a/P5bABrNVv/+O9g54uTIO7Eiq9IjkTQ+IEDEcpdsmYhYxoe31cR07MZiVi5nsSuV0/Cedpg0yLCBnpXHp2dCgBCIQkAfxHLwoGFYOHc2IsOEd6ozZsuJA4cOIG/ePHGGv2J5N1xVY/KZPW9+3FM5yYzzgHrsoEpld+bh9SwimWkUTwkTJ5V5eN27L+qLV2roFy9ewrsX9yT7WnaPLneePFizdiXzwJtAqrrBZKVcyuDO9SuS47nVrINDhw9IlpEwegRcy5THjcsXRJX4hkKvAQMxc+Y0WVl092+1MZMmYgn03dABl56cEWDf2a2PIK9JJpJ5hl11akG0VXf29UPG5FmirUOF5oEAEUsilubxJht4Fg+eRSC/u9C9tjP73fPmohOSJqbTSgMvBw1HCIgQ0Aex5IO0a9sB586cwdvXL2HPvJVmy5Ubo8aMQtOmHiIdtBHUrlUPJ48clGyav2gJXL9xVbLMVIVr16zHgQM+stNG7u2zdu2apqpqtHoVzF9YcJKqXLkEOzHjnm4pxR6BQ4eOoEP7nvjx+aWgsX2y4vjy8ZLilLplizbYs22L6AQ8gkn6DhqMadOnCNrHlLF0YnnukR8GbuoSE0w6K5/Wcikq5aums/6oI9NFgIglEUvTfTtNWLOuw0KwYqvwtHJsXzuM6UOnlSa8bKSaBSGgL2LJIfz48SOuXL6KxMxxS8WK5XWKqq/vMXRq74kvge8F/UbAGr0HDGCeMqNOcASFlNE7AhXKVcK1C2clx6nr0Qw7dm6VLCNhzAgcPuyL5q3H4c/PT8zlhy0i7bIhMuUS7FuVEfWrsfslLHHvyJUquOHGlUsKcslJpWtFN5w8fTzmQVRqWDKxDGUWBC0X1EDA16i7wirQ6CXbvWp/eFby0kvf1KlpIbDn6mZ8+hFoWkoZSJvUSdKioUtL2WhkCmsg0M1hmEfPI5C3qvC0MkkiKwSw00pnzbxzmwMMNAdCwKQR0Cex1PfEhw4Zjh3btuPtqxeyoVKmSYdSZcti954d+h6a+leDwIEDB9GrR098fPtGUCNLzrzwYWawOXPmEMgpEzsEth4IR8vewYJGlctY4+QWR4Fs6ODhuHz5CjOTtkLValUxfPhQQbmmGUsmlqpeXG2sbeIcyiIsIgyhYSFq4a9WqC4mNJ2ntpwKCAFzQ4CIpbmtqB7n02NkCJZuEp5WjmOnlaPptFKPqFPXhEDsENAVsRw0cCiOHT2K379+IaGzM6rVqI4ZM4Tx9WKnmWa1AwICsGPHLvz58wd169ZFkSKFNGtowbX4/cz79x8gXbq0KF68mM6RWLNmHebPnY9PHwPBf4yny5ARs+fOhKtrWZ2PZYkdlmoQhKu3IwRTP7jaAbXdok4tBQVxzFgqsfz8M5CFF3HH35A/CgTHNZmDGoXjFsro3KMTzLRWfazKHGnyYJOXOK6tQgl6IATMDAEilma2oPqazsuASGSrIPQKmCihFd5eckQiZ7pbqS/cqV9CILYI6IJYtmjeGnt3sBh7zDmFPEVa2aBh02bYum2TXESfJoBAnVr1cff2LXx4F4AkSZPJ7r6uXrMSBQrk17l2AQFvYWdnhzRpUuu8b0vucMv+MLTqIzz1ql7BBr7rdR8Y3lKJ5bhdA3H41h7Fa5YjdW5s8DoYZ4+tr7+8QDNGWNUlOxbb79Soe7INGXV1SE4ImBMCRCzNaTX1OJf+E0MwhwV1Vk6jvO0wvj/drVTGhJ4JAWMjEFdiyU+/qrD7Wx8CxPeQeExJv9N+yJYtq7GnSeMzBOrXa4SjPvsVd+/koOQrUhz+N6/Js/RpQgj09u6Lixcuyu5Opk2bFpOnTkaJEsVQrE4Qbt7/t5HDVfbb7AC3sro9tbREYnnnzQ10XdkUkZGRijdhasslqJyvuiKv7UN4RDgqTcgvCF2i2tdWb19kTZVTVWz0vO/tfXj/X4DR9VCnQAIHZzQr015dMclNFAEilia6MKak1uevkUhX6i/7w/lPK3vGJ99ddkKKZHRa+Q8VeiIEjI9AXInl5s1b0aF1a+Yy59+PMPmsuNOQtZs3o2XL5nIRfRoJgS9fvqJUiVJ49+q5SAO+TouWL0fnLp1EZSQwHgJVq1THuZMnBP+2eMieFatX4OXncugwSHhq2ai6DXYv0+2ppaURywhmddFpeWNB4Pq86Qtibfd9OnsRms+vzmJjPlPb36TmC1C1QG215cYqqDmtJL79/mqs4TUa9+iw60jslFSjulTJNBAgYmka62DSWoydG4px84Tx6wZ2scOM4XRaadILR8pZJAJxJZYnT55Gwzp1EfL3twg/+wQJsdfHB25ulURlJDAsArdu3YZ75Sr49U38w5DHQuzWuw/mzZttWKVoNLUIrFy5Gn2YE6QICUcvRUuVxcXL52XO8biTPOV0db8jXApZK4vi9GxpxHLf9a2Ysm+EALO5bdegTK6KAllcMoM3d8OZh+o99HZ26w1t4mTGRSdN2hKx1AQlqhNbBIhYxhYxC6sfxqxf07LTyi//CU8vXp13Qub0dFppYa8DTTceIBBXYsmnqC4oe74iJZiJ5dV4gIL5q/jjxw8UZ+vx9qX4pITfh125bh3atG1l/kDEkxk2btQUh/dGxXlTVTl9luy4c/821uyyR6/RwlNLzya2WDPDXrWJ1nlLIpY//35nDnuq4tuf/xR4FcnigmWdtinyunhYdHQaNpxbrrYrt/w1MaXFIrXlxiogYmks5I0z7tv/3uCtUqgdfv+3WNbSOleGiKXOITWvDuevDUOfccIvuq4tbbFssu6+6MwLMZoNIWBcBHRBLC9duoyunbvh0b07MrM9blqZp0AhLF+5DGXK6P6LyLiI6Wf0hQsWw9f3KGxtbNGydQs0a9ZE5wM1a9oS+3ZuF5hW8kEKlSiNK9cu6nw86lB7BFq2YA6xtm2R7CBT9lx48PgBbGyskb70X7z/KNzIfX7GCdky6WYj15KI5QyfMdh1ZaMA8yUdN+v8x/QB/x2YtFd9+JcsKXNgW++jAj1MIUPE0hRWwTA68E2WNovrIPD7e8WAyZ1T4tDgy4q8rh6IWOoKSTPtJ597EB4+E5rm3DrsiMJ5dWeaY6bQ0bQIAaMgoAtiyRUPY+YKixYuxp0791CoUAF49eoJW1tbo8wpvg1akQW0v3zuLCN8UX87HRM6o1wlN/gc1N29LjkmnFxev3YVXz99QqLEiZEtRy5s2rIBGTNmkFehTxNA4PTps2jVrDm+fvwg0qZC1Ro4evywTD5pUShGzhRePRnU1Q7Th+nm6omlEMvH7+/Dc2kD8DuW8lQyRzksaL9entXZ5+3X15lzoGZq++Mhek6NvAs729htyH/4/g4XH5+Go70jkidMCU4EUjinQtIEyVg807g7dSJiqXbJzK5gxDZvnLgnDHtDxNLsltn0J7TNJxwtvIWBm5vUssGOxbp1JmD6SJCGhED8QUBXxDL+zNi0NG3XtgO2b1zPzniFp05WtnYYN3kKBg3qr3OFf/78icePnyBVqlTInDmTzvunDnWDQOdOXXH4gA/bBIgil9wSoFAxFxxgGw48BilP335EIk3Jv8xr7L8xnRMCgdcSIIHjP5m2T5ZALDmZ7LzcA/ff3hbAtKrrLhTIWFQg00WGm9rWnOoSbVcbWWiTnGnyRltHuZCfLDWb747g0CBlsew5gUNClMzuitI5K7L/KiBDMu3+zXMT3j9KcT1FA5mAoFf1IXCyT2ACmsRfFQ7e2IUJewaLJkDEUgQJCfSNQJVWwTh5MVwwzIlNDqjiGvedMkGnlCEECAGdIUDEUmdQatWRuvupvLMyFavg5Gn1Tj60GpAaxSsEzpw5h4ULFuHPnz8oVboURo8WOpbhk+k7PgTz1jAHB0pp9kh79OsUd4sBSyCWOy9vwMyDY5XQg4yAzWu3ViDTZab6lBL48feb2i7HesxCzSIN1ZarFuz3347Je4epiiXz+TMURtMy7VC9UH2KlymJkOUK3359jbZL6uJPsNgZHxFLy30vjDLz89ciUL6pcKesfElrnN2ugy1To8yIBiUELAMBIpbGXefChYrhyd1bkkq4uFbA2fOnJcssQXjq1Bn4X/dHkaJFULWqmyVMWas5cs+weasKv3/z5rDGg+Nx//41d2L56UcgWi6sgV9BPwXYL+qwCSWylRHIdJnpxE5I7wXcVNtlS9eO6FNTvImgrsHea1sxdb/m9Xk/mVNkQ7eq/VCFhTaxstLNnVx1+pHc9BHgMVa7rWqOuyyOq1QiYimFCsn0hoDnwBCs2yXcMd0wxx5tGsZ9x1RvSlPHhAAhACKWxn0J6tSuD7/DPiIleAiQjt17YPGShaIycxe8fPkKLZq1wsN7txHETursHR2RlzmD2rBpPfLkyW3u09dqfs17BWP7QaHF0M4lDvCoGTeLIXMnlv03dsKFx6cEmDs7JsKxYTf0SraGbumBUw/UO+gplLk4VnTeIdAruowqseR3K3mIFE6cH7+/J/B0q9oPH2tw3fHIlTafahHlLQiB5X5zsPqU+u8bIpYW9DIYe6rvAiORocxfgRpZM1rhxVkngYwyhAAhYHoIELE07pq8ePES9es2wNP7dxSKcFJZxKWULFahtbXlOT5zLVMBN1icRtVUyIV5r71K3mtVceH5E+fD4d5G6OOgZiUbHF4bNx8H5kws1ZmP8nuI+jSD5eslRWi5XJ64A5+jw/yR0MFZLor2U5VYjmw0DXWLNZG14XdI+SkUd8bid++wjGyqdsbH61S5Nzwr9tCJox/V/ilv2gjcenUNPda0QgQ7tVSXiFiqQ4bkOkdg/PxQjJkTKuh30kA7DPfSjVc6QceUIQQIAZ0iQMRSp3Bq1VlAQAB69eyDV69esh911siTNy/WrF0JB4e4kQKtlDFyoytXrqFejVr48e2LSBPHhImw96APKlWqICojAbuT2ygIl2/+82rKMblx0BFF82u/OWGuxPLhu7sysz8pZzctynZA31oj9fpK1ZpWCv/9Fr/jyoMObzAZ9Us0VxapfY6OWCo34sTh2F0frDq5AK+/vFAukj1zUj2p2QLwU1tKloEANwNvu7gu3n8LiHbCRCyjhYcKdYlA1vJ/8eqt0KNh4DUnpE5BNvu6xJn6IgT0gQARS32gatw+lyxehk2bNuPXr19IniwZBg4eiNq1axpXKQ1H37lzN1o3bSqKtcmbc6+oi1asQOfOHTXszbKqrdwWhi5DldzDsul7t7fF/LGxC1uhjJo5Ektugjpu1wD8VePhlHtQnc/CjOjr3iE3N+RmhzGltEkzYHXX3bKwITHV1ZRYyvvh9+m406KVJ+fhZ9APuVj2mTd9QSz03EjkUoCK+WbG7OwP39sxh7YiYmm+74BJzYzf6eB3O5RTx6a2WDVd+y8y5b7omRAgBPSLgLGJ5dev/2HL5q34xOIq1qhZHWXL6s9hhn6RNI3eO3h2xr5dO/H3178fiynTZoB3v74YPHiAaSgZjRZPnjyFe+Wq+PjujahW8tTpcPjYERQuXEhUpkvBtWv+OHTwEBInSYwWLZohbdq0uuxer32lLP4XX/77t9GbkEVe+OyfAI5aHn6bC7GMjIzEtecXwAmY3/3D4PnoUrVCdeFRqg3ypCsQ5/AVPLzIO+Zt88G7Ozjz8DguPz0b3dCCMh4qpGXZjuAxNXn4EXUnibEllvJBPv8MZKElhoh0csleFnPbroWtDfnJkGNljp++t/djzM5+iqnxTQV+mi+ViFhKoUIynSNQyzMYR04LbbLP7XBEORftTW90riR1SAgQAmoRMCaxnD9/ERbOX4BXz56wsyggcbLkKFrCBUePRQV/V6u0gQpWrlyD7du2IygoCLlz58bMWdOQNGlSA40e+2EePXqMGu7VERjwWtQ4e578uHP/tszUVlRoYoL69RrB12e/4NSS3zt1Yyayh4/46FXbunUa4PqVy/jv8yfZOBmzZke7Dp6SYT70qoiWnQ+ZGorpy4RXU5ZMtEf31toRBHMhltsvrcPsQ+O1QpXHRdzodUir+I+NZleK0cQwNkop351UbqctseR98DuYS47PxIazy5S7RONSrWVOfQRCypgNAtz0lZvAyj0iO9o5YV2P/Wi9qBbCwoXOOPmkiViazdKb7kTuP4lAgepBAgXLFrfGhV1xd3Eu6JQyhAAhoDcEjEUs7927j3rMI+r7188Fc+MEon6TZti+Y4tAbuhMowZN4HfMFyF/o+J5cb3yFCyMHbu2M5KZy9DqaDTerFlzMGLgQKap+DSG3088eNQXrq7x40S4ZYvW8Gcnh7/ZyWsC50Qs5EhR7Ni5VSMctK3UpUt3rF+5QkBoeV+pM2TClu1bGXZlte3aYO0ePotAPnfh93Lpota4tEe772VzIZZ7rm7BtAPa35vc3ue4LDxHbBey9cJaePbxcWybqa0/uN4ENC7ZSlQeF2Ip72zlyfky01h5nn/GNp6mclt6Nl0E+F1b7qyHO+2RJ/m7VX5cHiKWclDo07AIDJnGdkaXCndGl0+2R5eW2u2MGlZ7Go0QIAQ4AsYilp7tO2Hr+jWMBIlTttz5cf+RtDmOuLbuJfyeX7dOnfHnhziAeVlmpul38pjuB9VBj/xuZV+vniJixLt2TpIch48fhYtLcR2MZLguAgLeImPGDAYZsAiLKfpYTUzRWg09sHuP5uEfDKKwmkHqdgrGQT+hJdH5nY5wLRF7SyJzIZZqoDIbsS6IJQdjLLt7euTWXgUu3BR3Q8+DWp3WKjqhB5NDYM3pRVh2YrZCr/J5qmJm6+WyPBFLBSz0YGgE0pf+i/cf/+2MOycEvtxIAHtyBmvopaDxCAGtETAWseTmjsd8pB0GpMucTWa2mTAh+6NihNS4UVMc3rtLcuRM2XPh4ZMHJmlS+unTZ5QrWx5vnolPSPIVLg7/W/92pyUnZ+HCPLny4fXTR5IolKtSDcdP+EqWaSp88+YNvHr0lnn/5Y5hcubKhZWrljPz6iSadqFRvR2HwtHMK1hQl5vCcpPY2CYilrFFzDj1dUUsuZfcLiua4vGH+4qJlMhWRubMR1/OjBQD0YNBELgXcBNdVzYDd+DEEzdx3ex1GEkTJpfliVjKYKD/GRoBKac9Xm1tsXB87L+4DK07jUcIEAL/EDAWsRw7dgKmjBsrebqWv2gJXL9x9Z+SBn5q1LAJjuzbLTlqxmw58eDxA9jaxi3wvGTnOhDOmjUXi9i91fevX8h64ya8WXPlwaIli1C1qpsORjDfLsqWLoebVy6KJsgx7NzDCwsXzxeVaSp49eo16jLT76fsnqs88X4LsHf9zLmT0PUmSqayfxHw4d/Gb0IWVvrLzQRwiOVXNBFL+WqZ9qeuiCWf5avPz+G5tIHAa+4Yj5moVaSRaYNA2sWIAPeEzO9VBnx9pag7p+1qlM1VSZEnYqmAgh4MiUCDLsHYf1xoasPvcPC7HJQIAUIg/iBgLGLJEXIpXhr3VAhk8lRpMXzMaHh5dTcaiBs2bEav7t0Q8ifqfqWyIqUqVMbpM37KIpN7vnXrNqZOmY4vX74gS5bMGDN2FDMnzWhyepqaQjt27MLAvv1FHmnzFCrKyN9pJE6sfWw/dSf0nFw2b9se69av1ikcw2eEYspi4VWVVdPs0bFZ7K6qELHU6bLorTNdEkuu5NaLazD38ESFvqkTp8WOPifgYKfdXV1FR/RgVAQmMg/APjd2KnRoUrotBtYZq8jzByKWAjgoYwgEXr+LRJZyfwVDxcU5gKAjyhAChIBBETAmsfzw4QPate2AF8+eISw0FMlSpEDnrp3Rs6fxSKUc/Dq16uGE72FYMY+J8pQ9bwFs2bZZ7+Eu5OPRp+ER2LRpK+YwJ0hfPn+EDQu1kDlrVqxYuQw5cmSPkzJFi5TAo9s3EM7O6Hk8TuW7xSVKlcKly+fj1L9q4/tPmXO9akInPlVcbXBiU+zijhCxVEXWNPO6JpbcuUu7JeyEPfChYsL9ao1C87Keijw9xC8ETtw7hBHbvBVKZ0uVE2u77xNtFhCxVEBED4ZCYBpz2DOUOe5RTjwAMw/ETIkQIATiFwLGJJZypHhMuZ8/f8XpREjely4/p0+biYM+BxEcEsJO/rJg9pwZyJDBMI5kdDkP6iv2CPD30cnJkZk86+Z7rWSJ0rjp788IZSRsGLWUJ35i6ZQ4Gf77/lku0tmne+tgnLggtCx6cNwReXNobllExFJny6HXjnRNLLmyF5+cRr8NHRV6p0uaEbv6+rH75aZ5DUChKD2IEPj44wMLI1IbP/9+l5XZ2dhhVbfdyJ02v6guEUsRJCTQNwJFawfh1oN/X4x8vC83nJA8qfIerL61oP4JAUJAFwiYArHUxTyoD0LAlBHo0b0XVixbBjt2ZilK7Efemo0b0KJFM1FRXASrd4Sh0+AQQReje9thXD/NPewRsRTAZ7IZfRBLPll+1/Lhu38eume3WQXX3JVNFgdSTIwAj1PqvbYtrr+4pCj0rjEUrct1UeSVH4hYKqNBz3pH4KJ/BFw9hOY1zevaYOuC2JnX6F1RGoAQIAQ0QoCIpUYwUSVCIE4IPH78BMUKFkEE87opldp27oblK5ZIFWktC2KOYZMV+QP+KU+5s1nhkR/z5KNhImKpIVBGrqYvYsnv4/F7efJUs0hDWWxLeZ4+TR+BDeeWY9HRaQpFXbKXxYL2G6DOyy8RSwVU9GAIBPqOD8G8NWGCofYud0CDamQaIQCFMoRAPEGAiGU8WShSM14j8PXrV7gUK6nw1qs8GW4OO3zceIwePUJZrJPnDoNCsHan8Dv75BYHVC6j2Xc2EUudLIPeO9EXsfwd/Au1ppVCSFjU7kSSBElxeMhVWFtpbk6t98nTAGoRePT+Hjov90BoeNT1tUROSbDJ6xC4MyZ1iYilOmRIrhcEVGNXpk1lhfdXNN/91ItS1CkhQAhojQARS62ho4aEQKwQqFGtNk4fPyJw3MM7yJo7L/M6ewapUqWMVX+aVPY9E46a7ZWOLFmjHm1ssXiCZnFHiFhqgrLx6+iLWPKZ9VnvictPzyomyYlJjjR5FHl6ME0EgkL/ov2SBix8zDOFgpOaL0DVArUVeakHIpZSqJBMLwgcOhmOOh2FX1C9PW0xb4xmX1B6UYo6JQQIgTghQMQyTvBR41ggEBgYiGFDR+LFixdwdnZGL28v1KhRLRY9xO+qv379Qu2adXHnhj/+slA2PMpkzrz5MHHSRDRq3FBvk+Ne3Lk3d3lKmcwKn/w12xAmYilHzbQ/9UksV51agBV+cxUAjG48E7WLUkxLBSAm+jDtwEjsubpFoV2doo0xqvEMRV7dAxFLdciQXOcIdGQmNWtUTGrO7nBEeRcyidA52NQhIWAgBIhYGghoCx/m6tXr8GzniWcP77MTuyiSkzRlatRv1BjLli+2KHT8/E79j73zgGsiacP4Qy8qWLCcHVEEVBTFhoi9IHbOfth7OTx7ObtnF7tn7w1RwS72LgoqFjishyIfitgVEAS+XbwkrBuQhCTsJu9+v+92d2b2nXf+E0menZl3cPbMWZRmIg337NkDpqbq3Rtw7JxkLFrPjeR+kFnC0jYbS1hIWIrjo6lOYXk+PBAT9gyVgujXcAQGNB4pvacL4RG4GHEa43YNkjpWokApbB96FOYmeaRpmV2QsMyMDKWrnIBFlQR8+ix761mxnD4izqj3C1HljSCDRIAIcAiQsOTgoBs1Eahb2xWhN67yrBcpXhIHDgWgRo3qvDxKUA2B66GpqNOBGzSoZ0dDbF3889lGJCxV0wfqtvKjsPRw8kRrp19VUm3YiztYeXKe1FbHWj0wrvVM6T1dCItA3KdY/MZsLfI+/l26Y+z2MGv77kGV0tn7G0vCUlj9qbXeHDiRAs8h3Gmwk4cZYfaY7Ict11o41DAiIGICJCxF3HkicT0mJgZ1atZBbHQUz2M2cM2AYSOwYqVsqh2vECXkmEDl5okIeyTbJiyPOfDxnjmzJ2HWpklYZs1HKLk/Ckt1+sUK1j87yKKMqrMusq0YAXZPaHbv0aDHF6UPKjrCTMJSio4u1EnA648k7AjgRpa7dcQUTpV+8q2kTqfINhEgAjkmQMIyxwjJwE8IREW9QL3aLngd84JXkp0D03vgEKxZu4qXRwmqIzB1STJmLedOh9232gSe7llHhyVhqbo+UKelQzd9MefgJHVWIbXd3rkrJrT9S3pPF8IhsOfaZiw9PlvqUOVSTljbzxcGzKhldg8SltklReWUJsC8AEG+yvH4Ei8zUcVOH3eP0zRYGRG6IgLiJEDCUpz9JjavnavXRtjtYJ7b7DpL3/374ObmysujhMwJsGJ93NgJiHr+HGZmZvjN6zf06u2V6QOh4alw8uBOh/2tvSG2L8l6OiwJy0yRCirjf++i0GV5M+m2Eup0blGPdXCt2ESdVZBtJQg8fhWBPms7IPlbUvrTZsbm2MGsqyxRsLRC1khYKoSLCitDwP9kCjoO4k6Dnfq7EWb8QdNgleFJzxABIREgYan53oiJeYkrl68gb758aN68KTMdUftnfpw4cRLDhw5H9L+PpcCNTMzQ3KM19u33labRxc8JBAeHoJdXb/z7IFxa2CyvBZq5t4Lv3l3StB8vqron4m6EbDpsXiaOx6f7zJzYLA4SllnAEVhW1JtInL5/FPHM3pPqOAwMjOBq2wjsKBgdwiLA7jPaZ017PIl9KHVscvt5aFO9k/Q+uxckLLNLisopTUDeBss0DVZpnPQgERAUARKWmu2O3r364eL584h+Hgk9PT2Us7XHyD9+x8BBAzTrSC7UdufOPUye9CdevXzJjLKZ49dOnvjde3gueCLuKl3q1sftoCu8RrCjv7v99qJhQzdeHpsw1YeZDruCOx324HomOmzTzKfJkbCUi5ISiYCgCCw+NgN+QdukPjVyaIm5XZVbXkDCUoqRLtRFwMopAW/ey6LBOlTQR9hJmgarLt5klwhokgAJS83RnjplOpYsWIBvSdwpib+UtobfAT+KjKq5rhBtTW/fvkWNas54GRUptw1dmC1dtmzdJDfv5r1UOLflfvb6dzHE+nmZT4clYSkXJSUSAcEQuPboQnrAHolDhS2KYuewY7Awyy9JUuhMwlIhXFRYUQKnLqWgeU/uNNjxg40wbzxNg1WUJZUnAkIkQMIS8PX1w9mz51D8l18wYGA/FC9eXC1dVcOpJsJDb8q17d7BEwcYcUkHEciKwJs3b+HslLmw7MxMkd26Tb6wZO3aNUnEg6ep0iqKWunhZbCZ9P7HCxKWPxKheyIgHALvvrxBD2Zrkbef49KdYmfBLO+5FTVt6intJAlLpdHRg9kh4D0zCcs3c6PBXvYzRT1n7V8TlB0+VIYIiJ2ALgvL9+/fo5V7G4QG30BaSjLYrS9KlbNhpmd6Y8Tvw1Tetfa2Doh8FCHXbh23xjh34bTcPEokAhkJuNRxxe3rVzMmpV9bFirMTIX1RaNGDXl5koQxc5KxeD13Ouy53aZoWEf+dzoJSwk5OhMB4REYs3MALj84K3Wsm0s/eLfMWXRgEpZSnHShDgIVGiXgcaRsGmzJX/QQdTXzt5vq8IFsEgEioD4CuiwsWzRrhQunTzByknuUKGuDwNOBsLEpx83I4V3tWi64GxzEs8L+hfXs9ht27pKtkeEVogQi8B+B69dvoHfPPoh8+I+UiYl53vTgPX779kjT5F2cD0pBo27cWUhjBxphwUT5s5BIWMqjSGlEIPcJ7L+xAwuPTJM6Ur6oHTYP8oeRYeZT26WFs7ggYZkFHMrKGQF54ckHdTfEmr9y9qHNmVf0NBEgAqokoIvCcsvmbdi92xeXL11CcmI8DCCbGsiyZUcuh478Az5LFqkSNTZu2IQpkybj3etXHLtlmQA+xwOPoWzZMpx0uiECmRGIjHyWvt3IC2bbEXa7kW49uqJ//76ZFeekF3VOQOwb2Qvjyrb6uBcoP24CCUsOOrohAoIgEPn6MXqtaYevybI100u8NqFcEdsc+9dusfytn/KbF8DWIYeztM+u79TXkz/7IbMH9dKYI7NMStcuAnP/TsakBdwpMwfXMRHkmmUeQU67CFBriID2E9A1YenRqi0unT2D5K8J6Z2byojIFOjDiPlvxsOzuxd27NyaMYlzPWb0eJw9fYbZ3/cLLCws0bV7V4wePZJTRt7NggWLsX3rNrx+9RKGhkYoUaoUlizzgYtLXXnFKS2XCUycMBmBzFYpX758hkU+C3h2/hUTJozNZa9yVn3vsUnYuo+7xCXijCkqluP/ICRhmTPW9DQRUAeBgJA9mHdosjpM58jmyYk3FQ4aRMIyR8jF9XDDrom4cF32Jt/IEPgcbg5j+TNmxNU48pYIEIF0ArokLJf4LMPk8eOQ9o37wowdoWTFpeF/4lKfmUq0ZuMGePX8Te6npGOHTjga4M88Ifv7aJ7PEl59+mApIxKzczx8+AimpqYoXbpUdopTmVwg0LlTNxzavw96abKXDqbMlNMuXl5Ys0a5UP650Axelb5HUtB1BHc67NKpxvDuw3zJ/3CQsPwBCN0SAQEQIGEpgE4gFxQj8PZDGgpV+/5GX/JkmyYGOLTBRHJLZyJABLSAgC4JyyaNmuPqefkBcpKZCbHsqCUrMmu5uuHiFLTVVwAAJ0BJREFUpXNye5fdi7E1sxF9XEw0L7+UTQXcvB2CfPny8fIoQVwEIiIeoEXT5oiNjuI5zq7BDWLWylpZFeLliSHhw6c05Hfkfr+3amiAo5v53+8kLMXQo+SjrhEgYalrPa4F7ZX3RnPFDGMM78l/o6kFzaUmEAGdJaBLwrJhgya4flG+YISRGcoxwXoqVa6MvX67M/08LF60BJPHjmHkJ39ViJGpGY4EnoCbW/1Mn6cMcRD4+++1GDl0KDMqze9nPQMj+B89ghYtmomjMXK8bNLjK85elY3EGjIrXL78w5+RRMJSDjxKIgK5TICEZS53AFWvOIH+E5Kw0Ze7BuPBWTPYWv8YP1Fx2/QEESACwiGgS8Jy/LiJWLpwgVyx0KhFKxw7ceSnHbNt2w4M6NVLrg3LglY4fvoknJyq/dQOFRA2gf37DqBH587MNFjZdGeJx3ks8qe/QKhTp5YkSXTn+WuSMWE+d0r40U0maNWIG0OBhKXoupYc1gECJCx1oJO1rYnW9RMQ+UL2ptbeRh/hp+VHjdO2tlN7iIAuEdAlYcn2az0XN9y8dkU64sj+lbOt5IiDhwNgbV2Wucv6SEz8ihpONfE04j6vYJUatXEj5BovnRLER4CNU+hY2QmPw+/ynK/k5IyQWzd46WJKuHU/FTXayCJKsr7/0c8QPn9yo76TsBRTr5KvukLgxpPLOBC8Sy3NvfrwPJK+cddgSypq6NBCcin3PK3jIpgZm8vNyyyRgvdkRkaL0u8/TEWVFtwvnOG9DLFiOvcLR4uaTE0hAjpLQNeEJdvRQwYPx62bN5GSkoqy1mWxctUyFCtWLNufAX//g5g4fhIiH0WkC1Q2sqxdZUds2baZRiuzTVH4BU8w0WBHMdvOPH3wvZ/Z9be2lapgw6b1qFWrpvAb8BMPS9ZJQPQr2Qvkqvb6CD3GfYFMwvInECmbCGgZgdYL6yLuUyyvVQXzWuHYuOu89JwmkLDMKUERPL98yzd4z0jieOq/1gTtm3OnyHAK0A0RIAKiJKCLwlIVHRUX9wbLl63A48dPUI2Z+spuNWJgQH8jVcFWSDbevXuPZUuXg43i6+hYBX+M8oaJCT/IjZB8zq4vPUcnYfsB7pKXqGtmKFlMtuSFhGV2aVI5IqAdBEhYakc/CqoVHQd/hX+gbFE/69yHe2awyCv7shGUw+QMESACShMgYak0Op19cMuWbbh9KxSVKztgwMD+OstB7A3fwuxl2YfZ0zLjsd3HGL91kAXpI2GZkQ5dEwHtJ0DCUvv7WOMtLMhsM/KO2W5Ecrg66+OSH3d6jCSPzkSACIibgLLCct68BTh+7ASSk5NhY2PD7N+4GIUKiXP7BXH3oOa8v3fvPnp59UbYndvpwYskU4DXbViL2rXFG8hGcwSFVdOz6DSUdeVuO9KvsyE2zJcteyFhKaw+I2+IgLoJkLBUN2Eds3/jTipqt+eur5w83AizRxvpGAlqLhHQDQLKCMuWzVvh3KmTjLj4HjEzfe0Zs8bQP2BfusjUDXK618paznVw7yY/aI191eq4FRqie0BU2GJ238xr14JQskQJNGveVIWWszbl0CwR/zyWRb4tX0YPj86bSR8iYSlFQRdEQCcIkLDUiW7WXCMXrU/G2DncEOQnt5ugmSutHdJcL1BNREBzBBQVlqtXr8Vo75H49u1b+g5/7AR5A0Zgsvs6ujZpjlOnT2jOeapJYwSCgq6jdQt3fPn4nlenobEp9h06KOp9HXmN0mBC61btcOf2TcS+jIGBoSEq2Dlg4eKFaK4BgTnkzySs2cldZ/nkIrOna6nvS19IWGrwg0BVEQEBECBhKYBO0CYX2g38ikOnZOsr9ZjvloQIc5jIZsZoU3OpLURA5wkoKiwrV6qGB+FhMMT3vxPsaGUKM3bJbiRvXcEWEQ/DdZ6pNgIICDiELh06SkepM7aRfa2wcu06Zr1lv4zJdJ0NAp07dcOhfXvTX8xkLG5ta49zF8+haNEiGZNVfr37UAq6e3O3Fti6yBg9Pb+vsyRhqXLkZJAICJoACUtBd4/4nCvklIC372XrK91q6eOCL62vFF9PksdEIHsEFBGWHz9+RMnipZH85SPPeDIzblk+XViG8fIoQfwEoqJeoEE9N8RERfIaU/iXkjhxOhAODva8PErImkDFCvZ4/vgBrxD7wsZ77DjMXzCXl6fKhBcv01CqLned5YCuhlg39/vbZBKWqqRNtoiA8AmQsBR+H4nGw9DwVDh5cNdXThpmhL/G0PpK0XQiOUoEFCSgiLBko4EO6tMnfXTyx2rYUUunmrVw/cbVH7PoXksIdO3SA/57fTmjluxopXvb9gg4uF9LWqm5ZsTEvEQd59qI/V+U3Erb/toVvn675OapMtGuaSIePJGts3Qor4+wU99fKJOwVCVpskUEhE+AhKXw+0g0Hq7e8Q3DpnBDjx/dZIJWjWh9pWg6kRwlAgoSUERYrlr1N0YNHy5XWKbpGWDLrp3o2rWzgh5QcTERGOk9GmfPnMHnT5+QJ29euNSrh7XrVoupCYLytbKDI578c5/nEyvYZ82bj3Hjx/DyVJ3Qb3wSNu3lrrN8GWyGolZ6IGGpatpkjwgImwAJS2H3j6i88xqVhB3+3C+Xd3fMkN+C9q8UVUeSs0RAAQKKCMunT5+iScOmeClnOmQpG1vcuRcKMzOaOq8AftEWTUpKgrExLb7PaQeOHTMe61atQlJiPMeUQ7UauHk7mJOmrpuNjKjsz4jLjIf/WhO0b25AwjIjFLomAjpAgISlDnSypppYoVECHkfK1ldWc9DH7aP0I1FT/KkeIpAbBBQRlqx//fsNgr/fXsR/+iB1t2CRYhg4ZAimTZ8iTdOmi4H9B+P69etIiI+HZf788OrZE797D9OmJlJbcpHA6FHjmD1hj+HdmziYmJqhrHU5bNm2CWXLltGIV+x2I+y2IxmP8YONMG+8EQnLjFDomgjoAAESljrQyZpoYkxsGorX5i7gH9zDEH/PpjfSmuBPdRCB3CKgqLBk/fz777XYuX0nPn3+jPyM0PrdewQ8PTvkVhPUWq97y9Y4G3icM/03X/6C6D94MObMna3Wusm4bhF48uQp8+/JEoUKFdJ4w4vUSMDrt7IXyw3rGODcbhMSlhrvCaqQCOQugcyEZfmidtgx7KjKndNLYw6VWyWDuU7gILPFSHtmq5GMx+aFxuj96/eQ4xnT6ZoIEAHtIaCMsNSe1mfdkkuXruDX9h3w8W0cryC7HcT9f+5BX1+fl0cJREBsBNr0+4ojZ2VbjZkzk5W+/GNOwlJsHUn+EgGRESBhKbIOy667fy5Kxl+rkjnFw06awqEC/WjiQKEbIqBlBEhYZt6hEyZMxtL583h7DLJP5LUsiJPnTsPJqVrmBiiHCIiEwKwVyZjqw/0NcOuIKSonhuDDIC9pKyw37YGRo5P0ni6IABEgAjkhQMIyJ/QE/GzLXl8ReFH2trKApR7ehpoJ2GNyjQgQAVUQIGGZOUUfn6WYOHo0ZxqspLRVsRI4f/kCbGzKSZLoTARES+DEhRS49+bOWlo3h5m1ZHuLhKVoe5UcJwLCJ0DCUvh9pJSHVtUT8OadbJZzM1cDnNxuopQteogIEAHxEFBEWN69ex/hYeEoX8EGzs41xNNIJT19+/Yt6tWpj8hH//As1KjristXL/LSKUG4BP79NxLBwSEoVqwY3NxchetoLngWx3z/F2Z+B2Q8BnY3xMqOoSQsM0KhayJABFRKgISlSnEKw9jjZ2mo0JD7hTJhiBHmjjMShoPkBREgAmojkB1h+fHjR7Rr0wER4WF4G/caFpb5Ud7OHrt274C1dVm1+SYEwzt37sas6TMR+fhh+pRYdn/Byk414Lt3N8qXtxGCi+RDNgi0b+eJ2zdD8DL6BRN51RQ2Fezgs8wHjRo1yMbTulHElokM/yhDZHjnKvq4Ou0uCUvd6H5qJRHIFQIkLHMFu3or9Tuags7DuVNg9q4yQadWBuqtmKwTASKQ6wSyIywbM3tXXr1wlpFU3MPRuTauB1/jJmrhXWxsLFatWoNIZsSrTt3aGDJkkBa2Unub1L2bF/bv2cWb0mxd0QEXLp1D4cKFtbfxCrSs64iv8D0iWxJjwIRY+LLnPj4NoTWWCmCkokSACChAgISlArDEUnTSwmTMXc1dtP/ovBnKl/nxZ6RYWkR+EgEikF0CPxOW4eERaN64Cd68iuGZNDbLA78AfzRv3pSXRwlEQCgE7G0ryZ3OnMa8KvEeOw7zF8wViqu56sf8NcmYMJ/7WyBs4V0UmddL6hcF75GioAsiQARUQICEpQogCs2ER9+vOHZO9paSAvcIrYfIHyKgPgI/E5anTp1BO/dWSEvh/uBkPWJ/mM9ZtBijRo9Un4NkmQjkgMCrV7GoVaMmYqOj5Fpp7dkZfvv2yM3TtUQ2gB8byC/jcXD4Hbjs7i1NImEpRUEXRIAIqIAACUsVQBSaiVJ1E/DipSxwj2RjZKH5Sf4QASKgegI/E5ZswJNG9RviVfRzXuXslhsBRw+hXj0XXh4lEAGhEKjs4Ign/9znucOul50ycxb+nDKJl6eLCa/i0lCsJjfegk+b2/C62leKg4SlFAVdEAEioAICJCxVAFFIJmLfpKGoM/eLxLuPIZZONRaSm+QLESACaiLwM2HJVtvGoz1OHTvM/AyXvYBiRyvrMILz/MUzavKMzBIB1RAY9ccYrF+9Gt+SEjkG7RyrI/hmEAwNDTnpunxTknnRHJ3hRfPwqrcw7UU/KRISllIUdEEEiIAKCJCwVAFEIZk4czUFTXtwp75smGeMfl3oi1ZI/US+EAF1EciOsGTr7tihE+6GhuL9u7dMVFhL2DJRYQMO7ocpE2FTDMezZ8/w/PkLlClTGqVLl8oVl8eNnYDTp04jPj4eFhaW6PFbd3iPHJErvuhapSOGe+PUyVN48zoWZubmKFPWGhs2rUfFirYaR/HmzRv8888DWFkVgp1dRY3Xn1WF7F6W7J6WksOj4E1s0esvuQUJSykKuiACREAFBEhYqgCikEws3/IN3jOSOC4F+ZuidjUmHBwdRIAIaD2B7ApLFsTnz1/ATo0tUeIXFCxYUBRsPn/+jPZtO+JhRES6qChUpAgq2jvg8JEAjYrijh074ai/PxOZNFXKLY9FfvTs2xc+SxZJ0+hCvQTCmH1Y8+e3ZD7DJdRbUSbWO3l2wc2QEMTG/A/5mBc0ZW3KY/OWjYIRmOPmJmPhOtl66npGIQiwGCBtDQlLKQq6IAJEQAUESFiqAKKQTAyanIR1u75xXPocZo485pwkuiECREBLCSgiLMWIoKFbYwRdOs9M3JUd7DRelwaNcfb8KVmiGq/u3LmL1u4eiIuJ5tVSysYWt0JvIm/ePLw8StAuAl279ID/3j28bU/sq1ZnPgMhgmjs1v3f0HuM7GUzCUtBdAs5QQS0lgAJSy3rWrfOibgULHuDblNaD48vmGlZK6k5RIAIZEZAm4VlcHAI2rRshQ9v43jNL2BVFMdOBaJaNUdenqoTFi5cjCnjxnHWqErqMDI1w9GTgahf31WSRGctJJCYmAjHSlUR9fQRr3VsEKFFy1dgxIihvDxNJ4TcTUXNdrK1qCQsNd0DVB8R0C0CJCy1rL8L10hA3FtZQI7WjQ1weKOJlrWSmkMEiEBmBLRZWG7atBVD+vXljRCxLNgf81t27Ua3bp0zQ6Oy9C2bt2IQM+VVP0PwI4lxiwJWCDx7ihG4VSVJdNZCAg8ePGSiKzfAu9ev5Lbut34DsH7DWrl5mkz8Eg/krcT857+DhKWEBJ2JABFQBwESluqgmks25YUWHzPQCAsnGuWSR1QtESACmiagzcLyxg1mxJLZg/NjpiOWJzQi6BISEuBcvRaeRoTxurdKjVq4ERLES6cE7SLw0xHLZcsx4vdhamk0GywoJJiZbp0vb7a2BipXPwH/vvj+wpmEpVq6hIwSASLwHwESllr0Ubh0IxVuXWRTXtimUURYLepgagoRyAYBbRaWbPMbMGssr8tZY1m3QSOcO386G4RUU8TP7wCmTJ6MyEcP06fEsus8K1Z2xOatm1C9upNqKiErgibQpXN3BPj58kau7ZltT27dUc8ay759BuDCuXN48SwyPVhVGZsKmD5zGjp2bJ8pq4yRYUlYZoqJMogAEVABARKWKoAoFBMbfb+h/wTZIn3Wr4t7TVG/JkWEFUofkR9EQN0EcltYvngRjeHDRiAy8hn09fRgW7EiNm1eD3NmSwhVHB8/fkSHdr/i0YN/EBcbCysmKqwtExX20GF/ldWRXT9fvYrFsqXL8fTpv+kjpaPH/AEjI5ohkl1+2lDOs2Nn3L4Zgpf/i2a27ckPayYq7MbNG+DgYK/y5k2a+CeW+yxGShJ3S7GS1hVw5PjhTLdaYSPFsxHj2YOEpcq7hQwSASKQgQAJywwwxH45YX4y5q+RhRVn2/My2AxFrTLGTxR7K8l/IkAEsiKQm8Ly+fPnaN2qLR6F3ZW6yI7kValRE1euXoSxsbE0PacXrJh7/jwqfR9La+uyOTVHzxMBpQnExr5m9rGMSN/HslIlB6Xt/OxBp6o1EHH3Nq8YO8nVs9tv2LlrGy+PTVi17RuGT/v+0pmEpVxElEgEiICKCJCwVBFIIZj5dehX7D8u2wg5v4Ue3t2hiLBC6BvygQhoioAmhSUbHfXYkWNISk5GhQoV8PJlDC6cPMFrKisuvfr1F0QwE55zlEAERELA1qai3Ci0rPuuTZrj1Gn+vz02L/BiClr2+j7KScKSJUIHESAC6iJAwlJdZHPBrpNHIkLDZVuN1Kiij5BDprngCVVJBIhAbhHQlLBs2cID55htNfSZeKzswYpHA9M8SEn8wlzJIlNLOFSv44or1y5KbulMBIiAggRqONVCuJz9Mdl/e917902fci7P5JNnaSjfMCE9i4SlPEKURgSIgKoIkLBUFUkB2LF0TMDHT7IfdJ09DOC7krYaEUDXkAtEQGMENCEs/169FmNHjkRKMnetF9vIZBjACLKZE5KG16rfEBcunpXc0pkIEAEFCSyYvwgL58zB54/vOU9a29oj8HQgSpUqyUmX3KQxPwsMbeKRypxJWEqo0JkIEAF1ECBhqQ6quWDzNbN3ZRFmD8uMx/jBRpg3ngJJZGRC10RA2wloQli2cm+DcyeOykX5jRGWhj8IyzQ9A0ybPRsTJ42X+wwlEgEikD0CEyZMxkH/AMTG/A/GJiYoWboslizzgaurS5YG2BFLduSShGWWmCiTCBCBHBIgYZlDgEJ5PPhuKmq14241suYvYwzqbigUF8kPIkAENEAgt4WloVk+JCV8kU6RNTHPg3rMViBHjx3SQOupCiKgGwRCQ++kR0G2ta2QrQY3++0rTl9JIWGZLVpUiAgQAWUJkLBUlpzAntvHBO3pxATvyXgc32KClg0MMibRNREgAlpOQBPCcs2adRjj7c3b9oBF69a0BTp07IDjx45D38AAXbt1QZcunbScOjWPCAibALsVGbslGY1YCrufyDsiIHYCJCzF3oP/+e+z8RtGz+buYRl+yhT25WkPSy3pYmoGEcgWAU0IS9YR95at04P36KV9X0/JBhCxq1IVAYf8UbZsmWz5SoWIABHQDIFZy5MxdUkyCUvN4KZaiIDOEiBhqSVd/8esJCzd9H0DZEmTPoWZI69q9iSXmKQzESACAiegKWHJYvBZvBRHDh9BUlIyKtrZwmfJYlhaWgicELlHBHSPwJZ939BnbBIJS93remoxEdAoARKWGsWtvso6DfuKfcdkkRgL5ddD3G3aw1J9xMkyERAmAU0KS2ESyL5Xs2fPgf/+AHz69BF58uRF02ZNsHDR/OwboJJEQCQEzjDrK5sy6yxpKqxIOozcJAIiJUDCUqQd96PbLp6JuHZLtoelo50+7hynPSx/5ET3REDbCZCwzF4PD+g/GHt37UwPNCR5IpUJOdTW81f47dsjSaIzEdAKAg+epsKuSSIJS63oTWoEERAuARKWwu0bhTwr65qAZ9HMJlX/He4NDXBsM+1hKeFBZyKgKwTELCyXLFmGfXv3Iz7+CwoWLITJUyaiceNGKu+6169fo24tF0RHPuHZLlK8FE4wewLa29vx8iiBCIiVwKcvgEXleBKWYu1A8psIiIQACUuRdNTP3DS2jUdysqxUv86G2DDfWJZAV0SACOgEAbEKy25de+DYwYNISoyX9lOREqUwfuJEDB02WJqmiosTJ06ig0drIJW7Lp21ncoEIVqyajWGDh2kiqp+auPx4yfYv+8AUlJS0L5DOzg42P/0GSpABJQhYOmYgCqJwQiwGCB93HLTHhg5Oknv6YIIEAEikBMCJCxzQk8gz8a9TUPhGgkcbyYPN8Ls0UacNLohAkRA+wmIUVjevh2Kth5tERfzgtdB5R2q4F7YHV56ThKCgm6gdYuW+PLxPc9Mmp4BdvrthadnB16eqhMGDRyKwOPH8fLF83TTRYqXgKubG3bt3qHqqsgeEUifCmsVdYOEJX0WiAARUBsBEpZqQ6s5w2EPU1G5RSKnwhUzjDG8pyEnjW6IABHQfgJiFJZTp07HglmzmLFC2XR+SU/lK1AIJ8+eRrVqVSVJKjk7V6+NsNvBPFsVKjni7v1QXrqqEzZv3oZxf4zC5w9vOaaNTM0wadp0TJgwlpOuzpu7d+/jwYMHKF++PJycVMtZnX6TbcUINOyaiG+3SFgqRo1KEwEioAgBEpaK0BJo2bPXUtCk+1eOd3tXmqCThwEnjW6IABHQfgJiFJbz5i7A9EkT5QrLAoWL4vT5sz+dIrrEZzkuXLgAMzNTDBk6BG5urll2dnBwCPr1HYAH9+8yIXvSmP/poVxFByxbsRTNmOiw6j4aNWiCoIvn5FZTrbYLrgVdlpunysR3796hfTtPPPwnHG/jXiN/gYKoYGcPX789KFGiuCqrIlsCINB5+Ff87+R1GrEUQF+QC0RAWwmQsNSCnvU9koKuI7jC8txuUzSso68FraMmEAEioAgBMQrLZ8+eo0nDJnKD6VSuXhPBN69niuDTp89o3rQFbt0ISheIbMECVkXRtGVLbNu+OdPn2IxkZmH60qXLcSf0LuzsKmLE78M1tg9n7Zp1cTdEfrvsqjjh9t2bWfquiswG9RvhxuULPFNOtevhatAlXjoliJvA8GlJCN0dxBGW+TbsgUk1WmMp7p4l74mAcAiQsBROXyjtyapt38B+YWQ87p80RaUKJCwzMqFrIqALBMQoLNl+mTXzL2xcvx6v/ltv+H0E0R7rNqyDq6tLpl3Xtk0HnDxyiDfaaVmoMDZu3QIPD/dMn83NDHakMPCQv1wX6jNC+eSp43LzVJUYyohp92bN8T4ulmfSPJ8lAo4eQf369Xh5lCBeAjOWJePUqmscYZnqsxtF3KqLt1HkOREgAoIiQMJSUN2hnDPsl8X0pRlCwjJmXgaboaiVnnIG6SkiQARES0CswpIFfvPmLSycvxjv3r1FOZtymD5jGooWLZJlX9hXrIzIh+Fyy7Ro2wEBB/fLzcvtxIcPH6Ft63Z49iiC40pJ6/LY5bsbNWvW4KSr+ubAgQB08/SUjvJmtM9Gxl3+9xoMGiyLHpoxn65VT+DJk6cYN3YCol9EM9O5zdCpy69MZGLVRkNmX0Lvnn2VIyzfzdiFCh7q/aypnhZZJAJEQKgESFgKtWcU8Mt7RhKWb+GGzU9+ZA5Dit2jAEUqSgS0g4CywjIpKQlHjhxjRN17NGzoBhtG2InhsC1fEVFPHsl1tVELDxw7cVhunhASQ0JuYqT3KMREv0AaE7eo6C+/YN78uWjQoL7a3YuIeIBmjZoi7mU0ry52tPfw8aOMuHXm5VGC6glcvRqEvr37cl4ysEGcmrl7YP+BvSqrcPfhFKwafYUjLCPH7oJzFxKWKoNMhoiAjhMgYakFHwCvUUnY4S8Tlhb59PDhrpkWtIyaQASIgKIElBGW69ZtwFKfJXjy4PvoWbESJVGrTl347dujaPUaL1+/XgOEXOWvB2RH3abPmYOJE8dr3CdFK/z69StSU1PTR6oUfTYn5Vsywvv8yROcacTsFGSXho1x9typnJimZxUgUJdZ0xp64xrvCYuCVti11xdNmjTi5SmTEHgxBbP6c4XlvcE70ag/vUBQhic9QwSIAJ8ACUs+E9GltOn3FUfOpkj9LlNCD5GXSVhKgdAFEdAhAooKyzt37qJDu46IefaUQ4kVZgOHDceKlcs46UK7uXr1Gnp79UbUU9moJSuOarq44tIVfmAaofmf2/6wa1TD7t3De2b6sWX+ArBzcMBBZu2nkVH2p7zcuBGCCeMm4tXLGBgwU2VsbStiKxM4KU8ec7U279OnT7h/Pxz581vC3t5OrXWpy/ibN2/g7OSMl1HP5FbR2asXtm7LOgiV3AflJN64k4pRnS5zRiyveu1EW28SlnJwURIRIAJKECBhqQQ0oT1Sv1MiLoekSt2qaq+P0GOm0nu6IAJEQHcIKCosu3bpjoN75Y9M2lauijv3bgse3u3boenr017GvEwXRI5Vq2LL1o2C91soDn748AGRkc9RsmQJFCpUUCG32GmcvRjx8+IHYV/VuTauB19VyJYihXt69cHVK1cQGxONPHnzobR1OaxZu5rZh7OaImZyvezbt+/gXK0GYqIi5frSpWcflX2WH/6bhr4tLnGE5UnPneg+kYSlXPiUSASIgMIESFgqjEx4Dzi6J+JehExYutXSxwVfEpbC6ynyiAion4CiwrJZU3dcPhMo17FS5Srg4ZMHcvMokQiwBNyYLUuC5WxZwo4ae48bj/nz56gc1OBBw7B53Vom8JDse4+tpEIlR1y7foUZKc2j8jrVabCeixtuXbvMq4Ldw3XPvr3MnqyqWXP7Ki4Nni5cYenvvgMDZtXk1U0JRIAIEAFlCJCwVIaawJ6xrp+AyBdM5If/jtaNDXB4o4nkls5EgAjoEAFFhSX7I33LujWMDJD9DZHg+tkekpJydNZdAva2Doj8IbKthEa9xs1wOpOXFpIyypwr2VfG0wh+JGBWzI6bMhUzZ05TxmyuPXPr1m149eiJJxFhTAu+H3ks8jPBe1ph954dKvMrIRFo5niRM2K5o+EOjFxEwlJlkMkQEdBxAiQsteADYFU9AW/eyX4UdmtrgF3LSFhqQddSE4iAwgQUFZZxcXFo1KAJHoff49SV36oIpsyYrvItDziV0I3oCVSpVJX32ZE0qkmrNjhy9KDkViXnV69iUatGTcRGR8m119qzsyiCTv3ofAwzjZvdbuRZZCTMzM3Ru08vdOvW5cdiOb5vYH8R+/PItpFZV3s7Jq2qlWO7ZIAIEAEiwBIgYakFnwPTivH4miRryICuhlg311iWQFdEgAjoDAFFhSULhg3gM3TIcEQ/f47k5CQUKlwEXr28MHbsaJ3hRg1VjkCXzswaXT9f3og3G9F03aaNaNeujXKGs3jKwa4y/n0gf8Ry9KTJ+OuvmVk8rdtZLatdwg7D/lIIy6tux8yNJCylQOhCVASeM99ZQUFBaNasGQoUKCAq37XVWRKWIu/Zb0wwWKPy8ZxWjOxriCVTSFhyoNANEdARAsoISwma2NjXSEiIR5kyZSRJdCYCPyXQwK0xgq9dQdq35PSyhYoWR7OWLbF5y4afPqtMgX59B2LH5o3MGkvZTB3WTnmHKrjMbD1jaWmhjFmFnlm96m+cO3ce+fJZYOiwwXB2FsdekO3rXMKGbzJhOd9uGxbuqK1Q26kwERASgeXLl2P06NGoXbs2mjZtCg8PD+bfozP09CQTy4Xkrfb7QsJS5H388XMaLKskcFoxaagR/hprxEmjGyJABHSDQE6EpW4Qolaqg8DOHbtx5MjR9C1GBgwcwPzIU++6va5deiD4ehD+FxWFvIy4K2tjg5WrV6q93g8fPqJlc3fcuhEkFbaFi5dE2/YdsHKVsLfmYfu9q9slrIyXCcsZ1tuwwo+EpTr+TZBNzRFgxeXIkSORlvb9ZVPhwoXTBaa7uzuNZmquG9JrImGpYeCqro6N8lasJldYzhplhD9HkLBUNWuyRwTEQICEpRh6iXxUBYG4uDfMPpZh6ftYVqtWVRUmf2rDo1VbnDl+RBpkR/KAVbHi2LXXF/Xr15MkCfLcs+ll+LzvJ/VtUomtWHewjvSeLoiAWAn4+Pikj1z+6L8hs7cuO5rJikz2/05OTjSa+SMkFd6TsFQhzNww9Tw6DWVcucJy4UQjjBlIwjI3+oPqJAK5TYCEZW73ANWvzQQqVrDH88fyt+Bp16kr9uzdJejm93e/jHmvZcJyTJGt2HKMhKWgO42cyzYBduTS29s7y/LFihVDS2aqPo1mZolJ6UwSlkqjE8aDj5gNj20bc4Xl8mnGGNHbUBgOkhdEgAholAAJS43ipsp0iEBiYiIqMYGD/vfsqdxWN2/dHgcPH5CbJ5TEoW0uY2aMTFh6F9iKnadIWAqlf8iPnBP4cVpsVhZpNDMrOsrlkbBUjptgngp7mIrKLZjNqTIca/4yxqDuJCwzIKFLIqAzBEhY6kxXU0NzgUCdWvVwJ/gar+ZUZsXlfGYq3sg/fuflCSnh946XMfW5TFgOzbcVe8+RsBRSH5EvOSegiLjMWBuNZmakodw1CUvluAnmqdDwVDh5cIXlxvnG6NuZhKVgOokcIQIaJEDCUoOwqSqdIxAYeApDBw3hjFqmMSsua9Wrj4uXzwuex6hOlzHpX5mwHGi+FQcukrAUfMeRgwoTUFZcSiqi0UwJCcXOJCwV4yW40iF3U1GzHVdYbl1sjJ4dSVgKrrPIISKgAQIkLDUAmarQaQKXL1/FlMlTEBsbCyMjI1RxdMT2HVtEwWRs18sY/1gmLPuZbMXBKyQsRdF55KTCBHIqLjNWSKOZGWlkfq0XGBjI3Qgq87KUI0ACEU/S4D0jiePZ+MGGaOxiwEmjGyJABHSDQEr0C0TO+hND/41BXgN9bCpXHHrm5rrReGolESACWRJIi+fue73YcAxmLrXP8hnKJAJiJhAQEIA1a9ZItyJRRVsMDAxgbW2NSpUqYerUqRRpNgNUdvdQEpYZgNAlESACRIAIEAEiQASIABEgAkQgOwQko5lsRNpq1apl5xGtLaPn4uJCwlLE3fvpM3DvQSqnBbbWerAqyL4zoIMIEAGdI5CWiviw+wj9+BmGenpwymOqcwiowUSACPycQEqaAcL17VG9Cm1P9nNaVEKsBJKTkxEWFob4H0brVdWetm3bpm9dwm5hUrZsWVWZFa0dWmMp2q777viVm6lw/ZW7xnLPChN0aU1TYUXeteQ+EVCaQOTNYFg710IBZgps1JxpStuhB4kAEdAuAodOpeDhv6n4nJYHfkmtkGxVCtFBZtrVSGoNEfiPwKtXr9C4cWOEh4erjIm9vX26kGT3waxfvz5MTExUZlsbDP0fAAD///fdsiUAAEAASURBVO3dCbxU8//H8c/M3Jl7yxKRPdlKlpJsWUIRURElshRlSyREKkWWipBKIYlsWZNUSJRQkazZ9+xLdnWXWf7fc/v3u/fcmTt3ljMz3+85r/N43J87yznn+31+5tfc9znn+z2+mFqExViBJSuicnD3Ulv7Z0wollO6BGzP8QABBLwjsGrVKmnSpIk0bNhQVq9e7Z2O01MEEEgq0K1fmcx8LvK/92y7pU++W1bvf4/5BQG3CPz888/Svn17+fDDD7Pq0oYbbli5nY4dO8oxxxwjO+ywQ1bbc/vKPoKl2SVe9nZUDjzRHiwfui0kpx5fZHbHaD0CCGQsQLDMmI4VEXC1wAnnlcms+VXBsvHWPlm1hGDp6qJ7sHPZhsrddtutMkRaQbJt27ZSXFzsQcXMukywzMxNm7WWvxuV/bvag+X9t4bkjBMIltoUiYYgkGcBgmWewdkdAoYIHH9OmcxeUBUsm2zrk69fJVgaUj6amYJAJqGSs5IpwKb4FoJlilC6vu2tlVHZp4s9WE4bG5KzuhMsda0Z7UIg1wIEy1wLs30EzBTo1KdM5i2sCpY7N/HJ54sIlmZWk1bXFEgnVHJWsqaeM48Jls44Fmwr738SlZYd7cFyyqiQnNOTYFmworBjBAosQLAscAHYPQKaChx1Rpm88GpVsGy+s18+WlCiaWtpFgKpC3z//fey3Xbb1boCZyVrpXH0BYKlo5z539jHX0RltyPtwfL2kSHp34tgmf9qsEcE9BAgWOpRB1qBgG4Ch59SKi+/Hv1fs1o098t7zxIs/wfCL0YKWGcq27VrJx999JGt/ZyVtHHk5QHBMi/MudvJV9/GZKdD19p2cMtVIbm0L8HShsIDBDwkQLD0ULHpKgJpCBzUrVSWvlUVLPdt4ZflswmWaRDyVs0Eal7+usUWW8jIkSPFmsWVGVzzXyyCZf7NHd3jj7/EZJsD7MFy1OVBGXJB0NH9sDEEEDBHgGBpTq1oKQL5FGjduVTe/qAqWB68r19efZxgmc8asC/nBKxQ2b9//8rbazGDq3Ou2WyJYJmNngbr/vFXTBq2sgfL4RcF5dpLCZYalIcmIFAQAYJlQdjZKQLaC1hDZ6whNOuXIw8OyAsPciuF9R781yyBsrIybgWiWckIlpoVJN3mlJaJ1Gu+xrbaZecE5eahBEsbCg8Q8JAAwdJDxaarCKQhsMMha+Wb72P/W6PLkQGZfTfB8n8g/IIAAlkJECyz4tNj5aJd1kikapI36Xd6kUy+LqRH42gFAgjkXYBgmXdydoiAEQKN9lkrv/1eFSxP6RKQGRMIlkYUj0YiYIAAwdKAItXVxE1arpW//qn6ojjjhCK5/1aCZV1uvI6AWwUIlm6tLP1CIDuB+rutkbXVJpLve3KRTB3D3wvZqbI2AgisFyBYrpcw+L/bHbhWvv+pKliecFRAZt7FEUiDS0rTEchKgGCZFR8rI+BKgXBYJNjUPnTm4rOK5LYRBEtXFpxOIVAAAYJlAdCd3mXNwfhHqMH4CxiM7zQz20PAGAGCpTGloqEI5E3g9z9jstneTPaXN3B2hIAHBQiWLih6mxNK5fV3qmZ526+lX954munDXVBauoBARgIEy4zYWAkBVwt8/V1MdmxrD5Zj1UR/g9SEfywIIICAEwIESycUC7yNo3uVyfxXqmbvabqDTz5dWK/ArWL3CCBQKAGCZaHk2S8C+gq882FU9u5UbYClauqU0SE555QifRtNyxBAwCgBgqVR5Urc2JMvLJPH5lYFy0YNffLLCoJlYi2eRcD9AgRL99eYHiKQrsCiZRFp11Pdo6za8vikYul+bKDaM/yKAAIIZC5AsMzcTps1zx9WLnc9rEbl//8SUN8R4c/rr3/IfxFAwGMCBEuPFZzuIpCCwMznItKtnz1YWvMxWPMysCCAAAJOCBAsnVAs8DaGjq2Q0ZMrbK344916ssnGPttzPEAAAW8IECy9UWd6iUA6AlMfCcs5Q8ptq7w1p0T23sNve44HCCCAQKYCBMtM5TRa75apYRl0g/3L4vNF9WTnJgRLjcpEUxDImwDBMm/U7AgBYwTG3FEhQ26yH4T+5rV6sv02/K1gTBFpKAKaCxAsNS9QKs27/8mw9B5kD5ZLZ5ZIm705CpmKH+9BwG0CBEu3VZT+IJC9gHUA2joQXX3578P6Up8pGaqT8DsCCGQhQLDMAk+XVZ9dFJFjz7KPm5h9d7F0OZJxE7rUiHYgkE8BgmU+tdkXAmYI9LqsXB6YWRUsN1RTMfzzAfMxmFE9WomAGQIESzPqlLSVK96Pyr7H2acQv3tMSM4+mSnEk8LxIgIuFSBYurSwdAuBLAQ69i6T5xdXzSC/0/Y++eJlTldmQcqqCCBQQ4BgWQPExIff/hiT7Q+y3/T4+suCMuxCbnpsYj1pMwLZChAssxVkfQTcJ2Ddw9K6l+X65cDWflnyZMn6h/wXAQQQyFqAYJk1YeE3UKGubAk1XWNryIW9imTiyJDtOR4ggIA3BAiW3qgzvUQgHYGt9lsrP/8W+98qJxwdkJl3Fv/vMb8ggAAC2QoQLLMV1GT9LfZdK7+urvrCOLFjQJ68gy8MTcpDMxDIqwDBMq/c7AwB7QUi6grYol3sB6AvOL1IJl3HAWjti0cDETBIgGBpULGSNbXVsaXy7kdVl7hYM8JaM8OyIICA9wQIlt6rOT1GIJnAqh9i0uRghswkM+I1BBDIXoBgmb2hFlvo1KdM5i2sGpTfeGufrFrCoHwtikMjEMizAMEyz+DsDgHNBZa+FZWDutkn+Zt2U0jOOolJ/jQvHc1DwCgBgqVR5aq9secNLZcpM6qmEbfeGf2yvvi473HtaLyCgEsFCJYuLSzdQiBDgcfnRqTHhfbbks1/oFg6HMJtyTIkZTUEEEggQLBMgGLiU9dPrJDht1bYmv7Nq/Vk+21JljYUHiDgAQGCpQeKTBcRSEPglqlhGXRDuW2NjxaUSPOd/bbneIAAAghkI0CwzEZPo3WnPxmWMwfZvzQWP1YibffjS0OjMtEUBPIiQLDMCzM7QcAYgYtHlsuE++xXNf33YX2pz4gZY2pIQxEwQYBgaUKVUmjjomURadfTfpnLA+NCcnpXxk+kwMdbEHCVAMHSVeWkMwhkLdD13DJ5+oWqeRi22MwnP79Jqswalg0ggIBNgGBp4zD3wdffxWTHtvYZ3667NChXXRQ0t1O0HAEEMhIgWGbExkoIuFag5szx++/ll9dnMXO8awtOxxAokADBskDwudhtYOc1Eq2644j0UbO93aNmfWNBAAFvCRAsvVVveotAXQINWqyVv/+tutd1j84BeXQi97quy43XEUAgPQGCZXpeWr+76eFr5fNvqr44Dm/jl4UzOCKpddFoHAI5ECBY5gCVTSJgqMDPv8Vkq/3sVzRd2S8oo6/giiZDS0qzEdBWgGCpbWnSb1jH3mXy/OKqMRTbqXtZfsu9LNOHZA0EDBcgWBpeQJqPgIMCS1ZE5eDu9ntYThkdknNOYQ4GB5nZFAIIKAGCpYs+Bv1HlMvkB5j1zUUlpSsIZCRAsMyIjZUQcKXA/TPD0vsy+6zxLz1cLO0O5B6Wriw4nUKggAIEywLiO73r26aF5ZLr7F8e78wrkb1245YjTluzPQR0FiBY6lwd2oZAfgWG31Ih199uv8/1KnU1U2N1VRMLAggg4KQAwdJJzQJva+5LEenc137LkcduL5aTOnFUssClYfcI5FWAYJlXbnaGgNYCJ19YJo/NrRoms0F9kX8/UP/DggACCDgsQLB0GLSQm/vs65g0a2cfoH+tuuXIcG45UsiysG8E8i5AsMw7OTtEQFuBmrcaab2nX1Y8w8R+2haMhiFgsADB0uDiJWp6cbM1Ul7tipdTjy+Sh27jliOJrHgOAbcKECzdWln6hUD6AiW7rpGyaqNkeh5XJA+P5++C9CVZAwEE6hIgWNYlZNjrex1TKu99XHUzy7338MtbczgyaVgZaS4CWQkQLLPiY2UEXCPw6Vcx2bV9jSuZLlFXMg3gViOuKTIdQUAjAYKlRsVwoimnXFQmj86pGktRou5/vPZjxlI4Ycs2EDBFgGBpSqVoJwK5FZg1PyInnGefe+HxScXS/VjmXsitPFtHwJsCBEuX1f26CRUyYly1a2FV/z5+sUR23YmZYV1WarqDQK0CBMtaaXgBAU8J3DCpQq662f43wQfzS2T3pvxN4KkPAp1FIE8CBMs8QedrNzOfi0i3fvajk09MLpZux3B0Ml81YD8IFFqAYFnoCrB/BPQQ6DmgTB55puoqpmCRSPlnXMWkR3VoBQLuEyBYuqymicZTXH1xUK4ZyHgKl5Wa7iBQqwDBslYaXkDAUwItji6VlZ8y74Knik5nESigAMGygPi52vWGe6yR/9ZUbf2EowMy80412JIFAQQ8IUCw9ESZ6SQCSQWsmWCtGWGrL726Fcn0m5kRtroJvyOAgHMCBEvnLLXZ0kHdSmXpW1VHKHfa3idfvFxPm/bREAQQyK0AwTK3vmwdARMElr8blf27ltqaevOwkFx2troelgUBBBDIgQDBMgeohd5kv6vK5c6HwrZmrH67njTcxGd7jgcIIOBOAYKlO+tKrxBIR+DuGWE5d2i1G1iqlRc8WCxHHMycC+k48l4EEEhdgGCZupUx77zr4bCcP4wvE2MKRkMRcFiAYOkwKJtDwECBC4aXyx0P2g8y//pWPdl8Uw4yG1hOmoyAEQIESyPKlF4j31CXvxxQ4/KXm4YE5fJzmcAnPUnejYCZAgRLM+tGqxFwUqDNCaXy+jsMi3HSlG0hgEByAYJlch8jXw2rmcVDTddILFbV/JM7B+SRiUzgUyXCbwi4V4Bg6d7a0jMEUhGwvv9DzdZIuNoJy+7HBuTxSfwdkIof70EAgcwECJaZuWm/1n7Hl8qb71Udqdy5iU8+X8QEPtoXjgYi4IAAwdIBRDaBgMECy9X3//7q74Dqy+grgnJlP65cqm7C7wgg4KwAwdJZT222lmgCn5+W15MtN2dshTZFoiEI5EiAYJkjWDaLgCECk9XYyv5qjGX15QU1cc+RTNxTnYTfEUDAYQGCpcOgumxu2mNh6TvY/qUye2qxdDmC2eB0qRHtQCBXAgTLXMmyXQTMEDhzULlMf7LadbCq2X++V08abMTBZTMqSCsRMFOAYGlm3eps9cpPotKio/0ymGEXBuX6y7gMpk483oCA4QIES8MLSPMRyFJg9w6l8tHnVcNh9tzVL+8/V5LlVlkdAQQQSC5AsEzuY/Srm+61Vv78u2oGH+sSGOtSGBYEEHC3AMHS3fWldwgkE/j195hssc9a21v6nlwkU8eEbM/xAAEEEHBagGDptKhG2zvmzDJ57mU1Rez/LxvUF/n3A/U/LAgg4GoBgqWry0vnEEgqMHtBRI4/p8z2nrtHh+TsU4psz/EAAQQQcFqAYOm0qEbbu3ZChVw9rsLWojeeLpH9Wvptz/EAAQTcJUCwdFc96Q0C6QhceWOF3Hin/bv//edLZM9mfPen48h7EUAgfQGCZfpmxqyx4NWIdDjDftRy3PCQDOzDUUtjikhDEchAgGCZARqrIOASgUN7lMory6vGVzZq6JNfVnC7MZeUl24goLUAwVLr8mTXuDVqiMUGu6+xbaT7MeoGyZMZZ2lD4QECLhMgWLqsoHQHgRQFytWJypJd10isanoFOb5DQGZN4Xs/RULehgACWQgQLLPAM2HVg7qVytK3qo5cWvextO5nyYIAAu4VIFi6t7b0DIFkAi8uiciRp9mvVBo7NCiDzmFG+GRuvIYAAs4IECydcdR2K1eMqZCxd9nHWrz7bIm0bM5YC22LRsMQyFKAYJklIKsjYKjANbdVyMjx9u/8ZU+VyAGt+M43tKQ0GwGjBAiWRpUr/cbOeTEiXc62H72ccE1ILurNOMv0NVkDATMECJZm1IlWIuC0QLueZbJoWdVs8Btv6JO/3ucqJaed2R4CCCQWIFgmdnHNs3//G5MGLez3s+rWMSBP3MF4C9cUmY4gUEOAYFkDhIcIeECgVB1Drt9cja+s1tfORwTkmal831cj4VcEEMihAMEyh7i6bPpgNc5ySbVxlg038cnqtzmCqUt9aAcCTgsQLJ0WZXsI6C9g3bfaun919eVmNb7yMsZXVifhdwQQyKEAwTKHuLpsetjNFTJqkn3MxdKZJdJmb8Zc6FIj2oGAkwIESyc12RYCZghcMVrNqTDF/l3/5uwS2acF3/VmVJBWImC+AMHS/BrW2YMFr6n7WZ5uP4p5/aCgDOvPLHF14vEGBAwUIFgaWDSajECWAvt2KZUVK5kFPktGVkcAgSwECJZZ4JmyqnU/q/q7rRFr/MX6pd2BAXnpYcZdrPfgvwi4SYBg6aZq0hcE6hb44eeYbNvGPp9Cz+OK5OHxobpX5h0IIICAQwIES4cgdd9M575lMvelqpnirPb+vbKebLSBT/em0z4EEEhTgGCZJhhvR8BwgfufDEvvQeW2XtxzY0j69GAGeBsKDxBAIKcCBMuc8uqz8dumheWS6+xfOk+qmWFPVDPEsiCAgLsECJbuqie9QaAugdMvKZeHZoVtb/vmtXqy/TYcPLah8AABBHIqQLDMKa8+G//gs6jseVSprUHn9iySu0ZxmYwNhQcIuECAYOmCItIFBNIQ2GKftfLr71U3Gtl7D7+8NackjS3wVgQQQCB7AYJl9obGbKFZ+7Xy2VdVXzxNtvXJ169y2xFjCkhDEUhRgGCZIhRvQ8AFAq8sj8qhPewHjgefH5Qxg5mgzwXlpQsIGCVAsDSqXNk1dsA15TJxuv1SmeVPl8i+LZmKPDtZ1kZALwGCpV71oDUI5FJg2Fh1S7HJ9tuMWJPzWZP0sSCAAAL5FCBY5lO7wPuatzAinfpUmxpWtWfkJUEZMYCjmgUuDbtHwFEBgqWjnGwMAa0F9u5UKu98WHWbkYYNfLL6Ha5G0rpoNA4BlwoQLF1a2ETdsm47suHua2RNtStmDmjll2VPMQ4jkRfPIWCqAMHS1MrRbgTSE/js65g0a2e/zchpxxfJg7cxf0J6krwbAQScECBYOqFo0DZOuqBMnnjWftuRr16pJztsx8xxBpWRpiKQVIBgmZSHFxFwjcA4NeP7pTVmfH9IhcpTVbhkQQABBPItQLDMt3iB93ffE2E563L7bUcmjgzJhb34Eipwadg9Ao4JECwdo2RDCGgtcMRpZfLSEvvB4j/fqycNNuJgsdaFo3EIuFSAYOnSwtbWrd/UdOSN1LTk1Zej2gbk+fuLqz/F7wggYLAAwdLg4tF0BFIU+Pm3mGy1n/37vONhAXn2Pr7PUyTkbQgg4LAAwdJhUBM21+GMMlnwqv0I5y8r6kmjhhzhNKF+tBGBugQIlnUJ8ToC5gtMmRGW84bar0CadG1ILjiDK5DMry49QMBMAYKlmXXLqtXWLUesW49UX+4eHZKzT+HLqLoJvyNgqgDB0tTK0W4EUhewZnm3Znuvvny7pJ5stzUHiaub8DsCCORPgGCZP2tt9rTqh5g0Odh++cyx7QIydxqXz2hTJBqCQBYCBMss8FgVAQMEVv8Rk81b27/HDzvAL4seYZZ3A8pHExFwrQDB0rWlTd6xw08plZdfr7rvlfXuX9XlsJtzOWxyOF5FwAABgqUBRaKJCGQhMPWRsJwzxH7l0bjhIRnYhyuPsmBlVQQQyFKAYJkloKmrj783LAOvtX8p3XVDSM49lS8lU2tKuxFYL0CwXC/BfxFwp8AxZ5bJcy/bL4P9+tV60mRbLoN1Z8XpFQJmCBAszaiT461MdDlsBzU77Hxmh3Xcmg0ikG8BgmW+xdkfAvkT+PGXmGxzgP0y2MPbBGThDIaz5K8K7AkBBBIJECwTqXjkuSPV/a9erHH/q1Vq4H9jBv575BNAN90qQLB0a2XpFwIiiSbgm3iNuh91b6444vOBAAKFFSBYFta/oHu/46GwXHCV/XLYW4aF5NKz+XIqaGHYOQJZChAsswRkdQQ0Fji0R6m8stw+R8IPr9eTrbfgMliNy0bTEPCEAMHSE2VO3Mnffo9Jo33sl9Mc0Movy55iVrnEYjyLgBkCBEsz6kQrEUhX4OMvorLbkaW21ZjV3cbBAwQQKKAAwbKA+Drs+oTzymTWfPsEAG/PLZFWu/t1aB5tQACBDAQIlhmgsQoCBgiMHF8h19xWYWvpfTeHpHc3rjSyofAAAQQKIkCwLAi7Pjt95JmI9BxQZmvQ4PODMmZw0PYcDxBAwBwBgqU5taKlCKQjYJ2ttM5arl+KQyJ/vldfSpi3Zz0J/0UAgQIKECwLiK/DrmMxkU33Wit//aN++f9l+2188s1r9dY/5L8IIGCYAMHSsILRXARSEHhpaUSOONV+INg6U2mdsWRBAAEEdBAgWOpQhQK3oZ+awOdONZFP9eWZqcXS+YhA9af4HQEEDBEgWBpSKJqJQBoCZ19ZLvc8av+ufva+Yul4GN/VaTDyVgQQyKEAwTKHuKZsevEbUTnsZPtkACd3CcgjE7i2xpQa0k4EqgsQLKtr8DsC5gusVV/RDVutkdJqJyx32t4nX7zM1UXmV5ceIOAeAYKle2qZVU9adiyV9z+pGrdhbeznN+vJFpsxfXlWsKyMQAEECJYFQGeXCORQ4O5HwnLuEPvtwa66KCjXXcp8CDlkZ9MIIJCmAMEyTTC3vv2mOytk8I32meZuVve0vIx7Wrq15PTLxQIESxcXl655UuBQdVXRK+rqourLxy+WyK47MYN7dRN+RwCBwgoQLAvrr83ef/g5Jtu2sd/TsmVzv7z7LPe01KZINASBFAUIlilC8TYEDBBYsTIq+3axD1c5qm1Anr+f4SoGlI8mIuApAYKlp8qdvLM9+pfJ4/Ps97Rc8GCxHHEwEwMkl+NVBPQSIFjqVQ9ag0A2AgNGlsvE++yT9jw4LiSndeXeldm4si4CCDgvQLB03tTYLc55KSJd+labGUD15HT1xfWA+gJjQQABcwQIlubUipYikEygQo1Q2az1Wvnn36pbgjVq6JNfVjBpTzI3XkMAgcIIECwL467tXndtv1Y+/arqC8xq6I9v1JOtGjGJj7ZFo2EI1BAgWNYA4SEChgpMeTgs5w2zT9oz6NygjB3CpD2GlpRmI+BqAYKlq8ubfudGT66QoWPtk/jcMCgoQ/vzJZa+JmsgUBgBgmVh3NkrAk4LtDmhVF5/xz5pz8r5JbJHUybtcdqa7SGAQPYCBMvsDV21hZ9+jcnW+9sn8eFeWa4qMZ3xgADB0gNFpouuF1i0LCLtetqHpxzbLiBzpzFpj+uLTwcRMFSAYGlo4XLZ7N6Xlcv9M+0TBTx6e7H06MQkPrl0Z9sIOCVAsHRKku0gUDiB0y8pl4dm2b+Ln5hcLN2O4bu4cFVhzwggkEyAYJlMx6OvLVb3yjpM3TOr+nKkmhn2BTVDLAsCCOgvQLDUv0a0EIFkAt98H5MdDrFfPbTLDj75bCGT9iRz4zUEECisAMGysP7a7v3g7qWyZIV9XMeyp0rkgFaM69C2aDQMgf8XIFjyUUDAbIFhN1fIqEn2+Q7GDA7K4POZ78DsytJ6BNwtQLB0d30z7t30J8Jy5uX2mejOOqlIpt3ErUcyRmVFBPIkQLDMEzS7QSAHAlF1THfLfdfKb39UzdAeUFe/WrcYadiAGdpzQM4mEUDAIQGCpUOQbtxM4wPXync/VX2xWX1ctaSeNN6aLzY31ps+uUeAYOmeWtIT7wlMfiAs/UfYD+z2O71IJl/HgV3vfRroMQJmCRAszapXXlt7/cQKGX6r/VKcIRcEZdTlXIqT10KwMwTSFCBYpgnG2xHQSKBFx1JZ+Yl9KMo780pkr90YiqJRmWgKAggkECBYJkDhqXUCv/0eky33WyvWZTnrl0029smPb9STEubxWU/CfxHQToBgqV1JaBACKQk8Pi8iPfrbbzFyfIeAzJrCl25KgLwJAQQKKkCwLCi//ju/8OpymXS/fbrzW4aF5NKzi/RvPC1EwKMCBEuPFp5uGy/QrmepLFpW7Wiu6tFz04vl6EO5xYjxxaUDCHhAgGDpgSJn08UPP4vKHkfZbz2yY2OffLmYKc+zcWVdBHIpQLDMpS7bRiA3Agtei0iH0+1nKw/axy+vPVGSmx2yVQQQQMBhAYKlw6Bu3FzPAWXyyDMRW9fuHhOSs0/mrKUNhQcIaCJAsNSkEDQDgTQEjj+3TGa/YP+ufei2kJx6PN+1aTDyVgQQKKAAwbKA+Kbs+rU3o3LISfazli2a++W9ZzmKakoNaae3BAiW3qo3vTVfYNnbUTnwRPv37O5N/fLBfL5nza8uPUDAOwIES+/UOquedupTJvMWciQ1K0RWRiBPAgTLPEGzGwQcEkh0ZdAd14fk/NM4W+kQMZtBAIE8CBAs84Dshl08vzgiHXvbx37s19IvbzzN0VQ31Jc+uEuAYOmuetIbdwu8/UFUWne2n63cfhuffPMacxm4u/L0DgH3CRAs3VfTnPWofc8yWbjMftby0duLpUcnZqvLGTobRiADAYJlBmisgkCBBHpdWi4PPMXs6wXiZ7cIIOCgAMHSQUy3b+ppNalAVzW5QPWlzd5+WTqTs5bVTfgdgUILECwLXQH2j0BqAu9+FJVWx9rPVm65uU++f72eBPypbYN3IYAAAroIECx1qYQh7Wjbo1ReXW6/xxZnLQ0pHs30jADB0jOlpqOGC/S6TJ2tnGk/WzlmcFAGnx80vGc0HwEEvChAsPRi1bPo81PPR+TE8+1nLffbS421nMVZyyxYWRUBRwUIlo5ysjEEciLw1sqo7NPFfray0WY++W5pPQmRK3NizkYRQCC3AgTL3Pq6cuuJzlo+OC4kp3Vl9jpXFpxOGSdAsDSuZDTYgwKJZoLlbKUHPwh0GQEXCRAsXVTMfHUl0VjLluq+lu9yX8t8lYD9IJBUgGCZlIcXESi4wJIVUTm4u/1s5VaNfPKtOltZxHx4Ba8PDUAAgcwECJaZuXl+rfanqhlil9pniJ0yKiTn9OSspec/HAAUXIBgWfAS0AAEkgpYE+FZB2mrL7cMC8mlZ/MdWt2E3xFAwCwBgqVZ9dKmtc+9HJFjzrSPtdxpe5988TL33dKmSDTEswIES8+Wno4bIJDovtA7bOeTr17h+9OA8tFEBBBIIkCwTILDS8kFOvctk7kv2Y+4jh0SlEHnMutAcjleRSC3AgTL3PqydQSyEWjXs1QWLbPPrj75+pD0O42zldm4si4CCBRegGBZ+BoY2wLrtiPWRD7Vl00b+OTrV0tk4w191Z/mdwQQyKMAwTKP2OwKgTQEHnkmItakPdWXFrv65b3nmFm9ugm/I4CAmQIESzPrpk2rTxtYLg8/bb8Hl3X/LWtmOxYEECiMAMGyMO7sFYG6BFp0LJWVn9jPVj50W0hOPZ6zlXXZ8ToCCOgvQLDUv0Zat3Dlp1FpcbT9rKXV4E8X1pOmO3DWUuvi0TjXChAsXVtaOmawwPh7wzLw2nJbDw7d3y8vP8rZShsKDxBAwFgBgqWxpdOn4RePLJcJ99nPWvY6sUim3xLSp5G0BAEPCRAsPVRsumqEwD//xWSntqXy2x8xW3ufm14sRx/K/UVsKDxAAAFjBQiWxpZOn4b/sjomO7ZdK2vW2tv00oxiadeGL0y7Co8QyL0AwTL3xuwBgXQErhhdIWOnVNhW6X5sQB6fVGx7jgcIIICAyQIES5Orp1HbR0+ukKFj7V+ah6tQuVCFSxYEEMivAMEyv97sDYFkAh+oISN7Jhgy8s68EtlrN3+yVXkNAQQQMEqAYGlUufRubLP2a+Wzr+yX+Uy7KSRnncSkBHpXjta5TYBg6baK0h+TBU7qXyZPzLPfmuvis4rkthEMFzG5rrQdAQTiBQiW8SY8k6HAg7PCcsYl9okJGm/jky8W1ZMgk8RmqMpqCKQvQLBM34w1EMiFwNMvRKTrufbbi2yysfpefLlEGm7CBHe5MGebCCBQOAGCZeHsXbnno3qVyQuv2I/MXtkvKKOvIFm6suB0SksBgqWWZaFRHhRodWypvPuR/fYi44aHZGAfruTx4MeBLiPgegGCpetLnN8OLnkrKgd3i7/9yLvPlkjL5owlyW812JtXBQiWXq08/dZJ4MY7K+TKG+1zD7Te0y8rnuH2IjrVibYggIBzAgRL5yzZ0v8L9B9RLpMfsN9+5LgjA/L03Uzkw4cEgXwIECzzocw+EKhd4OvvYtKs3VqpsH8VyjP3FEvn9syWXrscryCAgMkCBEuTq6dp21f/GZOmh5fKH3/ZJ/J5cFxITuvK5T+alo1muUiAYOmiYtIVIwVOV/MNPKTmHai+nHp8kTx0GxP2VDfhdwQQcJcAwdJd9dSmN5PuD8uFV9sn8tl+W5988mI9KeHEpTZ1oiHuFCBYurOu9MoMgVnzI3LCefYJe/xqJMhnC+vJTtszYY8ZVaSVCCCQiQDBMhM11klJ4LCTS2XxG/ZJCy7pWyS3XsUR25QAeRMCGQoQLDOEYzUEHBDYvUOpfPS5/btv1OVBGXIBk9g5wMsmEEBAYwGCpcbFMb1pry6PStse8RP5LH6sRNrux0Q+pteX9usrQLDUtza0zN0Cw26ukFGTakzYs4easGcOE/a4u/L0DgEELAGCJZ+DnAoMvLZcxt9rH2dy0D5+ee0JvmRzCs/GPS1AsPR0+el8gQSWvxuV/bvGH0x99r5i6XgYE/YUqCzsFgEE8ihAsMwjthd3tVZ9xzY/Yq2s+sE+kc+YwUEZfD6XBXnxM0Gfcy9AsMy9MXtAoKZA+55lsnCZ/T7O5/YskrtGMfyjphWPEUDAnQIES3fWVatezZgdllMvtk/kYzVw5fMlskczLonVqlg0xhUCBEtXlJFOGCRw69SwXHaD/Xtui8188tGCEmm4CRP2GFRKmooAAlkIECyzwGPV1AVOuahMHp1jP5J7zOEBmXcvU8Smrsg7EUhNgGCZmhPvQsAJgY+/iMoeR5VK1D5fj0wbG5KzunOLLSeM2QYCCJghQLA0o07Gt3LV9zHZrcNaWbPW3pUJ14Tkot588dpVeIRAdgIEy+z8WBuBdAQ69y2TuS/ZD5yecHRAZt7JgdN0HHkvAgiYL0CwNL+GxvRg8gNh6T/CfqlQUGXKlfPrSbMduVTImELSUO0FCJbal4gGukTg9ulhuega+/daSA2p/FB9r+3chO81l5SZbiCAQIoCBMsUoXibMwKJjux2ah+QOfdwZNcZYbaCgAjBkk8BArkX+OTLqLQ4ulQq7BOfC1fi5N6ePSCAgJ4CBEs96+LaVllfxNZYlIj9qiEZNzwkA/twSaxrC0/H8ipAsMwrNzvzqMCxZ5XJs4vsX2bHtgvI3GkcKPXoR4JuI+B5AYKl5z8C+QeYcF9YLh5pv3TIasW7z5ZIy+bMEpv/irBHtwkQLN1WUfqjm8Atd1fIoFEVtmYVqVtVvq9mO2++M99jNhgeIICAZwQIlp4ptV4d7aImO5hTY7KDw9sEZOEMjvTqVSlaY6IAwdLEqtFmUwRWrIzKvl3UTZprLFwCWwOEhwgg4DkBgqXnSq5Hhz//JiYtO66VtTW+m68ZGJSrLw7q0UhagYChAgRLQwtHs40QOLh7qSxZYb+3yPEdAjJrCgdGjSggjUQAgZwJECxzRsuG6xKYMiMs5w2NvyT2xYeKpf1B6poiFgQQyEiAYJkRGyshUKfAkJsqZMwd9ktgN9rQJ++poRw7bMcssHUC8gYEEHC1AMHS1eXVv3OnXlwuM2bbp9TbbRe/vD23RIrVlO0sCCCQvgDBMn0z1kCgLgHrXpXWzOY1l3vHhuTM7kw+V9OFxwgg4D0BgqX3aq5Vj1f/EZO9ji2V73+K2drV9+QimTqGZGlD4QECKQoQLFOE4m0IpCjw+18xad2pVL753v5dZQVKK1iyIIAAAgiIECz5FBRc4KnnI3Li+fFHga1gaQVMFgQQSE+AYJmeF+9GoC6BUy4qk0fn2G8tsksTn7wzr55sUL+utXkdAQQQ8IYAwdIbdda+l9a07db07dWXoMqUK+aUSItdmbq9ugu/I1CXAMGyLiFeRyB1gXH3hOXS6+PnA3huerEcfSjzAaQuyTsRQMDtAgRLt1fYoP4d3E3NtPeWfaa9g/fxy6tPlBjUC5qKQOEFCJaFrwEtcIfAq8uj0rZHjenLVddGqNnLR6pZzFkQQAABBKoECJZVFvxWYIF3P4pK686lErVnSxlwZpGMv5oxLAUuD7s3SIBgaVCxaKq2AtbtsPY9rlQ+/Mz+pWSdpbTOVrIggAACCNgFCJZ2Dx4VWKC2W5Dcd3NIendjvGWBy8PuDREgWBpSKJqptcAZl5TLg7Pss5Zv2sAnK54pkR0bc2sRrYtH4xBAoCACBMuCsLPTZALnDimXux+xf5lb4y3feLpEWu3OeMtkdryGgCVAsORzgEB2AtaYf2vsf83l0duLpUcnxlXWdOExAgggYAkQLPkcaCcQU7O5W5cfvbXSfvnRPi388sasEvGTLbWrGQ3SS4BgqVc9aI1ZAi+8EpGjesXPVH7FeUG58UrGVZpVTVqLAAL5FCBY5lObfaUssEKFyv1UuLRCZvWFe4ZV1+B3BBILECwTu/AsAnUJ/PhLTA7oWirf/mj/8ulwSEDmP8C4yrr8eB0BBLwtQLD0dv217v20x8LSd3D8FO9jhwRl0LkcNda6eDSuoAIEy4Lys3ODBY45s0yee9l+v8otNvNVDsVosi3jKg0uLU1HAIE8CBAs84DMLjIXGHhtuYy/1z7e0traM/cUS+f2jHPJXJY13SxAsHRzdelbrgSse1Va96ysucyeWixdjuD7pqYLjxFAAIGaAgTLmiI81k7gyNPL5MXX7EeQN9/UJ0tmlkjTHTiCrF3BaFDBBQiWBS8BDTBM4K6Hw3L+sPgrZEZdHpQhF3CFjGHlpLkIIFAgAYJlgeDZbeoCq36ISZsTSsUa+1J9ObC1X5Y8WVL9KX5HAAElQLDkY4BA6gIvLY3IEafGT9ZzWtcieXAc91BOXZJ3IoCA1wUIll7/BBjS/+cXR6Rj7/gv/jNOLJL7b+GL35Ay0sw8CRAs8wTNbowX+Ob7mBzSvVS++8l+4NKahXypuirGutUVCwIIIIBAagIEy9SceJcGAhPuC8vFI+MvVbr64qBcM5BLlTQoEU3QRIBgqUkhaIb2AoedXCqL37Df2mqjDaTyapg9d+XeVtoXkAYigIBWAgRLrcpBY+oSuOjqcrn9/vjJFe4dGxLrViQsCCDApbB8BhBIRaD3ZeVy/8z475Mn7yyWE49msp5UDHkPAgggUF2AYFldg9+NEEg0HbzV8BcfKpb2B/HHgBFFpJE5FeCMZU552bgLBIbfWiHXT6yI68lN6nZWl3M7qzgXnkAAAQRSESBYpqLEe7QS+O0Pa0xMmXzypf3ypS0398nix0qk2Y7MFKtVwWhM3gUIlnknZ4cGCUxRM8Cel2AG2PNPK5I7rmfMvkGlpKkIIKCZAMFSs4LQnNQE3nwvKm17lEppjfl8Wu/pl5cfKZEN1RgZFgS8KkCw9Grl6XddAnNejEiXs2t8caiVjjk8IPPuLa5rdV5HAAEEEEgiQLBMgsNLegvMfC4i3frF/4HQqX1A5tzDHwh6V4/W5VKAYJlLXbZtqsCb70fl8FNK5b819h7s0cyvrnYploYNuNrFLsMjBBBAID0BgmV6XrxbM4Hx94Zl4LXxM8X26VEk99zIJU2alYvm5EmAYJknaHZjjMC36n7I7XqWyher7LcVabCRGkLxaLG03I0ZYI0pJg1FAAFtBQiW2paGhqUqMHhMhdx0V/wkDFf2C8roK7gNSaqOvM89AgRL99SSnmQvsLZUpP2ppbLsbfu4fGvL1uWv1mWwLAgggAAC2QsQLLM3ZAsaCPS6tFweeCp+2vixaoa/Qczwp0GFaEI+BQiW+dRmX7oLdOlbJnNeisQ107qqxbq6hQUBBBBAwBkBgqUzjmxFA4Gje5fJ/MXxfzxMHROSvifzx4MGJaIJeRIgWOYJmt1oL1DbQcdRlwdlyAVc0aJ9AWkgAggYJUCwNKpcNDaZwF//xKR9zzJ564P4y50en1ws3Y/hcqdkfrzmHgGCpXtqSU8yFxhwTblMnB5/JcslfYvk1qsYg5+5LGsigAACiQUIloldeNZQgS++ickRp5XKN9/bJ2iwuvPc9GI5+lDCpaGlpdlpCBAs08Dira4UGHZzhYyaFD/2vteJRTL9FkKlK4tOpxBAoOACBMuCl4AGOC2wXN3j8sjTyuTvf+3hsn49kfn3l8jB+zL7n9PmbE8vAYKlXvWgNfkVGD25QoaOjQ+VXY4IyOyp3Ioqv9Vgbwgg4CUBgqWXqu2hvr7wakSOOiP+HpebN/TJ8+rMZes9CZce+jh4rqsES8+VnA7/v8Bt08JyyXXxt6Bqu79fFjxYIiGGVfJZQQABBHImQLDMGS0bLrTAk89FpHu/+HDZeGufPKvC5R5NCZeFrhH7z40AwTI3rmxVb4E7HwpLv6viQ2Wr3f0y/4FiaaQOLLIggAACCOROgGCZO1u2rIHA9CfDcuag+D80dm6iwuW9JdJ0R/7Q0KBMNMFhAYKlw6BsTnuBaY+Fpe/g+H/rd9nBVzkEYsfG/FuvfRFpIAIIGC9AsDS+hHSgLoE7HgzLBcPj/+DYdSd/5c2xd9qePzjqMuR1swQIlmbVi9ZmJ3C/OoDYO8EBxG23Wjf0YY9mXJ2SnTBrI4AAAqkJECxTc+JdhguMuycsl14fHy53V5fDzp1WLDtsR7g0vMQ0v5oAwbIaBr+6WuCBp8Ji3auy5rLZpr7KmcD3bUGorGnDYwQQQCBXAgTLXMmyXe0EbryzQq68MX6mQCtczrmnWLhUSruS0aAMBQiWGcKxmlECtYXKjTdUQx3uK5aD9iFUGlVQGosAAsYLECyNLyEdSEfg+tsrZPgt8eFyt1388oyaht4ae8mCgOkCBEvTK0j76xKobfy8dVupeWr8/GEHECrrMuR1BBBAwGkBgqXTomxPe4FrJ1TI1ePiw6U1kc/su4ul+c78QaJ9EWlgUgGCZVIeXjRc4B41Uc/ZCSbqKVG3qLSGNrQ/KGB4D2k+AgggYKYAwdLMutHqLAVGjq+Qa26LD5fWWMunVbhs2ZxwmSUxqxdQgGBZQHx2nVOB2iZjs0LlHBUqjyBU5tSfjSOAAALJBAiWyXR4zdUC102skBG3xofLrbfwyay7imX/VoRLV38AXNw5gqWLi+vhrtU2CZt1+as1Tr7dgZyp9PDHg64jgIAGAgRLDYpAEwonMGpShQy7OT5cNtjYJ0/dGeIPlcKVhj1nIUCwzAKPVbUUuEH9W31Vgn+rN97IJ8+oq0wOZUyllnWjUQgg4C0BgqW36k1vEwiMnVIhV4yOD5dFRSIz7yyWLkdwFDwBG09pLECw1Lg4NC1tgSE3VciYO+L/jd684bpx8Qe25uqStFFZAQEEEMiBAMEyB6hs0jyBifeFZcDI+HuhWT15cFxITuuqUiYLAoYIECwNKRTNrFOg/4hymfxAOO59222thixMKZZ99iRUxuHwBAIIIFAgAYJlgeDZrX4CUx8JyzlDEofL20eGpH8vwqV+VaNFiQQIlolUeM40gdMGlsvDT8eHymZqBu+n1Dh46x7ELAgggAAC+ggQLPWpBS3RQGDG7LCcenHicHntJUEZPiCoQStpAgLJBQiWyX14VW+Bf9eI9OhfJs8uisQ1tLU6Q2kNUWiyLfccjsPhCQQQQKDAAgTLAheA3esnMOfFiHTrVybl8UN65KIzi2TC1SH9Gk2LEKgmQLCshsGvRgl89W1MTr6wTJa/F41r9+Ft/PLkHcXScBNCZRwOTyCAAAIaCBAsNSgCTdBP4JU3otL9gjL5ZXUsrnEndw7IIxPVTdNYENBUgGCpaWFoVlKB19+OyskXlck338f/u3t8h4A8oUJlEXOpJTXkRQQQQKCQAgTLQuqzb60FVn4SlZP6l8vHX8QfOT9MTW1vhcutGnHkXOsierRxBEuPFt7gbs+aH5GeA8qktCy+E2d1L5JpY7lSJF6GZxBAAAG9BAiWetWD1mgm8MMvscqxPq+9GR8um6oJJGaMV7MStmACCc3K5vnmECw9/xEwCmCSmvX1QjX7a6Jl0DlBGTuUse2JbHgOAQQQ0E2AYKlbRWiPdgIValJCa8zPU8/HTyRRv0TkIRUuux7F9VnaFc7DDSJYerj4hnW9tntUWt248cqgXHEeodKwktJcBBDwsADB0sPFp+vpCVwwvFzueDB+6ntrK7eNCMnFZ3E7kvREeXeuBAiWuZJlu04JRNVFIKdfUiYzZscfsLP2Mf2WkPQ6kX9TnfJmOwgggEA+BAiW+VBmH64RuG5ihYy4NcF0saqHVrC0AiYLAoUWIFgWugLsP5nA59/EpJcKlUvVZD01l802VUMMJoSkwyFcBVLThscIIICA7gIES90rRPu0E7j38bD0uSLxeKDO7QOVR9qZDl+7snmqQQRLT5XbqM4+vzgivS4tTzjjdqvd/fLQbSHZvSnj1o0qKo1FAAEE/l+AYMlHAYEMBBa8FpHTB5bLz7/FT4u/605+ue/mkLTZmz+OMqBlFQcECJYOILIJxwUmTg/LgGsSH5Q77siAPKhC5UYbMNO24/BsEAEEEMiTAMEyT9Dsxn0Cn30dkzPU5VyvvxN/OZdP/W10r5oev3c3xgi5r/L694hgqX+NvNZCa9ZXa/bXRMuAM4tk/NUMI0hkw3MIIICASQIES5OqRVu1E4ioeSfOUJd1zZid+A8ma0ZDa2ZDFgTyKUCwzKc2+0om8PV3scqhAwuXJp6kZ9zwkAzswwG4ZIa8hgACCJgiQLA0pVK0U2uBq8dVyLUTEk/qc2y7gNxzY0i2asQlXloX0UWNI1i6qJgGd2XOixHpOzjxeMrNNvHJfWrmV2tcOgsCCCCAgDsECJbuqCO90EDgoVlhOfPycgknOHnZeGuf3D0mJEcfyh9RGpTK9U0gWLq+xNp38IZJFXLVzYkPth3Y2hqHXizNduRgm/aFpIEIIIBAGgIEyzSweCsCdQmseD8qZ6kZY9//OH7cpbXumMFBGXw+l8bW5cjr2QkQLLPzY+3MBf74KybnDi2XJ+YlvvS1T4+iyis4Mt8DayKAAAII6CpAsNS1MrTLWIE1pSJ9ryiTR55J/IfVSccG5K5RIdm0AUfrjS2y5g0nWGpeIJc2b8GrETlvWLl8uSp+tmyry7cMC8mlZzOe0qXlp1sIIICAECz5ECCQI4FR6lKwYbVcCrZjY5/ccT2XxuaI3vObJVh6/iOQd4DRkytk6NjEl75aQwGmqnHmR7VlKEDeC8MOEUAAgTwKECzziM2uvCcw96WInDOkXH78JfER/JEDgzLiYi6N9d4nI7c9Jljm1petVwl8/3NM+g8vl6dfSHyFRpcjAjJlNJOXVYnxGwIIIOBeAYKle2tLzzQRsP7wOk+Fy7kLE//hZU3oM+nakOzchEtjNSmZ8c0gWBpfQiM68LgaR2ndn/KX1YkPnI0YEJSRl3DgzIhi0kgEEEDAAQGCpQOIbAKBVASS3ZJkw/oiE0eG5MzujD9KxZL3JBcgWCb34dXsBS4eWS4T7kswBbba9NZb+OTOG0Jy3JFc+pq9NFtAAAEEzBEgWJpTK1rqAgHr0th+V5XLtz8mPsJ/1klFMuHqkGy4gQs6SxcKJkCwLBi963f8yvKoDLimXN75MPHM18d3CFSOH7fCJQsCCCCAgLcECJbeqje91UDgtz9icoEak/T43MSXxloT+9w2gqP9GpTK2CYQLI0tndYNv3ZChVhXXtS2jL4iKFf249LX2nx4HgEEEHC7AMHS7RWmf9oKjL83LAOvLa+1fQPOLJJxw0Pi99f6Fl5AIKEAwTIhC09mKPDWB1G55LpyWfx64rOULZr75XZ1Kf+h+/OPVYbErIYAAgi4QoBg6Yoy0glTBVa8H5WL1GVlS99K/Afbbrv45dargtLxMMYqmVrjQrSbYFkIdXfuc8wdFTLkptrPUl5wRpFMvIYDYO6sPr1CAAEE0hMgWKbnxbsRyImA9Yeb9QdcbcvFZxXJ2KEhCTK3T21EPF9NgGBZDYNfMxKwDnoNGlUui5YlPui1VSOfjFfjwXt04qBXRsCshAACCLhQgGDpwqLSJTMF5r8SUZfGVshHnyf+Q67pDj65aUhIuh7FH3JmVjh/rSZY5s/ajXuqayxlz+OKZPyIoDTajAl63Fh/+oQAAghkKkCwzFSO9RDIgUBEZUprLNPEWqbxt3bZp0eR3Dg4KJs35I+6HJTAFZskWLqijHnvxEtLIzJ4TIW8+V7ig1sNNvJVXppv/RvEggACCCCAQE0BgmVNER4joIHAHHVbksuuL5dPv0p8W5LNNvXJGDUD49mn8AeeBuXSrgkES+1KonWD1qwVNY6y9vtSWo0/6diA3HJVSBpvzQEtrYtJ4xBAAIECChAsC4jPrhFIJhBW9x63xjhZs8fWthxzeEBGXR6UVrszG2NtRl58nmDpxapn1ucHngrL0LEV8l0t99ZtuIlPbh4aFOseuywIIIAAAggkEyBYJtPhNQQ0EHhBjb28XF2e9m4tNyS3mji0f1CuvywoPk4maFCxwjeBYFn4Gujegvc/jspVt1TI7AWJ76drtb/XiUVqXHdQttycf1h0ryftQwABBHQQIFjqUAXagEAKAiNurZDrJtY+c+zOTXxy3aVBsSbWYPG2AMHS2/VP1ntrHLf1b8moSbX/W7LT9j41jjsk3dXlrywIIIAAAgikKkCwTFWK9yGggcBbK6Nypbo1iXUWs7al8xEBGTkwKK335PLY2ozc/jzB0u0Vzqx/1mWvV4+rkK++TTx229rqpWcXqfHb6tZGwcz2wVoIIIAAAt4VIFh6t/b03GCBux5eNy7q9z9r/wNxYJ8iufrioGyyMZexGVzqjJpOsMyIzbUrLVkRlZHjK8S6pVFty2EH+OWGy0Ny8D4ckKrNiOcRQAABBJILECyT+/AqAtoKrP4jVjlG6s6Hap/cp2EDnwwfEBQrZLJ4R4Bg6Z1aJ+upNSGPdfn8lBm1/xthHXiyxmf378W/EckseQ0BBBBAoG4BgmXdRrwDAa0FFi2LyHA1ZurV5YnvPWc1vmVzv1x1YVBO6sSYKa2L6VDjCJYOQRq6mYg6MXnD7WpMtvqxZpeubTn/tKLKcdncE7c2IZ5HAAEEEEhHgGCZjhbvRUBjAevMpTV+6pfVtV8e26FtQIZeEJTD23C5m8alzLppBMusCY3dgPXvwA1qYp7abh9idazdgevGYbfdn38HjC00DUcAAQQ0FCBYalgUmoRApgL//idyjRpLdcvdtc/4aG37lC4BubJfUPbajT8sM7XWeT2Cpc7VyU3bHp0TkdF3JL8tUZNtfZXjrrknZW5qwFYRQAABrwsQLL3+CaD/rhR4/5OoXDuhQp6YV/tkHVbHz+lZJFecF5Rd1K1KWNwjQLB0Ty3r6snclyJy010VsviN2i+Ft+5vO/yioIxQ460DXA1fFymvI4AAAghkKECwzBCO1RAwQeDZRRG5Xo2zsmaFTLYMOLNIBp0blMZbEzCTOZnyGsHSlEpl3s4Fr0Xk5ilheX5x8oNHZ59cJFepUGmdrWRBAAEEEEAglwIEy1zqsm0ENBG474mwjJpcIZ99Vfv4S6upl/YtUvexC8q2W/FHqCaly6gZBMuM2IxYaeHSiNwyNSzWmcpky3FHqvHU/YNyQCsud0/mxGsIIIAAAs4JECyds2RLCGgvcKv6g3SMGof16+/JA+YlKmAO7BOU7bchYGpf1AQNJFgmQDH8KesM5W3T6g6Ubffzy5Vqgq5jD+eaV8NLTvMRQAAB4wQIlsaVjAYjkJ3A2jKRm+6sqPxZU5p8W/3PKJIBZxWGPTzBAAAX70lEQVRJsx0565FcSq9XCZZ61SOb1lhnJifcF5b5ryQ/Q7n3Hv7K8dLWxFwsCCCAAAIIFEKAYFkIdfaJgAYCq/+IyVg1RutmNYOsdd+7ZMuZ3YvkQnUD9X1aEDCTOenyGsFSl0pk3g5rlteJ0yvktTeTj4/evalfBp1TJMz0mrk1ayKAAAIIOCNAsHTGka0gYKzAj7/EKsds3Tq1QmLJr5CVrkcF5AJ1FrPDIZwV0bngBEudq5O8bdZ9KCc9EJaVambnZMuuO/nlsrOLKmd2TvY+XkMAAQQQQCBfAgTLfEmzHwQ0F7AC5rh7wjJuWoWEw8kbe/C+fjn/tCI5vWtR8jfyakEECJYFYc94pz//FpO7VKC8Q/389GvyozvWGcqBfVSgPIX/72UMzooIIIAAAjkRIFjmhJWNImCuwK+rYzL+3rCMv69C/v0veT92bOyT805d90duw02Y6Ce5Vv5eJVjmzzqbPb35flTunhGWKeqnrsUaQ3mxGu/cuxuBsi4rXkcAAQQQKIwAwbIw7uwVAe0F/lGh0hrjdfv0sFhnM5Mt1k3XrfvlWT/7tmQcZjKrfLxGsMyHcub7eGxuRO55tO4Jeaw9WLO8XtQ7KCd14vLzzMVZEwEEEEAgHwIEy3wosw8EDBeYrMZ8WeO+Pvws+bgvq5vtDwqoiUQCXCZbwJoTLAuIX8uuv/8pJvc+HpZp6uerb5MfqLE2Yd2H0pqV+ahDCZS1kPI0AggggIBmAgRLzQpCcxDQWcA602JNLmLdpL2uZatGvsrL9np1C8juu3AWsy4vJ18nWDqpmd22nl0UkelPhsWa5TWVxTrrf/7pagbmPfn/TCpevAcBBBBAQB8BgqU+taAlCBgj8MryqEx5OCwPzqp7bJjVqaPaqjOYJ6w7i+ljKGbO60ywzDlx0h18/V2s8v8bDz4VkU++rPssv3UQ5tyeRZXjlbfZkv+DJMXlRQQQQAABbQUIltqWhoYhoL/AN9/HZOojYZmqxovVNZul1ZtNNvbJqccH5NTjisSaWZYlNwIEy9y41rXVGbMj8vDTYZnzUmpnJw9s7Zez1eyufU5iQp66bHkdAQQQQEB/AYKl/jWihQgYIXD/TDV+7LGwvPx63WdorA61aO6XUzoH5OTORbJzE87SOFlkgqWTmsm3tWhZpPIy10eeiciff9c9dtLa2pnd14XJtvtzcCW5Lq8igAACCJgkQLA0qVq0FQEDBJa/F5XpT4Qrx5X9uya1Brc7MCAnHRuQbscEZIvNCJmpqdX+LoJl7TZOvPL2B1F5fF5EnpgXls++Ti1M7tHMr8YcBypDZaOGfMadqAPbQAABBBDQS4BgqVc9aA0CrhEoLxexzmI+8FRYFr+R2llMq/Od2gfkxKMDcoL62bQBf4Bn8oEgWGailnydlZ9EZebzkcqfdz9M7fNsjSc+vWuRnHFiQDocwuyuyYV5FQEEEEDAdAGCpekVpP0IGCDw7kdReWiWGn82OyzWbRdSXayQeXyHQOWtF7bcnJCZqhvBMlWp5O+zzkzOXhCRp1+IiPV7qos1dvLU44tUqAxUjitOdT3ehwACCCCAgMkCBEuTq0fbETBQwPpD/ZFn1t1+IZr63+rSXl0u2+kI9dPOL7vuxNi0ZKUnWCbTSf7aomVRmbswInNejMjHX6T+AW2yra9yvHDP4wLSanc+n8mVeRUBBBBAwI0CBEs3VpU+IWCAwD//xsS6L+Zjaqza/MWpzaK5vlst1cQ/xxwekI6H+eXwNlxiuN5l/X8Jlusl6v7vH3/F5PnFUXnu5YhY95z8ZXXqZ9Q33sgnJ6lxwSd1CsjRh/I5rFubdyCAAAIIuFmAYOnm6tI3BAwR+E5dHvvks2r82nPpjce0umeNwzyqrb9yDNuRahybdebI6wvBMvkn4I13o7Lg1Yi8oH6sM5TpLMUhkRM7qommOhZVTjaVzrq8FwEEEEAAATcLECzdXF36hoCBAl99G5NZ8yMy6wUVMlO8dUn1brbY1S/tD/KLNdPs4W380kCdVfLaQrC0V/xzNXPrQnVbkIVLI/LSkqj8/FvqZyWtLdWvJ5Vjfbt2KJKualKpUNC+fR4hgAACCCCAgAjBkk8BAghoK/DdjzGZrca6WePdrMsUM1na7O2XQ/cPiHXPwLb7eSNoej1YfvFNTF5ZHpFX1GzEL78REetxussWarKozmryqC5qXO9xRwbEz7DJdAl5PwIIIICAxwQIlh4rON1FwFSBv9WYzHkLo+pHhUw1Hu6339MPC1bf99nTLwft45cDWwfECp07NnbfGU2vBcsV70dl6dvqZ0VUXlsRkW++z+yzYZ3ttsbuWj/W2W4WBBBAAAEEEEhdgGCZuhXvRAABjQSse2Nak/7MfyUiy99Lb5xc9W403ton+7fyy34t1/3s08L8s5puDpZffxeTN1WQtGq+XI2VfP2diKxZW72iqf9ujZfs0Dagxuium3yn2Y7uO8iQugbvRAABBBBAIDsBgmV2fqyNAAIaCPz4S0wWvBaRF1+LyktqHN23P2R2xmp9V5rv7JfWe/il1R4+2Ws3f+WPSffRdEuw/OTLqLz3UUzeUfdBte4jaf389Gt2tbUOHLQ/KCBHqnG41mRPXOK6/lPPfxFAAAEEEMhOgGCZnR9rI4CAhgIrP4nKIjXxz8uvRyonAErnFhK1dWebLX1iXSq5RzOf7NHUL7vtYv34ZJON9TvLZVqwXKUOBHz8eVQ+/DwmH3walZXq531Vw//W1FaN1J+3anXoAX457ICAtFOXt1pjJ1kQQAABBBBAwHkBgqXzpmwRAQQ0E3hPnfF69c11P0uyGIOXqFvbqsDZbCe/WJdR7rKD+mnil52398mO2/tlw/qJ1sj9czoGS2sm1i9XxeSLVVGxZmn9TP18+lVUPvkyJtY9TZ1a1o+hPWTfgByiJmuyDgiwIIAAAggggEDuBQiWuTdmDwggoJmANU5v6VvrxudZ9zS0fiKZTTqbtGfW5bM7bOervLdm4238Yo3n3G4rn2yrfrbZwidbqZ9c3Loi38HSmljJuhz5h59j8r26J6l1X1LrLKT1Y02k8/V3Ufn3v6RUGb3YqKEaH7uXv3KMrDUR04HqZ6MNCZIZYbISAggggAACWQoQLLMEZHUEEDBfIKrm/nlTTQZjTQrz1kr1o8byvfNhVGLOnUirFWmzTX1iBdAtNvNJo4Yim6uwtNkmPmmofjZtIJWX2jbYSGRjFZis0LThBiIbqPsqblDPJ0VFiTebSbAsLRM1CU5M/lWXn/77X0z+/lfUT0z++lvkj79j8sdfMfn9T5Hf/ohVzsj7q5qV9xd1FtI6E2mtk+tl0wY+2Xt3NfZVzepr/eyrJltqqs4QsyCAAAIIIICAHgIESz3qQCsQQEAzgbA6g/muCpfvqsto3/tYjfv7JFY59s8KUrosQRUsS4p9UlwslWc+rbOfRQGRaMV38uWSZhIIbirN2/1QGZCtkByJxCrPzFaERcor1v2UlsXECpVWuNZlsS4r3rOZX1o090tL60dNoLRLE0KkLvWhHQgggAACCCQSIFgmUuE5BBBAoBYBK1h++FlUPlITzXysZi21xgh+qv5rXV6rzRL+VuS75iL+TUW2/06bZlVvSIkKw013UGNTd/JJczVGtfnOvsoJkXZXk+3UK6n+Tn5HAAEEEEAAARMECJYmVIk2IoCA9gJl5aImpYmqyWnWTVLz1bfrwubXaozhKvXzp7qcNG+LJsHSmjinybbrfnZs7JcdG/sqJzbaWU1wZD3PggACCCCAAALuESBYuqeW9AQBBDQW+OsfNanNj2pyG2uCG/Xzo/qx7sn4kzoDao1V/GW1Gr+oxi1aYxizHtuZw2BZHFo3DtSaOMcaF2qND92q0bqJiKwJiaxZcrdVkxRZExVZl+qyIIAAAggggIA3BAiW3qgzvUQAAYMEfv9z3UQ51qQ5f1k//6ybSOcfNbPqv2tilfd3tCbaWVsqleMjy8pjlWMmK9S4SWts6H9/fyuLZzaVYKihtO3+Q2XP/eoEYUCNv7R+rMAXVOMxi4Prxmdal6XWL/FJfWtSIHWLlA038MnGapIga8KgBuo+nZtsLGoiITWhkPqxJg9iQQABBBBAAAEEagoQLGuK8BgBBBAwXCCTWWEN7zLNRwABBBBAAIECCxAsC1wAdo8AAgg4LUCwdFqU7SGAAAIIIIBAXQIEy7qEeB0BBBAwTIBgaVjBaC4CCCCAAAIuECBYuqCIdAEBBBCoLkCwrK7B7wgggAACCCCQDwGCZT6U2QcCCCCQRwGCZR6x2RUCCCCAAAIIVAoQLPkgIIAAAi4TIFi6rKB0BwEEEEAAAQMECJYGFIkmIoAAAukIECzT0eK9CCCAAAIIIOCEAMHSCUW2gQACCGgkQLDUqBg0BQEEEEAAAY8IECw9Umi6iQAC3hEgWHqn1vQUAQQQQAABXQQIlrpUgnYggAACDgkQLB2CZDMIIIAAAgggkLIAwTJlKt6IAAIImCFAsDSjTrQSAQQQQAABNwkQLN1UTfqCAAIIKAGCJR8DBBBAAAEEEMi3AMEy3+LsDwEEEMixAMEyx8BsHgEEEEAAAQTiBAiWcSQ8gQACCJgtQLA0u360HgEEEEAAARMFCJYmVo02I4AAAkkECJZJcHgJAQQQQAABBHIiQLDMCSsbRQABBAonQLAsnD17RgABBBBAwKsCBEuvVp5+I4CAawUIlq4tLR1DAAEEEEBAWwGCpbaloWEIIIBAZgIEy8zcWAsBBBBAAAEEMhcgWGZux5oIIICAlgIESy3LQqMQQAABBBBwtQDB0tXlpXMIIOBFAYKlF6tOnxFAAAEEECisAMGysP7sHQEEEHBcgGDpOCkbRAABBBBAAIE6BAiWdQDxMgIIIGCaAMHStIrRXgQQQAABBMwXIFiaX0N6gAACCNgECJY2Dh4ggAACCCCAQB4ECJZ5QGYXCCCAQD4FCJb51GZfCCCAAAIIIGAJECz5HCCAAAIuEyBYuqygdAcBBBBAAAEDBAiWBhSJJiKAAALpCBAs09HivQgggAACCCDghADB0glFtoEAAghoJECw1KgYNAUBBBBAAAGPCBAsPVJouokAAt4RIFh6p9b0FAEEEEAAAV0ECJa6VIJ2IIAAAg4JECwdgmQzCCCAAAIIIJCyAMEyZSreiAACCJghQLA0o060EgEEEEAAATcJECzdVE36ggACCCgBgiUfAwQQQAABBBDItwDBMt/i7A8BBBDIsQDBMsfAbB4BBBBAAAEE4gQIlnEkPIEAAgiYLUCwNLt+tB4BBBBAAAETBQiWJlaNNiOAAAJJBAiWSXB4CQEEEEAAAQRyIkCwzAkrG0UAAQQKJ0CwLJw9e0YAAQQQQMCrAgRLr1aefiOAgGsFCJauLS0dQwABBBBAQFsBgqW2paFhCCCAQGYCBMvM3FgLAQQQQAABBDIXIFhmbseaCCCAgJYCBEsty0KjEEAAAQQQcLUAwdLV5aVzCCDgRQGCpRerTp8RQAABBBAorADBsrD+7B0BBBBwXIBg6TgpG0QAAQQQQACBOgQIlnUA8TICCCBgmgDB0rSK0V4EEEAAAQTMFyBYml9DeoAAAgjYBAiWNg4eIIAAAggggEAeBAiWeUBmFwgggEA+BQiW+dRmXwgggAACCCBgCRAs+RwggAACLhMgWLqsoHQHAQQQQAABAwQIlgYUiSYigAAC6QgQLNPR4r0IIIAAAggg4IQAwdIJRbaBAAIIaCRAsNSoGDQFAQQQQAABjwgQLD1SaLqJAALeESBYeqfW9BQBBBBAAAFdBAiWulSCdiCAAAIOCRAsHYJkMwgggAACCCCQsgDBMmUq3ogAAgiYIUCwNKNOtBIBBBBAAAE3CRAs3VRN+oIAAggoAYIlHwMEEEAAAQQQyLcAwTLf4uwPAQQQyLEAwTLHwGweAQQQQAABBOIECJZxJDyBAAIImC1AsDS7frQeAQQQQAABEwUIliZWjTYjgAACSQQIlklweAkBBBBAAAEEciJAsMwJKxtFAAEECidAsCycPXtGAAEEEEDAqwIES69Wnn4jgIBrBQiWri0tHUMAAQQQQEBbAYKltqWhYQgggEBmAgTLzNxYCwEEEEAAAQQyFyBYZm7HmggggICWAgRLLctCoxBAAAEEEHC1AMHS1eWlcwgg4EUBgqUXq06fEUAAAQQQKKwAwbKw/uwdAQQQcFyAYOk4KRtEAAEEEEAAgToECJZ1APEyAgggYJoAwdK0itFeBBBAAAEEzBcgWJpfQ3qAAAII2AQIljYOHiCAAAIIIIBAHgQIlnlAZhcIIIBAPgUIlvnUZl8IIIAAAgggYAkQLPkcIIAAAi4TIFi6rKB0BwEEEEAAAQMECJYGFIkmIoAAAukIECzT0eK9CCCAAAIIIOCEAMHSCUW2gQACCGgkQLDUqBg0BQEEEEAAAY8IECw9Umi6iQAC3hEgWHqn1vQUAQQQQAABXQQIlrpUgnYggAACDgkQLB2CZDMIIIAAAgggkLIAwTJlKt6IAAIImCFAsDSjTrQSAQQQQAABNwkQLN1UTfqCAAIIKAGCJR8DBBBAAAEEEMi3AMEy3+LsDwEEEMixAMEyx8BsHgEEEEAAAQTiBAiWcSQ8gQACCJgtQLA0u360HgEEEEAAARMFCJYmVo02I4AAAkkECJZJcHgJAQQQQAABBHIiQLDMCSsbRQABBAonQLAsnD17RgABBBBAwKsCBEuvVp5+I4CAawUIlq4tLR1DAAEEEEBAWwGCpbaloWEIIIBAZgIEy8zcWAsBBBBAAAEEMhcgWGZux5oIIICAlgIESy3LQqMQQAABBBBwtQDB0tXlpXMIIOBFAYKlF6tOnxFAAAEEECisAMGysP7sHQEEEHBcgGDpOCkbRAABBBBAAIE6BAiWdQDxMgIIIGCaAMHStIrRXgQQQAABBMwXIFiaX0N6gAACCNgECJY2Dh4ggAACCCCAQB4ECJZ5QGYXCCCAQD4FCJb51GZfCCCAAAIIIGAJECz5HCCAAAIuEyBYuqygdAcBBBBAAAEDBAiWBhSJJiKAAALpCBAs09HivQgggAACCCDghADB0glFtoEAAghoJECw1KgYNAUBBBBAAAGPCBAsPVJouokAAt4RIFh6p9b0FAEEEEAAAV0ECJa6VIJ2IIAAAg4JECwdgmQzCCCAAAIIIJCyAMEyZSreiAACCJghQLA0o060EgEEEEAAATcJECzdVE36ggACCCgBgiUfAwQQQAABBBDItwDBMt/i7A8BBBDIsQDBMsfAbB4BBBBAAAEE4gQIlnEkPIEAAgiYLUCwNLt+tB4BBBBAAAETBQiWJlaNNiOAAAJJBAiWSXB4CQEEEEAAAQRyIkCwzAkrG0UAAQQKJ0CwLJw9e0YAAQQQQMCrAgRLr1aefiOAgGsFCJauLS0dQwABBBBAQFsBgqW2paFhCCCAQGYCBMvM3FgLAQQQQAABBDIXIFhmbseaCCCAgJYCBEsty0KjEEAAAQQQcLUAwdLV5aVzCCDgRQGCpRerTp8RQAABBBAorADBsrD+7B0BBBBwXIBg6TgpG0QAAQQQQACBOgQIlnUA8TICCCBgmgDB0rSK0V4EEEAAAQTMFyBYml9DeoAAAgjYBAiWNg4eIIAAAggggEAeBAiWeUBmFwgggEA+BQiW+dRmXwgggAACCCBgCRAs+RwggAACLhMgWLqsoHQHAQQQQAABAwQIlgYUiSYigAAC6QgQLNPR4r0IIIAAAggg4IQAwdIJRbaBAAIIaCRAsNSoGDQFAQQQQAABjwgQLD1SaLqJAALeESBYeqfW9BQBBBBAAAFdBAiWulSCdiCAAAIOCRAsHYJkMwgggAACCCCQsgDBMmUq3ogAAgiYIUCwNKNOtBIBBBBAAAE3CRAs3VRN+oIAAggoAYIlHwMEEEAAAQQQyLcAwTLf4uwPAQQQyLEAwTLHwGweAQQQQAABBOIECJZxJDyBAAIImC1AsDS7frQeAQQQQAABEwUIliZWjTYjgAACSQQIlklweAkBBBBAAAEEciJAsMwJKxtFAAEECidAsCycPXtGAAEEEEDAqwIES69Wnn4jgIBrBf766y8ZN26c1K9fX6644grX9pOOIYAAAggggIA+AgRLfWpBSxBAAAEEEEAAAQQQQAABIwUIlkaWjUYjgAACCCCAAAIIIIAAAvoI/B8lc28eP8yicwAAAABJRU5ErkJggg==)"
      ]
    },
    {
      "cell_type": "markdown",
      "metadata": {
        "id": "YqareEwq3Uka"
      },
      "source": [
        "A plain Python implementation is like so:\n",
        "\n",
        "```\n",
        "from random import random\n",
        "\n",
        "number_of_samples = 100000\n",
        "within_circle_count = 0\n",
        "\n",
        "for _ in range(number_of_samples):\n",
        "  x = random()\n",
        "  y = random()\n",
        "\n",
        "  if x ** 2 + y ** 2 < 1:\n",
        "    within_circle_count += 1\n",
        "\n",
        "print(within_circle_count / number_of_samples * 4)\n",
        "```"
      ]
    },
    {
      "cell_type": "markdown",
      "metadata": {
        "id": "yUJwe8is3nVa"
      },
      "source": [
        "### <font color=\"red\">Exercise 2: Finding the value of pi</font>\n",
        "Try reimplementing the Monte Carlo pi-finding program using NumPy:\n",
        "\n",
        "You'll need to use the `np.random.random()` funcction that takes in 1 argument, the number of random numbers between 0 and 1 that you want to create, like so:\n",
        "`np.random.random(10)`\n",
        "\n",
        "Another useful function is `np.count_nonzero()` for counting the number of `True` values in an array."
      ]
    },
    {
      "cell_type": "code",
      "execution_count": 22,
      "metadata": {
        "colab": {
          "base_uri": "https://localhost:8080/"
        },
        "id": "sJ2zZQwP3nB3",
        "outputId": "20da7ee3-3e6b-4fcb-c06b-65f23e4af934"
      },
      "outputs": [
        {
          "name": "stdout",
          "output_type": "stream",
          "text": [
            "3.14824\n"
          ]
        }
      ],
      "source": [
        "number_of_samples = 100000\n",
        "\n",
        "within_circle_count = np.count_nonzero(np.random.random(number_of_samples) ** 2 + np.random.random(number_of_samples) ** 2 < 1)\n",
        "\n",
        "print(within_circle_count / number_of_samples * 4)"
      ]
    },
    {
      "cell_type": "code",
      "execution_count": 24,
      "metadata": {
        "colab": {
          "base_uri": "https://localhost:8080/"
        },
        "id": "_238EQHa5G3z",
        "outputId": "0c84d994-850a-4eab-edfa-c77448b03167"
      },
      "outputs": [
        {
          "name": "stdout",
          "output_type": "stream",
          "text": [
            "3.13144\n"
          ]
        }
      ],
      "source": [
        "samples = 50_000\n",
        "within = np.count_nonzero(np.random.random(samples) ** 2 + np.random.random(samples) ** 2 < 1)\n",
        "print(within / samples * 4)"
      ]
    }
  ],
  "metadata": {
    "colab": {
      "include_colab_link": true,
      "provenance": []
    },
    "kernelspec": {
      "display_name": "Python 3",
      "language": "python",
      "name": "python3"
    },
    "language_info": {
      "codemirror_mode": {
        "name": "ipython",
        "version": 3
      },
      "file_extension": ".py",
      "mimetype": "text/x-python",
      "name": "python",
      "nbconvert_exporter": "python",
      "pygments_lexer": "ipython3",
      "version": "3.8.3"
    }
  },
  "nbformat": 4,
  "nbformat_minor": 0
}
