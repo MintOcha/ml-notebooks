{
  "cells": [
    {
      "cell_type": "markdown",
      "metadata": {
        "colab_type": "text",
        "id": "view-in-github"
      },
      "source": [
        "<a href=\"https://colab.research.google.com/github/tinkercademy/ml-notebooks/blob/main/Data Science (Answers)/06_APIs_Answers.ipynb\" target=\"_parent\"><img src=\"https://colab.research.google.com/assets/colab-badge.svg\" alt=\"Open In Colab\"/></a>"
      ]
    },
    {
      "cell_type": "markdown",
      "metadata": {
        "id": "-XWMv8nLr32g"
      },
      "source": [
        "# APIs"
      ]
    },
    {
      "cell_type": "markdown",
      "metadata": {
        "id": "hsBL7l7sr32j"
      },
      "source": [
        "Before we jump into APIs, we need to talk about one more structure in Python that we haven't covered yet: <b>dictionaries</b>"
      ]
    },
    {
      "cell_type": "markdown",
      "metadata": {
        "id": "zBHFmBURr32j"
      },
      "source": [
        "## Dictionaries"
      ]
    },
    {
      "cell_type": "markdown",
      "metadata": {
        "id": "Ia7aw42Mr32k"
      },
      "source": [
        "Dictionaries are defined by curly brackets {} and consist of key:value pairs. We can look up a key, and find its value."
      ]
    },
    {
      "cell_type": "code",
      "execution_count": null,
      "metadata": {
        "colab": {
          "base_uri": "https://localhost:8080/"
        },
        "id": "pPlVgKnLr32k",
        "outputId": "d06cf49e-2fbd-4ef5-aab4-28ea3f5229e6"
      },
      "outputs": [
        {
          "data": {
            "text/plain": [
              "{'apple': '5', 'banana': '12', 'orange': '7'}"
            ]
          },
          "execution_count": 1,
          "metadata": {},
          "output_type": "execute_result"
        }
      ],
      "source": [
        "#Dictionaries are denoted by squiggly brackets:\n",
        "my_dictionary = {} #this creates an empty dictionary\n",
        "my_dictionary['apple'] = '5'\n",
        "my_dictionary['banana'] = '12'\n",
        "my_dictionary['orange'] = '7'\n",
        "\n",
        "my_dictionary"
      ]
    },
    {
      "cell_type": "code",
      "execution_count": null,
      "metadata": {
        "colab": {
          "base_uri": "https://localhost:8080/"
        },
        "id": "N4pxAkdar32m",
        "outputId": "908ec0e5-a059-488f-af23-7110e7cb0143"
      },
      "outputs": [
        {
          "data": {
            "text/plain": [
              "{'apple': 5, 'banana': 12, 'orange': 7}"
            ]
          },
          "execution_count": 2,
          "metadata": {},
          "output_type": "execute_result"
        }
      ],
      "source": [
        "#We can also create a new dictionary by using the dict() function\n",
        "my_dictionary = dict() #this creates an empty dictionary\n",
        "my_dictionary['apple'] = 5\n",
        "my_dictionary['banana'] = 12\n",
        "my_dictionary['orange'] = 7\n",
        "\n",
        "my_dictionary"
      ]
    },
    {
      "cell_type": "code",
      "execution_count": null,
      "metadata": {
        "colab": {
          "base_uri": "https://localhost:8080/"
        },
        "id": "Q-WRfGQjr32n",
        "outputId": "9546e64e-d613-478a-d74e-97db820af4f9"
      },
      "outputs": [
        {
          "data": {
            "text/plain": [
              "{'apple': 5, 'banana': 12, 'orange': 7}"
            ]
          },
          "execution_count": 3,
          "metadata": {},
          "output_type": "execute_result"
        }
      ],
      "source": [
        "#We can also create a new dictionary in one line:\n",
        "my_dictionary = {'apple':5, 'banana':12, 'orange':7}\n",
        "\n",
        "my_dictionary"
      ]
    },
    {
      "cell_type": "code",
      "execution_count": null,
      "metadata": {
        "id": "SMm7MM8zr32o"
      },
      "outputs": [],
      "source": [
        "#Note that we cannot use indexing on a dictionary!\n",
        "\n",
        "my_dictionary[0] #this gives an error"
      ]
    },
    {
      "cell_type": "code",
      "execution_count": null,
      "metadata": {
        "colab": {
          "base_uri": "https://localhost:8080/"
        },
        "id": "l4ATrDY_r32p",
        "outputId": "6890d17d-88de-4c84-e87f-17859e4c4b51"
      },
      "outputs": [
        {
          "data": {
            "text/plain": [
              "12"
            ]
          },
          "execution_count": 5,
          "metadata": {},
          "output_type": "execute_result"
        }
      ],
      "source": [
        "#Instead we need to specify a key:\n",
        "\n",
        "my_dictionary['banana']"
      ]
    },
    {
      "cell_type": "code",
      "execution_count": null,
      "metadata": {
        "id": "oMyTXtPsr32r"
      },
      "outputs": [],
      "source": []
    },
    {
      "cell_type": "markdown",
      "metadata": {
        "id": "pkyO6Dbir32r"
      },
      "source": [
        "<p><b>Interacting with Dictionaries</b></p>\n",
        "Just creating dictionaries isn't enough. We want to be able to dynamically interact and update dictionary values. Just like strings, lists and dataframes, there are a number of ways we can interact and manipulate dictionaries."
      ]
    },
    {
      "cell_type": "code",
      "execution_count": null,
      "metadata": {
        "colab": {
          "base_uri": "https://localhost:8080/"
        },
        "id": "hUgYhcVIr32s",
        "outputId": "be93392f-a2be-49e5-8f91-d49d1fc2ce45"
      },
      "outputs": [
        {
          "data": {
            "text/plain": [
              "{'apple': 14, 'banana': 12, 'orange': 7}"
            ]
          },
          "execution_count": 6,
          "metadata": {},
          "output_type": "execute_result"
        }
      ],
      "source": [
        "#We can update values\n",
        "my_dictionary = {'apple':5, 'banana':12, 'orange':7}\n",
        "my_dictionary['apple'] = 14\n",
        "\n",
        "my_dictionary"
      ]
    },
    {
      "cell_type": "code",
      "execution_count": null,
      "metadata": {
        "colab": {
          "base_uri": "https://localhost:8080/"
        },
        "id": "f5_uenxEr32t",
        "outputId": "1710e6b3-ef7b-4d05-ed75-92e31900f18c"
      },
      "outputs": [
        {
          "data": {
            "text/plain": [
              "{'apple': 14, 'orange': 7}"
            ]
          },
          "execution_count": 7,
          "metadata": {},
          "output_type": "execute_result"
        }
      ],
      "source": [
        "#Delete key:value pairs using the 'del' keyword\n",
        "\n",
        "del my_dictionary['banana']\n",
        "\n",
        "my_dictionary"
      ]
    },
    {
      "cell_type": "code",
      "execution_count": null,
      "metadata": {
        "colab": {
          "base_uri": "https://localhost:8080/"
        },
        "id": "6Ts67Go6r32t",
        "outputId": "84b9a7da-23b0-4b1f-f9d7-9f40c6333ab5"
      },
      "outputs": [
        {
          "name": "stdout",
          "output_type": "stream",
          "text": [
            "apple : 14\n",
            "orange : 7\n"
          ]
        }
      ],
      "source": [
        "#Can print out using a loop:\n",
        "for key in my_dictionary:\n",
        "    print(key, \":\", my_dictionary[key])"
      ]
    },
    {
      "cell_type": "code",
      "execution_count": null,
      "metadata": {
        "colab": {
          "base_uri": "https://localhost:8080/"
        },
        "id": "c5dIziL_r32u",
        "outputId": "9379c2ee-d41c-48f2-9055-922484c13689"
      },
      "outputs": [
        {
          "data": {
            "text/plain": [
              "{'drinks': ['kopi', 'teh c', 'teh halia'],\n",
              " 'open': True,\n",
              " 'fruit_stock': {'apple': 17, 'orange': 5, 'banana': 18}}"
            ]
          },
          "execution_count": 9,
          "metadata": {},
          "output_type": "execute_result"
        }
      ],
      "source": [
        "# We can store any variable type as a value in a key-value pairs\n",
        "my_dictionary = {}\n",
        "\n",
        "#lists\n",
        "my_dictionary['drinks'] = ['kopi', 'teh c', 'teh halia']\n",
        "\n",
        "#booleans\n",
        "my_dictionary['open'] = True\n",
        "\n",
        "#even another dictionary\n",
        "my_dictionary['fruit_stock'] = {'apple':17, 'orange':5, 'banana':18}\n",
        "\n",
        "my_dictionary"
      ]
    },
    {
      "cell_type": "code",
      "execution_count": null,
      "metadata": {
        "colab": {
          "base_uri": "https://localhost:8080/"
        },
        "id": "RA-JS4ngr32u",
        "outputId": "2b1563ff-74c2-488a-9efe-7ff60734a33f"
      },
      "outputs": [
        {
          "data": {
            "text/plain": [
              "dict_keys(['drinks', 'open', 'fruit_stock'])"
            ]
          },
          "execution_count": 10,
          "metadata": {},
          "output_type": "execute_result"
        }
      ],
      "source": [
        "# how can we access different values inside this dictionary?\n",
        "my_dictionary.keys()"
      ]
    },
    {
      "cell_type": "code",
      "execution_count": null,
      "metadata": {
        "colab": {
          "base_uri": "https://localhost:8080/"
        },
        "id": "-OpMvBtXr32v",
        "outputId": "acf03284-fd3a-4bd8-a34f-3ceccf6bbeb8"
      },
      "outputs": [
        {
          "data": {
            "text/plain": [
              "{'apple': 17, 'orange': 5, 'banana': 18}"
            ]
          },
          "execution_count": 11,
          "metadata": {},
          "output_type": "execute_result"
        }
      ],
      "source": [
        "my_dictionary[\"fruit_stock\"]"
      ]
    },
    {
      "cell_type": "code",
      "execution_count": null,
      "metadata": {
        "colab": {
          "base_uri": "https://localhost:8080/"
        },
        "id": "WvJSRH5Jr32v",
        "outputId": "c1d4c68d-0e95-4dad-a995-2c7db89cc956"
      },
      "outputs": [
        {
          "data": {
            "text/plain": [
              "18"
            ]
          },
          "execution_count": 12,
          "metadata": {},
          "output_type": "execute_result"
        }
      ],
      "source": [
        "my_dictionary[\"fruit_stock\"][\"banana\"]"
      ]
    },
    {
      "cell_type": "code",
      "execution_count": null,
      "metadata": {
        "id": "tsePCZNvr32v"
      },
      "outputs": [],
      "source": []
    },
    {
      "cell_type": "code",
      "execution_count": null,
      "metadata": {
        "id": "x5MJZJRlr32x"
      },
      "outputs": [],
      "source": []
    },
    {
      "cell_type": "markdown",
      "metadata": {
        "id": "aGqwlP41r32x"
      },
      "source": [
        "# APIs"
      ]
    },
    {
      "cell_type": "markdown",
      "metadata": {
        "id": "C_FXLURLr32y"
      },
      "source": [
        "#### Challenge:\n",
        "We want to create a visualisation using live weather data. For this, we’ll use Particulate Matter 2.5 readings from data.gov.sg.\n",
        "\n",
        "When we were using data.gov.sg data to plot using matplotlib, we downloaded a CSV file. But this requires manual interaction. Every time we want updated info, we have to manually go to the website and download the most recent CSV. Is there a way to automate this?"
      ]
    },
    {
      "cell_type": "markdown",
      "metadata": {
        "id": "KAeipZwcr32y"
      },
      "source": [
        "#### Intro to APIs\n",
        "\n",
        "If I wanted to ask someone what the weather was, I might ask them \"Hey, what's the weather today?\" or \"How’s the weather?\" or \"Is it hot today?\" and you’d know I’m asking about the weather.\n",
        "\n",
        "But computers talk to one another in a slightly different way: by exchanging data in nicely-formatted data packets.  These have to be properly formatted so that computers can recognise them, just like with your Python syntax. As a result, we need to be very specific when sending requests to computers. It also means that they're going to send responses in very specific formats.\n",
        "\n",
        "(See slides for more info!)\n",
        "\n",
        "\n",
        "\n",
        "\n",
        "\n",
        "\n",
        "Some notes on APIs:\n",
        "\n",
        "* Computers that are online--servers--can choose what information they want to provide.\n",
        "* Servers can require registration and user access keys, to identify and protect against unwanted behaviour.\n",
        "* The information can be requested through a series of \"calls\", e.g. \"hey, can I have the weather today in Singapore?\"\n",
        "* The information provided should be in a format recognisable to both ends, e.g. \"31 degrees Celsius, sunny conditions\" or \"31, sunny\".\n",
        "* Often, the request is through a URL, e.g. `getweather.com/request/singapore/today`\n",
        "* Often, the reply is in pre-formatted XML or JSON, e.g. `{temperature: 31, condition: sunny}`\n",
        "\n",
        "This request-reply mechanism is known as an API, an **Application Programming Interface**. Lots and lots of services provide APIs, so that people can make things with them, e.g.\n",
        "\n",
        "* [Google Maps APIs](https://developers.google.com/maps/) for people to make property price mashups\n",
        "* [Singapore Government APIs](https://www.data.gov.sg) for public information the government wants to share\n",
        "* [Facebook APIs](https://developers.facebook.com/) so you can build off people's social networks\n",
        "* [Chuck Norris API](https://github.com/chucknorris-io/chuck-api) so... umm. We don't know why this exists.\n"
      ]
    },
    {
      "cell_type": "code",
      "execution_count": null,
      "metadata": {
        "id": "_48J-3dor32y"
      },
      "outputs": [],
      "source": []
    },
    {
      "cell_type": "code",
      "execution_count": null,
      "metadata": {
        "colab": {
          "base_uri": "https://localhost:8080/"
        },
        "id": "GSX9ak79r32y",
        "outputId": "24ee6a82-b5a9-4e12-deef-6379f777383e"
      },
      "outputs": [
        {
          "data": {
            "text/plain": [
              "{'region_metadata': [{'name': 'west',\n",
              "   'label_location': {'latitude': 1.35735, 'longitude': 103.7}},\n",
              "  {'name': 'east',\n",
              "   'label_location': {'latitude': 1.35735, 'longitude': 103.94}},\n",
              "  {'name': 'central',\n",
              "   'label_location': {'latitude': 1.35735, 'longitude': 103.82}},\n",
              "  {'name': 'south',\n",
              "   'label_location': {'latitude': 1.29587, 'longitude': 103.82}},\n",
              "  {'name': 'north',\n",
              "   'label_location': {'latitude': 1.41803, 'longitude': 103.82}}],\n",
              " 'items': [{'timestamp': '2018-01-24T01:00:00+08:00',\n",
              "   'update_timestamp': '2018-01-24T01:06:19+08:00',\n",
              "   'readings': {'pm25_one_hourly': {'west': 6,\n",
              "     'east': 9,\n",
              "     'central': 7,\n",
              "     'south': 6,\n",
              "     'north': 8}}},\n",
              "  {'timestamp': '2018-01-24T02:00:00+08:00',\n",
              "   'update_timestamp': '2018-01-24T02:06:18+08:00',\n",
              "   'readings': {'pm25_one_hourly': {'west': 4,\n",
              "     'east': 16,\n",
              "     'central': 8,\n",
              "     'south': 12,\n",
              "     'north': 12}}},\n",
              "  {'timestamp': '2018-01-24T03:00:00+08:00',\n",
              "   'update_timestamp': '2018-01-24T03:06:17+08:00',\n",
              "   'readings': {'pm25_one_hourly': {'west': 6,\n",
              "     'east': 11,\n",
              "     'central': 11,\n",
              "     'south': 18,\n",
              "     'north': 13}}},\n",
              "  {'timestamp': '2018-01-24T04:00:00+08:00',\n",
              "   'update_timestamp': '2018-01-24T04:06:18+08:00',\n",
              "   'readings': {'pm25_one_hourly': {'west': 10,\n",
              "     'east': 7,\n",
              "     'central': 6,\n",
              "     'south': 14,\n",
              "     'north': 6}}},\n",
              "  {'timestamp': '2018-01-24T05:00:00+08:00',\n",
              "   'update_timestamp': '2018-01-24T05:01:17+08:00',\n",
              "   'readings': {'pm25_one_hourly': {'west': 4,\n",
              "     'east': 9,\n",
              "     'central': 4,\n",
              "     'south': 5,\n",
              "     'north': 6}}},\n",
              "  {'timestamp': '2018-01-24T06:00:00+08:00',\n",
              "   'update_timestamp': '2018-01-24T06:06:18+08:00',\n",
              "   'readings': {'pm25_one_hourly': {'west': 9,\n",
              "     'east': 16,\n",
              "     'central': 6,\n",
              "     'south': 5,\n",
              "     'north': 10}}},\n",
              "  {'timestamp': '2018-01-24T07:00:00+08:00',\n",
              "   'update_timestamp': '2018-01-24T07:06:18+08:00',\n",
              "   'readings': {'pm25_one_hourly': {'west': 4,\n",
              "     'east': 17,\n",
              "     'central': 4,\n",
              "     'south': 6,\n",
              "     'north': 9}}},\n",
              "  {'timestamp': '2018-01-24T08:00:00+08:00',\n",
              "   'update_timestamp': '2018-01-24T08:06:18+08:00',\n",
              "   'readings': {'pm25_one_hourly': {'west': 5,\n",
              "     'east': 12,\n",
              "     'central': 6,\n",
              "     'south': 7,\n",
              "     'north': 12}}},\n",
              "  {'timestamp': '2018-01-24T09:00:00+08:00',\n",
              "   'update_timestamp': '2018-01-24T09:06:18+08:00',\n",
              "   'readings': {'pm25_one_hourly': {'west': 4,\n",
              "     'east': 7,\n",
              "     'central': 5,\n",
              "     'south': 2,\n",
              "     'north': 7}}},\n",
              "  {'timestamp': '2018-01-24T10:00:00+08:00',\n",
              "   'update_timestamp': '2018-01-24T10:01:18+08:00',\n",
              "   'readings': {'pm25_one_hourly': {'west': 10,\n",
              "     'east': 13,\n",
              "     'central': 6,\n",
              "     'south': 5,\n",
              "     'north': 11}}},\n",
              "  {'timestamp': '2018-01-24T11:00:00+08:00',\n",
              "   'update_timestamp': '2018-01-24T11:01:18+08:00',\n",
              "   'readings': {'pm25_one_hourly': {'west': 12,\n",
              "     'east': 6,\n",
              "     'central': 7,\n",
              "     'south': 6,\n",
              "     'north': 13}}},\n",
              "  {'timestamp': '2018-01-24T12:00:00+08:00',\n",
              "   'update_timestamp': '2018-01-24T12:06:18+08:00',\n",
              "   'readings': {'pm25_one_hourly': {'west': 22,\n",
              "     'east': 10,\n",
              "     'central': 11,\n",
              "     'south': 11,\n",
              "     'north': 17}}},\n",
              "  {'timestamp': '2018-01-24T13:00:00+08:00',\n",
              "   'update_timestamp': '2018-01-24T13:06:18+08:00',\n",
              "   'readings': {'pm25_one_hourly': {'west': 20,\n",
              "     'east': 12,\n",
              "     'central': 10,\n",
              "     'south': 9,\n",
              "     'north': 13}}},\n",
              "  {'timestamp': '2018-01-24T14:00:00+08:00',\n",
              "   'update_timestamp': '2018-01-24T14:06:18+08:00',\n",
              "   'readings': {'pm25_one_hourly': {'west': 12,\n",
              "     'east': 4,\n",
              "     'central': 7,\n",
              "     'south': 4,\n",
              "     'north': 18}}},\n",
              "  {'timestamp': '2018-01-24T15:00:00+08:00',\n",
              "   'update_timestamp': '2018-01-24T15:06:18+08:00',\n",
              "   'readings': {'pm25_one_hourly': {'west': 12,\n",
              "     'east': 10,\n",
              "     'central': 22,\n",
              "     'south': 21,\n",
              "     'north': 20}}},\n",
              "  {'timestamp': '2018-01-24T16:00:00+08:00',\n",
              "   'update_timestamp': '2018-01-24T16:06:17+08:00',\n",
              "   'readings': {'pm25_one_hourly': {'west': 8,\n",
              "     'east': 17,\n",
              "     'central': 9,\n",
              "     'south': 9,\n",
              "     'north': 9}}},\n",
              "  {'timestamp': '2018-01-24T17:00:00+08:00',\n",
              "   'update_timestamp': '2018-01-24T17:06:18+08:00',\n",
              "   'readings': {'pm25_one_hourly': {'west': 7,\n",
              "     'east': 15,\n",
              "     'central': 17,\n",
              "     'south': 30,\n",
              "     'north': 11}}},\n",
              "  {'timestamp': '2018-01-24T18:00:00+08:00',\n",
              "   'update_timestamp': '2018-01-24T18:06:18+08:00',\n",
              "   'readings': {'pm25_one_hourly': {'west': 6,\n",
              "     'east': 13,\n",
              "     'central': 20,\n",
              "     'south': 35,\n",
              "     'north': 7}}},\n",
              "  {'timestamp': '2018-01-24T19:00:00+08:00',\n",
              "   'update_timestamp': '2018-01-24T19:06:18+08:00',\n",
              "   'readings': {'pm25_one_hourly': {'west': 5,\n",
              "     'east': 4,\n",
              "     'central': 3,\n",
              "     'south': 3,\n",
              "     'north': 6}}},\n",
              "  {'timestamp': '2018-01-24T20:00:00+08:00',\n",
              "   'update_timestamp': '2018-01-24T20:06:17+08:00',\n",
              "   'readings': {'pm25_one_hourly': {'west': 5,\n",
              "     'east': 9,\n",
              "     'central': 5,\n",
              "     'south': 4,\n",
              "     'north': 10}}},\n",
              "  {'timestamp': '2018-01-24T21:00:00+08:00',\n",
              "   'update_timestamp': '2018-01-24T21:06:17+08:00',\n",
              "   'readings': {'pm25_one_hourly': {'west': 7,\n",
              "     'east': 16,\n",
              "     'central': 8,\n",
              "     'south': 5,\n",
              "     'north': 9}}},\n",
              "  {'timestamp': '2018-01-24T22:00:00+08:00',\n",
              "   'update_timestamp': '2018-01-24T22:06:18+08:00',\n",
              "   'readings': {'pm25_one_hourly': {'west': 3,\n",
              "     'east': 3,\n",
              "     'central': 9,\n",
              "     'south': 2,\n",
              "     'north': 12}}},\n",
              "  {'timestamp': '2018-01-24T23:00:00+08:00',\n",
              "   'update_timestamp': '2018-01-24T23:01:18+08:00',\n",
              "   'readings': {'pm25_one_hourly': {'west': 2,\n",
              "     'east': 5,\n",
              "     'central': 4,\n",
              "     'south': 3,\n",
              "     'north': 6}}}],\n",
              " 'api_info': {'status': 'healthy'}}"
            ]
          },
          "execution_count": 13,
          "metadata": {},
          "output_type": "execute_result"
        }
      ],
      "source": [
        "# Import the modules\n",
        "import pandas as pd\n",
        "import urllib.request\n",
        "import json\n",
        "\n",
        "# Create a request\n",
        "url = \"https://api.data.gov.sg/v1/environment/pm25?date=2018-01-24\"\n",
        "request = urllib.request.Request(url)\n",
        "\n",
        "# request is an object with various methods/attributes\n",
        "#request.add_header('api-key', 'BS2mysYRPHmA52SUlZW9G9kHdDKN3rBS')\n",
        "\n",
        "# Get the response and store it\n",
        "response = urllib.request.urlopen(request)\n",
        "\n",
        "# response is also an object with various methods/attributes\n",
        "data = response.read()\n",
        "\n",
        "# Convert it to a Python dictionary\n",
        "parsed_json = json.loads(data.decode('utf-8'))\n",
        "\n",
        "#print out the result\n",
        "parsed_json"
      ]
    },
    {
      "cell_type": "markdown",
      "metadata": {
        "id": "3iDVG8lkr32y"
      },
      "source": [
        "#### Working with Dictionaries"
      ]
    },
    {
      "cell_type": "code",
      "execution_count": null,
      "metadata": {
        "colab": {
          "base_uri": "https://localhost:8080/"
        },
        "id": "0ikd2tBQr32y",
        "outputId": "e21c7b23-7a2a-4ca1-e7f1-c934dfaa4078"
      },
      "outputs": [
        {
          "data": {
            "text/plain": [
              "dict_keys(['region_metadata', 'items', 'api_info'])"
            ]
          },
          "execution_count": 14,
          "metadata": {},
          "output_type": "execute_result"
        }
      ],
      "source": [
        "# If we have a complicated dictionary, how can we go about deciphering it?\n",
        "\n",
        "parsed_json.keys()"
      ]
    },
    {
      "cell_type": "code",
      "execution_count": null,
      "metadata": {
        "colab": {
          "base_uri": "https://localhost:8080/"
        },
        "id": "X5XlrDWPr32z",
        "outputId": "cc71d127-b736-4b23-9463-bc987c38a7f0"
      },
      "outputs": [
        {
          "data": {
            "text/plain": [
              "{'status': 'healthy'}"
            ]
          },
          "execution_count": 15,
          "metadata": {},
          "output_type": "execute_result"
        }
      ],
      "source": [
        "parsed_json[\"api_info\"]"
      ]
    },
    {
      "cell_type": "code",
      "execution_count": null,
      "metadata": {
        "colab": {
          "base_uri": "https://localhost:8080/"
        },
        "id": "woK5Ip23r32z",
        "outputId": "042666dc-1d3e-4caa-c4de-fdd8c163fda5"
      },
      "outputs": [
        {
          "data": {
            "text/plain": [
              "[{'name': 'west', 'label_location': {'latitude': 1.35735, 'longitude': 103.7}},\n",
              " {'name': 'east',\n",
              "  'label_location': {'latitude': 1.35735, 'longitude': 103.94}},\n",
              " {'name': 'central',\n",
              "  'label_location': {'latitude': 1.35735, 'longitude': 103.82}},\n",
              " {'name': 'south',\n",
              "  'label_location': {'latitude': 1.29587, 'longitude': 103.82}},\n",
              " {'name': 'north',\n",
              "  'label_location': {'latitude': 1.41803, 'longitude': 103.82}}]"
            ]
          },
          "execution_count": 16,
          "metadata": {},
          "output_type": "execute_result"
        }
      ],
      "source": [
        "parsed_json[\"region_metadata\"] # this is a list of dictionaries"
      ]
    },
    {
      "cell_type": "code",
      "execution_count": null,
      "metadata": {
        "colab": {
          "base_uri": "https://localhost:8080/"
        },
        "id": "SMOhwKmKr320",
        "outputId": "31416ab1-790c-4bcb-fb4b-3819d5048d38"
      },
      "outputs": [
        {
          "name": "stdout",
          "output_type": "stream",
          "text": [
            "[{'timestamp': '2018-01-24T01:00:00+08:00', 'update_timestamp': '2018-01-24T01:06:19+08:00', 'readings': {'pm25_one_hourly': {'west': 6, 'east': 9, 'central': 7, 'south': 6, 'north': 8}}}, {'timestamp': '2018-01-24T02:00:00+08:00', 'update_timestamp': '2018-01-24T02:06:18+08:00', 'readings': {'pm25_one_hourly': {'west': 4, 'east': 16, 'central': 8, 'south': 12, 'north': 12}}}, {'timestamp': '2018-01-24T03:00:00+08:00', 'update_timestamp': '2018-01-24T03:06:17+08:00', 'readings': {'pm25_one_hourly': {'west': 6, 'east': 11, 'central': 11, 'south': 18, 'north': 13}}}, {'timestamp': '2018-01-24T04:00:00+08:00', 'update_timestamp': '2018-01-24T04:06:18+08:00', 'readings': {'pm25_one_hourly': {'west': 10, 'east': 7, 'central': 6, 'south': 14, 'north': 6}}}, {'timestamp': '2018-01-24T05:00:00+08:00', 'update_timestamp': '2018-01-24T05:01:17+08:00', 'readings': {'pm25_one_hourly': {'west': 4, 'east': 9, 'central': 4, 'south': 5, 'north': 6}}}, {'timestamp': '2018-01-24T06:00:00+08:00', 'update_timestamp': '2018-01-24T06:06:18+08:00', 'readings': {'pm25_one_hourly': {'west': 9, 'east': 16, 'central': 6, 'south': 5, 'north': 10}}}, {'timestamp': '2018-01-24T07:00:00+08:00', 'update_timestamp': '2018-01-24T07:06:18+08:00', 'readings': {'pm25_one_hourly': {'west': 4, 'east': 17, 'central': 4, 'south': 6, 'north': 9}}}, {'timestamp': '2018-01-24T08:00:00+08:00', 'update_timestamp': '2018-01-24T08:06:18+08:00', 'readings': {'pm25_one_hourly': {'west': 5, 'east': 12, 'central': 6, 'south': 7, 'north': 12}}}, {'timestamp': '2018-01-24T09:00:00+08:00', 'update_timestamp': '2018-01-24T09:06:18+08:00', 'readings': {'pm25_one_hourly': {'west': 4, 'east': 7, 'central': 5, 'south': 2, 'north': 7}}}, {'timestamp': '2018-01-24T10:00:00+08:00', 'update_timestamp': '2018-01-24T10:01:18+08:00', 'readings': {'pm25_one_hourly': {'west': 10, 'east': 13, 'central': 6, 'south': 5, 'north': 11}}}, {'timestamp': '2018-01-24T11:00:00+08:00', 'update_timestamp': '2018-01-24T11:01:18+08:00', 'readings': {'pm25_one_hourly': {'west': 12, 'east': 6, 'central': 7, 'south': 6, 'north': 13}}}, {'timestamp': '2018-01-24T12:00:00+08:00', 'update_timestamp': '2018-01-24T12:06:18+08:00', 'readings': {'pm25_one_hourly': {'west': 22, 'east': 10, 'central': 11, 'south': 11, 'north': 17}}}, {'timestamp': '2018-01-24T13:00:00+08:00', 'update_timestamp': '2018-01-24T13:06:18+08:00', 'readings': {'pm25_one_hourly': {'west': 20, 'east': 12, 'central': 10, 'south': 9, 'north': 13}}}, {'timestamp': '2018-01-24T14:00:00+08:00', 'update_timestamp': '2018-01-24T14:06:18+08:00', 'readings': {'pm25_one_hourly': {'west': 12, 'east': 4, 'central': 7, 'south': 4, 'north': 18}}}, {'timestamp': '2018-01-24T15:00:00+08:00', 'update_timestamp': '2018-01-24T15:06:18+08:00', 'readings': {'pm25_one_hourly': {'west': 12, 'east': 10, 'central': 22, 'south': 21, 'north': 20}}}, {'timestamp': '2018-01-24T16:00:00+08:00', 'update_timestamp': '2018-01-24T16:06:17+08:00', 'readings': {'pm25_one_hourly': {'west': 8, 'east': 17, 'central': 9, 'south': 9, 'north': 9}}}, {'timestamp': '2018-01-24T17:00:00+08:00', 'update_timestamp': '2018-01-24T17:06:18+08:00', 'readings': {'pm25_one_hourly': {'west': 7, 'east': 15, 'central': 17, 'south': 30, 'north': 11}}}, {'timestamp': '2018-01-24T18:00:00+08:00', 'update_timestamp': '2018-01-24T18:06:18+08:00', 'readings': {'pm25_one_hourly': {'west': 6, 'east': 13, 'central': 20, 'south': 35, 'north': 7}}}, {'timestamp': '2018-01-24T19:00:00+08:00', 'update_timestamp': '2018-01-24T19:06:18+08:00', 'readings': {'pm25_one_hourly': {'west': 5, 'east': 4, 'central': 3, 'south': 3, 'north': 6}}}, {'timestamp': '2018-01-24T20:00:00+08:00', 'update_timestamp': '2018-01-24T20:06:17+08:00', 'readings': {'pm25_one_hourly': {'west': 5, 'east': 9, 'central': 5, 'south': 4, 'north': 10}}}, {'timestamp': '2018-01-24T21:00:00+08:00', 'update_timestamp': '2018-01-24T21:06:17+08:00', 'readings': {'pm25_one_hourly': {'west': 7, 'east': 16, 'central': 8, 'south': 5, 'north': 9}}}, {'timestamp': '2018-01-24T22:00:00+08:00', 'update_timestamp': '2018-01-24T22:06:18+08:00', 'readings': {'pm25_one_hourly': {'west': 3, 'east': 3, 'central': 9, 'south': 2, 'north': 12}}}, {'timestamp': '2018-01-24T23:00:00+08:00', 'update_timestamp': '2018-01-24T23:01:18+08:00', 'readings': {'pm25_one_hourly': {'west': 2, 'east': 5, 'central': 4, 'south': 3, 'north': 6}}}]\n"
          ]
        }
      ],
      "source": [
        "print(parsed_json[\"items\"])"
      ]
    },
    {
      "cell_type": "code",
      "execution_count": null,
      "metadata": {
        "id": "pOf_CcQWr320"
      },
      "outputs": [],
      "source": [
        "#for item in parsed_json[\"items\"]:\n",
        "#    print(item)\n",
        "\n",
        "#this is a list of dictionaries\n",
        "#each dictionary has 3 keys:\n",
        "#  - timestamp\n",
        "#  - update_timestamp\n",
        "#  - readings (whose value is another dictionary)"
      ]
    },
    {
      "cell_type": "code",
      "execution_count": null,
      "metadata": {
        "colab": {
          "base_uri": "https://localhost:8080/"
        },
        "id": "I0xmiRMSr320",
        "outputId": "7d2380c5-e54b-4594-8ff0-8ffe24a65b65"
      },
      "outputs": [
        {
          "data": {
            "text/plain": [
              "23"
            ]
          },
          "execution_count": 18,
          "metadata": {},
          "output_type": "execute_result"
        }
      ],
      "source": [
        "len(parsed_json[\"items\"])"
      ]
    },
    {
      "cell_type": "code",
      "execution_count": null,
      "metadata": {
        "colab": {
          "base_uri": "https://localhost:8080/"
        },
        "id": "ccompCT7r320",
        "outputId": "2c82513b-7611-49c1-fc58-346b432f26fd"
      },
      "outputs": [
        {
          "data": {
            "text/plain": [
              "{'pm25_one_hourly': {'west': 6,\n",
              "  'east': 9,\n",
              "  'central': 7,\n",
              "  'south': 6,\n",
              "  'north': 8}}"
            ]
          },
          "execution_count": 19,
          "metadata": {},
          "output_type": "execute_result"
        }
      ],
      "source": [
        "#How to read one of these readings?\n",
        "\n",
        "parsed_json[\"items\"][0][\"readings\"]"
      ]
    },
    {
      "cell_type": "code",
      "execution_count": null,
      "metadata": {
        "colab": {
          "base_uri": "https://localhost:8080/"
        },
        "id": "hrtHlXjNr321",
        "outputId": "96f89194-2a4c-408f-93ef-b5a75bdda2be"
      },
      "outputs": [
        {
          "data": {
            "text/plain": [
              "9"
            ]
          },
          "execution_count": 20,
          "metadata": {},
          "output_type": "execute_result"
        }
      ],
      "source": [
        "#How to read a single location in one of these readings?\n",
        "\n",
        "parsed_json[\"items\"][0][\"readings\"][\"pm25_one_hourly\"][\"east\"]"
      ]
    },
    {
      "cell_type": "code",
      "execution_count": null,
      "metadata": {
        "id": "amCiYHXKr321"
      },
      "outputs": [],
      "source": []
    },
    {
      "cell_type": "markdown",
      "metadata": {
        "id": "SynMxJwMr321"
      },
      "source": [
        "#### Try it out:\n",
        "Can you find the average of the PM25 hourly readings in the South on Dec 31, 2017?"
      ]
    },
    {
      "cell_type": "code",
      "execution_count": null,
      "metadata": {
        "id": "zd084fXJr321"
      },
      "outputs": [],
      "source": [
        "#Hint:\n",
        "#    Step 1: Get all the south readings for 31 Dec\n",
        "#    Step 2: Average them"
      ]
    },
    {
      "cell_type": "code",
      "execution_count": null,
      "metadata": {
        "colab": {
          "base_uri": "https://localhost:8080/"
        },
        "id": "n4GXtXC6r321",
        "outputId": "27bc164c-3980-43b9-9ac2-9331d44e0031"
      },
      "outputs": [
        {
          "name": "stdout",
          "output_type": "stream",
          "text": [
            "6\n",
            "12\n",
            "18\n",
            "14\n",
            "5\n",
            "5\n",
            "6\n",
            "7\n",
            "2\n",
            "5\n",
            "6\n",
            "11\n",
            "9\n",
            "4\n",
            "21\n",
            "9\n",
            "30\n",
            "35\n",
            "3\n",
            "4\n",
            "5\n",
            "2\n",
            "3\n"
          ]
        }
      ],
      "source": [
        "for dictionary in parsed_json[\"items\"]:\n",
        "    print(dictionary[\"readings\"][\"pm25_one_hourly\"][\"south\"])"
      ]
    },
    {
      "cell_type": "code",
      "execution_count": null,
      "metadata": {
        "colab": {
          "base_uri": "https://localhost:8080/"
        },
        "id": "HBdQCxzSr322",
        "outputId": "1c7f74c2-c0ee-4cf6-953d-35b5fa14d753"
      },
      "outputs": [
        {
          "data": {
            "text/plain": [
              "9.652173913043478"
            ]
          },
          "execution_count": 22,
          "metadata": {},
          "output_type": "execute_result"
        }
      ],
      "source": [
        "total = 0.0\n",
        "for item in parsed_json[\"items\"]:\n",
        "    total += item[\"readings\"][\"pm25_one_hourly\"][\"south\"]\n",
        "total/len(parsed_json[\"items\"])"
      ]
    },
    {
      "cell_type": "code",
      "execution_count": null,
      "metadata": {
        "colab": {
          "base_uri": "https://localhost:8080/"
        },
        "id": "gJBltInrr323",
        "outputId": "dde0344b-f68d-4311-a353-eebb5c66b3db"
      },
      "outputs": [
        {
          "name": "stdout",
          "output_type": "stream",
          "text": [
            "7.0\n"
          ]
        }
      ],
      "source": [
        "#You can also do this on a single line...\n",
        "\n",
        "print(sum(item[\"readings\"][\"pm25_one_hourly\"][\"south\"] for item in json.loads(urllib.request.urlopen(urllib.request.Request(\"https://api.data.gov.sg/v1/environment/pm25?date=2017-12-31\")).read().decode('utf-8'))[\"items\"]) / len(parsed_json[\"items\"]))\n",
        "\n",
        "#...but don't!"
      ]
    },
    {
      "cell_type": "code",
      "execution_count": null,
      "metadata": {
        "id": "Eg2eWTsxr323"
      },
      "outputs": [],
      "source": []
    },
    {
      "cell_type": "markdown",
      "metadata": {
        "id": "npizUCHqr323"
      },
      "source": [
        "### <font color=\"red\">Bonus Exercise:</font>\n",
        "\n",
        "Can you convert the JSON data into a dataframe so that it's easier to work with? Let's assume we only care about the timestamps and the PM2.5 readings for the 5 regions at each timestamp.\n"
      ]
    },
    {
      "cell_type": "code",
      "execution_count": null,
      "metadata": {
        "colab": {
          "base_uri": "https://localhost:8080/",
          "height": 802
        },
        "id": "VSZO37H3r324",
        "outputId": "71d977cd-920d-41ab-8ee8-a61208d97ee4"
      },
      "outputs": [
        {
          "data": {
            "text/html": [
              "\n",
              "  <div id=\"df-950976c9-806e-443e-b493-153890f677dc\" class=\"colab-df-container\">\n",
              "    <div>\n",
              "<style scoped>\n",
              "    .dataframe tbody tr th:only-of-type {\n",
              "        vertical-align: middle;\n",
              "    }\n",
              "\n",
              "    .dataframe tbody tr th {\n",
              "        vertical-align: top;\n",
              "    }\n",
              "\n",
              "    .dataframe thead th {\n",
              "        text-align: right;\n",
              "    }\n",
              "</style>\n",
              "<table border=\"1\" class=\"dataframe\">\n",
              "  <thead>\n",
              "    <tr style=\"text-align: right;\">\n",
              "      <th></th>\n",
              "      <th>West</th>\n",
              "      <th>East</th>\n",
              "      <th>Central</th>\n",
              "      <th>South</th>\n",
              "      <th>North</th>\n",
              "    </tr>\n",
              "    <tr>\n",
              "      <th>timestamp</th>\n",
              "      <th></th>\n",
              "      <th></th>\n",
              "      <th></th>\n",
              "      <th></th>\n",
              "      <th></th>\n",
              "    </tr>\n",
              "  </thead>\n",
              "  <tbody>\n",
              "    <tr>\n",
              "      <th>01:00:00</th>\n",
              "      <td>6</td>\n",
              "      <td>9</td>\n",
              "      <td>7</td>\n",
              "      <td>6</td>\n",
              "      <td>8</td>\n",
              "    </tr>\n",
              "    <tr>\n",
              "      <th>02:00:00</th>\n",
              "      <td>4</td>\n",
              "      <td>16</td>\n",
              "      <td>8</td>\n",
              "      <td>12</td>\n",
              "      <td>12</td>\n",
              "    </tr>\n",
              "    <tr>\n",
              "      <th>03:00:00</th>\n",
              "      <td>6</td>\n",
              "      <td>11</td>\n",
              "      <td>11</td>\n",
              "      <td>18</td>\n",
              "      <td>13</td>\n",
              "    </tr>\n",
              "    <tr>\n",
              "      <th>04:00:00</th>\n",
              "      <td>10</td>\n",
              "      <td>7</td>\n",
              "      <td>6</td>\n",
              "      <td>14</td>\n",
              "      <td>6</td>\n",
              "    </tr>\n",
              "    <tr>\n",
              "      <th>05:00:00</th>\n",
              "      <td>4</td>\n",
              "      <td>9</td>\n",
              "      <td>4</td>\n",
              "      <td>5</td>\n",
              "      <td>6</td>\n",
              "    </tr>\n",
              "    <tr>\n",
              "      <th>06:00:00</th>\n",
              "      <td>9</td>\n",
              "      <td>16</td>\n",
              "      <td>6</td>\n",
              "      <td>5</td>\n",
              "      <td>10</td>\n",
              "    </tr>\n",
              "    <tr>\n",
              "      <th>07:00:00</th>\n",
              "      <td>4</td>\n",
              "      <td>17</td>\n",
              "      <td>4</td>\n",
              "      <td>6</td>\n",
              "      <td>9</td>\n",
              "    </tr>\n",
              "    <tr>\n",
              "      <th>08:00:00</th>\n",
              "      <td>5</td>\n",
              "      <td>12</td>\n",
              "      <td>6</td>\n",
              "      <td>7</td>\n",
              "      <td>12</td>\n",
              "    </tr>\n",
              "    <tr>\n",
              "      <th>09:00:00</th>\n",
              "      <td>4</td>\n",
              "      <td>7</td>\n",
              "      <td>5</td>\n",
              "      <td>2</td>\n",
              "      <td>7</td>\n",
              "    </tr>\n",
              "    <tr>\n",
              "      <th>10:00:00</th>\n",
              "      <td>10</td>\n",
              "      <td>13</td>\n",
              "      <td>6</td>\n",
              "      <td>5</td>\n",
              "      <td>11</td>\n",
              "    </tr>\n",
              "    <tr>\n",
              "      <th>11:00:00</th>\n",
              "      <td>12</td>\n",
              "      <td>6</td>\n",
              "      <td>7</td>\n",
              "      <td>6</td>\n",
              "      <td>13</td>\n",
              "    </tr>\n",
              "    <tr>\n",
              "      <th>12:00:00</th>\n",
              "      <td>22</td>\n",
              "      <td>10</td>\n",
              "      <td>11</td>\n",
              "      <td>11</td>\n",
              "      <td>17</td>\n",
              "    </tr>\n",
              "    <tr>\n",
              "      <th>13:00:00</th>\n",
              "      <td>20</td>\n",
              "      <td>12</td>\n",
              "      <td>10</td>\n",
              "      <td>9</td>\n",
              "      <td>13</td>\n",
              "    </tr>\n",
              "    <tr>\n",
              "      <th>14:00:00</th>\n",
              "      <td>12</td>\n",
              "      <td>4</td>\n",
              "      <td>7</td>\n",
              "      <td>4</td>\n",
              "      <td>18</td>\n",
              "    </tr>\n",
              "    <tr>\n",
              "      <th>15:00:00</th>\n",
              "      <td>12</td>\n",
              "      <td>10</td>\n",
              "      <td>22</td>\n",
              "      <td>21</td>\n",
              "      <td>20</td>\n",
              "    </tr>\n",
              "    <tr>\n",
              "      <th>16:00:00</th>\n",
              "      <td>8</td>\n",
              "      <td>17</td>\n",
              "      <td>9</td>\n",
              "      <td>9</td>\n",
              "      <td>9</td>\n",
              "    </tr>\n",
              "    <tr>\n",
              "      <th>17:00:00</th>\n",
              "      <td>7</td>\n",
              "      <td>15</td>\n",
              "      <td>17</td>\n",
              "      <td>30</td>\n",
              "      <td>11</td>\n",
              "    </tr>\n",
              "    <tr>\n",
              "      <th>18:00:00</th>\n",
              "      <td>6</td>\n",
              "      <td>13</td>\n",
              "      <td>20</td>\n",
              "      <td>35</td>\n",
              "      <td>7</td>\n",
              "    </tr>\n",
              "    <tr>\n",
              "      <th>19:00:00</th>\n",
              "      <td>5</td>\n",
              "      <td>4</td>\n",
              "      <td>3</td>\n",
              "      <td>3</td>\n",
              "      <td>6</td>\n",
              "    </tr>\n",
              "    <tr>\n",
              "      <th>20:00:00</th>\n",
              "      <td>5</td>\n",
              "      <td>9</td>\n",
              "      <td>5</td>\n",
              "      <td>4</td>\n",
              "      <td>10</td>\n",
              "    </tr>\n",
              "    <tr>\n",
              "      <th>21:00:00</th>\n",
              "      <td>7</td>\n",
              "      <td>16</td>\n",
              "      <td>8</td>\n",
              "      <td>5</td>\n",
              "      <td>9</td>\n",
              "    </tr>\n",
              "    <tr>\n",
              "      <th>22:00:00</th>\n",
              "      <td>3</td>\n",
              "      <td>3</td>\n",
              "      <td>9</td>\n",
              "      <td>2</td>\n",
              "      <td>12</td>\n",
              "    </tr>\n",
              "    <tr>\n",
              "      <th>23:00:00</th>\n",
              "      <td>2</td>\n",
              "      <td>5</td>\n",
              "      <td>4</td>\n",
              "      <td>3</td>\n",
              "      <td>6</td>\n",
              "    </tr>\n",
              "  </tbody>\n",
              "</table>\n",
              "</div>\n",
              "    <div class=\"colab-df-buttons\">\n",
              "\n",
              "  <div class=\"colab-df-container\">\n",
              "    <button class=\"colab-df-convert\" onclick=\"convertToInteractive('df-950976c9-806e-443e-b493-153890f677dc')\"\n",
              "            title=\"Convert this dataframe to an interactive table.\"\n",
              "            style=\"display:none;\">\n",
              "\n",
              "  <svg xmlns=\"http://www.w3.org/2000/svg\" height=\"24px\" viewBox=\"0 -960 960 960\">\n",
              "    <path d=\"M120-120v-720h720v720H120Zm60-500h600v-160H180v160Zm220 220h160v-160H400v160Zm0 220h160v-160H400v160ZM180-400h160v-160H180v160Zm440 0h160v-160H620v160ZM180-180h160v-160H180v160Zm440 0h160v-160H620v160Z\"/>\n",
              "  </svg>\n",
              "    </button>\n",
              "\n",
              "  <style>\n",
              "    .colab-df-container {\n",
              "      display:flex;\n",
              "      gap: 12px;\n",
              "    }\n",
              "\n",
              "    .colab-df-convert {\n",
              "      background-color: #E8F0FE;\n",
              "      border: none;\n",
              "      border-radius: 50%;\n",
              "      cursor: pointer;\n",
              "      display: none;\n",
              "      fill: #1967D2;\n",
              "      height: 32px;\n",
              "      padding: 0 0 0 0;\n",
              "      width: 32px;\n",
              "    }\n",
              "\n",
              "    .colab-df-convert:hover {\n",
              "      background-color: #E2EBFA;\n",
              "      box-shadow: 0px 1px 2px rgba(60, 64, 67, 0.3), 0px 1px 3px 1px rgba(60, 64, 67, 0.15);\n",
              "      fill: #174EA6;\n",
              "    }\n",
              "\n",
              "    .colab-df-buttons div {\n",
              "      margin-bottom: 4px;\n",
              "    }\n",
              "\n",
              "    [theme=dark] .colab-df-convert {\n",
              "      background-color: #3B4455;\n",
              "      fill: #D2E3FC;\n",
              "    }\n",
              "\n",
              "    [theme=dark] .colab-df-convert:hover {\n",
              "      background-color: #434B5C;\n",
              "      box-shadow: 0px 1px 3px 1px rgba(0, 0, 0, 0.15);\n",
              "      filter: drop-shadow(0px 1px 2px rgba(0, 0, 0, 0.3));\n",
              "      fill: #FFFFFF;\n",
              "    }\n",
              "  </style>\n",
              "\n",
              "    <script>\n",
              "      const buttonEl =\n",
              "        document.querySelector('#df-950976c9-806e-443e-b493-153890f677dc button.colab-df-convert');\n",
              "      buttonEl.style.display =\n",
              "        google.colab.kernel.accessAllowed ? 'block' : 'none';\n",
              "\n",
              "      async function convertToInteractive(key) {\n",
              "        const element = document.querySelector('#df-950976c9-806e-443e-b493-153890f677dc');\n",
              "        const dataTable =\n",
              "          await google.colab.kernel.invokeFunction('convertToInteractive',\n",
              "                                                    [key], {});\n",
              "        if (!dataTable) return;\n",
              "\n",
              "        const docLinkHtml = 'Like what you see? Visit the ' +\n",
              "          '<a target=\"_blank\" href=https://colab.research.google.com/notebooks/data_table.ipynb>data table notebook</a>'\n",
              "          + ' to learn more about interactive tables.';\n",
              "        element.innerHTML = '';\n",
              "        dataTable['output_type'] = 'display_data';\n",
              "        await google.colab.output.renderOutput(dataTable, element);\n",
              "        const docLink = document.createElement('div');\n",
              "        docLink.innerHTML = docLinkHtml;\n",
              "        element.appendChild(docLink);\n",
              "      }\n",
              "    </script>\n",
              "  </div>\n",
              "\n",
              "\n",
              "<div id=\"df-eff1d9a3-9d0e-4095-a6aa-bd82051cf5f0\">\n",
              "  <button class=\"colab-df-quickchart\" onclick=\"quickchart('df-eff1d9a3-9d0e-4095-a6aa-bd82051cf5f0')\"\n",
              "            title=\"Suggest charts.\"\n",
              "            style=\"display:none;\">\n",
              "\n",
              "<svg xmlns=\"http://www.w3.org/2000/svg\" height=\"24px\"viewBox=\"0 0 24 24\"\n",
              "     width=\"24px\">\n",
              "    <g>\n",
              "        <path d=\"M19 3H5c-1.1 0-2 .9-2 2v14c0 1.1.9 2 2 2h14c1.1 0 2-.9 2-2V5c0-1.1-.9-2-2-2zM9 17H7v-7h2v7zm4 0h-2V7h2v10zm4 0h-2v-4h2v4z\"/>\n",
              "    </g>\n",
              "</svg>\n",
              "  </button>\n",
              "\n",
              "<style>\n",
              "  .colab-df-quickchart {\n",
              "    background-color: #E8F0FE;\n",
              "    border: none;\n",
              "    border-radius: 50%;\n",
              "    cursor: pointer;\n",
              "    display: none;\n",
              "    fill: #1967D2;\n",
              "    height: 32px;\n",
              "    padding: 0 0 0 0;\n",
              "    width: 32px;\n",
              "  }\n",
              "\n",
              "  .colab-df-quickchart:hover {\n",
              "    background-color: #E2EBFA;\n",
              "    box-shadow: 0px 1px 2px rgba(60, 64, 67, 0.3), 0px 1px 3px 1px rgba(60, 64, 67, 0.15);\n",
              "    fill: #174EA6;\n",
              "  }\n",
              "\n",
              "  [theme=dark] .colab-df-quickchart {\n",
              "    background-color: #3B4455;\n",
              "    fill: #D2E3FC;\n",
              "  }\n",
              "\n",
              "  [theme=dark] .colab-df-quickchart:hover {\n",
              "    background-color: #434B5C;\n",
              "    box-shadow: 0px 1px 3px 1px rgba(0, 0, 0, 0.15);\n",
              "    filter: drop-shadow(0px 1px 2px rgba(0, 0, 0, 0.3));\n",
              "    fill: #FFFFFF;\n",
              "  }\n",
              "</style>\n",
              "\n",
              "  <script>\n",
              "    async function quickchart(key) {\n",
              "      const charts = await google.colab.kernel.invokeFunction(\n",
              "          'suggestCharts', [key], {});\n",
              "    }\n",
              "    (() => {\n",
              "      let quickchartButtonEl =\n",
              "        document.querySelector('#df-eff1d9a3-9d0e-4095-a6aa-bd82051cf5f0 button');\n",
              "      quickchartButtonEl.style.display =\n",
              "        google.colab.kernel.accessAllowed ? 'block' : 'none';\n",
              "    })();\n",
              "  </script>\n",
              "</div>\n",
              "    </div>\n",
              "  </div>\n"
            ],
            "text/plain": [
              "           West  East  Central  South  North\n",
              "timestamp                                   \n",
              "01:00:00      6     9        7      6      8\n",
              "02:00:00      4    16        8     12     12\n",
              "03:00:00      6    11       11     18     13\n",
              "04:00:00     10     7        6     14      6\n",
              "05:00:00      4     9        4      5      6\n",
              "06:00:00      9    16        6      5     10\n",
              "07:00:00      4    17        4      6      9\n",
              "08:00:00      5    12        6      7     12\n",
              "09:00:00      4     7        5      2      7\n",
              "10:00:00     10    13        6      5     11\n",
              "11:00:00     12     6        7      6     13\n",
              "12:00:00     22    10       11     11     17\n",
              "13:00:00     20    12       10      9     13\n",
              "14:00:00     12     4        7      4     18\n",
              "15:00:00     12    10       22     21     20\n",
              "16:00:00      8    17        9      9      9\n",
              "17:00:00      7    15       17     30     11\n",
              "18:00:00      6    13       20     35      7\n",
              "19:00:00      5     4        3      3      6\n",
              "20:00:00      5     9        5      4     10\n",
              "21:00:00      7    16        8      5      9\n",
              "22:00:00      3     3        9      2     12\n",
              "23:00:00      2     5        4      3      6"
            ]
          },
          "execution_count": 24,
          "metadata": {},
          "output_type": "execute_result"
        }
      ],
      "source": [
        "# The easiest way is to use pd.json_normalize()\n",
        "df = pd.json_normalize(parsed_json[\"items\"])\n",
        "\n",
        "#optionally clean the dataframe a bit\n",
        "df[\"timestamp\"] = df[\"timestamp\"].str[11:19]\n",
        "df = df.set_index(\"timestamp\")\n",
        "del df[\"update_timestamp\"]\n",
        "df.columns = [\"West\", \"East\", \"Central\", \"South\", \"North\"]\n",
        "\n",
        "df"
      ]
    },
    {
      "cell_type": "code",
      "execution_count": null,
      "metadata": {
        "colab": {
          "base_uri": "https://localhost:8080/",
          "height": 206
        },
        "id": "v8H9e88Er324",
        "outputId": "51bda48f-bc25-4b59-8afd-b29e5fcd5f51"
      },
      "outputs": [
        {
          "data": {
            "text/html": [
              "\n",
              "  <div id=\"df-3f95a7a6-f2dd-4afe-ba09-60675f92ab54\" class=\"colab-df-container\">\n",
              "    <div>\n",
              "<style scoped>\n",
              "    .dataframe tbody tr th:only-of-type {\n",
              "        vertical-align: middle;\n",
              "    }\n",
              "\n",
              "    .dataframe tbody tr th {\n",
              "        vertical-align: top;\n",
              "    }\n",
              "\n",
              "    .dataframe thead th {\n",
              "        text-align: right;\n",
              "    }\n",
              "</style>\n",
              "<table border=\"1\" class=\"dataframe\">\n",
              "  <thead>\n",
              "    <tr style=\"text-align: right;\">\n",
              "      <th></th>\n",
              "      <th>pm25_one_hourly</th>\n",
              "    </tr>\n",
              "  </thead>\n",
              "  <tbody>\n",
              "    <tr>\n",
              "      <th>central</th>\n",
              "      <td>7</td>\n",
              "    </tr>\n",
              "    <tr>\n",
              "      <th>east</th>\n",
              "      <td>9</td>\n",
              "    </tr>\n",
              "    <tr>\n",
              "      <th>north</th>\n",
              "      <td>8</td>\n",
              "    </tr>\n",
              "    <tr>\n",
              "      <th>south</th>\n",
              "      <td>6</td>\n",
              "    </tr>\n",
              "    <tr>\n",
              "      <th>west</th>\n",
              "      <td>6</td>\n",
              "    </tr>\n",
              "  </tbody>\n",
              "</table>\n",
              "</div>\n",
              "    <div class=\"colab-df-buttons\">\n",
              "\n",
              "  <div class=\"colab-df-container\">\n",
              "    <button class=\"colab-df-convert\" onclick=\"convertToInteractive('df-3f95a7a6-f2dd-4afe-ba09-60675f92ab54')\"\n",
              "            title=\"Convert this dataframe to an interactive table.\"\n",
              "            style=\"display:none;\">\n",
              "\n",
              "  <svg xmlns=\"http://www.w3.org/2000/svg\" height=\"24px\" viewBox=\"0 -960 960 960\">\n",
              "    <path d=\"M120-120v-720h720v720H120Zm60-500h600v-160H180v160Zm220 220h160v-160H400v160Zm0 220h160v-160H400v160ZM180-400h160v-160H180v160Zm440 0h160v-160H620v160ZM180-180h160v-160H180v160Zm440 0h160v-160H620v160Z\"/>\n",
              "  </svg>\n",
              "    </button>\n",
              "\n",
              "  <style>\n",
              "    .colab-df-container {\n",
              "      display:flex;\n",
              "      gap: 12px;\n",
              "    }\n",
              "\n",
              "    .colab-df-convert {\n",
              "      background-color: #E8F0FE;\n",
              "      border: none;\n",
              "      border-radius: 50%;\n",
              "      cursor: pointer;\n",
              "      display: none;\n",
              "      fill: #1967D2;\n",
              "      height: 32px;\n",
              "      padding: 0 0 0 0;\n",
              "      width: 32px;\n",
              "    }\n",
              "\n",
              "    .colab-df-convert:hover {\n",
              "      background-color: #E2EBFA;\n",
              "      box-shadow: 0px 1px 2px rgba(60, 64, 67, 0.3), 0px 1px 3px 1px rgba(60, 64, 67, 0.15);\n",
              "      fill: #174EA6;\n",
              "    }\n",
              "\n",
              "    .colab-df-buttons div {\n",
              "      margin-bottom: 4px;\n",
              "    }\n",
              "\n",
              "    [theme=dark] .colab-df-convert {\n",
              "      background-color: #3B4455;\n",
              "      fill: #D2E3FC;\n",
              "    }\n",
              "\n",
              "    [theme=dark] .colab-df-convert:hover {\n",
              "      background-color: #434B5C;\n",
              "      box-shadow: 0px 1px 3px 1px rgba(0, 0, 0, 0.15);\n",
              "      filter: drop-shadow(0px 1px 2px rgba(0, 0, 0, 0.3));\n",
              "      fill: #FFFFFF;\n",
              "    }\n",
              "  </style>\n",
              "\n",
              "    <script>\n",
              "      const buttonEl =\n",
              "        document.querySelector('#df-3f95a7a6-f2dd-4afe-ba09-60675f92ab54 button.colab-df-convert');\n",
              "      buttonEl.style.display =\n",
              "        google.colab.kernel.accessAllowed ? 'block' : 'none';\n",
              "\n",
              "      async function convertToInteractive(key) {\n",
              "        const element = document.querySelector('#df-3f95a7a6-f2dd-4afe-ba09-60675f92ab54');\n",
              "        const dataTable =\n",
              "          await google.colab.kernel.invokeFunction('convertToInteractive',\n",
              "                                                    [key], {});\n",
              "        if (!dataTable) return;\n",
              "\n",
              "        const docLinkHtml = 'Like what you see? Visit the ' +\n",
              "          '<a target=\"_blank\" href=https://colab.research.google.com/notebooks/data_table.ipynb>data table notebook</a>'\n",
              "          + ' to learn more about interactive tables.';\n",
              "        element.innerHTML = '';\n",
              "        dataTable['output_type'] = 'display_data';\n",
              "        await google.colab.output.renderOutput(dataTable, element);\n",
              "        const docLink = document.createElement('div');\n",
              "        docLink.innerHTML = docLinkHtml;\n",
              "        element.appendChild(docLink);\n",
              "      }\n",
              "    </script>\n",
              "  </div>\n",
              "\n",
              "\n",
              "<div id=\"df-5b172e4f-0944-431e-b441-fe6801ed2f6c\">\n",
              "  <button class=\"colab-df-quickchart\" onclick=\"quickchart('df-5b172e4f-0944-431e-b441-fe6801ed2f6c')\"\n",
              "            title=\"Suggest charts.\"\n",
              "            style=\"display:none;\">\n",
              "\n",
              "<svg xmlns=\"http://www.w3.org/2000/svg\" height=\"24px\"viewBox=\"0 0 24 24\"\n",
              "     width=\"24px\">\n",
              "    <g>\n",
              "        <path d=\"M19 3H5c-1.1 0-2 .9-2 2v14c0 1.1.9 2 2 2h14c1.1 0 2-.9 2-2V5c0-1.1-.9-2-2-2zM9 17H7v-7h2v7zm4 0h-2V7h2v10zm4 0h-2v-4h2v4z\"/>\n",
              "    </g>\n",
              "</svg>\n",
              "  </button>\n",
              "\n",
              "<style>\n",
              "  .colab-df-quickchart {\n",
              "    background-color: #E8F0FE;\n",
              "    border: none;\n",
              "    border-radius: 50%;\n",
              "    cursor: pointer;\n",
              "    display: none;\n",
              "    fill: #1967D2;\n",
              "    height: 32px;\n",
              "    padding: 0 0 0 0;\n",
              "    width: 32px;\n",
              "  }\n",
              "\n",
              "  .colab-df-quickchart:hover {\n",
              "    background-color: #E2EBFA;\n",
              "    box-shadow: 0px 1px 2px rgba(60, 64, 67, 0.3), 0px 1px 3px 1px rgba(60, 64, 67, 0.15);\n",
              "    fill: #174EA6;\n",
              "  }\n",
              "\n",
              "  [theme=dark] .colab-df-quickchart {\n",
              "    background-color: #3B4455;\n",
              "    fill: #D2E3FC;\n",
              "  }\n",
              "\n",
              "  [theme=dark] .colab-df-quickchart:hover {\n",
              "    background-color: #434B5C;\n",
              "    box-shadow: 0px 1px 3px 1px rgba(0, 0, 0, 0.15);\n",
              "    filter: drop-shadow(0px 1px 2px rgba(0, 0, 0, 0.3));\n",
              "    fill: #FFFFFF;\n",
              "  }\n",
              "</style>\n",
              "\n",
              "  <script>\n",
              "    async function quickchart(key) {\n",
              "      const charts = await google.colab.kernel.invokeFunction(\n",
              "          'suggestCharts', [key], {});\n",
              "    }\n",
              "    (() => {\n",
              "      let quickchartButtonEl =\n",
              "        document.querySelector('#df-5b172e4f-0944-431e-b441-fe6801ed2f6c button');\n",
              "      quickchartButtonEl.style.display =\n",
              "        google.colab.kernel.accessAllowed ? 'block' : 'none';\n",
              "    })();\n",
              "  </script>\n",
              "</div>\n",
              "    </div>\n",
              "  </div>\n"
            ],
            "text/plain": [
              "         pm25_one_hourly\n",
              "central                7\n",
              "east                   9\n",
              "north                  8\n",
              "south                  6\n",
              "west                   6"
            ]
          },
          "execution_count": 25,
          "metadata": {},
          "output_type": "execute_result"
        }
      ],
      "source": [
        "# Alternatively, we could use pd.DataFrame() to force a dictionary into a dataframe\n",
        "# Here's an example of putting one row into a dataframe (full code below):\n",
        "pd.DataFrame(parsed_json[\"items\"][0][\"readings\"])"
      ]
    },
    {
      "cell_type": "code",
      "execution_count": null,
      "metadata": {
        "colab": {
          "base_uri": "https://localhost:8080/",
          "height": 1000
        },
        "id": "WAsSY2nsr324",
        "outputId": "c00076f9-870d-477d-9bf1-858a7922abcc"
      },
      "outputs": [
        {
          "name": "stderr",
          "output_type": "stream",
          "text": [
            "<ipython-input-26-77d3f7f99330>:19: FutureWarning: The frame.append method is deprecated and will be removed from pandas in a future version. Use pandas.concat instead.\n",
            "  data = data.append(tempdf)\n",
            "<ipython-input-26-77d3f7f99330>:19: FutureWarning: The frame.append method is deprecated and will be removed from pandas in a future version. Use pandas.concat instead.\n",
            "  data = data.append(tempdf)\n",
            "<ipython-input-26-77d3f7f99330>:19: FutureWarning: The frame.append method is deprecated and will be removed from pandas in a future version. Use pandas.concat instead.\n",
            "  data = data.append(tempdf)\n",
            "<ipython-input-26-77d3f7f99330>:19: FutureWarning: The frame.append method is deprecated and will be removed from pandas in a future version. Use pandas.concat instead.\n",
            "  data = data.append(tempdf)\n",
            "<ipython-input-26-77d3f7f99330>:19: FutureWarning: The frame.append method is deprecated and will be removed from pandas in a future version. Use pandas.concat instead.\n",
            "  data = data.append(tempdf)\n",
            "<ipython-input-26-77d3f7f99330>:19: FutureWarning: The frame.append method is deprecated and will be removed from pandas in a future version. Use pandas.concat instead.\n",
            "  data = data.append(tempdf)\n",
            "<ipython-input-26-77d3f7f99330>:19: FutureWarning: The frame.append method is deprecated and will be removed from pandas in a future version. Use pandas.concat instead.\n",
            "  data = data.append(tempdf)\n",
            "<ipython-input-26-77d3f7f99330>:19: FutureWarning: The frame.append method is deprecated and will be removed from pandas in a future version. Use pandas.concat instead.\n",
            "  data = data.append(tempdf)\n",
            "<ipython-input-26-77d3f7f99330>:19: FutureWarning: The frame.append method is deprecated and will be removed from pandas in a future version. Use pandas.concat instead.\n",
            "  data = data.append(tempdf)\n",
            "<ipython-input-26-77d3f7f99330>:19: FutureWarning: The frame.append method is deprecated and will be removed from pandas in a future version. Use pandas.concat instead.\n",
            "  data = data.append(tempdf)\n",
            "<ipython-input-26-77d3f7f99330>:19: FutureWarning: The frame.append method is deprecated and will be removed from pandas in a future version. Use pandas.concat instead.\n",
            "  data = data.append(tempdf)\n",
            "<ipython-input-26-77d3f7f99330>:19: FutureWarning: The frame.append method is deprecated and will be removed from pandas in a future version. Use pandas.concat instead.\n",
            "  data = data.append(tempdf)\n",
            "<ipython-input-26-77d3f7f99330>:19: FutureWarning: The frame.append method is deprecated and will be removed from pandas in a future version. Use pandas.concat instead.\n",
            "  data = data.append(tempdf)\n",
            "<ipython-input-26-77d3f7f99330>:19: FutureWarning: The frame.append method is deprecated and will be removed from pandas in a future version. Use pandas.concat instead.\n",
            "  data = data.append(tempdf)\n",
            "<ipython-input-26-77d3f7f99330>:19: FutureWarning: The frame.append method is deprecated and will be removed from pandas in a future version. Use pandas.concat instead.\n",
            "  data = data.append(tempdf)\n",
            "<ipython-input-26-77d3f7f99330>:19: FutureWarning: The frame.append method is deprecated and will be removed from pandas in a future version. Use pandas.concat instead.\n",
            "  data = data.append(tempdf)\n",
            "<ipython-input-26-77d3f7f99330>:19: FutureWarning: The frame.append method is deprecated and will be removed from pandas in a future version. Use pandas.concat instead.\n",
            "  data = data.append(tempdf)\n",
            "<ipython-input-26-77d3f7f99330>:19: FutureWarning: The frame.append method is deprecated and will be removed from pandas in a future version. Use pandas.concat instead.\n",
            "  data = data.append(tempdf)\n",
            "<ipython-input-26-77d3f7f99330>:19: FutureWarning: The frame.append method is deprecated and will be removed from pandas in a future version. Use pandas.concat instead.\n",
            "  data = data.append(tempdf)\n",
            "<ipython-input-26-77d3f7f99330>:19: FutureWarning: The frame.append method is deprecated and will be removed from pandas in a future version. Use pandas.concat instead.\n",
            "  data = data.append(tempdf)\n",
            "<ipython-input-26-77d3f7f99330>:19: FutureWarning: The frame.append method is deprecated and will be removed from pandas in a future version. Use pandas.concat instead.\n",
            "  data = data.append(tempdf)\n",
            "<ipython-input-26-77d3f7f99330>:19: FutureWarning: The frame.append method is deprecated and will be removed from pandas in a future version. Use pandas.concat instead.\n",
            "  data = data.append(tempdf)\n",
            "<ipython-input-26-77d3f7f99330>:19: FutureWarning: The frame.append method is deprecated and will be removed from pandas in a future version. Use pandas.concat instead.\n",
            "  data = data.append(tempdf)\n"
          ]
        },
        {
          "data": {
            "text/html": [
              "\n",
              "  <div id=\"df-5696b462-c659-4e83-88b9-9d185c994ee2\" class=\"colab-df-container\">\n",
              "    <div>\n",
              "<style scoped>\n",
              "    .dataframe tbody tr th:only-of-type {\n",
              "        vertical-align: middle;\n",
              "    }\n",
              "\n",
              "    .dataframe tbody tr th {\n",
              "        vertical-align: top;\n",
              "    }\n",
              "\n",
              "    .dataframe thead th {\n",
              "        text-align: right;\n",
              "    }\n",
              "</style>\n",
              "<table border=\"1\" class=\"dataframe\">\n",
              "  <thead>\n",
              "    <tr style=\"text-align: right;\">\n",
              "      <th></th>\n",
              "      <th>central</th>\n",
              "      <th>east</th>\n",
              "      <th>north</th>\n",
              "      <th>south</th>\n",
              "      <th>west</th>\n",
              "    </tr>\n",
              "  </thead>\n",
              "  <tbody>\n",
              "    <tr>\n",
              "      <th>01:00:00</th>\n",
              "      <td>7</td>\n",
              "      <td>9</td>\n",
              "      <td>8</td>\n",
              "      <td>6</td>\n",
              "      <td>6</td>\n",
              "    </tr>\n",
              "    <tr>\n",
              "      <th>02:00:00</th>\n",
              "      <td>8</td>\n",
              "      <td>16</td>\n",
              "      <td>12</td>\n",
              "      <td>12</td>\n",
              "      <td>4</td>\n",
              "    </tr>\n",
              "    <tr>\n",
              "      <th>03:00:00</th>\n",
              "      <td>11</td>\n",
              "      <td>11</td>\n",
              "      <td>13</td>\n",
              "      <td>18</td>\n",
              "      <td>6</td>\n",
              "    </tr>\n",
              "    <tr>\n",
              "      <th>04:00:00</th>\n",
              "      <td>6</td>\n",
              "      <td>7</td>\n",
              "      <td>6</td>\n",
              "      <td>14</td>\n",
              "      <td>10</td>\n",
              "    </tr>\n",
              "    <tr>\n",
              "      <th>05:00:00</th>\n",
              "      <td>4</td>\n",
              "      <td>9</td>\n",
              "      <td>6</td>\n",
              "      <td>5</td>\n",
              "      <td>4</td>\n",
              "    </tr>\n",
              "    <tr>\n",
              "      <th>06:00:00</th>\n",
              "      <td>6</td>\n",
              "      <td>16</td>\n",
              "      <td>10</td>\n",
              "      <td>5</td>\n",
              "      <td>9</td>\n",
              "    </tr>\n",
              "    <tr>\n",
              "      <th>07:00:00</th>\n",
              "      <td>4</td>\n",
              "      <td>17</td>\n",
              "      <td>9</td>\n",
              "      <td>6</td>\n",
              "      <td>4</td>\n",
              "    </tr>\n",
              "    <tr>\n",
              "      <th>08:00:00</th>\n",
              "      <td>6</td>\n",
              "      <td>12</td>\n",
              "      <td>12</td>\n",
              "      <td>7</td>\n",
              "      <td>5</td>\n",
              "    </tr>\n",
              "    <tr>\n",
              "      <th>09:00:00</th>\n",
              "      <td>5</td>\n",
              "      <td>7</td>\n",
              "      <td>7</td>\n",
              "      <td>2</td>\n",
              "      <td>4</td>\n",
              "    </tr>\n",
              "    <tr>\n",
              "      <th>10:00:00</th>\n",
              "      <td>6</td>\n",
              "      <td>13</td>\n",
              "      <td>11</td>\n",
              "      <td>5</td>\n",
              "      <td>10</td>\n",
              "    </tr>\n",
              "    <tr>\n",
              "      <th>11:00:00</th>\n",
              "      <td>7</td>\n",
              "      <td>6</td>\n",
              "      <td>13</td>\n",
              "      <td>6</td>\n",
              "      <td>12</td>\n",
              "    </tr>\n",
              "    <tr>\n",
              "      <th>12:00:00</th>\n",
              "      <td>11</td>\n",
              "      <td>10</td>\n",
              "      <td>17</td>\n",
              "      <td>11</td>\n",
              "      <td>22</td>\n",
              "    </tr>\n",
              "    <tr>\n",
              "      <th>13:00:00</th>\n",
              "      <td>10</td>\n",
              "      <td>12</td>\n",
              "      <td>13</td>\n",
              "      <td>9</td>\n",
              "      <td>20</td>\n",
              "    </tr>\n",
              "    <tr>\n",
              "      <th>14:00:00</th>\n",
              "      <td>7</td>\n",
              "      <td>4</td>\n",
              "      <td>18</td>\n",
              "      <td>4</td>\n",
              "      <td>12</td>\n",
              "    </tr>\n",
              "    <tr>\n",
              "      <th>15:00:00</th>\n",
              "      <td>22</td>\n",
              "      <td>10</td>\n",
              "      <td>20</td>\n",
              "      <td>21</td>\n",
              "      <td>12</td>\n",
              "    </tr>\n",
              "    <tr>\n",
              "      <th>16:00:00</th>\n",
              "      <td>9</td>\n",
              "      <td>17</td>\n",
              "      <td>9</td>\n",
              "      <td>9</td>\n",
              "      <td>8</td>\n",
              "    </tr>\n",
              "    <tr>\n",
              "      <th>17:00:00</th>\n",
              "      <td>17</td>\n",
              "      <td>15</td>\n",
              "      <td>11</td>\n",
              "      <td>30</td>\n",
              "      <td>7</td>\n",
              "    </tr>\n",
              "    <tr>\n",
              "      <th>18:00:00</th>\n",
              "      <td>20</td>\n",
              "      <td>13</td>\n",
              "      <td>7</td>\n",
              "      <td>35</td>\n",
              "      <td>6</td>\n",
              "    </tr>\n",
              "    <tr>\n",
              "      <th>19:00:00</th>\n",
              "      <td>3</td>\n",
              "      <td>4</td>\n",
              "      <td>6</td>\n",
              "      <td>3</td>\n",
              "      <td>5</td>\n",
              "    </tr>\n",
              "    <tr>\n",
              "      <th>20:00:00</th>\n",
              "      <td>5</td>\n",
              "      <td>9</td>\n",
              "      <td>10</td>\n",
              "      <td>4</td>\n",
              "      <td>5</td>\n",
              "    </tr>\n",
              "    <tr>\n",
              "      <th>21:00:00</th>\n",
              "      <td>8</td>\n",
              "      <td>16</td>\n",
              "      <td>9</td>\n",
              "      <td>5</td>\n",
              "      <td>7</td>\n",
              "    </tr>\n",
              "    <tr>\n",
              "      <th>22:00:00</th>\n",
              "      <td>9</td>\n",
              "      <td>3</td>\n",
              "      <td>12</td>\n",
              "      <td>2</td>\n",
              "      <td>3</td>\n",
              "    </tr>\n",
              "    <tr>\n",
              "      <th>23:00:00</th>\n",
              "      <td>4</td>\n",
              "      <td>5</td>\n",
              "      <td>6</td>\n",
              "      <td>3</td>\n",
              "      <td>2</td>\n",
              "    </tr>\n",
              "  </tbody>\n",
              "</table>\n",
              "</div>\n",
              "    <div class=\"colab-df-buttons\">\n",
              "\n",
              "  <div class=\"colab-df-container\">\n",
              "    <button class=\"colab-df-convert\" onclick=\"convertToInteractive('df-5696b462-c659-4e83-88b9-9d185c994ee2')\"\n",
              "            title=\"Convert this dataframe to an interactive table.\"\n",
              "            style=\"display:none;\">\n",
              "\n",
              "  <svg xmlns=\"http://www.w3.org/2000/svg\" height=\"24px\" viewBox=\"0 -960 960 960\">\n",
              "    <path d=\"M120-120v-720h720v720H120Zm60-500h600v-160H180v160Zm220 220h160v-160H400v160Zm0 220h160v-160H400v160ZM180-400h160v-160H180v160Zm440 0h160v-160H620v160ZM180-180h160v-160H180v160Zm440 0h160v-160H620v160Z\"/>\n",
              "  </svg>\n",
              "    </button>\n",
              "\n",
              "  <style>\n",
              "    .colab-df-container {\n",
              "      display:flex;\n",
              "      gap: 12px;\n",
              "    }\n",
              "\n",
              "    .colab-df-convert {\n",
              "      background-color: #E8F0FE;\n",
              "      border: none;\n",
              "      border-radius: 50%;\n",
              "      cursor: pointer;\n",
              "      display: none;\n",
              "      fill: #1967D2;\n",
              "      height: 32px;\n",
              "      padding: 0 0 0 0;\n",
              "      width: 32px;\n",
              "    }\n",
              "\n",
              "    .colab-df-convert:hover {\n",
              "      background-color: #E2EBFA;\n",
              "      box-shadow: 0px 1px 2px rgba(60, 64, 67, 0.3), 0px 1px 3px 1px rgba(60, 64, 67, 0.15);\n",
              "      fill: #174EA6;\n",
              "    }\n",
              "\n",
              "    .colab-df-buttons div {\n",
              "      margin-bottom: 4px;\n",
              "    }\n",
              "\n",
              "    [theme=dark] .colab-df-convert {\n",
              "      background-color: #3B4455;\n",
              "      fill: #D2E3FC;\n",
              "    }\n",
              "\n",
              "    [theme=dark] .colab-df-convert:hover {\n",
              "      background-color: #434B5C;\n",
              "      box-shadow: 0px 1px 3px 1px rgba(0, 0, 0, 0.15);\n",
              "      filter: drop-shadow(0px 1px 2px rgba(0, 0, 0, 0.3));\n",
              "      fill: #FFFFFF;\n",
              "    }\n",
              "  </style>\n",
              "\n",
              "    <script>\n",
              "      const buttonEl =\n",
              "        document.querySelector('#df-5696b462-c659-4e83-88b9-9d185c994ee2 button.colab-df-convert');\n",
              "      buttonEl.style.display =\n",
              "        google.colab.kernel.accessAllowed ? 'block' : 'none';\n",
              "\n",
              "      async function convertToInteractive(key) {\n",
              "        const element = document.querySelector('#df-5696b462-c659-4e83-88b9-9d185c994ee2');\n",
              "        const dataTable =\n",
              "          await google.colab.kernel.invokeFunction('convertToInteractive',\n",
              "                                                    [key], {});\n",
              "        if (!dataTable) return;\n",
              "\n",
              "        const docLinkHtml = 'Like what you see? Visit the ' +\n",
              "          '<a target=\"_blank\" href=https://colab.research.google.com/notebooks/data_table.ipynb>data table notebook</a>'\n",
              "          + ' to learn more about interactive tables.';\n",
              "        element.innerHTML = '';\n",
              "        dataTable['output_type'] = 'display_data';\n",
              "        await google.colab.output.renderOutput(dataTable, element);\n",
              "        const docLink = document.createElement('div');\n",
              "        docLink.innerHTML = docLinkHtml;\n",
              "        element.appendChild(docLink);\n",
              "      }\n",
              "    </script>\n",
              "  </div>\n",
              "\n",
              "\n",
              "<div id=\"df-cfea1b76-e655-45f7-87e5-c33d4d9a4e72\">\n",
              "  <button class=\"colab-df-quickchart\" onclick=\"quickchart('df-cfea1b76-e655-45f7-87e5-c33d4d9a4e72')\"\n",
              "            title=\"Suggest charts.\"\n",
              "            style=\"display:none;\">\n",
              "\n",
              "<svg xmlns=\"http://www.w3.org/2000/svg\" height=\"24px\"viewBox=\"0 0 24 24\"\n",
              "     width=\"24px\">\n",
              "    <g>\n",
              "        <path d=\"M19 3H5c-1.1 0-2 .9-2 2v14c0 1.1.9 2 2 2h14c1.1 0 2-.9 2-2V5c0-1.1-.9-2-2-2zM9 17H7v-7h2v7zm4 0h-2V7h2v10zm4 0h-2v-4h2v4z\"/>\n",
              "    </g>\n",
              "</svg>\n",
              "  </button>\n",
              "\n",
              "<style>\n",
              "  .colab-df-quickchart {\n",
              "    background-color: #E8F0FE;\n",
              "    border: none;\n",
              "    border-radius: 50%;\n",
              "    cursor: pointer;\n",
              "    display: none;\n",
              "    fill: #1967D2;\n",
              "    height: 32px;\n",
              "    padding: 0 0 0 0;\n",
              "    width: 32px;\n",
              "  }\n",
              "\n",
              "  .colab-df-quickchart:hover {\n",
              "    background-color: #E2EBFA;\n",
              "    box-shadow: 0px 1px 2px rgba(60, 64, 67, 0.3), 0px 1px 3px 1px rgba(60, 64, 67, 0.15);\n",
              "    fill: #174EA6;\n",
              "  }\n",
              "\n",
              "  [theme=dark] .colab-df-quickchart {\n",
              "    background-color: #3B4455;\n",
              "    fill: #D2E3FC;\n",
              "  }\n",
              "\n",
              "  [theme=dark] .colab-df-quickchart:hover {\n",
              "    background-color: #434B5C;\n",
              "    box-shadow: 0px 1px 3px 1px rgba(0, 0, 0, 0.15);\n",
              "    filter: drop-shadow(0px 1px 2px rgba(0, 0, 0, 0.3));\n",
              "    fill: #FFFFFF;\n",
              "  }\n",
              "</style>\n",
              "\n",
              "  <script>\n",
              "    async function quickchart(key) {\n",
              "      const charts = await google.colab.kernel.invokeFunction(\n",
              "          'suggestCharts', [key], {});\n",
              "    }\n",
              "    (() => {\n",
              "      let quickchartButtonEl =\n",
              "        document.querySelector('#df-cfea1b76-e655-45f7-87e5-c33d4d9a4e72 button');\n",
              "      quickchartButtonEl.style.display =\n",
              "        google.colab.kernel.accessAllowed ? 'block' : 'none';\n",
              "    })();\n",
              "  </script>\n",
              "</div>\n",
              "    </div>\n",
              "  </div>\n"
            ],
            "text/plain": [
              "          central  east  north  south  west\n",
              "01:00:00        7     9      8      6     6\n",
              "02:00:00        8    16     12     12     4\n",
              "03:00:00       11    11     13     18     6\n",
              "04:00:00        6     7      6     14    10\n",
              "05:00:00        4     9      6      5     4\n",
              "06:00:00        6    16     10      5     9\n",
              "07:00:00        4    17      9      6     4\n",
              "08:00:00        6    12     12      7     5\n",
              "09:00:00        5     7      7      2     4\n",
              "10:00:00        6    13     11      5    10\n",
              "11:00:00        7     6     13      6    12\n",
              "12:00:00       11    10     17     11    22\n",
              "13:00:00       10    12     13      9    20\n",
              "14:00:00        7     4     18      4    12\n",
              "15:00:00       22    10     20     21    12\n",
              "16:00:00        9    17      9      9     8\n",
              "17:00:00       17    15     11     30     7\n",
              "18:00:00       20    13      7     35     6\n",
              "19:00:00        3     4      6      3     5\n",
              "20:00:00        5     9     10      4     5\n",
              "21:00:00        8    16      9      5     7\n",
              "22:00:00        9     3     12      2     3\n",
              "23:00:00        4     5      6      3     2"
            ]
          },
          "execution_count": 26,
          "metadata": {},
          "output_type": "execute_result"
        }
      ],
      "source": [
        "# 1. Create an empty dataframe   (no need to specify columns, they will be added auto)\n",
        "#    hint: use pd.DataFrame()\n",
        "data = pd.DataFrame()\n",
        "\n",
        "# 2. First try to append a single hour of data\n",
        "#  - get the JSON data into a dataframe\n",
        "#  - append it\n",
        "\n",
        "#how to know which item to convert to dataframe? try and print each:\n",
        "pd.DataFrame(parsed_json[\"items\"]) #not great\n",
        "pd.DataFrame(parsed_json[\"items\"][0]) #same as before just a single hour of data\n",
        "pd.DataFrame(parsed_json[\"items\"][0][\"readings\"]) #ooh this one looks nice\n",
        "pd.DataFrame(parsed_json[\"items\"][0][\"readings\"]).T #let's transpose it\n",
        "\n",
        "# 3. Now append all 23 hours of data\n",
        "for dictionary in parsed_json[\"items\"]:\n",
        "    tempdf = pd.DataFrame(dictionary[\"readings\"]).T\n",
        "    tempdf.index = [dictionary[\"timestamp\"][11:19]]\n",
        "    data = data.append(tempdf)\n",
        "\n",
        "data"
      ]
    },
    {
      "cell_type": "code",
      "execution_count": null,
      "metadata": {
        "colab": {
          "base_uri": "https://localhost:8080/",
          "height": 447
        },
        "id": "hum2b0iBr325",
        "outputId": "659546c4-eefb-4e2e-e93e-fbb2b685c9be"
      },
      "outputs": [
        {
          "data": {
            "text/plain": [
              "<Axes: >"
            ]
          },
          "execution_count": 27,
          "metadata": {},
          "output_type": "execute_result"
        },
        {
          "data": {
            "image/png": "[encoded data removed]",
            "text/plain": [
              "<Figure size 640x480 with 1 Axes>"
            ]
          },
          "metadata": {},
          "output_type": "display_data"
        }
      ],
      "source": [
        "%matplotlib inline\n",
        "data.plot()"
      ]
    },
    {
      "cell_type": "code",
      "execution_count": null,
      "metadata": {
        "id": "Tbny-_b3r325"
      },
      "outputs": [],
      "source": []
    },
    {
      "cell_type": "markdown",
      "metadata": {
        "id": "7mGap_3er325"
      },
      "source": [
        "## Putting It All Together - APIs, Plot.ly, and Mapbox\n",
        "\n",
        "1. Request the latest Particulate Matter 2.5 readings from data.gov.sg. Store the returned data in a python dictionary (hint: don’t specify a date to get current data)\n",
        "\n",
        "2. Plot the longitude and latitude coordinates of the five locations on a map of Singapore using Plotly and Mapbox. (Your code should read the longitude and latitude coordinates directly from the response data; coordinates should not be hardcoded.)\n",
        "\n",
        "3. Add hover text that displays:\n",
        "    - the location name (north, east, central, etc.)\n",
        "    - the current PM reading for that location.\n"
      ]
    },
    {
      "cell_type": "code",
      "execution_count": null,
      "metadata": {
        "id": "c3LUgR_fr325"
      },
      "outputs": [],
      "source": [
        "#Break it down into steps:\n",
        "# 1. Access the CURRENT PM2.5 data from data.gov, save in parsed_json\n",
        "# 2. get the long/lat coordinates for each weather station\n",
        "# 3. get the current PM2.5 values for each weather station\n",
        "# 4. import plotly/mapbox tools and pass all the data to plotly"
      ]
    },
    {
      "cell_type": "code",
      "execution_count": null,
      "metadata": {
        "colab": {
          "base_uri": "https://localhost:8080/",
          "height": 542
        },
        "id": "13vvUwUAr325",
        "outputId": "8c4a8472-df99-4506-b445-b93ea9881694"
      },
      "outputs": [
        {
          "data": {
            "text/html": [
              "<html>\n",
              "<head><meta charset=\"utf-8\" /></head>\n",
              "<body>\n",
              "    <div>            <script src=\"https://cdnjs.cloudflare.com/ajax/libs/mathjax/2.7.5/MathJax.js?config=TeX-AMS-MML_SVG\"></script><script type=\"text/javascript\">if (window.MathJax && window.MathJax.Hub && window.MathJax.Hub.Config) {window.MathJax.Hub.Config({SVG: {font: \"STIX-Web\"}});}</script>                <script type=\"text/javascript\">window.PlotlyConfig = {MathJaxConfig: 'local'};</script>\n",
              "        <script charset=\"utf-8\" src=\"https://cdn.plot.ly/plotly-2.24.1.min.js\"></script>                <div id=\"f2f8cf99-3050-4137-9df3-bf8b8b1790f1\" class=\"plotly-graph-div\" style=\"height:525px; width:100%;\"></div>            <script type=\"text/javascript\">                                    window.PLOTLYENV=window.PLOTLYENV || {};                                    if (document.getElementById(\"f2f8cf99-3050-4137-9df3-bf8b8b1790f1\")) {                    Plotly.newPlot(                        \"f2f8cf99-3050-4137-9df3-bf8b8b1790f1\",                        [{\"lat\":[1.41803,1.35735,1.29587,1.35735,1.35735],\"lon\":[103.82,103.94,103.82,103.7,103.82],\"marker\":{\"size\":14},\"mode\":\"markers\",\"text\":[\"North PM2.5 = 11\",\"East PM2.5 = 22\",\"South PM2.5 = 8\",\"West PM2.5 = 9\",\"Central PM2.5 = 18\"],\"type\":\"scattermapbox\"}],                        {\"autosize\":true,\"hovermode\":\"closest\",\"mapbox\":{\"accesstoken\":\"pk.eyJ1IjoibWlrZXRpbmtlcnRhbmtlciIsImEiOiJjajZvajA2bWEwNXhxMzNud2NlMHUyaHI0In0.XFNKTNUWWVK-OO_r1kvXqQ\",\"bearing\":0,\"center\":{\"lat\":1.35735,\"lon\":103.82},\"pitch\":0,\"zoom\":10},\"template\":{\"data\":{\"histogram2dcontour\":[{\"type\":\"histogram2dcontour\",\"colorbar\":{\"outlinewidth\":0,\"ticks\":\"\"},\"colorscale\":[[0.0,\"#0d0887\"],[0.1111111111111111,\"#46039f\"],[0.2222222222222222,\"#7201a8\"],[0.3333333333333333,\"#9c179e\"],[0.4444444444444444,\"#bd3786\"],[0.5555555555555556,\"#d8576b\"],[0.6666666666666666,\"#ed7953\"],[0.7777777777777778,\"#fb9f3a\"],[0.8888888888888888,\"#fdca26\"],[1.0,\"#f0f921\"]]}],\"choropleth\":[{\"type\":\"choropleth\",\"colorbar\":{\"outlinewidth\":0,\"ticks\":\"\"}}],\"histogram2d\":[{\"type\":\"histogram2d\",\"colorbar\":{\"outlinewidth\":0,\"ticks\":\"\"},\"colorscale\":[[0.0,\"#0d0887\"],[0.1111111111111111,\"#46039f\"],[0.2222222222222222,\"#7201a8\"],[0.3333333333333333,\"#9c179e\"],[0.4444444444444444,\"#bd3786\"],[0.5555555555555556,\"#d8576b\"],[0.6666666666666666,\"#ed7953\"],[0.7777777777777778,\"#fb9f3a\"],[0.8888888888888888,\"#fdca26\"],[1.0,\"#f0f921\"]]}],\"heatmap\":[{\"type\":\"heatmap\",\"colorbar\":{\"outlinewidth\":0,\"ticks\":\"\"},\"colorscale\":[[0.0,\"#0d0887\"],[0.1111111111111111,\"#46039f\"],[0.2222222222222222,\"#7201a8\"],[0.3333333333333333,\"#9c179e\"],[0.4444444444444444,\"#bd3786\"],[0.5555555555555556,\"#d8576b\"],[0.6666666666666666,\"#ed7953\"],[0.7777777777777778,\"#fb9f3a\"],[0.8888888888888888,\"#fdca26\"],[1.0,\"#f0f921\"]]}],\"heatmapgl\":[{\"type\":\"heatmapgl\",\"colorbar\":{\"outlinewidth\":0,\"ticks\":\"\"},\"colorscale\":[[0.0,\"#0d0887\"],[0.1111111111111111,\"#46039f\"],[0.2222222222222222,\"#7201a8\"],[0.3333333333333333,\"#9c179e\"],[0.4444444444444444,\"#bd3786\"],[0.5555555555555556,\"#d8576b\"],[0.6666666666666666,\"#ed7953\"],[0.7777777777777778,\"#fb9f3a\"],[0.8888888888888888,\"#fdca26\"],[1.0,\"#f0f921\"]]}],\"contourcarpet\":[{\"type\":\"contourcarpet\",\"colorbar\":{\"outlinewidth\":0,\"ticks\":\"\"}}],\"contour\":[{\"type\":\"contour\",\"colorbar\":{\"outlinewidth\":0,\"ticks\":\"\"},\"colorscale\":[[0.0,\"#0d0887\"],[0.1111111111111111,\"#46039f\"],[0.2222222222222222,\"#7201a8\"],[0.3333333333333333,\"#9c179e\"],[0.4444444444444444,\"#bd3786\"],[0.5555555555555556,\"#d8576b\"],[0.6666666666666666,\"#ed7953\"],[0.7777777777777778,\"#fb9f3a\"],[0.8888888888888888,\"#fdca26\"],[1.0,\"#f0f921\"]]}],\"surface\":[{\"type\":\"surface\",\"colorbar\":{\"outlinewidth\":0,\"ticks\":\"\"},\"colorscale\":[[0.0,\"#0d0887\"],[0.1111111111111111,\"#46039f\"],[0.2222222222222222,\"#7201a8\"],[0.3333333333333333,\"#9c179e\"],[0.4444444444444444,\"#bd3786\"],[0.5555555555555556,\"#d8576b\"],[0.6666666666666666,\"#ed7953\"],[0.7777777777777778,\"#fb9f3a\"],[0.8888888888888888,\"#fdca26\"],[1.0,\"#f0f921\"]]}],\"mesh3d\":[{\"type\":\"mesh3d\",\"colorbar\":{\"outlinewidth\":0,\"ticks\":\"\"}}],\"scatter\":[{\"fillpattern\":{\"fillmode\":\"overlay\",\"size\":10,\"solidity\":0.2},\"type\":\"scatter\"}],\"parcoords\":[{\"type\":\"parcoords\",\"line\":{\"colorbar\":{\"outlinewidth\":0,\"ticks\":\"\"}}}],\"scatterpolargl\":[{\"type\":\"scatterpolargl\",\"marker\":{\"colorbar\":{\"outlinewidth\":0,\"ticks\":\"\"}}}],\"bar\":[{\"error_x\":{\"color\":\"#2a3f5f\"},\"error_y\":{\"color\":\"#2a3f5f\"},\"marker\":{\"line\":{\"color\":\"#E5ECF6\",\"width\":0.5},\"pattern\":{\"fillmode\":\"overlay\",\"size\":10,\"solidity\":0.2}},\"type\":\"bar\"}],\"scattergeo\":[{\"type\":\"scattergeo\",\"marker\":{\"colorbar\":{\"outlinewidth\":0,\"ticks\":\"\"}}}],\"scatterpolar\":[{\"type\":\"scatterpolar\",\"marker\":{\"colorbar\":{\"outlinewidth\":0,\"ticks\":\"\"}}}],\"histogram\":[{\"marker\":{\"pattern\":{\"fillmode\":\"overlay\",\"size\":10,\"solidity\":0.2}},\"type\":\"histogram\"}],\"scattergl\":[{\"type\":\"scattergl\",\"marker\":{\"colorbar\":{\"outlinewidth\":0,\"ticks\":\"\"}}}],\"scatter3d\":[{\"type\":\"scatter3d\",\"line\":{\"colorbar\":{\"outlinewidth\":0,\"ticks\":\"\"}},\"marker\":{\"colorbar\":{\"outlinewidth\":0,\"ticks\":\"\"}}}],\"scattermapbox\":[{\"type\":\"scattermapbox\",\"marker\":{\"colorbar\":{\"outlinewidth\":0,\"ticks\":\"\"}}}],\"scatterternary\":[{\"type\":\"scatterternary\",\"marker\":{\"colorbar\":{\"outlinewidth\":0,\"ticks\":\"\"}}}],\"scattercarpet\":[{\"type\":\"scattercarpet\",\"marker\":{\"colorbar\":{\"outlinewidth\":0,\"ticks\":\"\"}}}],\"carpet\":[{\"aaxis\":{\"endlinecolor\":\"#2a3f5f\",\"gridcolor\":\"white\",\"linecolor\":\"white\",\"minorgridcolor\":\"white\",\"startlinecolor\":\"#2a3f5f\"},\"baxis\":{\"endlinecolor\":\"#2a3f5f\",\"gridcolor\":\"white\",\"linecolor\":\"white\",\"minorgridcolor\":\"white\",\"startlinecolor\":\"#2a3f5f\"},\"type\":\"carpet\"}],\"table\":[{\"cells\":{\"fill\":{\"color\":\"#EBF0F8\"},\"line\":{\"color\":\"white\"}},\"header\":{\"fill\":{\"color\":\"#C8D4E3\"},\"line\":{\"color\":\"white\"}},\"type\":\"table\"}],\"barpolar\":[{\"marker\":{\"line\":{\"color\":\"#E5ECF6\",\"width\":0.5},\"pattern\":{\"fillmode\":\"overlay\",\"size\":10,\"solidity\":0.2}},\"type\":\"barpolar\"}],\"pie\":[{\"automargin\":true,\"type\":\"pie\"}]},\"layout\":{\"autotypenumbers\":\"strict\",\"colorway\":[\"#636efa\",\"#EF553B\",\"#00cc96\",\"#ab63fa\",\"#FFA15A\",\"#19d3f3\",\"#FF6692\",\"#B6E880\",\"#FF97FF\",\"#FECB52\"],\"font\":{\"color\":\"#2a3f5f\"},\"hovermode\":\"closest\",\"hoverlabel\":{\"align\":\"left\"},\"paper_bgcolor\":\"white\",\"plot_bgcolor\":\"#E5ECF6\",\"polar\":{\"bgcolor\":\"#E5ECF6\",\"angularaxis\":{\"gridcolor\":\"white\",\"linecolor\":\"white\",\"ticks\":\"\"},\"radialaxis\":{\"gridcolor\":\"white\",\"linecolor\":\"white\",\"ticks\":\"\"}},\"ternary\":{\"bgcolor\":\"#E5ECF6\",\"aaxis\":{\"gridcolor\":\"white\",\"linecolor\":\"white\",\"ticks\":\"\"},\"baxis\":{\"gridcolor\":\"white\",\"linecolor\":\"white\",\"ticks\":\"\"},\"caxis\":{\"gridcolor\":\"white\",\"linecolor\":\"white\",\"ticks\":\"\"}},\"coloraxis\":{\"colorbar\":{\"outlinewidth\":0,\"ticks\":\"\"}},\"colorscale\":{\"sequential\":[[0.0,\"#0d0887\"],[0.1111111111111111,\"#46039f\"],[0.2222222222222222,\"#7201a8\"],[0.3333333333333333,\"#9c179e\"],[0.4444444444444444,\"#bd3786\"],[0.5555555555555556,\"#d8576b\"],[0.6666666666666666,\"#ed7953\"],[0.7777777777777778,\"#fb9f3a\"],[0.8888888888888888,\"#fdca26\"],[1.0,\"#f0f921\"]],\"sequentialminus\":[[0.0,\"#0d0887\"],[0.1111111111111111,\"#46039f\"],[0.2222222222222222,\"#7201a8\"],[0.3333333333333333,\"#9c179e\"],[0.4444444444444444,\"#bd3786\"],[0.5555555555555556,\"#d8576b\"],[0.6666666666666666,\"#ed7953\"],[0.7777777777777778,\"#fb9f3a\"],[0.8888888888888888,\"#fdca26\"],[1.0,\"#f0f921\"]],\"diverging\":[[0,\"#8e0152\"],[0.1,\"#c51b7d\"],[0.2,\"#de77ae\"],[0.3,\"#f1b6da\"],[0.4,\"#fde0ef\"],[0.5,\"#f7f7f7\"],[0.6,\"#e6f5d0\"],[0.7,\"#b8e186\"],[0.8,\"#7fbc41\"],[0.9,\"#4d9221\"],[1,\"#276419\"]]},\"xaxis\":{\"gridcolor\":\"white\",\"linecolor\":\"white\",\"ticks\":\"\",\"title\":{\"standoff\":15},\"zerolinecolor\":\"white\",\"automargin\":true,\"zerolinewidth\":2},\"yaxis\":{\"gridcolor\":\"white\",\"linecolor\":\"white\",\"ticks\":\"\",\"title\":{\"standoff\":15},\"zerolinecolor\":\"white\",\"automargin\":true,\"zerolinewidth\":2},\"scene\":{\"xaxis\":{\"backgroundcolor\":\"#E5ECF6\",\"gridcolor\":\"white\",\"linecolor\":\"white\",\"showbackground\":true,\"ticks\":\"\",\"zerolinecolor\":\"white\",\"gridwidth\":2},\"yaxis\":{\"backgroundcolor\":\"#E5ECF6\",\"gridcolor\":\"white\",\"linecolor\":\"white\",\"showbackground\":true,\"ticks\":\"\",\"zerolinecolor\":\"white\",\"gridwidth\":2},\"zaxis\":{\"backgroundcolor\":\"#E5ECF6\",\"gridcolor\":\"white\",\"linecolor\":\"white\",\"showbackground\":true,\"ticks\":\"\",\"zerolinecolor\":\"white\",\"gridwidth\":2}},\"shapedefaults\":{\"line\":{\"color\":\"#2a3f5f\"}},\"annotationdefaults\":{\"arrowcolor\":\"#2a3f5f\",\"arrowhead\":0,\"arrowwidth\":1},\"geo\":{\"bgcolor\":\"white\",\"landcolor\":\"#E5ECF6\",\"subunitcolor\":\"white\",\"showland\":true,\"showlakes\":true,\"lakecolor\":\"white\"},\"title\":{\"x\":0.05},\"mapbox\":{\"style\":\"light\"}}}},                        {\"responsive\": true}                    ).then(function(){\n",
              "                            \n",
              "var gd = document.getElementById('f2f8cf99-3050-4137-9df3-bf8b8b1790f1');\n",
              "var x = new MutationObserver(function (mutations, observer) {{\n",
              "        var display = window.getComputedStyle(gd).display;\n",
              "        if (!display || display === 'none') {{\n",
              "            console.log([gd, 'removed!']);\n",
              "            Plotly.purge(gd);\n",
              "            observer.disconnect();\n",
              "        }}\n",
              "}});\n",
              "\n",
              "// Listen for the removal of the full notebook cells\n",
              "var notebookContainer = gd.closest('#notebook-container');\n",
              "if (notebookContainer) {{\n",
              "    x.observe(notebookContainer, {childList: true});\n",
              "}}\n",
              "\n",
              "// Listen for the clearing of the current output cell\n",
              "var outputEl = gd.closest('.output');\n",
              "if (outputEl) {{\n",
              "    x.observe(outputEl, {childList: true});\n",
              "}}\n",
              "\n",
              "                        })                };                            </script>        </div>\n",
              "</body>\n",
              "</html>"
            ]
          },
          "metadata": {},
          "output_type": "display_data"
        }
      ],
      "source": [
        "###Part 1\n",
        "#Import the modules\n",
        "import urllib.request\n",
        "import json\n",
        "import plotly\n",
        "import plotly.graph_objs as go\n",
        "\n",
        "# This is my own mapbox api key. Please sign up and get your own if you want to use it more extensively!\n",
        "mapbox_access_token = 'pk.eyJ1IjoibWlrZXRpbmtlcnRhbmtlciIsImEiOiJjajZvajA2bWEwNXhxMzNud2NlMHUyaHI0In0.XFNKTNUWWVK-OO_r1kvXqQ'\n",
        "\n",
        "\n",
        "#Create a request\n",
        "url = \"https://api.data.gov.sg/v1/environment/pm25\" #don't specify a date to get current data\n",
        "request = urllib.request.Request(url)\n",
        "\n",
        "# Get the feed and store it\n",
        "response = urllib.request.urlopen(request)\n",
        "livedata = response.read()\n",
        "\n",
        "# Convert it to a Python dictionary\n",
        "parsed_json = json.loads(livedata.decode('utf-8'))\n",
        "\n",
        "#first get long,lat coords\n",
        "\n",
        "#west\n",
        "west_long = parsed_json[\"region_metadata\"][0][\"label_location\"][\"longitude\"]\n",
        "west_lat = parsed_json[\"region_metadata\"][0][\"label_location\"][\"latitude\"]\n",
        "\n",
        "#east\n",
        "east_long = parsed_json[\"region_metadata\"][1][\"label_location\"][\"longitude\"]\n",
        "east_lat = parsed_json[\"region_metadata\"][1][\"label_location\"][\"latitude\"]\n",
        "\n",
        "#central\n",
        "central_long = parsed_json[\"region_metadata\"][2][\"label_location\"][\"longitude\"]\n",
        "central_lat = parsed_json[\"region_metadata\"][2][\"label_location\"][\"latitude\"]\n",
        "\n",
        "#south\n",
        "south_long = parsed_json[\"region_metadata\"][3][\"label_location\"][\"longitude\"]\n",
        "south_lat = parsed_json[\"region_metadata\"][3][\"label_location\"][\"latitude\"]\n",
        "\n",
        "#north\n",
        "north_long = parsed_json[\"region_metadata\"][4][\"label_location\"][\"longitude\"]\n",
        "north_lat = parsed_json[\"region_metadata\"][4][\"label_location\"][\"latitude\"]\n",
        "\n",
        "west_pm = parsed_json[\"items\"][0][\"readings\"][\"pm25_one_hourly\"][\"west\"]\n",
        "east_pm = parsed_json[\"items\"][0][\"readings\"][\"pm25_one_hourly\"][\"east\"]\n",
        "central_pm = parsed_json[\"items\"][0][\"readings\"][\"pm25_one_hourly\"][\"central\"]\n",
        "south_pm = parsed_json[\"items\"][0][\"readings\"][\"pm25_one_hourly\"][\"south\"]\n",
        "north_pm = parsed_json[\"items\"][0][\"readings\"][\"pm25_one_hourly\"][\"north\"]\n",
        "\n",
        "firstplot = go.Scattermapbox(\n",
        "        lat=[north_lat, east_lat, south_lat, west_lat, central_lat],\n",
        "        lon=[north_long, east_long, south_long, west_long, central_long],\n",
        "        mode='markers',\n",
        "        marker=dict(size=14),\n",
        "        ### Part 3\n",
        "        text=['North PM2.5 = ' + str(north_pm),\n",
        "              'East PM2.5 = ' + str(east_pm),\n",
        "              'South PM2.5 = ' + str(south_pm),\n",
        "              'West PM2.5 = ' + str(west_pm),\n",
        "              'Central PM2.5 = ' + str(central_pm),])\n",
        "\n",
        "data = [firstplot]\n",
        "\n",
        "layout = go.Layout(\n",
        "    autosize=True,\n",
        "    hovermode='closest',\n",
        "    mapbox={'accesstoken': mapbox_access_token,\n",
        "            'bearing':0,\n",
        "            'center':{'lat':central_lat, 'lon':central_long},\n",
        "            'pitch':0,\n",
        "            'zoom':10}\n",
        ")\n",
        "\n",
        "#plotly.offline.plot(final_dictionary, filename='PM25.html')\n",
        "go.Figure(data=data, layout=layout).show()"
      ]
    },
    {
      "cell_type": "code",
      "execution_count": null,
      "metadata": {
        "colab": {
          "base_uri": "https://localhost:8080/",
          "height": 542
        },
        "id": "FZPUR9_Gr328",
        "outputId": "32025c45-786c-4776-8322-b3661dd67c8e"
      },
      "outputs": [
        {
          "data": {
            "text/html": [
              "<html>\n",
              "<head><meta charset=\"utf-8\" /></head>\n",
              "<body>\n",
              "    <div>            <script src=\"https://cdnjs.cloudflare.com/ajax/libs/mathjax/2.7.5/MathJax.js?config=TeX-AMS-MML_SVG\"></script><script type=\"text/javascript\">if (window.MathJax && window.MathJax.Hub && window.MathJax.Hub.Config) {window.MathJax.Hub.Config({SVG: {font: \"STIX-Web\"}});}</script>                <script type=\"text/javascript\">window.PlotlyConfig = {MathJaxConfig: 'local'};</script>\n",
              "        <script charset=\"utf-8\" src=\"https://cdn.plot.ly/plotly-2.24.1.min.js\"></script>                <div id=\"717757cf-d9c8-428a-a678-17464d2bf786\" class=\"plotly-graph-div\" style=\"height:525px; width:100%;\"></div>            <script type=\"text/javascript\">                                    window.PLOTLYENV=window.PLOTLYENV || {};                                    if (document.getElementById(\"717757cf-d9c8-428a-a678-17464d2bf786\")) {                    Plotly.newPlot(                        \"717757cf-d9c8-428a-a678-17464d2bf786\",                        [{\"lat\":[1.41803,1.35735,1.29587,1.35735,1.35735],\"lon\":[103.82,103.94,103.82,103.7,103.82],\"marker\":{\"size\":14},\"mode\":\"markers\",\"text\":[\"North PM2.5 = 11\",\"East PM2.5 = 22\",\"South PM2.5 = 8\",\"West PM2.5 = 9\",\"Central PM2.5 = 18\"],\"type\":\"scattermapbox\"}],                        {\"autosize\":true,\"hovermode\":\"closest\",\"mapbox\":{\"accesstoken\":\"pk.eyJ1IjoibWlrZXRpbmtlcnRhbmtlciIsImEiOiJjajZvajA2bWEwNXhxMzNud2NlMHUyaHI0In0.XFNKTNUWWVK-OO_r1kvXqQ\",\"bearing\":0,\"center\":{\"lat\":1.35735,\"lon\":103.82},\"pitch\":0,\"zoom\":10},\"template\":{\"data\":{\"histogram2dcontour\":[{\"type\":\"histogram2dcontour\",\"colorbar\":{\"outlinewidth\":0,\"ticks\":\"\"},\"colorscale\":[[0.0,\"#0d0887\"],[0.1111111111111111,\"#46039f\"],[0.2222222222222222,\"#7201a8\"],[0.3333333333333333,\"#9c179e\"],[0.4444444444444444,\"#bd3786\"],[0.5555555555555556,\"#d8576b\"],[0.6666666666666666,\"#ed7953\"],[0.7777777777777778,\"#fb9f3a\"],[0.8888888888888888,\"#fdca26\"],[1.0,\"#f0f921\"]]}],\"choropleth\":[{\"type\":\"choropleth\",\"colorbar\":{\"outlinewidth\":0,\"ticks\":\"\"}}],\"histogram2d\":[{\"type\":\"histogram2d\",\"colorbar\":{\"outlinewidth\":0,\"ticks\":\"\"},\"colorscale\":[[0.0,\"#0d0887\"],[0.1111111111111111,\"#46039f\"],[0.2222222222222222,\"#7201a8\"],[0.3333333333333333,\"#9c179e\"],[0.4444444444444444,\"#bd3786\"],[0.5555555555555556,\"#d8576b\"],[0.6666666666666666,\"#ed7953\"],[0.7777777777777778,\"#fb9f3a\"],[0.8888888888888888,\"#fdca26\"],[1.0,\"#f0f921\"]]}],\"heatmap\":[{\"type\":\"heatmap\",\"colorbar\":{\"outlinewidth\":0,\"ticks\":\"\"},\"colorscale\":[[0.0,\"#0d0887\"],[0.1111111111111111,\"#46039f\"],[0.2222222222222222,\"#7201a8\"],[0.3333333333333333,\"#9c179e\"],[0.4444444444444444,\"#bd3786\"],[0.5555555555555556,\"#d8576b\"],[0.6666666666666666,\"#ed7953\"],[0.7777777777777778,\"#fb9f3a\"],[0.8888888888888888,\"#fdca26\"],[1.0,\"#f0f921\"]]}],\"heatmapgl\":[{\"type\":\"heatmapgl\",\"colorbar\":{\"outlinewidth\":0,\"ticks\":\"\"},\"colorscale\":[[0.0,\"#0d0887\"],[0.1111111111111111,\"#46039f\"],[0.2222222222222222,\"#7201a8\"],[0.3333333333333333,\"#9c179e\"],[0.4444444444444444,\"#bd3786\"],[0.5555555555555556,\"#d8576b\"],[0.6666666666666666,\"#ed7953\"],[0.7777777777777778,\"#fb9f3a\"],[0.8888888888888888,\"#fdca26\"],[1.0,\"#f0f921\"]]}],\"contourcarpet\":[{\"type\":\"contourcarpet\",\"colorbar\":{\"outlinewidth\":0,\"ticks\":\"\"}}],\"contour\":[{\"type\":\"contour\",\"colorbar\":{\"outlinewidth\":0,\"ticks\":\"\"},\"colorscale\":[[0.0,\"#0d0887\"],[0.1111111111111111,\"#46039f\"],[0.2222222222222222,\"#7201a8\"],[0.3333333333333333,\"#9c179e\"],[0.4444444444444444,\"#bd3786\"],[0.5555555555555556,\"#d8576b\"],[0.6666666666666666,\"#ed7953\"],[0.7777777777777778,\"#fb9f3a\"],[0.8888888888888888,\"#fdca26\"],[1.0,\"#f0f921\"]]}],\"surface\":[{\"type\":\"surface\",\"colorbar\":{\"outlinewidth\":0,\"ticks\":\"\"},\"colorscale\":[[0.0,\"#0d0887\"],[0.1111111111111111,\"#46039f\"],[0.2222222222222222,\"#7201a8\"],[0.3333333333333333,\"#9c179e\"],[0.4444444444444444,\"#bd3786\"],[0.5555555555555556,\"#d8576b\"],[0.6666666666666666,\"#ed7953\"],[0.7777777777777778,\"#fb9f3a\"],[0.8888888888888888,\"#fdca26\"],[1.0,\"#f0f921\"]]}],\"mesh3d\":[{\"type\":\"mesh3d\",\"colorbar\":{\"outlinewidth\":0,\"ticks\":\"\"}}],\"scatter\":[{\"fillpattern\":{\"fillmode\":\"overlay\",\"size\":10,\"solidity\":0.2},\"type\":\"scatter\"}],\"parcoords\":[{\"type\":\"parcoords\",\"line\":{\"colorbar\":{\"outlinewidth\":0,\"ticks\":\"\"}}}],\"scatterpolargl\":[{\"type\":\"scatterpolargl\",\"marker\":{\"colorbar\":{\"outlinewidth\":0,\"ticks\":\"\"}}}],\"bar\":[{\"error_x\":{\"color\":\"#2a3f5f\"},\"error_y\":{\"color\":\"#2a3f5f\"},\"marker\":{\"line\":{\"color\":\"#E5ECF6\",\"width\":0.5},\"pattern\":{\"fillmode\":\"overlay\",\"size\":10,\"solidity\":0.2}},\"type\":\"bar\"}],\"scattergeo\":[{\"type\":\"scattergeo\",\"marker\":{\"colorbar\":{\"outlinewidth\":0,\"ticks\":\"\"}}}],\"scatterpolar\":[{\"type\":\"scatterpolar\",\"marker\":{\"colorbar\":{\"outlinewidth\":0,\"ticks\":\"\"}}}],\"histogram\":[{\"marker\":{\"pattern\":{\"fillmode\":\"overlay\",\"size\":10,\"solidity\":0.2}},\"type\":\"histogram\"}],\"scattergl\":[{\"type\":\"scattergl\",\"marker\":{\"colorbar\":{\"outlinewidth\":0,\"ticks\":\"\"}}}],\"scatter3d\":[{\"type\":\"scatter3d\",\"line\":{\"colorbar\":{\"outlinewidth\":0,\"ticks\":\"\"}},\"marker\":{\"colorbar\":{\"outlinewidth\":0,\"ticks\":\"\"}}}],\"scattermapbox\":[{\"type\":\"scattermapbox\",\"marker\":{\"colorbar\":{\"outlinewidth\":0,\"ticks\":\"\"}}}],\"scatterternary\":[{\"type\":\"scatterternary\",\"marker\":{\"colorbar\":{\"outlinewidth\":0,\"ticks\":\"\"}}}],\"scattercarpet\":[{\"type\":\"scattercarpet\",\"marker\":{\"colorbar\":{\"outlinewidth\":0,\"ticks\":\"\"}}}],\"carpet\":[{\"aaxis\":{\"endlinecolor\":\"#2a3f5f\",\"gridcolor\":\"white\",\"linecolor\":\"white\",\"minorgridcolor\":\"white\",\"startlinecolor\":\"#2a3f5f\"},\"baxis\":{\"endlinecolor\":\"#2a3f5f\",\"gridcolor\":\"white\",\"linecolor\":\"white\",\"minorgridcolor\":\"white\",\"startlinecolor\":\"#2a3f5f\"},\"type\":\"carpet\"}],\"table\":[{\"cells\":{\"fill\":{\"color\":\"#EBF0F8\"},\"line\":{\"color\":\"white\"}},\"header\":{\"fill\":{\"color\":\"#C8D4E3\"},\"line\":{\"color\":\"white\"}},\"type\":\"table\"}],\"barpolar\":[{\"marker\":{\"line\":{\"color\":\"#E5ECF6\",\"width\":0.5},\"pattern\":{\"fillmode\":\"overlay\",\"size\":10,\"solidity\":0.2}},\"type\":\"barpolar\"}],\"pie\":[{\"automargin\":true,\"type\":\"pie\"}]},\"layout\":{\"autotypenumbers\":\"strict\",\"colorway\":[\"#636efa\",\"#EF553B\",\"#00cc96\",\"#ab63fa\",\"#FFA15A\",\"#19d3f3\",\"#FF6692\",\"#B6E880\",\"#FF97FF\",\"#FECB52\"],\"font\":{\"color\":\"#2a3f5f\"},\"hovermode\":\"closest\",\"hoverlabel\":{\"align\":\"left\"},\"paper_bgcolor\":\"white\",\"plot_bgcolor\":\"#E5ECF6\",\"polar\":{\"bgcolor\":\"#E5ECF6\",\"angularaxis\":{\"gridcolor\":\"white\",\"linecolor\":\"white\",\"ticks\":\"\"},\"radialaxis\":{\"gridcolor\":\"white\",\"linecolor\":\"white\",\"ticks\":\"\"}},\"ternary\":{\"bgcolor\":\"#E5ECF6\",\"aaxis\":{\"gridcolor\":\"white\",\"linecolor\":\"white\",\"ticks\":\"\"},\"baxis\":{\"gridcolor\":\"white\",\"linecolor\":\"white\",\"ticks\":\"\"},\"caxis\":{\"gridcolor\":\"white\",\"linecolor\":\"white\",\"ticks\":\"\"}},\"coloraxis\":{\"colorbar\":{\"outlinewidth\":0,\"ticks\":\"\"}},\"colorscale\":{\"sequential\":[[0.0,\"#0d0887\"],[0.1111111111111111,\"#46039f\"],[0.2222222222222222,\"#7201a8\"],[0.3333333333333333,\"#9c179e\"],[0.4444444444444444,\"#bd3786\"],[0.5555555555555556,\"#d8576b\"],[0.6666666666666666,\"#ed7953\"],[0.7777777777777778,\"#fb9f3a\"],[0.8888888888888888,\"#fdca26\"],[1.0,\"#f0f921\"]],\"sequentialminus\":[[0.0,\"#0d0887\"],[0.1111111111111111,\"#46039f\"],[0.2222222222222222,\"#7201a8\"],[0.3333333333333333,\"#9c179e\"],[0.4444444444444444,\"#bd3786\"],[0.5555555555555556,\"#d8576b\"],[0.6666666666666666,\"#ed7953\"],[0.7777777777777778,\"#fb9f3a\"],[0.8888888888888888,\"#fdca26\"],[1.0,\"#f0f921\"]],\"diverging\":[[0,\"#8e0152\"],[0.1,\"#c51b7d\"],[0.2,\"#de77ae\"],[0.3,\"#f1b6da\"],[0.4,\"#fde0ef\"],[0.5,\"#f7f7f7\"],[0.6,\"#e6f5d0\"],[0.7,\"#b8e186\"],[0.8,\"#7fbc41\"],[0.9,\"#4d9221\"],[1,\"#276419\"]]},\"xaxis\":{\"gridcolor\":\"white\",\"linecolor\":\"white\",\"ticks\":\"\",\"title\":{\"standoff\":15},\"zerolinecolor\":\"white\",\"automargin\":true,\"zerolinewidth\":2},\"yaxis\":{\"gridcolor\":\"white\",\"linecolor\":\"white\",\"ticks\":\"\",\"title\":{\"standoff\":15},\"zerolinecolor\":\"white\",\"automargin\":true,\"zerolinewidth\":2},\"scene\":{\"xaxis\":{\"backgroundcolor\":\"#E5ECF6\",\"gridcolor\":\"white\",\"linecolor\":\"white\",\"showbackground\":true,\"ticks\":\"\",\"zerolinecolor\":\"white\",\"gridwidth\":2},\"yaxis\":{\"backgroundcolor\":\"#E5ECF6\",\"gridcolor\":\"white\",\"linecolor\":\"white\",\"showbackground\":true,\"ticks\":\"\",\"zerolinecolor\":\"white\",\"gridwidth\":2},\"zaxis\":{\"backgroundcolor\":\"#E5ECF6\",\"gridcolor\":\"white\",\"linecolor\":\"white\",\"showbackground\":true,\"ticks\":\"\",\"zerolinecolor\":\"white\",\"gridwidth\":2}},\"shapedefaults\":{\"line\":{\"color\":\"#2a3f5f\"}},\"annotationdefaults\":{\"arrowcolor\":\"#2a3f5f\",\"arrowhead\":0,\"arrowwidth\":1},\"geo\":{\"bgcolor\":\"white\",\"landcolor\":\"#E5ECF6\",\"subunitcolor\":\"white\",\"showland\":true,\"showlakes\":true,\"lakecolor\":\"white\"},\"title\":{\"x\":0.05},\"mapbox\":{\"style\":\"light\"}}}},                        {\"responsive\": true}                    ).then(function(){\n",
              "                            \n",
              "var gd = document.getElementById('717757cf-d9c8-428a-a678-17464d2bf786');\n",
              "var x = new MutationObserver(function (mutations, observer) {{\n",
              "        var display = window.getComputedStyle(gd).display;\n",
              "        if (!display || display === 'none') {{\n",
              "            console.log([gd, 'removed!']);\n",
              "            Plotly.purge(gd);\n",
              "            observer.disconnect();\n",
              "        }}\n",
              "}});\n",
              "\n",
              "// Listen for the removal of the full notebook cells\n",
              "var notebookContainer = gd.closest('#notebook-container');\n",
              "if (notebookContainer) {{\n",
              "    x.observe(notebookContainer, {childList: true});\n",
              "}}\n",
              "\n",
              "// Listen for the clearing of the current output cell\n",
              "var outputEl = gd.closest('.output');\n",
              "if (outputEl) {{\n",
              "    x.observe(outputEl, {childList: true});\n",
              "}}\n",
              "\n",
              "                        })                };                            </script>        </div>\n",
              "</body>\n",
              "</html>"
            ]
          },
          "metadata": {},
          "output_type": "display_data"
        }
      ],
      "source": [
        "#ALTERNATIVE SOLUTION: using loops and dictionaries\n",
        "#                      instead of manually grabbing individual data\n",
        "\n",
        "###Part 1\n",
        "#Import the modules\n",
        "import urllib.request\n",
        "import json\n",
        "import plotly\n",
        "import plotly.graph_objs as go\n",
        "\n",
        "# This is my own mapbox api key. Please sign up and get your own if you want to use it more extensively!\n",
        "mapbox_access_token = 'pk.eyJ1IjoibWlrZXRpbmtlcnRhbmtlciIsImEiOiJjajZvajA2bWEwNXhxMzNud2NlMHUyaHI0In0.XFNKTNUWWVK-OO_r1kvXqQ'\n",
        "\n",
        "#Create a request\n",
        "url = \"https://api.data.gov.sg/v1/environment/pm25\" #don't specify a date to get current data\n",
        "request = urllib.request.Request(url)\n",
        "\n",
        "# Get the feed and store it\n",
        "response = urllib.request.urlopen(request)\n",
        "livedata = response.read()\n",
        "\n",
        "# Convert it to a Python dictionary\n",
        "parsed_json = json.loads(livedata.decode('utf-8'))\n",
        "\n",
        "#first get, long,lat coords\n",
        "coords = {}\n",
        "for dictionary in parsed_json[\"region_metadata\"]:\n",
        "    coords[dictionary[\"name\"]] = [dictionary[\"label_location\"][\"longitude\"],\n",
        "                                  dictionary[\"label_location\"][\"latitude\"]]\n",
        "\n",
        "pm25_values = {}\n",
        "temp_dictionary = parsed_json[\"items\"][0][\"readings\"][\"pm25_one_hourly\"]\n",
        "for key in temp_dictionary:\n",
        "    pm25_values[key] = temp_dictionary[key]\n",
        "\n",
        "import plotly\n",
        "import plotly.graph_objs as go\n",
        "\n",
        "firstplot = go.Scattermapbox(\n",
        "        lat=[coords[\"north\"][1],\n",
        "             coords[\"east\"][1],\n",
        "             coords[\"south\"][1],\n",
        "             coords[\"west\"][1],\n",
        "             coords[\"central\"][1]],\n",
        "        lon=[coords[\"north\"][0],\n",
        "             coords[\"east\"][0],\n",
        "             coords[\"south\"][0],\n",
        "             coords[\"west\"][0],\n",
        "             coords[\"central\"][0]],\n",
        "        mode='markers',\n",
        "        marker=dict(size=14),\n",
        "        ### Part 3\n",
        "        text=['North PM2.5 = ' + str(pm25_values[\"north\"]),\n",
        "              'East PM2.5 = ' + str(pm25_values[\"east\"]),\n",
        "              'South PM2.5 = ' + str(pm25_values[\"south\"]),\n",
        "              'West PM2.5 = ' + str(pm25_values[\"west\"]),\n",
        "              'Central PM2.5 = ' + str(pm25_values[\"central\"]),])\n",
        "\n",
        "data = [firstplot]\n",
        "\n",
        "layout = go.Layout(\n",
        "    autosize=True,\n",
        "    hovermode='closest',\n",
        "    mapbox={'accesstoken': mapbox_access_token,\n",
        "            'bearing':0,\n",
        "            'center':{'lat':coords[\"central\"][1], 'lon':coords[\"central\"][0]},\n",
        "            'pitch':0,\n",
        "            'zoom':10}\n",
        ")\n",
        "\n",
        "#plotly.offline.plot(dict(data=data, layout=layout), filename='PM25.html')\n",
        "go.Figure(data=data, layout=layout).show()"
      ]
    },
    {
      "cell_type": "code",
      "execution_count": null,
      "metadata": {
        "id": "vdjxU-ler32_"
      },
      "outputs": [],
      "source": []
    },
    {
      "cell_type": "code",
      "execution_count": null,
      "metadata": {
        "id": "Snp4JAlpr32_"
      },
      "outputs": [],
      "source": []
    },
    {
      "cell_type": "markdown",
      "metadata": {
        "id": "OJ_HgpRNr33A"
      },
      "source": [
        "## Stock APIs\n",
        "\n",
        "This exercise will go through the following:\n",
        "\n",
        "* Reading financial data from online sources\n",
        "* Basic dataframe and series manipulation\n",
        "* Basic plotting\n",
        "* Exporting to Excel"
      ]
    },
    {
      "cell_type": "code",
      "execution_count": null,
      "metadata": {
        "id": "PefjExJkr33A"
      },
      "outputs": [],
      "source": [
        "import pandas as pd\n",
        "import datetime\n",
        "import matplotlib.pyplot as plt\n",
        "%matplotlib inline"
      ]
    },
    {
      "cell_type": "markdown",
      "metadata": {
        "id": "yD_D2PTFr33A"
      },
      "source": [
        "\n",
        "## DataReader"
      ]
    },
    {
      "cell_type": "markdown",
      "metadata": {
        "id": "YnfpLBFQr33A"
      },
      "source": [
        "Pandas has it's own **DataReader** function, from the **`pandas_datareader`** module, which makes it easy to read data (e.g. historical stock price data) from the following online sources, and to save them as DataFrames:\n",
        "\n",
        "* Yahoo Finance _(only allows user downloads, not automated requests)_\n",
        "* Google Finance _(discontinued as of Sept 2017)_\n",
        "* St.Louis FED (FRED)\n",
        "* World Bank\n",
        "* Enigma\n",
        "* Quandl        \n",
        "* Kenneth French’s data library\n",
        "* OECD\n",
        "* Eurostat\n",
        "* Thrift Savings Plan\n",
        "* Nasdaq Trader symbol definitions\n",
        "* Alpha\n",
        "\n",
        "More information, including tutorials to access each of these sites, can be found at the [pandas documentation page](https://pandas.pydata.org/docs/).\n",
        "\n",
        "The downsides, however, are that:\n",
        "* many of these sites have been changing and no longer offer data (for example, Yahoo and Google both recently shut down their APIs)\n",
        "* sites return different formats of data of varying levels of completeness.\n",
        "* it requires you to install the pandas-datareader module\n",
        "\n",
        "There are actually a lot of different modules that individuals have written and posted online. Oftentimes they're looking for an easy way to grab stock data for their own means and share their resulting code on github. These code snippets can be really useful! But they might not be maintained, and they could have specifically tailored solutions that might not be relevant to you."
      ]
    },
    {
      "cell_type": "markdown",
      "metadata": {
        "id": "bQXiYSxbr33A"
      },
      "source": [
        "Because pandas-datareader requires an extra install, and requires learning additional functions, we're not going to use that method (but know that it exists if you're interested in it!). Instead, we're going to use a free stock info service called Alpha Vantage (https://www.alphavantage.co/). You can get a free API key which allows you to access their stock info. They return data as either a downloadable CSV, or JSON format (just like data.gov.sg!).\n",
        "\n",
        "Example usage can be found at: https://www.alphavantage.co/documentation/\n",
        "\n",
        "Here, we'll start by reading Microsoft stock prices for the past two weeks."
      ]
    },
    {
      "cell_type": "code",
      "execution_count": null,
      "metadata": {
        "id": "JaO5_-VCr33A"
      },
      "outputs": [],
      "source": [
        "# Import the modules\n",
        "import urllib.request\n",
        "import json\n",
        "# Create a request\n",
        "url = \"https://www.alphavantage.co/query?function=TIME_SERIES_DAILY&symbol=MSFT&outputsize=full&apikey=H74WYZ182MDD0055\"\n",
        "request = urllib.request.Request(url)\n",
        "\n",
        "# Get the response and store it\n",
        "response = urllib.request.urlopen(request)\n",
        "# response is also an object with various methods/attributes\n",
        "data = response.read()\n",
        "# Convert it to a Python dictionary\n",
        "parsed_json = json.loads(data.decode('utf-8'))\n",
        "\n",
        "#print out the result:\n",
        "#parsed_json"
      ]
    },
    {
      "cell_type": "code",
      "execution_count": null,
      "metadata": {
        "colab": {
          "base_uri": "https://localhost:8080/",
          "height": 182
        },
        "id": "ruAijYTyEhVN",
        "outputId": "cb2fff52-3cd7-4a0e-d464-277af814014e"
      },
      "outputs": [
        {
          "data": {
            "text/html": [
              "\n",
              "  <div id=\"df-1d70fb6c-1318-400f-a8b3-5862bbba4d28\" class=\"colab-df-container\">\n",
              "    <div>\n",
              "<style scoped>\n",
              "    .dataframe tbody tr th:only-of-type {\n",
              "        vertical-align: middle;\n",
              "    }\n",
              "\n",
              "    .dataframe tbody tr th {\n",
              "        vertical-align: top;\n",
              "    }\n",
              "\n",
              "    .dataframe thead th {\n",
              "        text-align: right;\n",
              "    }\n",
              "</style>\n",
              "<table border=\"1\" class=\"dataframe\">\n",
              "  <thead>\n",
              "    <tr style=\"text-align: right;\">\n",
              "      <th></th>\n",
              "      <th>2023-08-28.1. open</th>\n",
              "      <th>2023-08-28.2. high</th>\n",
              "      <th>2023-08-28.3. low</th>\n",
              "      <th>2023-08-28.4. close</th>\n",
              "      <th>2023-08-28.5. volume</th>\n",
              "      <th>2023-08-25.1. open</th>\n",
              "      <th>2023-08-25.2. high</th>\n",
              "      <th>2023-08-25.3. low</th>\n",
              "      <th>2023-08-25.4. close</th>\n",
              "      <th>2023-08-25.5. volume</th>\n",
              "      <th>...</th>\n",
              "      <th>1999-11-02.1. open</th>\n",
              "      <th>1999-11-02.2. high</th>\n",
              "      <th>1999-11-02.3. low</th>\n",
              "      <th>1999-11-02.4. close</th>\n",
              "      <th>1999-11-02.5. volume</th>\n",
              "      <th>1999-11-01.1. open</th>\n",
              "      <th>1999-11-01.2. high</th>\n",
              "      <th>1999-11-01.3. low</th>\n",
              "      <th>1999-11-01.4. close</th>\n",
              "      <th>1999-11-01.5. volume</th>\n",
              "    </tr>\n",
              "  </thead>\n",
              "  <tbody>\n",
              "    <tr>\n",
              "      <th>0</th>\n",
              "      <td>325.6600</td>\n",
              "      <td>326.1500</td>\n",
              "      <td>321.7220</td>\n",
              "      <td>323.7000</td>\n",
              "      <td>14808482</td>\n",
              "      <td>321.4700</td>\n",
              "      <td>325.3600</td>\n",
              "      <td>318.8001</td>\n",
              "      <td>322.9800</td>\n",
              "      <td>21684104</td>\n",
              "      <td>...</td>\n",
              "      <td>92.7500</td>\n",
              "      <td>94.5000</td>\n",
              "      <td>91.9400</td>\n",
              "      <td>92.5600</td>\n",
              "      <td>23174500</td>\n",
              "      <td>93.2500</td>\n",
              "      <td>94.1900</td>\n",
              "      <td>92.1200</td>\n",
              "      <td>92.3700</td>\n",
              "      <td>26630600</td>\n",
              "    </tr>\n",
              "  </tbody>\n",
              "</table>\n",
              "<p>1 rows × 29970 columns</p>\n",
              "</div>\n",
              "    <div class=\"colab-df-buttons\">\n",
              "\n",
              "  <div class=\"colab-df-container\">\n",
              "    <button class=\"colab-df-convert\" onclick=\"convertToInteractive('df-1d70fb6c-1318-400f-a8b3-5862bbba4d28')\"\n",
              "            title=\"Convert this dataframe to an interactive table.\"\n",
              "            style=\"display:none;\">\n",
              "\n",
              "  <svg xmlns=\"http://www.w3.org/2000/svg\" height=\"24px\" viewBox=\"0 -960 960 960\">\n",
              "    <path d=\"M120-120v-720h720v720H120Zm60-500h600v-160H180v160Zm220 220h160v-160H400v160Zm0 220h160v-160H400v160ZM180-400h160v-160H180v160Zm440 0h160v-160H620v160ZM180-180h160v-160H180v160Zm440 0h160v-160H620v160Z\"/>\n",
              "  </svg>\n",
              "    </button>\n",
              "\n",
              "  <style>\n",
              "    .colab-df-container {\n",
              "      display:flex;\n",
              "      gap: 12px;\n",
              "    }\n",
              "\n",
              "    .colab-df-convert {\n",
              "      background-color: #E8F0FE;\n",
              "      border: none;\n",
              "      border-radius: 50%;\n",
              "      cursor: pointer;\n",
              "      display: none;\n",
              "      fill: #1967D2;\n",
              "      height: 32px;\n",
              "      padding: 0 0 0 0;\n",
              "      width: 32px;\n",
              "    }\n",
              "\n",
              "    .colab-df-convert:hover {\n",
              "      background-color: #E2EBFA;\n",
              "      box-shadow: 0px 1px 2px rgba(60, 64, 67, 0.3), 0px 1px 3px 1px rgba(60, 64, 67, 0.15);\n",
              "      fill: #174EA6;\n",
              "    }\n",
              "\n",
              "    .colab-df-buttons div {\n",
              "      margin-bottom: 4px;\n",
              "    }\n",
              "\n",
              "    [theme=dark] .colab-df-convert {\n",
              "      background-color: #3B4455;\n",
              "      fill: #D2E3FC;\n",
              "    }\n",
              "\n",
              "    [theme=dark] .colab-df-convert:hover {\n",
              "      background-color: #434B5C;\n",
              "      box-shadow: 0px 1px 3px 1px rgba(0, 0, 0, 0.15);\n",
              "      filter: drop-shadow(0px 1px 2px rgba(0, 0, 0, 0.3));\n",
              "      fill: #FFFFFF;\n",
              "    }\n",
              "  </style>\n",
              "\n",
              "    <script>\n",
              "      const buttonEl =\n",
              "        document.querySelector('#df-1d70fb6c-1318-400f-a8b3-5862bbba4d28 button.colab-df-convert');\n",
              "      buttonEl.style.display =\n",
              "        google.colab.kernel.accessAllowed ? 'block' : 'none';\n",
              "\n",
              "      async function convertToInteractive(key) {\n",
              "        const element = document.querySelector('#df-1d70fb6c-1318-400f-a8b3-5862bbba4d28');\n",
              "        const dataTable =\n",
              "          await google.colab.kernel.invokeFunction('convertToInteractive',\n",
              "                                                    [key], {});\n",
              "        if (!dataTable) return;\n",
              "\n",
              "        const docLinkHtml = 'Like what you see? Visit the ' +\n",
              "          '<a target=\"_blank\" href=https://colab.research.google.com/notebooks/data_table.ipynb>data table notebook</a>'\n",
              "          + ' to learn more about interactive tables.';\n",
              "        element.innerHTML = '';\n",
              "        dataTable['output_type'] = 'display_data';\n",
              "        await google.colab.output.renderOutput(dataTable, element);\n",
              "        const docLink = document.createElement('div');\n",
              "        docLink.innerHTML = docLinkHtml;\n",
              "        element.appendChild(docLink);\n",
              "      }\n",
              "    </script>\n",
              "  </div>\n",
              "\n",
              "    </div>\n",
              "  </div>\n"
            ],
            "text/plain": [
              "  2023-08-28.1. open 2023-08-28.2. high 2023-08-28.3. low 2023-08-28.4. close  \\\n",
              "0           325.6600           326.1500          321.7220            323.7000   \n",
              "\n",
              "  2023-08-28.5. volume 2023-08-25.1. open 2023-08-25.2. high  \\\n",
              "0             14808482           321.4700           325.3600   \n",
              "\n",
              "  2023-08-25.3. low 2023-08-25.4. close 2023-08-25.5. volume  ...  \\\n",
              "0          318.8001            322.9800             21684104  ...   \n",
              "\n",
              "  1999-11-02.1. open 1999-11-02.2. high 1999-11-02.3. low 1999-11-02.4. close  \\\n",
              "0            92.7500            94.5000           91.9400             92.5600   \n",
              "\n",
              "  1999-11-02.5. volume 1999-11-01.1. open 1999-11-01.2. high  \\\n",
              "0             23174500            93.2500            94.1900   \n",
              "\n",
              "  1999-11-01.3. low 1999-11-01.4. close 1999-11-01.5. volume  \n",
              "0           92.1200             92.3700             26630600  \n",
              "\n",
              "[1 rows x 29970 columns]"
            ]
          },
          "execution_count": 32,
          "metadata": {},
          "output_type": "execute_result"
        }
      ],
      "source": [
        "#Sometimes pd.json_normalize() doesn't work nicely, for example:\n",
        "pd.json_normalize(parsed_json[\"Time Series (Daily)\"])"
      ]
    },
    {
      "cell_type": "code",
      "execution_count": null,
      "metadata": {
        "colab": {
          "base_uri": "https://localhost:8080/",
          "height": 423
        },
        "id": "CrX3GxISr33B",
        "outputId": "2049703b-84be-46f4-d476-5fa43af67c3f"
      },
      "outputs": [
        {
          "data": {
            "text/html": [
              "\n",
              "  <div id=\"df-8eac72a0-e325-46f3-8619-44cf34c179d1\" class=\"colab-df-container\">\n",
              "    <div>\n",
              "<style scoped>\n",
              "    .dataframe tbody tr th:only-of-type {\n",
              "        vertical-align: middle;\n",
              "    }\n",
              "\n",
              "    .dataframe tbody tr th {\n",
              "        vertical-align: top;\n",
              "    }\n",
              "\n",
              "    .dataframe thead th {\n",
              "        text-align: right;\n",
              "    }\n",
              "</style>\n",
              "<table border=\"1\" class=\"dataframe\">\n",
              "  <thead>\n",
              "    <tr style=\"text-align: right;\">\n",
              "      <th></th>\n",
              "      <th>1. open</th>\n",
              "      <th>2. high</th>\n",
              "      <th>3. low</th>\n",
              "      <th>4. close</th>\n",
              "      <th>5. volume</th>\n",
              "    </tr>\n",
              "  </thead>\n",
              "  <tbody>\n",
              "    <tr>\n",
              "      <th>2023-08-28</th>\n",
              "      <td>325.6600</td>\n",
              "      <td>326.1500</td>\n",
              "      <td>321.7220</td>\n",
              "      <td>323.7000</td>\n",
              "      <td>14808482</td>\n",
              "    </tr>\n",
              "    <tr>\n",
              "      <th>2023-08-25</th>\n",
              "      <td>321.4700</td>\n",
              "      <td>325.3600</td>\n",
              "      <td>318.8001</td>\n",
              "      <td>322.9800</td>\n",
              "      <td>21684104</td>\n",
              "    </tr>\n",
              "    <tr>\n",
              "      <th>2023-08-24</th>\n",
              "      <td>332.8500</td>\n",
              "      <td>332.9800</td>\n",
              "      <td>319.9600</td>\n",
              "      <td>319.9700</td>\n",
              "      <td>23281434</td>\n",
              "    </tr>\n",
              "    <tr>\n",
              "      <th>2023-08-23</th>\n",
              "      <td>323.8200</td>\n",
              "      <td>329.2000</td>\n",
              "      <td>323.4600</td>\n",
              "      <td>327.0000</td>\n",
              "      <td>21166382</td>\n",
              "    </tr>\n",
              "    <tr>\n",
              "      <th>2023-08-22</th>\n",
              "      <td>325.5000</td>\n",
              "      <td>326.0750</td>\n",
              "      <td>321.4600</td>\n",
              "      <td>322.4600</td>\n",
              "      <td>16102024</td>\n",
              "    </tr>\n",
              "    <tr>\n",
              "      <th>...</th>\n",
              "      <td>...</td>\n",
              "      <td>...</td>\n",
              "      <td>...</td>\n",
              "      <td>...</td>\n",
              "      <td>...</td>\n",
              "    </tr>\n",
              "    <tr>\n",
              "      <th>1999-11-05</th>\n",
              "      <td>91.8100</td>\n",
              "      <td>92.8700</td>\n",
              "      <td>90.5000</td>\n",
              "      <td>91.5600</td>\n",
              "      <td>35083700</td>\n",
              "    </tr>\n",
              "    <tr>\n",
              "      <th>1999-11-04</th>\n",
              "      <td>92.3100</td>\n",
              "      <td>92.7500</td>\n",
              "      <td>90.3100</td>\n",
              "      <td>91.7500</td>\n",
              "      <td>27119700</td>\n",
              "    </tr>\n",
              "    <tr>\n",
              "      <th>1999-11-03</th>\n",
              "      <td>92.9400</td>\n",
              "      <td>93.5000</td>\n",
              "      <td>91.5000</td>\n",
              "      <td>92.0000</td>\n",
              "      <td>22258500</td>\n",
              "    </tr>\n",
              "    <tr>\n",
              "      <th>1999-11-02</th>\n",
              "      <td>92.7500</td>\n",
              "      <td>94.5000</td>\n",
              "      <td>91.9400</td>\n",
              "      <td>92.5600</td>\n",
              "      <td>23174500</td>\n",
              "    </tr>\n",
              "    <tr>\n",
              "      <th>1999-11-01</th>\n",
              "      <td>93.2500</td>\n",
              "      <td>94.1900</td>\n",
              "      <td>92.1200</td>\n",
              "      <td>92.3700</td>\n",
              "      <td>26630600</td>\n",
              "    </tr>\n",
              "  </tbody>\n",
              "</table>\n",
              "<p>5994 rows × 5 columns</p>\n",
              "</div>\n",
              "    <div class=\"colab-df-buttons\">\n",
              "\n",
              "  <div class=\"colab-df-container\">\n",
              "    <button class=\"colab-df-convert\" onclick=\"convertToInteractive('df-8eac72a0-e325-46f3-8619-44cf34c179d1')\"\n",
              "            title=\"Convert this dataframe to an interactive table.\"\n",
              "            style=\"display:none;\">\n",
              "\n",
              "  <svg xmlns=\"http://www.w3.org/2000/svg\" height=\"24px\" viewBox=\"0 -960 960 960\">\n",
              "    <path d=\"M120-120v-720h720v720H120Zm60-500h600v-160H180v160Zm220 220h160v-160H400v160Zm0 220h160v-160H400v160ZM180-400h160v-160H180v160Zm440 0h160v-160H620v160ZM180-180h160v-160H180v160Zm440 0h160v-160H620v160Z\"/>\n",
              "  </svg>\n",
              "    </button>\n",
              "\n",
              "  <style>\n",
              "    .colab-df-container {\n",
              "      display:flex;\n",
              "      gap: 12px;\n",
              "    }\n",
              "\n",
              "    .colab-df-convert {\n",
              "      background-color: #E8F0FE;\n",
              "      border: none;\n",
              "      border-radius: 50%;\n",
              "      cursor: pointer;\n",
              "      display: none;\n",
              "      fill: #1967D2;\n",
              "      height: 32px;\n",
              "      padding: 0 0 0 0;\n",
              "      width: 32px;\n",
              "    }\n",
              "\n",
              "    .colab-df-convert:hover {\n",
              "      background-color: #E2EBFA;\n",
              "      box-shadow: 0px 1px 2px rgba(60, 64, 67, 0.3), 0px 1px 3px 1px rgba(60, 64, 67, 0.15);\n",
              "      fill: #174EA6;\n",
              "    }\n",
              "\n",
              "    .colab-df-buttons div {\n",
              "      margin-bottom: 4px;\n",
              "    }\n",
              "\n",
              "    [theme=dark] .colab-df-convert {\n",
              "      background-color: #3B4455;\n",
              "      fill: #D2E3FC;\n",
              "    }\n",
              "\n",
              "    [theme=dark] .colab-df-convert:hover {\n",
              "      background-color: #434B5C;\n",
              "      box-shadow: 0px 1px 3px 1px rgba(0, 0, 0, 0.15);\n",
              "      filter: drop-shadow(0px 1px 2px rgba(0, 0, 0, 0.3));\n",
              "      fill: #FFFFFF;\n",
              "    }\n",
              "  </style>\n",
              "\n",
              "    <script>\n",
              "      const buttonEl =\n",
              "        document.querySelector('#df-8eac72a0-e325-46f3-8619-44cf34c179d1 button.colab-df-convert');\n",
              "      buttonEl.style.display =\n",
              "        google.colab.kernel.accessAllowed ? 'block' : 'none';\n",
              "\n",
              "      async function convertToInteractive(key) {\n",
              "        const element = document.querySelector('#df-8eac72a0-e325-46f3-8619-44cf34c179d1');\n",
              "        const dataTable =\n",
              "          await google.colab.kernel.invokeFunction('convertToInteractive',\n",
              "                                                    [key], {});\n",
              "        if (!dataTable) return;\n",
              "\n",
              "        const docLinkHtml = 'Like what you see? Visit the ' +\n",
              "          '<a target=\"_blank\" href=https://colab.research.google.com/notebooks/data_table.ipynb>data table notebook</a>'\n",
              "          + ' to learn more about interactive tables.';\n",
              "        element.innerHTML = '';\n",
              "        dataTable['output_type'] = 'display_data';\n",
              "        await google.colab.output.renderOutput(dataTable, element);\n",
              "        const docLink = document.createElement('div');\n",
              "        docLink.innerHTML = docLinkHtml;\n",
              "        element.appendChild(docLink);\n",
              "      }\n",
              "    </script>\n",
              "  </div>\n",
              "\n",
              "\n",
              "<div id=\"df-5678d440-20f8-4844-8b01-b7a8fbe832bf\">\n",
              "  <button class=\"colab-df-quickchart\" onclick=\"quickchart('df-5678d440-20f8-4844-8b01-b7a8fbe832bf')\"\n",
              "            title=\"Suggest charts.\"\n",
              "            style=\"display:none;\">\n",
              "\n",
              "<svg xmlns=\"http://www.w3.org/2000/svg\" height=\"24px\"viewBox=\"0 0 24 24\"\n",
              "     width=\"24px\">\n",
              "    <g>\n",
              "        <path d=\"M19 3H5c-1.1 0-2 .9-2 2v14c0 1.1.9 2 2 2h14c1.1 0 2-.9 2-2V5c0-1.1-.9-2-2-2zM9 17H7v-7h2v7zm4 0h-2V7h2v10zm4 0h-2v-4h2v4z\"/>\n",
              "    </g>\n",
              "</svg>\n",
              "  </button>\n",
              "\n",
              "<style>\n",
              "  .colab-df-quickchart {\n",
              "    background-color: #E8F0FE;\n",
              "    border: none;\n",
              "    border-radius: 50%;\n",
              "    cursor: pointer;\n",
              "    display: none;\n",
              "    fill: #1967D2;\n",
              "    height: 32px;\n",
              "    padding: 0 0 0 0;\n",
              "    width: 32px;\n",
              "  }\n",
              "\n",
              "  .colab-df-quickchart:hover {\n",
              "    background-color: #E2EBFA;\n",
              "    box-shadow: 0px 1px 2px rgba(60, 64, 67, 0.3), 0px 1px 3px 1px rgba(60, 64, 67, 0.15);\n",
              "    fill: #174EA6;\n",
              "  }\n",
              "\n",
              "  [theme=dark] .colab-df-quickchart {\n",
              "    background-color: #3B4455;\n",
              "    fill: #D2E3FC;\n",
              "  }\n",
              "\n",
              "  [theme=dark] .colab-df-quickchart:hover {\n",
              "    background-color: #434B5C;\n",
              "    box-shadow: 0px 1px 3px 1px rgba(0, 0, 0, 0.15);\n",
              "    filter: drop-shadow(0px 1px 2px rgba(0, 0, 0, 0.3));\n",
              "    fill: #FFFFFF;\n",
              "  }\n",
              "</style>\n",
              "\n",
              "  <script>\n",
              "    async function quickchart(key) {\n",
              "      const charts = await google.colab.kernel.invokeFunction(\n",
              "          'suggestCharts', [key], {});\n",
              "    }\n",
              "    (() => {\n",
              "      let quickchartButtonEl =\n",
              "        document.querySelector('#df-5678d440-20f8-4844-8b01-b7a8fbe832bf button');\n",
              "      quickchartButtonEl.style.display =\n",
              "        google.colab.kernel.accessAllowed ? 'block' : 'none';\n",
              "    })();\n",
              "  </script>\n",
              "</div>\n",
              "    </div>\n",
              "  </div>\n"
            ],
            "text/plain": [
              "             1. open   2. high    3. low  4. close 5. volume\n",
              "2023-08-28  325.6600  326.1500  321.7220  323.7000  14808482\n",
              "2023-08-25  321.4700  325.3600  318.8001  322.9800  21684104\n",
              "2023-08-24  332.8500  332.9800  319.9600  319.9700  23281434\n",
              "2023-08-23  323.8200  329.2000  323.4600  327.0000  21166382\n",
              "2023-08-22  325.5000  326.0750  321.4600  322.4600  16102024\n",
              "...              ...       ...       ...       ...       ...\n",
              "1999-11-05   91.8100   92.8700   90.5000   91.5600  35083700\n",
              "1999-11-04   92.3100   92.7500   90.3100   91.7500  27119700\n",
              "1999-11-03   92.9400   93.5000   91.5000   92.0000  22258500\n",
              "1999-11-02   92.7500   94.5000   91.9400   92.5600  23174500\n",
              "1999-11-01   93.2500   94.1900   92.1200   92.3700  26630600\n",
              "\n",
              "[5994 rows x 5 columns]"
            ]
          },
          "execution_count": 33,
          "metadata": {},
          "output_type": "execute_result"
        }
      ],
      "source": [
        "#Instead we can try to force the data into a dataframe to see if it is any better\n",
        "data1 = pd.DataFrame(parsed_json[\"Time Series (Daily)\"]).T\n",
        "data1"
      ]
    },
    {
      "cell_type": "code",
      "execution_count": null,
      "metadata": {
        "colab": {
          "base_uri": "https://localhost:8080/"
        },
        "id": "1YWpH-vyr33B",
        "outputId": "bb004067-c527-40ef-9b5d-c6c058bf4494"
      },
      "outputs": [
        {
          "data": {
            "text/plain": [
              "float"
            ]
          },
          "execution_count": 34,
          "metadata": {},
          "output_type": "execute_result"
        }
      ],
      "source": [
        "#Be careful, oftentimes data is not stored as numbers!\n",
        "type(float(data1.iloc[0,0]))"
      ]
    },
    {
      "cell_type": "code",
      "execution_count": null,
      "metadata": {
        "colab": {
          "base_uri": "https://localhost:8080/",
          "height": 447
        },
        "id": "88ARxsaEr33C",
        "outputId": "60163a09-77a8-4fbd-e887-02f8d7f601c8"
      },
      "outputs": [
        {
          "data": {
            "text/plain": [
              "<Axes: >"
            ]
          },
          "execution_count": 35,
          "metadata": {},
          "output_type": "execute_result"
        },
        {
          "data": {
            "image/png": "[encoded data removed]",
            "text/plain": [
              "<Figure size 640x480 with 1 Axes>"
            ]
          },
          "metadata": {},
          "output_type": "display_data"
        }
      ],
      "source": [
        "%matplotlib inline\n",
        "#plot one of the columns\n",
        "pd.to_numeric(data1[\"4. close\"]).plot()"
      ]
    },
    {
      "cell_type": "code",
      "execution_count": null,
      "metadata": {
        "id": "BuZpBObPr33C"
      },
      "outputs": [],
      "source": []
    },
    {
      "cell_type": "code",
      "execution_count": null,
      "metadata": {
        "id": "-K_2ME3jr33C"
      },
      "outputs": [],
      "source": []
    },
    {
      "cell_type": "markdown",
      "metadata": {
        "collapsed": true,
        "id": "Qir_Nhqrr33C"
      },
      "source": [
        "<hr>"
      ]
    },
    {
      "cell_type": "code",
      "execution_count": null,
      "metadata": {
        "id": "gtyL7VEOr33C"
      },
      "outputs": [],
      "source": [
        "#NOTE: THE BELOW EXERCISES HAVE NO ANSWERS INCLUDED\n",
        "#LEFT AS AN EXERCISE FOR THE READER :)"
      ]
    },
    {
      "cell_type": "markdown",
      "metadata": {
        "id": "Fs9h884Zr33D"
      },
      "source": [
        "### <font color=\"red\">Exercise 1: Get Google Data from Google\n",
        "\n",
        "Create a variable called `goog` to store Google stock price. Slice the data so that it only looks at the time period from 1 Jan 2016 to 1 June 2017.\n"
      ]
    },
    {
      "cell_type": "code",
      "execution_count": null,
      "metadata": {
        "id": "CPpMUuQYr33D"
      },
      "outputs": [],
      "source": []
    },
    {
      "cell_type": "markdown",
      "metadata": {
        "id": "6sv_vDFYr33D"
      },
      "source": [
        "### <font color=\"red\">Exercise 2\n",
        "\n",
        "For your `goog` data between 1 Jan 2016 and 1 June 2017:\n",
        "\n",
        "* Find the average trading volume\n",
        "* Find the days which exceed twice its average trading volume (should be 14)"
      ]
    },
    {
      "cell_type": "code",
      "execution_count": null,
      "metadata": {
        "id": "q03ghvEsr33D"
      },
      "outputs": [],
      "source": []
    },
    {
      "cell_type": "markdown",
      "metadata": {
        "id": "8TAaJziar33D"
      },
      "source": [
        "### <font color=\"red\">Exercise 3\n",
        "\n",
        "For the Google data set:\n",
        "\n",
        "* Make a new column called \"Prev Close\", and shift the close data by 1 downwards, i.e. today's \"Prev Close\" is what was in yesterday's \"Close\". There's a `.shift()` function you can use for this.\n",
        "* Add a new column showing the % difference between the current day's open and the previous day's close.\n",
        "* Group the % difference by integer percentages, and show the counts of these.\n",
        "\n",
        "For this last one, take a look at the `groupby` command."
      ]
    },
    {
      "cell_type": "code",
      "execution_count": null,
      "metadata": {
        "id": "NfiWVg1vr33D"
      },
      "outputs": [],
      "source": []
    },
    {
      "cell_type": "markdown",
      "metadata": {
        "id": "ttcY0KUWr33E"
      },
      "source": [
        "### <font color=\"red\">Exercise 4\n",
        "\n",
        "* Plot the closing prices for AAPL, MSFT, and GOOG in the same graph, normalising for their different scales in a sensible manner."
      ]
    },
    {
      "cell_type": "code",
      "execution_count": null,
      "metadata": {
        "id": "Zrrmdw9wr33E"
      },
      "outputs": [],
      "source": []
    },
    {
      "cell_type": "markdown",
      "metadata": {
        "id": "niSt5kpsr33E"
      },
      "source": [
        "### <font color=\"red\">Exercise 5: Make your own stock analysis generator\n",
        "\n",
        "For this final exercise, generate some interesting insight from a basket of stocks, that creates an Excel file automatically for you. Also, have it export a couple of graphs that you can plonk into your PowerPoint presentations!"
      ]
    },
    {
      "cell_type": "code",
      "execution_count": null,
      "metadata": {
        "id": "M_PLVjsHr33E"
      },
      "outputs": [],
      "source": []
    },
    {
      "cell_type": "code",
      "execution_count": null,
      "metadata": {
        "id": "0D_ywGAhr33E"
      },
      "outputs": [],
      "source": []
    },
    {
      "cell_type": "code",
      "execution_count": null,
      "metadata": {
        "id": "r9f0Qs4lr33E"
      },
      "outputs": [],
      "source": []
    },
    {
      "cell_type": "code",
      "execution_count": null,
      "metadata": {
        "id": "TqeMTjS6r33F"
      },
      "outputs": [],
      "source": []
    },
    {
      "cell_type": "code",
      "execution_count": 1,
      "metadata": {
        "colab": {
          "base_uri": "https://localhost:8080/",
          "height": 213
        },
        "id": "yrBHeJ_Kr33F",
        "outputId": "e7806ba2-6646-44cd-c46b-7b42a39c7510"
      },
      "outputs": [
        {
          "name": "stderr",
          "output_type": "stream",
          "text": [
            "<ipython-input-1-8ca0c6e5c196>:19: FutureWarning: The frame.append method is deprecated and will be removed from pandas in a future version. Use pandas.concat instead.\n",
            "  data = year1990.append(year1991).T.copy()\n"
          ]
        },
        {
          "data": {
            "text/html": [
              "\n",
              "  <div id=\"df-3eb46d1f-da89-4b4c-871f-085aeb60cc07\" class=\"colab-df-container\">\n",
              "    <div>\n",
              "<style scoped>\n",
              "    .dataframe tbody tr th:only-of-type {\n",
              "        vertical-align: middle;\n",
              "    }\n",
              "\n",
              "    .dataframe tbody tr th {\n",
              "        vertical-align: top;\n",
              "    }\n",
              "\n",
              "    .dataframe thead th {\n",
              "        text-align: right;\n",
              "    }\n",
              "</style>\n",
              "<table border=\"1\" class=\"dataframe\">\n",
              "  <thead>\n",
              "    <tr style=\"text-align: right;\">\n",
              "      <th>month</th>\n",
              "      <th>1990-01</th>\n",
              "      <th>1990-02</th>\n",
              "      <th>1990-03</th>\n",
              "      <th>1990-04</th>\n",
              "      <th>1990-05</th>\n",
              "      <th>1990-06</th>\n",
              "      <th>1990-07</th>\n",
              "      <th>1990-08</th>\n",
              "      <th>1990-09</th>\n",
              "      <th>1990-10</th>\n",
              "      <th>...</th>\n",
              "      <th>1991-03</th>\n",
              "      <th>1991-04</th>\n",
              "      <th>1991-05</th>\n",
              "      <th>1991-06</th>\n",
              "      <th>1991-07</th>\n",
              "      <th>1991-08</th>\n",
              "      <th>1991-09</th>\n",
              "      <th>1991-10</th>\n",
              "      <th>1991-11</th>\n",
              "      <th>1991-12</th>\n",
              "    </tr>\n",
              "  </thead>\n",
              "  <tbody>\n",
              "    <tr>\n",
              "      <th>mean_sunshine_hrs</th>\n",
              "      <td>NaN</td>\n",
              "      <td>0.679245</td>\n",
              "      <td>-0.067416</td>\n",
              "      <td>-0.240964</td>\n",
              "      <td>0.031746</td>\n",
              "      <td>-0.030769</td>\n",
              "      <td>-0.063492</td>\n",
              "      <td>-0.016949</td>\n",
              "      <td>-0.120690</td>\n",
              "      <td>0.156863</td>\n",
              "      <td>...</td>\n",
              "      <td>0.014286</td>\n",
              "      <td>-0.183099</td>\n",
              "      <td>-0.12069</td>\n",
              "      <td>0.392157</td>\n",
              "      <td>-0.056338</td>\n",
              "      <td>-0.208955</td>\n",
              "      <td>-0.226415</td>\n",
              "      <td>0.02439</td>\n",
              "      <td>-0.166667</td>\n",
              "      <td>-0.142857</td>\n",
              "    </tr>\n",
              "    <tr>\n",
              "      <th>mean_temp</th>\n",
              "      <td>NaN</td>\n",
              "      <td>0.053435</td>\n",
              "      <td>0.021739</td>\n",
              "      <td>0.010638</td>\n",
              "      <td>0.003509</td>\n",
              "      <td>-0.010490</td>\n",
              "      <td>-0.028269</td>\n",
              "      <td>0.018182</td>\n",
              "      <td>-0.028571</td>\n",
              "      <td>0.011029</td>\n",
              "      <td>...</td>\n",
              "      <td>0.025830</td>\n",
              "      <td>-0.003597</td>\n",
              "      <td>0.00000</td>\n",
              "      <td>0.032491</td>\n",
              "      <td>-0.003497</td>\n",
              "      <td>-0.010526</td>\n",
              "      <td>-0.024823</td>\n",
              "      <td>0.00000</td>\n",
              "      <td>-0.043636</td>\n",
              "      <td>-0.026616</td>\n",
              "    </tr>\n",
              "  </tbody>\n",
              "</table>\n",
              "<p>2 rows × 24 columns</p>\n",
              "</div>\n",
              "    <div class=\"colab-df-buttons\">\n",
              "\n",
              "  <div class=\"colab-df-container\">\n",
              "    <button class=\"colab-df-convert\" onclick=\"convertToInteractive('df-3eb46d1f-da89-4b4c-871f-085aeb60cc07')\"\n",
              "            title=\"Convert this dataframe to an interactive table.\"\n",
              "            style=\"display:none;\">\n",
              "\n",
              "  <svg xmlns=\"http://www.w3.org/2000/svg\" height=\"24px\" viewBox=\"0 -960 960 960\">\n",
              "    <path d=\"M120-120v-720h720v720H120Zm60-500h600v-160H180v160Zm220 220h160v-160H400v160Zm0 220h160v-160H400v160ZM180-400h160v-160H180v160Zm440 0h160v-160H620v160ZM180-180h160v-160H180v160Zm440 0h160v-160H620v160Z\"/>\n",
              "  </svg>\n",
              "    </button>\n",
              "\n",
              "  <style>\n",
              "    .colab-df-container {\n",
              "      display:flex;\n",
              "      gap: 12px;\n",
              "    }\n",
              "\n",
              "    .colab-df-convert {\n",
              "      background-color: #E8F0FE;\n",
              "      border: none;\n",
              "      border-radius: 50%;\n",
              "      cursor: pointer;\n",
              "      display: none;\n",
              "      fill: #1967D2;\n",
              "      height: 32px;\n",
              "      padding: 0 0 0 0;\n",
              "      width: 32px;\n",
              "    }\n",
              "\n",
              "    .colab-df-convert:hover {\n",
              "      background-color: #E2EBFA;\n",
              "      box-shadow: 0px 1px 2px rgba(60, 64, 67, 0.3), 0px 1px 3px 1px rgba(60, 64, 67, 0.15);\n",
              "      fill: #174EA6;\n",
              "    }\n",
              "\n",
              "    .colab-df-buttons div {\n",
              "      margin-bottom: 4px;\n",
              "    }\n",
              "\n",
              "    [theme=dark] .colab-df-convert {\n",
              "      background-color: #3B4455;\n",
              "      fill: #D2E3FC;\n",
              "    }\n",
              "\n",
              "    [theme=dark] .colab-df-convert:hover {\n",
              "      background-color: #434B5C;\n",
              "      box-shadow: 0px 1px 3px 1px rgba(0, 0, 0, 0.15);\n",
              "      filter: drop-shadow(0px 1px 2px rgba(0, 0, 0, 0.3));\n",
              "      fill: #FFFFFF;\n",
              "    }\n",
              "  </style>\n",
              "\n",
              "    <script>\n",
              "      const buttonEl =\n",
              "        document.querySelector('#df-3eb46d1f-da89-4b4c-871f-085aeb60cc07 button.colab-df-convert');\n",
              "      buttonEl.style.display =\n",
              "        google.colab.kernel.accessAllowed ? 'block' : 'none';\n",
              "\n",
              "      async function convertToInteractive(key) {\n",
              "        const element = document.querySelector('#df-3eb46d1f-da89-4b4c-871f-085aeb60cc07');\n",
              "        const dataTable =\n",
              "          await google.colab.kernel.invokeFunction('convertToInteractive',\n",
              "                                                    [key], {});\n",
              "        if (!dataTable) return;\n",
              "\n",
              "        const docLinkHtml = 'Like what you see? Visit the ' +\n",
              "          '<a target=\"_blank\" href=https://colab.research.google.com/notebooks/data_table.ipynb>data table notebook</a>'\n",
              "          + ' to learn more about interactive tables.';\n",
              "        element.innerHTML = '';\n",
              "        dataTable['output_type'] = 'display_data';\n",
              "        await google.colab.output.renderOutput(dataTable, element);\n",
              "        const docLink = document.createElement('div');\n",
              "        docLink.innerHTML = docLinkHtml;\n",
              "        element.appendChild(docLink);\n",
              "      }\n",
              "    </script>\n",
              "  </div>\n",
              "\n",
              "    </div>\n",
              "  </div>\n"
            ],
            "text/plain": [
              "month              1990-01   1990-02   1990-03   1990-04   1990-05   1990-06  \\\n",
              "mean_sunshine_hrs      NaN  0.679245 -0.067416 -0.240964  0.031746 -0.030769   \n",
              "mean_temp              NaN  0.053435  0.021739  0.010638  0.003509 -0.010490   \n",
              "\n",
              "month               1990-07   1990-08   1990-09   1990-10  ...   1991-03  \\\n",
              "mean_sunshine_hrs -0.063492 -0.016949 -0.120690  0.156863  ...  0.014286   \n",
              "mean_temp         -0.028269  0.018182 -0.028571  0.011029  ...  0.025830   \n",
              "\n",
              "month               1991-04  1991-05   1991-06   1991-07   1991-08   1991-09  \\\n",
              "mean_sunshine_hrs -0.183099 -0.12069  0.392157 -0.056338 -0.208955 -0.226415   \n",
              "mean_temp         -0.003597  0.00000  0.032491 -0.003497 -0.010526 -0.024823   \n",
              "\n",
              "month              1991-10   1991-11   1991-12  \n",
              "mean_sunshine_hrs  0.02439 -0.166667 -0.142857  \n",
              "mean_temp          0.00000 -0.043636 -0.026616  \n",
              "\n",
              "[2 rows x 24 columns]"
            ]
          },
          "execution_count": 1,
          "metadata": {},
          "output_type": "execute_result"
        }
      ],
      "source": [
        "import pandas as pd\n",
        "\n",
        "#what if i had 2 datasets and I wanted to track differences?\n",
        "sunshine = pd.read_csv('sample_data/sunshine-duration-monthly-mean-daily-duration.csv', index_col=\"month\")\n",
        "temperature = pd.read_csv('sample_data/surface-air-temperature-monthly-mean.csv', index_col=\"month\")\n",
        "\n",
        "\n",
        "sunshine1990 = sunshine.loc[\"1990-01\":\"1990-12\", :]\n",
        "temp1990 = temperature.loc[\"1990-01\":\"1990-12\", :]\n",
        "\n",
        "sunshine1991 = sunshine.loc[\"1991-01\":\"1991-12\", :]\n",
        "temp1991 = temperature.loc[\"1991-01\":\"1991-12\", :]\n",
        "\n",
        "year1990 = sunshine1990.copy()\n",
        "year1990.loc[:,\"mean_temp\"] = temp1990[\"mean_temp\"]\n",
        "year1991 = sunshine1991.copy()\n",
        "year1991.loc[:,\"mean_temp\"] = temp1991[\"mean_temp\"]\n",
        "\n",
        "data = year1990.append(year1991).T.copy()\n",
        "#data\n",
        "data.pct_change(axis='columns')"
      ]
    },
    {
      "cell_type": "code",
      "execution_count": null,
      "metadata": {
        "id": "RKOEnGTFr33F"
      },
      "outputs": [],
      "source": []
    },
    {
      "cell_type": "code",
      "execution_count": 2,
      "metadata": {
        "colab": {
          "base_uri": "https://localhost:8080/",
          "height": 480
        },
        "id": "-UE1Q2Cjr33F",
        "outputId": "b79a9faf-e997-4555-ed77-c4ff3983722e"
      },
      "outputs": [
        {
          "name": "stderr",
          "output_type": "stream",
          "text": [
            "<ipython-input-2-0bbf907da9aa>:7: FutureWarning: The frame.append method is deprecated and will be removed from pandas in a future version. Use pandas.concat instead.\n",
            "  sunshine = sunshine.T.append(sunshine1991.T).T\n"
          ]
        },
        {
          "data": {
            "text/html": [
              "\n",
              "  <div id=\"df-14fa6554-f309-4a2d-ae48-812ef8dbdf7a\" class=\"colab-df-container\">\n",
              "    <div>\n",
              "<style scoped>\n",
              "    .dataframe tbody tr th:only-of-type {\n",
              "        vertical-align: middle;\n",
              "    }\n",
              "\n",
              "    .dataframe tbody tr th {\n",
              "        vertical-align: top;\n",
              "    }\n",
              "\n",
              "    .dataframe thead th {\n",
              "        text-align: right;\n",
              "    }\n",
              "</style>\n",
              "<table border=\"1\" class=\"dataframe\">\n",
              "  <thead>\n",
              "    <tr style=\"text-align: right;\">\n",
              "      <th></th>\n",
              "      <th>mean1990</th>\n",
              "      <th>mean1991</th>\n",
              "      <th>difference</th>\n",
              "    </tr>\n",
              "  </thead>\n",
              "  <tbody>\n",
              "    <tr>\n",
              "      <th>1</th>\n",
              "      <td>5.3</td>\n",
              "      <td>5.6</td>\n",
              "      <td>-0.3</td>\n",
              "    </tr>\n",
              "    <tr>\n",
              "      <th>2</th>\n",
              "      <td>8.9</td>\n",
              "      <td>7.0</td>\n",
              "      <td>1.9</td>\n",
              "    </tr>\n",
              "    <tr>\n",
              "      <th>3</th>\n",
              "      <td>8.3</td>\n",
              "      <td>7.1</td>\n",
              "      <td>1.2</td>\n",
              "    </tr>\n",
              "    <tr>\n",
              "      <th>4</th>\n",
              "      <td>6.3</td>\n",
              "      <td>5.8</td>\n",
              "      <td>0.5</td>\n",
              "    </tr>\n",
              "    <tr>\n",
              "      <th>5</th>\n",
              "      <td>6.5</td>\n",
              "      <td>5.1</td>\n",
              "      <td>1.4</td>\n",
              "    </tr>\n",
              "    <tr>\n",
              "      <th>6</th>\n",
              "      <td>6.3</td>\n",
              "      <td>7.1</td>\n",
              "      <td>-0.8</td>\n",
              "    </tr>\n",
              "    <tr>\n",
              "      <th>7</th>\n",
              "      <td>5.9</td>\n",
              "      <td>6.7</td>\n",
              "      <td>-0.8</td>\n",
              "    </tr>\n",
              "    <tr>\n",
              "      <th>8</th>\n",
              "      <td>5.8</td>\n",
              "      <td>5.3</td>\n",
              "      <td>0.5</td>\n",
              "    </tr>\n",
              "    <tr>\n",
              "      <th>9</th>\n",
              "      <td>5.1</td>\n",
              "      <td>4.1</td>\n",
              "      <td>1.0</td>\n",
              "    </tr>\n",
              "    <tr>\n",
              "      <th>10</th>\n",
              "      <td>5.9</td>\n",
              "      <td>4.2</td>\n",
              "      <td>1.7</td>\n",
              "    </tr>\n",
              "    <tr>\n",
              "      <th>11</th>\n",
              "      <td>4.6</td>\n",
              "      <td>3.5</td>\n",
              "      <td>1.1</td>\n",
              "    </tr>\n",
              "    <tr>\n",
              "      <th>12</th>\n",
              "      <td>5.5</td>\n",
              "      <td>3.0</td>\n",
              "      <td>2.5</td>\n",
              "    </tr>\n",
              "  </tbody>\n",
              "</table>\n",
              "</div>\n",
              "    <div class=\"colab-df-buttons\">\n",
              "\n",
              "  <div class=\"colab-df-container\">\n",
              "    <button class=\"colab-df-convert\" onclick=\"convertToInteractive('df-14fa6554-f309-4a2d-ae48-812ef8dbdf7a')\"\n",
              "            title=\"Convert this dataframe to an interactive table.\"\n",
              "            style=\"display:none;\">\n",
              "\n",
              "  <svg xmlns=\"http://www.w3.org/2000/svg\" height=\"24px\" viewBox=\"0 -960 960 960\">\n",
              "    <path d=\"M120-120v-720h720v720H120Zm60-500h600v-160H180v160Zm220 220h160v-160H400v160Zm0 220h160v-160H400v160ZM180-400h160v-160H180v160Zm440 0h160v-160H620v160ZM180-180h160v-160H180v160Zm440 0h160v-160H620v160Z\"/>\n",
              "  </svg>\n",
              "    </button>\n",
              "\n",
              "  <style>\n",
              "    .colab-df-container {\n",
              "      display:flex;\n",
              "      gap: 12px;\n",
              "    }\n",
              "\n",
              "    .colab-df-convert {\n",
              "      background-color: #E8F0FE;\n",
              "      border: none;\n",
              "      border-radius: 50%;\n",
              "      cursor: pointer;\n",
              "      display: none;\n",
              "      fill: #1967D2;\n",
              "      height: 32px;\n",
              "      padding: 0 0 0 0;\n",
              "      width: 32px;\n",
              "    }\n",
              "\n",
              "    .colab-df-convert:hover {\n",
              "      background-color: #E2EBFA;\n",
              "      box-shadow: 0px 1px 2px rgba(60, 64, 67, 0.3), 0px 1px 3px 1px rgba(60, 64, 67, 0.15);\n",
              "      fill: #174EA6;\n",
              "    }\n",
              "\n",
              "    .colab-df-buttons div {\n",
              "      margin-bottom: 4px;\n",
              "    }\n",
              "\n",
              "    [theme=dark] .colab-df-convert {\n",
              "      background-color: #3B4455;\n",
              "      fill: #D2E3FC;\n",
              "    }\n",
              "\n",
              "    [theme=dark] .colab-df-convert:hover {\n",
              "      background-color: #434B5C;\n",
              "      box-shadow: 0px 1px 3px 1px rgba(0, 0, 0, 0.15);\n",
              "      filter: drop-shadow(0px 1px 2px rgba(0, 0, 0, 0.3));\n",
              "      fill: #FFFFFF;\n",
              "    }\n",
              "  </style>\n",
              "\n",
              "    <script>\n",
              "      const buttonEl =\n",
              "        document.querySelector('#df-14fa6554-f309-4a2d-ae48-812ef8dbdf7a button.colab-df-convert');\n",
              "      buttonEl.style.display =\n",
              "        google.colab.kernel.accessAllowed ? 'block' : 'none';\n",
              "\n",
              "      async function convertToInteractive(key) {\n",
              "        const element = document.querySelector('#df-14fa6554-f309-4a2d-ae48-812ef8dbdf7a');\n",
              "        const dataTable =\n",
              "          await google.colab.kernel.invokeFunction('convertToInteractive',\n",
              "                                                    [key], {});\n",
              "        if (!dataTable) return;\n",
              "\n",
              "        const docLinkHtml = 'Like what you see? Visit the ' +\n",
              "          '<a target=\"_blank\" href=https://colab.research.google.com/notebooks/data_table.ipynb>data table notebook</a>'\n",
              "          + ' to learn more about interactive tables.';\n",
              "        element.innerHTML = '';\n",
              "        dataTable['output_type'] = 'display_data';\n",
              "        await google.colab.output.renderOutput(dataTable, element);\n",
              "        const docLink = document.createElement('div');\n",
              "        docLink.innerHTML = docLinkHtml;\n",
              "        element.appendChild(docLink);\n",
              "      }\n",
              "    </script>\n",
              "  </div>\n",
              "\n",
              "\n",
              "<div id=\"df-ab0628f8-7f3b-4663-8d3a-499247c0e4bc\">\n",
              "  <button class=\"colab-df-quickchart\" onclick=\"quickchart('df-ab0628f8-7f3b-4663-8d3a-499247c0e4bc')\"\n",
              "            title=\"Suggest charts.\"\n",
              "            style=\"display:none;\">\n",
              "\n",
              "<svg xmlns=\"http://www.w3.org/2000/svg\" height=\"24px\"viewBox=\"0 0 24 24\"\n",
              "     width=\"24px\">\n",
              "    <g>\n",
              "        <path d=\"M19 3H5c-1.1 0-2 .9-2 2v14c0 1.1.9 2 2 2h14c1.1 0 2-.9 2-2V5c0-1.1-.9-2-2-2zM9 17H7v-7h2v7zm4 0h-2V7h2v10zm4 0h-2v-4h2v4z\"/>\n",
              "    </g>\n",
              "</svg>\n",
              "  </button>\n",
              "\n",
              "<style>\n",
              "  .colab-df-quickchart {\n",
              "    background-color: #E8F0FE;\n",
              "    border: none;\n",
              "    border-radius: 50%;\n",
              "    cursor: pointer;\n",
              "    display: none;\n",
              "    fill: #1967D2;\n",
              "    height: 32px;\n",
              "    padding: 0 0 0 0;\n",
              "    width: 32px;\n",
              "  }\n",
              "\n",
              "  .colab-df-quickchart:hover {\n",
              "    background-color: #E2EBFA;\n",
              "    box-shadow: 0px 1px 2px rgba(60, 64, 67, 0.3), 0px 1px 3px 1px rgba(60, 64, 67, 0.15);\n",
              "    fill: #174EA6;\n",
              "  }\n",
              "\n",
              "  [theme=dark] .colab-df-quickchart {\n",
              "    background-color: #3B4455;\n",
              "    fill: #D2E3FC;\n",
              "  }\n",
              "\n",
              "  [theme=dark] .colab-df-quickchart:hover {\n",
              "    background-color: #434B5C;\n",
              "    box-shadow: 0px 1px 3px 1px rgba(0, 0, 0, 0.15);\n",
              "    filter: drop-shadow(0px 1px 2px rgba(0, 0, 0, 0.3));\n",
              "    fill: #FFFFFF;\n",
              "  }\n",
              "</style>\n",
              "\n",
              "  <script>\n",
              "    async function quickchart(key) {\n",
              "      const charts = await google.colab.kernel.invokeFunction(\n",
              "          'suggestCharts', [key], {});\n",
              "    }\n",
              "    (() => {\n",
              "      let quickchartButtonEl =\n",
              "        document.querySelector('#df-ab0628f8-7f3b-4663-8d3a-499247c0e4bc button');\n",
              "      quickchartButtonEl.style.display =\n",
              "        google.colab.kernel.accessAllowed ? 'block' : 'none';\n",
              "    })();\n",
              "  </script>\n",
              "</div>\n",
              "    </div>\n",
              "  </div>\n"
            ],
            "text/plain": [
              "    mean1990  mean1991  difference\n",
              "1        5.3       5.6        -0.3\n",
              "2        8.9       7.0         1.9\n",
              "3        8.3       7.1         1.2\n",
              "4        6.3       5.8         0.5\n",
              "5        6.5       5.1         1.4\n",
              "6        6.3       7.1        -0.8\n",
              "7        5.9       6.7        -0.8\n",
              "8        5.8       5.3         0.5\n",
              "9        5.1       4.1         1.0\n",
              "10       5.9       4.2         1.7\n",
              "11       4.6       3.5         1.1\n",
              "12       5.5       3.0         2.5"
            ]
          },
          "execution_count": 2,
          "metadata": {},
          "output_type": "execute_result"
        }
      ],
      "source": [
        "sunshine = sunshine1990.copy()\n",
        "sunshine.index=range(1,13)\n",
        "sunshine.columns = [\"mean1990\"]\n",
        "\n",
        "sunshine1991.index=range(1,13)\n",
        "sunshine1991.columns = [\"mean1991\"]\n",
        "sunshine = sunshine.T.append(sunshine1991.T).T\n",
        "#sunshine\n",
        "\n",
        "sunshine[\"difference\"] = sunshine[\"mean1990\"] - sunshine[\"mean1991\"]\n",
        "sunshine"
      ]
    },
    {
      "cell_type": "code",
      "execution_count": 8,
      "metadata": {
        "colab": {
          "base_uri": "https://localhost:8080/",
          "height": 457
        },
        "id": "RWs_e7d-r33G",
        "outputId": "d7d3c7f1-1b9a-4c67-c0dc-32c037373ec2"
      },
      "outputs": [
        {
          "data": {
            "text/html": [
              "\n",
              "  <div id=\"df-480557c3-b40b-4255-a8f7-e65b907fbfc5\" class=\"colab-df-container\">\n",
              "    <div>\n",
              "<style scoped>\n",
              "    .dataframe tbody tr th:only-of-type {\n",
              "        vertical-align: middle;\n",
              "    }\n",
              "\n",
              "    .dataframe tbody tr th {\n",
              "        vertical-align: top;\n",
              "    }\n",
              "\n",
              "    .dataframe thead th {\n",
              "        text-align: right;\n",
              "    }\n",
              "</style>\n",
              "<table border=\"1\" class=\"dataframe\">\n",
              "  <thead>\n",
              "    <tr style=\"text-align: right;\">\n",
              "      <th></th>\n",
              "      <th>mean_sunshine_hrs</th>\n",
              "      <th>mean_temp</th>\n",
              "    </tr>\n",
              "    <tr>\n",
              "      <th>month</th>\n",
              "      <th></th>\n",
              "      <th></th>\n",
              "    </tr>\n",
              "  </thead>\n",
              "  <tbody>\n",
              "    <tr>\n",
              "      <th>1991-01</th>\n",
              "      <td>5.6</td>\n",
              "      <td>26.7</td>\n",
              "    </tr>\n",
              "    <tr>\n",
              "      <th>1991-02</th>\n",
              "      <td>7.0</td>\n",
              "      <td>27.1</td>\n",
              "    </tr>\n",
              "    <tr>\n",
              "      <th>1991-03</th>\n",
              "      <td>7.1</td>\n",
              "      <td>27.8</td>\n",
              "    </tr>\n",
              "    <tr>\n",
              "      <th>1991-04</th>\n",
              "      <td>5.8</td>\n",
              "      <td>27.7</td>\n",
              "    </tr>\n",
              "    <tr>\n",
              "      <th>1991-05</th>\n",
              "      <td>5.1</td>\n",
              "      <td>27.7</td>\n",
              "    </tr>\n",
              "    <tr>\n",
              "      <th>1991-06</th>\n",
              "      <td>7.1</td>\n",
              "      <td>28.6</td>\n",
              "    </tr>\n",
              "    <tr>\n",
              "      <th>1991-07</th>\n",
              "      <td>6.7</td>\n",
              "      <td>28.5</td>\n",
              "    </tr>\n",
              "    <tr>\n",
              "      <th>1991-08</th>\n",
              "      <td>5.3</td>\n",
              "      <td>28.2</td>\n",
              "    </tr>\n",
              "    <tr>\n",
              "      <th>1991-09</th>\n",
              "      <td>4.1</td>\n",
              "      <td>27.5</td>\n",
              "    </tr>\n",
              "    <tr>\n",
              "      <th>1991-10</th>\n",
              "      <td>4.2</td>\n",
              "      <td>27.5</td>\n",
              "    </tr>\n",
              "    <tr>\n",
              "      <th>1991-11</th>\n",
              "      <td>3.5</td>\n",
              "      <td>26.3</td>\n",
              "    </tr>\n",
              "    <tr>\n",
              "      <th>1991-12</th>\n",
              "      <td>3.0</td>\n",
              "      <td>25.6</td>\n",
              "    </tr>\n",
              "  </tbody>\n",
              "</table>\n",
              "</div>\n",
              "    <div class=\"colab-df-buttons\">\n",
              "\n",
              "  <div class=\"colab-df-container\">\n",
              "    <button class=\"colab-df-convert\" onclick=\"convertToInteractive('df-480557c3-b40b-4255-a8f7-e65b907fbfc5')\"\n",
              "            title=\"Convert this dataframe to an interactive table.\"\n",
              "            style=\"display:none;\">\n",
              "\n",
              "  <svg xmlns=\"http://www.w3.org/2000/svg\" height=\"24px\" viewBox=\"0 -960 960 960\">\n",
              "    <path d=\"M120-120v-720h720v720H120Zm60-500h600v-160H180v160Zm220 220h160v-160H400v160Zm0 220h160v-160H400v160ZM180-400h160v-160H180v160Zm440 0h160v-160H620v160ZM180-180h160v-160H180v160Zm440 0h160v-160H620v160Z\"/>\n",
              "  </svg>\n",
              "    </button>\n",
              "\n",
              "  <style>\n",
              "    .colab-df-container {\n",
              "      display:flex;\n",
              "      gap: 12px;\n",
              "    }\n",
              "\n",
              "    .colab-df-convert {\n",
              "      background-color: #E8F0FE;\n",
              "      border: none;\n",
              "      border-radius: 50%;\n",
              "      cursor: pointer;\n",
              "      display: none;\n",
              "      fill: #1967D2;\n",
              "      height: 32px;\n",
              "      padding: 0 0 0 0;\n",
              "      width: 32px;\n",
              "    }\n",
              "\n",
              "    .colab-df-convert:hover {\n",
              "      background-color: #E2EBFA;\n",
              "      box-shadow: 0px 1px 2px rgba(60, 64, 67, 0.3), 0px 1px 3px 1px rgba(60, 64, 67, 0.15);\n",
              "      fill: #174EA6;\n",
              "    }\n",
              "\n",
              "    .colab-df-buttons div {\n",
              "      margin-bottom: 4px;\n",
              "    }\n",
              "\n",
              "    [theme=dark] .colab-df-convert {\n",
              "      background-color: #3B4455;\n",
              "      fill: #D2E3FC;\n",
              "    }\n",
              "\n",
              "    [theme=dark] .colab-df-convert:hover {\n",
              "      background-color: #434B5C;\n",
              "      box-shadow: 0px 1px 3px 1px rgba(0, 0, 0, 0.15);\n",
              "      filter: drop-shadow(0px 1px 2px rgba(0, 0, 0, 0.3));\n",
              "      fill: #FFFFFF;\n",
              "    }\n",
              "  </style>\n",
              "\n",
              "    <script>\n",
              "      const buttonEl =\n",
              "        document.querySelector('#df-480557c3-b40b-4255-a8f7-e65b907fbfc5 button.colab-df-convert');\n",
              "      buttonEl.style.display =\n",
              "        google.colab.kernel.accessAllowed ? 'block' : 'none';\n",
              "\n",
              "      async function convertToInteractive(key) {\n",
              "        const element = document.querySelector('#df-480557c3-b40b-4255-a8f7-e65b907fbfc5');\n",
              "        const dataTable =\n",
              "          await google.colab.kernel.invokeFunction('convertToInteractive',\n",
              "                                                    [key], {});\n",
              "        if (!dataTable) return;\n",
              "\n",
              "        const docLinkHtml = 'Like what you see? Visit the ' +\n",
              "          '<a target=\"_blank\" href=https://colab.research.google.com/notebooks/data_table.ipynb>data table notebook</a>'\n",
              "          + ' to learn more about interactive tables.';\n",
              "        element.innerHTML = '';\n",
              "        dataTable['output_type'] = 'display_data';\n",
              "        await google.colab.output.renderOutput(dataTable, element);\n",
              "        const docLink = document.createElement('div');\n",
              "        docLink.innerHTML = docLinkHtml;\n",
              "        element.appendChild(docLink);\n",
              "      }\n",
              "    </script>\n",
              "  </div>\n",
              "\n",
              "\n",
              "<div id=\"df-dd8514da-3751-4942-bc98-e2aa2545f9a8\">\n",
              "  <button class=\"colab-df-quickchart\" onclick=\"quickchart('df-dd8514da-3751-4942-bc98-e2aa2545f9a8')\"\n",
              "            title=\"Suggest charts.\"\n",
              "            style=\"display:none;\">\n",
              "\n",
              "<svg xmlns=\"http://www.w3.org/2000/svg\" height=\"24px\"viewBox=\"0 0 24 24\"\n",
              "     width=\"24px\">\n",
              "    <g>\n",
              "        <path d=\"M19 3H5c-1.1 0-2 .9-2 2v14c0 1.1.9 2 2 2h14c1.1 0 2-.9 2-2V5c0-1.1-.9-2-2-2zM9 17H7v-7h2v7zm4 0h-2V7h2v10zm4 0h-2v-4h2v4z\"/>\n",
              "    </g>\n",
              "</svg>\n",
              "  </button>\n",
              "\n",
              "<style>\n",
              "  .colab-df-quickchart {\n",
              "    background-color: #E8F0FE;\n",
              "    border: none;\n",
              "    border-radius: 50%;\n",
              "    cursor: pointer;\n",
              "    display: none;\n",
              "    fill: #1967D2;\n",
              "    height: 32px;\n",
              "    padding: 0 0 0 0;\n",
              "    width: 32px;\n",
              "  }\n",
              "\n",
              "  .colab-df-quickchart:hover {\n",
              "    background-color: #E2EBFA;\n",
              "    box-shadow: 0px 1px 2px rgba(60, 64, 67, 0.3), 0px 1px 3px 1px rgba(60, 64, 67, 0.15);\n",
              "    fill: #174EA6;\n",
              "  }\n",
              "\n",
              "  [theme=dark] .colab-df-quickchart {\n",
              "    background-color: #3B4455;\n",
              "    fill: #D2E3FC;\n",
              "  }\n",
              "\n",
              "  [theme=dark] .colab-df-quickchart:hover {\n",
              "    background-color: #434B5C;\n",
              "    box-shadow: 0px 1px 3px 1px rgba(0, 0, 0, 0.15);\n",
              "    filter: drop-shadow(0px 1px 2px rgba(0, 0, 0, 0.3));\n",
              "    fill: #FFFFFF;\n",
              "  }\n",
              "</style>\n",
              "\n",
              "  <script>\n",
              "    async function quickchart(key) {\n",
              "      const charts = await google.colab.kernel.invokeFunction(\n",
              "          'suggestCharts', [key], {});\n",
              "    }\n",
              "    (() => {\n",
              "      let quickchartButtonEl =\n",
              "        document.querySelector('#df-dd8514da-3751-4942-bc98-e2aa2545f9a8 button');\n",
              "      quickchartButtonEl.style.display =\n",
              "        google.colab.kernel.accessAllowed ? 'block' : 'none';\n",
              "    })();\n",
              "  </script>\n",
              "</div>\n",
              "    </div>\n",
              "  </div>\n"
            ],
            "text/plain": [
              "         mean_sunshine_hrs  mean_temp\n",
              "month                                \n",
              "1991-01                5.6       26.7\n",
              "1991-02                7.0       27.1\n",
              "1991-03                7.1       27.8\n",
              "1991-04                5.8       27.7\n",
              "1991-05                5.1       27.7\n",
              "1991-06                7.1       28.6\n",
              "1991-07                6.7       28.5\n",
              "1991-08                5.3       28.2\n",
              "1991-09                4.1       27.5\n",
              "1991-10                4.2       27.5\n",
              "1991-11                3.5       26.3\n",
              "1991-12                3.0       25.6"
            ]
          },
          "execution_count": 8,
          "metadata": {},
          "output_type": "execute_result"
        }
      ],
      "source": [
        "year1991"
      ]
    },
    {
      "cell_type": "code",
      "execution_count": 9,
      "metadata": {
        "colab": {
          "base_uri": "https://localhost:8080/",
          "height": 112
        },
        "id": "TEGFVHu-r33G",
        "outputId": "53b8c1d0-9d9e-4e46-f6c3-0a773203ea4a",
        "scrolled": false
      },
      "outputs": [
        {
          "data": {
            "text/html": [
              "\n",
              "  <div id=\"df-fdd16ede-ce62-42ea-86cd-04095631d735\" class=\"colab-df-container\">\n",
              "    <div>\n",
              "<style scoped>\n",
              "    .dataframe tbody tr th:only-of-type {\n",
              "        vertical-align: middle;\n",
              "    }\n",
              "\n",
              "    .dataframe tbody tr th {\n",
              "        vertical-align: top;\n",
              "    }\n",
              "\n",
              "    .dataframe thead th {\n",
              "        text-align: right;\n",
              "    }\n",
              "</style>\n",
              "<table border=\"1\" class=\"dataframe\">\n",
              "  <thead>\n",
              "    <tr style=\"text-align: right;\">\n",
              "      <th></th>\n",
              "      <th>2016</th>\n",
              "      <th>2015</th>\n",
              "      <th>2014</th>\n",
              "    </tr>\n",
              "  </thead>\n",
              "  <tbody>\n",
              "    <tr>\n",
              "      <th>GOOG</th>\n",
              "      <td>1769950</td>\n",
              "      <td>1500923</td>\n",
              "      <td>1371819</td>\n",
              "    </tr>\n",
              "    <tr>\n",
              "      <th>APPL</th>\n",
              "      <td>30586265</td>\n",
              "      <td>40912316</td>\n",
              "      <td>41403351</td>\n",
              "    </tr>\n",
              "  </tbody>\n",
              "</table>\n",
              "</div>\n",
              "    <div class=\"colab-df-buttons\">\n",
              "\n",
              "  <div class=\"colab-df-container\">\n",
              "    <button class=\"colab-df-convert\" onclick=\"convertToInteractive('df-fdd16ede-ce62-42ea-86cd-04095631d735')\"\n",
              "            title=\"Convert this dataframe to an interactive table.\"\n",
              "            style=\"display:none;\">\n",
              "\n",
              "  <svg xmlns=\"http://www.w3.org/2000/svg\" height=\"24px\" viewBox=\"0 -960 960 960\">\n",
              "    <path d=\"M120-120v-720h720v720H120Zm60-500h600v-160H180v160Zm220 220h160v-160H400v160Zm0 220h160v-160H400v160ZM180-400h160v-160H180v160Zm440 0h160v-160H620v160ZM180-180h160v-160H180v160Zm440 0h160v-160H620v160Z\"/>\n",
              "  </svg>\n",
              "    </button>\n",
              "\n",
              "  <style>\n",
              "    .colab-df-container {\n",
              "      display:flex;\n",
              "      gap: 12px;\n",
              "    }\n",
              "\n",
              "    .colab-df-convert {\n",
              "      background-color: #E8F0FE;\n",
              "      border: none;\n",
              "      border-radius: 50%;\n",
              "      cursor: pointer;\n",
              "      display: none;\n",
              "      fill: #1967D2;\n",
              "      height: 32px;\n",
              "      padding: 0 0 0 0;\n",
              "      width: 32px;\n",
              "    }\n",
              "\n",
              "    .colab-df-convert:hover {\n",
              "      background-color: #E2EBFA;\n",
              "      box-shadow: 0px 1px 2px rgba(60, 64, 67, 0.3), 0px 1px 3px 1px rgba(60, 64, 67, 0.15);\n",
              "      fill: #174EA6;\n",
              "    }\n",
              "\n",
              "    .colab-df-buttons div {\n",
              "      margin-bottom: 4px;\n",
              "    }\n",
              "\n",
              "    [theme=dark] .colab-df-convert {\n",
              "      background-color: #3B4455;\n",
              "      fill: #D2E3FC;\n",
              "    }\n",
              "\n",
              "    [theme=dark] .colab-df-convert:hover {\n",
              "      background-color: #434B5C;\n",
              "      box-shadow: 0px 1px 3px 1px rgba(0, 0, 0, 0.15);\n",
              "      filter: drop-shadow(0px 1px 2px rgba(0, 0, 0, 0.3));\n",
              "      fill: #FFFFFF;\n",
              "    }\n",
              "  </style>\n",
              "\n",
              "    <script>\n",
              "      const buttonEl =\n",
              "        document.querySelector('#df-fdd16ede-ce62-42ea-86cd-04095631d735 button.colab-df-convert');\n",
              "      buttonEl.style.display =\n",
              "        google.colab.kernel.accessAllowed ? 'block' : 'none';\n",
              "\n",
              "      async function convertToInteractive(key) {\n",
              "        const element = document.querySelector('#df-fdd16ede-ce62-42ea-86cd-04095631d735');\n",
              "        const dataTable =\n",
              "          await google.colab.kernel.invokeFunction('convertToInteractive',\n",
              "                                                    [key], {});\n",
              "        if (!dataTable) return;\n",
              "\n",
              "        const docLinkHtml = 'Like what you see? Visit the ' +\n",
              "          '<a target=\"_blank\" href=https://colab.research.google.com/notebooks/data_table.ipynb>data table notebook</a>'\n",
              "          + ' to learn more about interactive tables.';\n",
              "        element.innerHTML = '';\n",
              "        dataTable['output_type'] = 'display_data';\n",
              "        await google.colab.output.renderOutput(dataTable, element);\n",
              "        const docLink = document.createElement('div');\n",
              "        docLink.innerHTML = docLinkHtml;\n",
              "        element.appendChild(docLink);\n",
              "      }\n",
              "    </script>\n",
              "  </div>\n",
              "\n",
              "    </div>\n",
              "  </div>\n"
            ],
            "text/plain": [
              "          2016      2015      2014\n",
              "GOOG   1769950   1500923   1371819\n",
              "APPL  30586265  40912316  41403351"
            ]
          },
          "execution_count": 9,
          "metadata": {},
          "output_type": "execute_result"
        }
      ],
      "source": [
        "df = pd.DataFrame({'2016': [1769950, 30586265],'2015': [1500923, 40912316],\n",
        "'2014': [1371819, 41403351]},index=['GOOG', 'APPL'])\n",
        "df"
      ]
    },
    {
      "cell_type": "code",
      "execution_count": null,
      "metadata": {
        "id": "nI41IUEer33G"
      },
      "outputs": [],
      "source": []
    },
    {
      "cell_type": "code",
      "execution_count": null,
      "metadata": {
        "id": "M8NMd7Iar33G"
      },
      "outputs": [],
      "source": []
    }
  ],
  "metadata": {
    "anaconda-cloud": {},
    "colab": {
      "include_colab_link": true,
      "provenance": []
    },
    "kernelspec": {
      "display_name": "Python 3",
      "language": "python",
      "name": "python3"
    },
    "language_info": {
      "codemirror_mode": {
        "name": "ipython",
        "version": 3
      },
      "file_extension": ".py",
      "mimetype": "text/x-python",
      "name": "python",
      "nbconvert_exporter": "python",
      "pygments_lexer": "ipython3",
      "version": "3.8.3"
    }
  },
  "nbformat": 4,
  "nbformat_minor": 0
}
