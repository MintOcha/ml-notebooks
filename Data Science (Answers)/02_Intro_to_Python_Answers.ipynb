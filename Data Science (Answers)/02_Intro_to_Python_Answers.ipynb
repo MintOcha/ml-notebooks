{
  "cells": [
    {
      "cell_type": "markdown",
      "metadata": {
        "colab_type": "text",
        "id": "view-in-github"
      },
      "source": [
        "<a href=\"https://colab.research.google.com/github/tinkercademy/ml-notebooks/blob/main/Data Science (Answers)/02_Intro_to_Python_Answers.ipynb\" target=\"_parent\"><img src=\"https://colab.research.google.com/assets/colab-badge.svg\" alt=\"Open In Colab\"/></a>"
      ]
    },
    {
      "cell_type": "markdown",
      "metadata": {
        "id": "ptgcqx6udzvx"
      },
      "source": [
        "# Intro to Python\n",
        "\n",
        "In this notebook, we'll do some very basic Python to get you warmed up with programming. Experienced coders can try the exercises the end of each section, or if you already know intro Python, move ahead to the next notebook."
      ]
    },
    {
      "cell_type": "markdown",
      "metadata": {
        "id": "SQWgBZNndzvy"
      },
      "source": [
        "## Variables\n",
        "\n",
        "Variables are used to store data. In Python, we use `=` to *assign* data from the right item, to the variable name in the left item. For example:"
      ]
    },
    {
      "cell_type": "code",
      "execution_count": 1,
      "metadata": {
        "id": "9jWbZln_dzvz"
      },
      "outputs": [],
      "source": [
        "name = \"Potato\"\n",
        "age = 36\n",
        "weight = 108.5"
      ]
    },
    {
      "cell_type": "markdown",
      "metadata": {
        "id": "EYFHokYRdzv2"
      },
      "source": [
        "Start your variables with letters--you can't use numbers, so `3banana` is not a valid variable name. For variables with many words, use underscores: `three_banana` or camel case: `threeBanana`."
      ]
    },
    {
      "cell_type": "markdown",
      "metadata": {
        "id": "gm8WSgnodzv2"
      },
      "source": [
        "## Printing\n",
        "\n",
        "Use `print` to send information from your code to the results bar, underneath the cell."
      ]
    },
    {
      "cell_type": "code",
      "execution_count": 2,
      "metadata": {
        "colab": {
          "base_uri": "https://localhost:8080/"
        },
        "id": "Qw19R1kydzv3",
        "outputId": "3fdc776f-9592-40e7-8eb6-edfd6657c313"
      },
      "outputs": [
        {
          "name": "stdout",
          "output_type": "stream",
          "text": [
            "My name is Banana\n"
          ]
        }
      ],
      "source": [
        "print(\"My name is Banana\")"
      ]
    },
    {
      "cell_type": "code",
      "execution_count": 3,
      "metadata": {
        "colab": {
          "base_uri": "https://localhost:8080/"
        },
        "id": "epJD-eF4dzv6",
        "outputId": "7bdb157d-396c-4002-c039-83ab4ecbcecf"
      },
      "outputs": [
        {
          "name": "stdout",
          "output_type": "stream",
          "text": [
            "My name is Potato\n"
          ]
        }
      ],
      "source": [
        "print(\"My name is\", name)"
      ]
    },
    {
      "cell_type": "code",
      "execution_count": 4,
      "metadata": {
        "colab": {
          "base_uri": "https://localhost:8080/"
        },
        "id": "gtHGkB94dzv8",
        "outputId": "39f85869-6485-4fa0-af10-bd0463d71e44"
      },
      "outputs": [
        {
          "name": "stdout",
          "output_type": "stream",
          "text": [
            "My name is Potato and my age is 36 and my weight is 108.5\n"
          ]
        }
      ],
      "source": [
        "print(\"My name is\", name, \"and my age is\", age, \"and my weight is\", weight)"
      ]
    },
    {
      "cell_type": "markdown",
      "metadata": {
        "id": "oQB4i8DLdzv-"
      },
      "source": [
        "## Operators\n",
        "\n",
        "You can do math in Python! It's like a really expensive (and clunky) calculator."
      ]
    },
    {
      "cell_type": "code",
      "execution_count": 5,
      "metadata": {
        "colab": {
          "base_uri": "https://localhost:8080/"
        },
        "id": "nbaMeMbWdzv_",
        "outputId": "925e3339-516f-4572-80b9-140ae5f33350"
      },
      "outputs": [
        {
          "name": "stdout",
          "output_type": "stream",
          "text": [
            "10\n"
          ]
        }
      ],
      "source": [
        "a = 5 + 5\n",
        "print(a)"
      ]
    },
    {
      "cell_type": "code",
      "execution_count": 6,
      "metadata": {
        "colab": {
          "base_uri": "https://localhost:8080/"
        },
        "id": "cTMPdMC0dzwB",
        "outputId": "12045506-0b0a-41bf-c2a6-467ce8bfc686"
      },
      "outputs": [
        {
          "name": "stdout",
          "output_type": "stream",
          "text": [
            "50\n"
          ]
        }
      ],
      "source": [
        "a = 10\n",
        "b = 5\n",
        "c = a * b\n",
        "print(c)"
      ]
    },
    {
      "cell_type": "code",
      "execution_count": 7,
      "metadata": {
        "colab": {
          "base_uri": "https://localhost:8080/"
        },
        "id": "ECMjCAjLdzwE",
        "outputId": "42e0f237-2f1a-4eac-8a49-69fdc4110fb9"
      },
      "outputs": [
        {
          "name": "stdout",
          "output_type": "stream",
          "text": [
            "50\n"
          ]
        }
      ],
      "source": [
        "a = 20\n",
        "print(c) # when a changes, c isn't affected."
      ]
    },
    {
      "cell_type": "code",
      "execution_count": 8,
      "metadata": {
        "colab": {
          "base_uri": "https://localhost:8080/"
        },
        "id": "ujKlNAHFdzwI",
        "outputId": "bb3fdb17-9ea0-4bc1-96ae-ae00dae525fc"
      },
      "outputs": [
        {
          "name": "stdout",
          "output_type": "stream",
          "text": [
            "4.0\n"
          ]
        }
      ],
      "source": [
        "# you can do division within a print, too\n",
        "print(a/b)"
      ]
    },
    {
      "cell_type": "code",
      "execution_count": 9,
      "metadata": {
        "colab": {
          "base_uri": "https://localhost:8080/"
        },
        "id": "Z1DhQiSrdzwK",
        "outputId": "7dc75edd-50ae-4cf2-a62b-8598794c787f"
      },
      "outputs": [
        {
          "name": "stdout",
          "output_type": "stream",
          "text": [
            "0.25\n"
          ]
        }
      ],
      "source": [
        "print(b/a)"
      ]
    },
    {
      "cell_type": "code",
      "execution_count": 10,
      "metadata": {
        "colab": {
          "base_uri": "https://localhost:8080/"
        },
        "id": "p_3hNKvqdzwM",
        "outputId": "b93c6edb-31d4-443e-c829-795199934311"
      },
      "outputs": [
        {
          "name": "stdout",
          "output_type": "stream",
          "text": [
            "DonaldTrunk\n"
          ]
        }
      ],
      "source": [
        "firstname = \"Donald\"\n",
        "lastname = \"Trunk\"\n",
        "fullname = firstname + lastname\n",
        "print(fullname)"
      ]
    },
    {
      "cell_type": "code",
      "execution_count": 11,
      "metadata": {
        "colab": {
          "base_uri": "https://localhost:8080/"
        },
        "id": "JkvPVSM7dzwO",
        "outputId": "3eded8b8-3002-4d87-ce48-1702de3a2a2e"
      },
      "outputs": [
        {
          "name": "stdout",
          "output_type": "stream",
          "text": [
            "BobBobBobBobBob\n"
          ]
        }
      ],
      "source": [
        "name = \"Bob\"\n",
        "print(5 * name)"
      ]
    },
    {
      "cell_type": "code",
      "execution_count": null,
      "metadata": {
        "id": "8o3B4L8bdzwR"
      },
      "outputs": [],
      "source": []
    },
    {
      "cell_type": "markdown",
      "metadata": {
        "id": "G3gTUp-hdzwS"
      },
      "source": [
        "## Types\n",
        "\n",
        "Variables have **types**, of which you've seen three: **int**s (integers, whole numbers), **float**s (decimal numbers), and **str**s (strings of text, with inverted commas around them--single or double inverted commas are fine, as long as you're consistent)."
      ]
    },
    {
      "cell_type": "code",
      "execution_count": 12,
      "metadata": {
        "colab": {
          "base_uri": "https://localhost:8080/"
        },
        "id": "traLrAFqdzwT",
        "outputId": "8d248de8-1584-4dc8-d8e6-c0dedf8792ba"
      },
      "outputs": [
        {
          "name": "stdout",
          "output_type": "stream",
          "text": [
            "<class 'int'>\n"
          ]
        }
      ],
      "source": [
        "print(type(52))"
      ]
    },
    {
      "cell_type": "code",
      "execution_count": 13,
      "metadata": {
        "colab": {
          "base_uri": "https://localhost:8080/"
        },
        "id": "O9v4sKf6dzwV",
        "outputId": "851b943a-a747-4fee-ba3a-feddd1a10562"
      },
      "outputs": [
        {
          "name": "stdout",
          "output_type": "stream",
          "text": [
            "<class 'str'>\n"
          ]
        }
      ],
      "source": [
        "print(type(\"potato\"))"
      ]
    },
    {
      "cell_type": "code",
      "execution_count": 14,
      "metadata": {
        "colab": {
          "base_uri": "https://localhost:8080/"
        },
        "id": "5eFlm5G1dzwY",
        "outputId": "b5349d01-98ab-485b-8d74-135c693104b8"
      },
      "outputs": [
        {
          "name": "stdout",
          "output_type": "stream",
          "text": [
            "<class 'str'>\n"
          ]
        }
      ],
      "source": [
        "print(type(\"52\"))"
      ]
    },
    {
      "cell_type": "code",
      "execution_count": null,
      "metadata": {
        "id": "InxU26T9dzwa"
      },
      "outputs": [],
      "source": []
    },
    {
      "cell_type": "code",
      "execution_count": null,
      "metadata": {
        "id": "zy0g38k1dzwc"
      },
      "outputs": [],
      "source": []
    },
    {
      "cell_type": "code",
      "execution_count": null,
      "metadata": {
        "id": "Ykk28TFtdzwe"
      },
      "outputs": [],
      "source": []
    },
    {
      "cell_type": "code",
      "execution_count": null,
      "metadata": {
        "id": "LKBPHD7sdzwg"
      },
      "outputs": [],
      "source": []
    },
    {
      "cell_type": "code",
      "execution_count": null,
      "metadata": {
        "id": "URJuDMiDdzwi"
      },
      "outputs": [],
      "source": []
    },
    {
      "cell_type": "markdown",
      "metadata": {
        "id": "sDMgpdEYdzwk"
      },
      "source": [
        "### <font color=\"red\">Exercise 1A: More operators</font>\n",
        "\n",
        "Why stop at four when we have more? Try to `print` these out, and write comments (with `#` in front) to say what they do."
      ]
    },
    {
      "cell_type": "code",
      "execution_count": 15,
      "metadata": {
        "id": "203p4sr7dzwl"
      },
      "outputs": [],
      "source": [
        "a = 5 ** 2\n",
        "b = 3 ** 3\n",
        "c = 4 ** 5\n",
        "d = 15 // 12\n",
        "e = 12 // 15\n",
        "f = 200 // 50\n",
        "g = 200 // 51\n",
        "h = 6 % 2\n",
        "i_need_better_variable_names = 5 % 2\n",
        "j = 9 % 5\n",
        "k = 6 % 6\n",
        "l = 0 % 7"
      ]
    },
    {
      "cell_type": "code",
      "execution_count": 16,
      "metadata": {
        "colab": {
          "base_uri": "https://localhost:8080/"
        },
        "id": "y3LO-ojCdzwm",
        "outputId": "ffd9c623-8438-4582-e440-0201bc1a735d"
      },
      "outputs": [
        {
          "name": "stdout",
          "output_type": "stream",
          "text": [
            "1024\n"
          ]
        }
      ],
      "source": [
        "print(c)"
      ]
    },
    {
      "cell_type": "code",
      "execution_count": 17,
      "metadata": {
        "colab": {
          "base_uri": "https://localhost:8080/"
        },
        "id": "EKo4EZ3Idzwp",
        "outputId": "0d1b4a09-2857-46d1-f7ff-5f4ba6fc1fde"
      },
      "outputs": [
        {
          "name": "stdout",
          "output_type": "stream",
          "text": [
            "28.41176470588235\n",
            "You can invite 28.0 people to your party\n"
          ]
        }
      ],
      "source": [
        "#Example of when we might want to use floor division:\n",
        "#Birthday party with 48.3 kg cake, every person will eat 1.7 kg of cake\n",
        "#How many people can I invite?\n",
        "cake = 48.3\n",
        "print(cake / 1.7)\n",
        "print(\"You can invite\", cake // 1.7, \"people to your party\")\n",
        "\n",
        "#Example of modulo is if we want to test if a number is even or odd\n",
        "#But to program this we need to know conditional statements"
      ]
    },
    {
      "cell_type": "markdown",
      "metadata": {
        "id": "igNTeg5kdzwr"
      },
      "source": [
        "### <font color=\"red\">Exercise 1B: Calculate and print\n",
        "\n",
        "What if I want to calculate the age of someone who's 3x my age?\n",
        "\n",
        "Edit the variables below, and print: \"3 times my age is 108\"."
      ]
    },
    {
      "cell_type": "code",
      "execution_count": 18,
      "metadata": {
        "colab": {
          "base_uri": "https://localhost:8080/"
        },
        "id": "VpvHZZ0Gdzwr",
        "outputId": "d4681495-25e1-4098-8a50-6fb142ddd6ee"
      },
      "outputs": [
        {
          "name": "stdout",
          "output_type": "stream",
          "text": [
            "3 times my age is 108\n",
            "3 times my age is 108\n"
          ]
        }
      ],
      "source": [
        "#mention printing multiple parameters\n",
        "\"\"\"age=99  # CHANGE ME\n",
        "n=5001  # CHANGE ME\n",
        "print(n,\"times my age is\",age) # this line needs fixing! FIXME!\n",
        "\"\"\"\n",
        "\n",
        "age=36\n",
        "n=3\n",
        "print(n,\"times my age is\",age*n)\n",
        "\n",
        "print(\"3 times my age is 108\") # not this way"
      ]
    },
    {
      "cell_type": "code",
      "execution_count": null,
      "metadata": {
        "id": "rsO-zmmFdzwt"
      },
      "outputs": [],
      "source": []
    },
    {
      "cell_type": "code",
      "execution_count": null,
      "metadata": {
        "id": "TMGGI81rdzww"
      },
      "outputs": [],
      "source": []
    },
    {
      "cell_type": "markdown",
      "metadata": {
        "id": "zwc-7yFEdzwx"
      },
      "source": [
        "### <font color=\"red\">Exercise 1C: Seconds in a year\n",
        "\n",
        "Let's use Python as a glorified calculator again. Below is some code to help you get started--can you figure out how many seconds there are in a year?"
      ]
    },
    {
      "cell_type": "code",
      "execution_count": 19,
      "metadata": {
        "colab": {
          "base_uri": "https://localhost:8080/"
        },
        "id": "mYI8d9THdzwy",
        "outputId": "82a603c6-a895-4f7e-e6ae-92756c7f45db"
      },
      "outputs": [
        {
          "name": "stdout",
          "output_type": "stream",
          "text": [
            "The number of seconds in a year is 31557600.0\n",
            "The number of seconds in a year is 31,557,600.0\n"
          ]
        }
      ],
      "source": [
        "\"\"\"\n",
        "num_seconds_in_minute = 60\n",
        "num_minutes_in_hour = 0 # FIXME\n",
        "num_hours_in_day = 0 # FIXME\n",
        "num_days_in_year = 0 #FIXME\n",
        "total = ____ * ____  # FIXME\n",
        "print(\"The number of seconds in a year is\",total)\n",
        "\"\"\"\n",
        "\n",
        "num_seconds_in_minute = 60\n",
        "num_minutes_in_hour = 60\n",
        "num_hours_in_day = 24\n",
        "num_days_in_year = 365.25\n",
        "total = num_seconds_in_minute * num_minutes_in_hour * num_hours_in_day * num_days_in_year\n",
        "\n",
        "print(\"The number of seconds in a year is\",total)\n",
        "print(\"The number of seconds in a year is {:,}\".format(total))"
      ]
    },
    {
      "cell_type": "code",
      "execution_count": 20,
      "metadata": {
        "colab": {
          "base_uri": "https://localhost:8080/"
        },
        "id": "LSFpU6qgdzw2",
        "outputId": "542d87c7-5411-43a4-aefd-717a85c66c19"
      },
      "outputs": [
        {
          "name": "stdout",
          "output_type": "stream",
          "text": [
            "1,000,000\n"
          ]
        }
      ],
      "source": [
        "print(\"{:,}\".format(1000000))"
      ]
    },
    {
      "cell_type": "code",
      "execution_count": 21,
      "metadata": {
        "colab": {
          "base_uri": "https://localhost:8080/",
          "height": 35
        },
        "id": "_iW-cQs9dzw4",
        "outputId": "59377d6b-d4fd-4c13-a9f7-1ec11afcd771"
      },
      "outputs": [
        {
          "data": {
            "application/vnd.google.colaboratory.intrinsic+json": {
              "type": "string"
            },
            "text/plain": [
              "'Hello'"
            ]
          },
          "execution_count": 21,
          "metadata": {},
          "output_type": "execute_result"
        }
      ],
      "source": [
        "\"{}\".format(\"Hello\")"
      ]
    },
    {
      "cell_type": "code",
      "execution_count": 22,
      "metadata": {
        "colab": {
          "base_uri": "https://localhost:8080/",
          "height": 35
        },
        "id": "k7M_D_ewdzw6",
        "outputId": "776b5ef4-4f1c-4981-c630-d767dd289924"
      },
      "outputs": [
        {
          "data": {
            "application/vnd.google.colaboratory.intrinsic+json": {
              "type": "string"
            },
            "text/plain": [
              "'This is Hello a sentence World of words'"
            ]
          },
          "execution_count": 22,
          "metadata": {},
          "output_type": "execute_result"
        }
      ],
      "source": [
        "\"This is {} a sentence {} of words\".format(\"Hello\", \"World\")"
      ]
    },
    {
      "cell_type": "code",
      "execution_count": 23,
      "metadata": {
        "colab": {
          "base_uri": "https://localhost:8080/"
        },
        "id": "oPJRR5Lbdzw8",
        "outputId": "e89a81e3-1227-4a80-86da-4753dbf0cb99"
      },
      "outputs": [
        {
          "data": {
            "text/plain": [
              "60"
            ]
          },
          "execution_count": 23,
          "metadata": {},
          "output_type": "execute_result"
        }
      ],
      "source": [
        "num_minutes_in_hour"
      ]
    },
    {
      "cell_type": "code",
      "execution_count": 24,
      "metadata": {
        "colab": {
          "base_uri": "https://localhost:8080/"
        },
        "id": "CQCKQIWhdzw-",
        "outputId": "406afafc-273a-4457-9591-3b0ad20e915f"
      },
      "outputs": [
        {
          "name": "stdout",
          "output_type": "stream",
          "text": [
            "firstnumber 1,000,000, secondnumber 1000000\n"
          ]
        }
      ],
      "source": [
        "print(\"firstnumber {:,}, secondnumber {}\".format(1000000, 1000000))"
      ]
    },
    {
      "cell_type": "code",
      "execution_count": 25,
      "metadata": {
        "colab": {
          "base_uri": "https://localhost:8080/",
          "height": 35
        },
        "id": "PMdkecbxtfJ0",
        "outputId": "095ec1f6-7023-4917-d513-1988b655e320"
      },
      "outputs": [
        {
          "data": {
            "application/vnd.google.colaboratory.intrinsic+json": {
              "type": "string"
            },
            "text/plain": [
              "'hello 1,000,003.14159'"
            ]
          },
          "execution_count": 25,
          "metadata": {},
          "output_type": "execute_result"
        }
      ],
      "source": [
        "a = 1000003.14159\n",
        "f\"hello {a:,}\""
      ]
    },
    {
      "cell_type": "markdown",
      "metadata": {
        "id": "160lwkrMdzw_"
      },
      "source": [
        "### <font color=\"red\">Exercise 1D: Pixels\n",
        "\n",
        "You are given the width and height of a screen in pixels. Calculate the total number of pixels on the screen and store them in a variable called `numberOfPixels`."
      ]
    },
    {
      "cell_type": "code",
      "execution_count": 26,
      "metadata": {
        "colab": {
          "base_uri": "https://localhost:8080/"
        },
        "id": "37IZU69adzxA",
        "outputId": "014f727d-b25a-4181-fed0-df8b44417ed0"
      },
      "outputs": [
        {
          "name": "stdout",
          "output_type": "stream",
          "text": [
            "For a screen with height 1920 pixels\n",
            "And width 1080 pixels\n",
            "The total number of pixels is 2073600\n"
          ]
        }
      ],
      "source": [
        "\"\"\"height = 1920\n",
        "width = 1080\n",
        "\n",
        "# Your code here\n",
        "\n",
        "# Some code to print out the results\n",
        "print(\"For a screen with height\", height, \"pixels\")\n",
        "print(\"And width\", width, \"pixels\")\n",
        "print(\"The total number of pixels is\", numberOfPixels)\n",
        "\"\"\"\n",
        "\n",
        "height = 1920\n",
        "width = 1080\n",
        "numberOfPixels = height * width\n",
        "\n",
        "print(\"For a screen with height\", height, \"pixels\")\n",
        "print(\"And width\", width, \"pixels\")\n",
        "print(\"The total number of pixels is\", numberOfPixels)\n"
      ]
    },
    {
      "cell_type": "code",
      "execution_count": null,
      "metadata": {
        "id": "PUPF17lBdzxB"
      },
      "outputs": [],
      "source": []
    },
    {
      "cell_type": "code",
      "execution_count": 27,
      "metadata": {
        "id": "M5NHxm41dzxE"
      },
      "outputs": [],
      "source": [
        "#Data type conversions will come in useful for next exercise"
      ]
    },
    {
      "cell_type": "markdown",
      "metadata": {
        "id": "HqGT-Vr7dzxG"
      },
      "source": [
        "### <font color=\"red\">Exercise 1E: Boys and girls\n",
        "\n",
        "Calculate the percentage of boys (`percentBoys`) and the percentage of girls (`percentGirls`) in a class, and print it out."
      ]
    },
    {
      "cell_type": "code",
      "execution_count": 28,
      "metadata": {
        "colab": {
          "base_uri": "https://localhost:8080/"
        },
        "id": "5gHGiNqudzxG",
        "outputId": "835a2195-a894-488a-df73-21d62a20a93e"
      },
      "outputs": [
        {
          "name": "stdout",
          "output_type": "stream",
          "text": [
            "% of boys is 75.0\n",
            "% of girls is 25.0\n",
            "75.0% boys\n",
            "75.0% girls\n"
          ]
        }
      ],
      "source": [
        "numberOfBoys = 60\n",
        "numberOfGirls = 20\n",
        "\n",
        "# Your code here\n",
        "total = numberOfBoys + numberOfGirls\n",
        "percentBoys = numberOfBoys / total * 100\n",
        "percentGirls = numberOfGirls / total * 100\n",
        "print(\"% of boys is\", percentBoys)\n",
        "print(\"% of girls is\", percentGirls)\n",
        "\n",
        "print(str(percentBoys)+\"% boys\")\n",
        "print(str(percentBoys)+\"% girls\")"
      ]
    },
    {
      "cell_type": "code",
      "execution_count": 29,
      "metadata": {
        "colab": {
          "base_uri": "https://localhost:8080/"
        },
        "id": "sNjpbzyBdzxI",
        "outputId": "200da3d2-67f1-440e-9381-325bd57f1927"
      },
      "outputs": [
        {
          "name": "stdout",
          "output_type": "stream",
          "text": [
            "% of boys is... 75 %\n",
            "% of girls is... 25%\n"
          ]
        }
      ],
      "source": [
        "numberOfBoys = 60\n",
        "numberOfGirls = 20\n",
        "total = numberOfBoys + numberOfGirls\n",
        "\n",
        "percentBoys = 100 * numberOfBoys / total\n",
        "percentGirls = 100 * numberOfGirls / total\n",
        "\n",
        "print(\"% of boys is...\", int(percentBoys), \"%\")\n",
        "print(\"% of girls is...\", str(int(percentGirls)) + \"%\")"
      ]
    },
    {
      "cell_type": "markdown",
      "metadata": {
        "id": "2JT-jyzudzxK"
      },
      "source": [
        "<hr>"
      ]
    },
    {
      "cell_type": "markdown",
      "metadata": {
        "id": "sODAwMwKdzxK"
      },
      "source": [
        "## Functions"
      ]
    },
    {
      "cell_type": "markdown",
      "metadata": {
        "id": "4LgLLW2edzxK"
      },
      "source": [
        "A function is a piece of reusable code that lets you run it again and again, but possibly with different parameters. Try running this function below with some different parameters:"
      ]
    },
    {
      "cell_type": "code",
      "execution_count": 30,
      "metadata": {
        "id": "_oP1WQ89dzxL"
      },
      "outputs": [],
      "source": [
        "def dogYearCalculator(age):\n",
        "    print(\"Your age is\", age)\n",
        "    print(\"Your age in dog years is \", 7 * age)"
      ]
    },
    {
      "cell_type": "code",
      "execution_count": 31,
      "metadata": {
        "colab": {
          "base_uri": "https://localhost:8080/"
        },
        "id": "tZB2xAp9dzxM",
        "outputId": "496fc965-cbe5-42c2-ff2d-514b3220d5b5"
      },
      "outputs": [
        {
          "name": "stdout",
          "output_type": "stream",
          "text": [
            "Your age is 10\n",
            "Your age in dog years is  70\n"
          ]
        }
      ],
      "source": [
        "dogYearCalculator(10)"
      ]
    },
    {
      "cell_type": "code",
      "execution_count": 32,
      "metadata": {
        "colab": {
          "base_uri": "https://localhost:8080/"
        },
        "id": "M6uRzBvedzxP",
        "outputId": "70d4063b-40d7-41ca-a7d5-0c3b150286b4"
      },
      "outputs": [
        {
          "name": "stdout",
          "output_type": "stream",
          "text": [
            "Your age is 40\n",
            "Your age in dog years is  280\n"
          ]
        }
      ],
      "source": [
        "dogYearCalculator(40)"
      ]
    },
    {
      "cell_type": "markdown",
      "metadata": {
        "id": "KOjT2iHndzxR"
      },
      "source": [
        "There are some useful built-in functions, too! You've been using `print`, a function that prints things out. Let's now use it to print the results of other functions:"
      ]
    },
    {
      "cell_type": "code",
      "execution_count": 33,
      "metadata": {
        "colab": {
          "base_uri": "https://localhost:8080/"
        },
        "id": "QdHOovwzdzxS",
        "outputId": "d6a52e94-7942-481a-a744-75494e45872f"
      },
      "outputs": [
        {
          "name": "stdout",
          "output_type": "stream",
          "text": [
            "6\n"
          ]
        }
      ],
      "source": [
        "print(max(4, 6, 2))"
      ]
    },
    {
      "cell_type": "code",
      "execution_count": 34,
      "metadata": {
        "colab": {
          "base_uri": "https://localhost:8080/"
        },
        "id": "nAPIMXm9dzxT",
        "outputId": "554fad29-c7d9-4512-c895-25765dc6d090"
      },
      "outputs": [
        {
          "name": "stdout",
          "output_type": "stream",
          "text": [
            "-10\n"
          ]
        }
      ],
      "source": [
        "print(min(1, 2, -10))"
      ]
    },
    {
      "cell_type": "code",
      "execution_count": 35,
      "metadata": {
        "colab": {
          "base_uri": "https://localhost:8080/"
        },
        "id": "bNv-uqDudzxV",
        "outputId": "ea27cd95-ef30-4f9d-bf68-3b96521abaaa"
      },
      "outputs": [
        {
          "name": "stdout",
          "output_type": "stream",
          "text": [
            "4\n"
          ]
        }
      ],
      "source": [
        "print(round(3.596))"
      ]
    },
    {
      "cell_type": "code",
      "execution_count": 36,
      "metadata": {
        "colab": {
          "base_uri": "https://localhost:8080/"
        },
        "id": "3gQ7v0u3dzxY",
        "outputId": "97a312fb-01bd-4e88-d57a-3a2d051c600d"
      },
      "outputs": [
        {
          "name": "stdout",
          "output_type": "stream",
          "text": [
            "hello\n"
          ]
        }
      ],
      "source": [
        "print(\"hello\")"
      ]
    },
    {
      "cell_type": "code",
      "execution_count": 37,
      "metadata": {
        "colab": {
          "base_uri": "https://localhost:8080/"
        },
        "id": "VfrBRMWzdzxa",
        "outputId": "efeb3880-4b95-4780-c0c7-84eb4c76ea12"
      },
      "outputs": [
        {
          "name": "stdout",
          "output_type": "stream",
          "text": [
            "4\n"
          ]
        }
      ],
      "source": [
        "print(round(3.69595))"
      ]
    },
    {
      "cell_type": "code",
      "execution_count": 38,
      "metadata": {
        "colab": {
          "base_uri": "https://localhost:8080/"
        },
        "id": "l7Mdkz85dzxc",
        "outputId": "91a61f37-1f17-48ac-e2ab-19f35d890c19"
      },
      "outputs": [
        {
          "name": "stdout",
          "output_type": "stream",
          "text": [
            "6\n"
          ]
        }
      ],
      "source": [
        "print(len(\"banana\")) # len is short for \"length\""
      ]
    },
    {
      "cell_type": "markdown",
      "metadata": {
        "id": "zYH20QVsdzxd"
      },
      "source": [
        "Some functions are in _modules_, e.g. the `math` module. To get started, you have to first `import math`, then try the functions within. Here is some gratuitious trigonometry:"
      ]
    },
    {
      "cell_type": "code",
      "execution_count": 39,
      "metadata": {
        "id": "zh9tKcUydzxd"
      },
      "outputs": [],
      "source": [
        "import math"
      ]
    },
    {
      "cell_type": "code",
      "execution_count": 40,
      "metadata": {
        "colab": {
          "base_uri": "https://localhost:8080/"
        },
        "id": "CBYrJw05dzxg",
        "outputId": "a0f375f5-adef-4229-e4c2-b9e861b70531"
      },
      "outputs": [
        {
          "name": "stdout",
          "output_type": "stream",
          "text": [
            "Pi is 3.141592653589793\n"
          ]
        }
      ],
      "source": [
        "print(\"Pi is\", math.pi)"
      ]
    },
    {
      "cell_type": "code",
      "execution_count": 41,
      "metadata": {
        "colab": {
          "base_uri": "https://localhost:8080/"
        },
        "id": "nVxEWxpXdzxi",
        "outputId": "064a3303-7200-4cfa-f4f9-58469bc09051"
      },
      "outputs": [
        {
          "name": "stdout",
          "output_type": "stream",
          "text": [
            "Cosine Pi is -1.0\n"
          ]
        }
      ],
      "source": [
        "print(\"Cosine Pi is\", math.cos(math.pi))"
      ]
    },
    {
      "cell_type": "code",
      "execution_count": 42,
      "metadata": {
        "colab": {
          "base_uri": "https://localhost:8080/"
        },
        "id": "8Poui5Xedzxl",
        "outputId": "55078740-d761-4dd0-dc63-2465cb063b80"
      },
      "outputs": [
        {
          "name": "stdout",
          "output_type": "stream",
          "text": [
            "Help on built-in module math:\n",
            "\n",
            "NAME\n",
            "    math\n",
            "\n",
            "DESCRIPTION\n",
            "    This module provides access to the mathematical functions\n",
            "    defined by the C standard.\n",
            "\n",
            "FUNCTIONS\n",
            "    acos(x, /)\n",
            "        Return the arc cosine (measured in radians) of x.\n",
            "        \n",
            "        The result is between 0 and pi.\n",
            "    \n",
            "    acosh(x, /)\n",
            "        Return the inverse hyperbolic cosine of x.\n",
            "    \n",
            "    asin(x, /)\n",
            "        Return the arc sine (measured in radians) of x.\n",
            "        \n",
            "        The result is between -pi/2 and pi/2.\n",
            "    \n",
            "    asinh(x, /)\n",
            "        Return the inverse hyperbolic sine of x.\n",
            "    \n",
            "    atan(x, /)\n",
            "        Return the arc tangent (measured in radians) of x.\n",
            "        \n",
            "        The result is between -pi/2 and pi/2.\n",
            "    \n",
            "    atan2(y, x, /)\n",
            "        Return the arc tangent (measured in radians) of y/x.\n",
            "        \n",
            "        Unlike atan(y/x), the signs of both x and y are considered.\n",
            "    \n",
            "    atanh(x, /)\n",
            "        Return the inverse hyperbolic tangent of x.\n",
            "    \n",
            "    ceil(x, /)\n",
            "        Return the ceiling of x as an Integral.\n",
            "        \n",
            "        This is the smallest integer >= x.\n",
            "    \n",
            "    comb(n, k, /)\n",
            "        Number of ways to choose k items from n items without repetition and without order.\n",
            "        \n",
            "        Evaluates to n! / (k! * (n - k)!) when k <= n and evaluates\n",
            "        to zero when k > n.\n",
            "        \n",
            "        Also called the binomial coefficient because it is equivalent\n",
            "        to the coefficient of k-th term in polynomial expansion of the\n",
            "        expression (1 + x)**n.\n",
            "        \n",
            "        Raises TypeError if either of the arguments are not integers.\n",
            "        Raises ValueError if either of the arguments are negative.\n",
            "    \n",
            "    copysign(x, y, /)\n",
            "        Return a float with the magnitude (absolute value) of x but the sign of y.\n",
            "        \n",
            "        On platforms that support signed zeros, copysign(1.0, -0.0)\n",
            "        returns -1.0.\n",
            "    \n",
            "    cos(x, /)\n",
            "        Return the cosine of x (measured in radians).\n",
            "    \n",
            "    cosh(x, /)\n",
            "        Return the hyperbolic cosine of x.\n",
            "    \n",
            "    degrees(x, /)\n",
            "        Convert angle x from radians to degrees.\n",
            "    \n",
            "    dist(p, q, /)\n",
            "        Return the Euclidean distance between two points p and q.\n",
            "        \n",
            "        The points should be specified as sequences (or iterables) of\n",
            "        coordinates.  Both inputs must have the same dimension.\n",
            "        \n",
            "        Roughly equivalent to:\n",
            "            sqrt(sum((px - qx) ** 2.0 for px, qx in zip(p, q)))\n",
            "    \n",
            "    erf(x, /)\n",
            "        Error function at x.\n",
            "    \n",
            "    erfc(x, /)\n",
            "        Complementary error function at x.\n",
            "    \n",
            "    exp(x, /)\n",
            "        Return e raised to the power of x.\n",
            "    \n",
            "    expm1(x, /)\n",
            "        Return exp(x)-1.\n",
            "        \n",
            "        This function avoids the loss of precision involved in the direct evaluation of exp(x)-1 for small x.\n",
            "    \n",
            "    fabs(x, /)\n",
            "        Return the absolute value of the float x.\n",
            "    \n",
            "    factorial(x, /)\n",
            "        Find x!.\n",
            "        \n",
            "        Raise a ValueError if x is negative or non-integral.\n",
            "    \n",
            "    floor(x, /)\n",
            "        Return the floor of x as an Integral.\n",
            "        \n",
            "        This is the largest integer <= x.\n",
            "    \n",
            "    fmod(x, y, /)\n",
            "        Return fmod(x, y), according to platform C.\n",
            "        \n",
            "        x % y may differ.\n",
            "    \n",
            "    frexp(x, /)\n",
            "        Return the mantissa and exponent of x, as pair (m, e).\n",
            "        \n",
            "        m is a float and e is an int, such that x = m * 2.**e.\n",
            "        If x is 0, m and e are both 0.  Else 0.5 <= abs(m) < 1.0.\n",
            "    \n",
            "    fsum(seq, /)\n",
            "        Return an accurate floating point sum of values in the iterable seq.\n",
            "        \n",
            "        Assumes IEEE-754 floating point arithmetic.\n",
            "    \n",
            "    gamma(x, /)\n",
            "        Gamma function at x.\n",
            "    \n",
            "    gcd(*integers)\n",
            "        Greatest Common Divisor.\n",
            "    \n",
            "    hypot(...)\n",
            "        hypot(*coordinates) -> value\n",
            "        \n",
            "        Multidimensional Euclidean distance from the origin to a point.\n",
            "        \n",
            "        Roughly equivalent to:\n",
            "            sqrt(sum(x**2 for x in coordinates))\n",
            "        \n",
            "        For a two dimensional point (x, y), gives the hypotenuse\n",
            "        using the Pythagorean theorem:  sqrt(x*x + y*y).\n",
            "        \n",
            "        For example, the hypotenuse of a 3/4/5 right triangle is:\n",
            "        \n",
            "            >>> hypot(3.0, 4.0)\n",
            "            5.0\n",
            "    \n",
            "    isclose(a, b, *, rel_tol=1e-09, abs_tol=0.0)\n",
            "        Determine whether two floating point numbers are close in value.\n",
            "        \n",
            "          rel_tol\n",
            "            maximum difference for being considered \"close\", relative to the\n",
            "            magnitude of the input values\n",
            "          abs_tol\n",
            "            maximum difference for being considered \"close\", regardless of the\n",
            "            magnitude of the input values\n",
            "        \n",
            "        Return True if a is close in value to b, and False otherwise.\n",
            "        \n",
            "        For the values to be considered close, the difference between them\n",
            "        must be smaller than at least one of the tolerances.\n",
            "        \n",
            "        -inf, inf and NaN behave similarly to the IEEE 754 Standard.  That\n",
            "        is, NaN is not close to anything, even itself.  inf and -inf are\n",
            "        only close to themselves.\n",
            "    \n",
            "    isfinite(x, /)\n",
            "        Return True if x is neither an infinity nor a NaN, and False otherwise.\n",
            "    \n",
            "    isinf(x, /)\n",
            "        Return True if x is a positive or negative infinity, and False otherwise.\n",
            "    \n",
            "    isnan(x, /)\n",
            "        Return True if x is a NaN (not a number), and False otherwise.\n",
            "    \n",
            "    isqrt(n, /)\n",
            "        Return the integer part of the square root of the input.\n",
            "    \n",
            "    lcm(*integers)\n",
            "        Least Common Multiple.\n",
            "    \n",
            "    ldexp(x, i, /)\n",
            "        Return x * (2**i).\n",
            "        \n",
            "        This is essentially the inverse of frexp().\n",
            "    \n",
            "    lgamma(x, /)\n",
            "        Natural logarithm of absolute value of Gamma function at x.\n",
            "    \n",
            "    log(...)\n",
            "        log(x, [base=math.e])\n",
            "        Return the logarithm of x to the given base.\n",
            "        \n",
            "        If the base not specified, returns the natural logarithm (base e) of x.\n",
            "    \n",
            "    log10(x, /)\n",
            "        Return the base 10 logarithm of x.\n",
            "    \n",
            "    log1p(x, /)\n",
            "        Return the natural logarithm of 1+x (base e).\n",
            "        \n",
            "        The result is computed in a way which is accurate for x near zero.\n",
            "    \n",
            "    log2(x, /)\n",
            "        Return the base 2 logarithm of x.\n",
            "    \n",
            "    modf(x, /)\n",
            "        Return the fractional and integer parts of x.\n",
            "        \n",
            "        Both results carry the sign of x and are floats.\n",
            "    \n",
            "    nextafter(x, y, /)\n",
            "        Return the next floating-point value after x towards y.\n",
            "    \n",
            "    perm(n, k=None, /)\n",
            "        Number of ways to choose k items from n items without repetition and with order.\n",
            "        \n",
            "        Evaluates to n! / (n - k)! when k <= n and evaluates\n",
            "        to zero when k > n.\n",
            "        \n",
            "        If k is not specified or is None, then k defaults to n\n",
            "        and the function returns n!.\n",
            "        \n",
            "        Raises TypeError if either of the arguments are not integers.\n",
            "        Raises ValueError if either of the arguments are negative.\n",
            "    \n",
            "    pow(x, y, /)\n",
            "        Return x**y (x to the power of y).\n",
            "    \n",
            "    prod(iterable, /, *, start=1)\n",
            "        Calculate the product of all the elements in the input iterable.\n",
            "        \n",
            "        The default start value for the product is 1.\n",
            "        \n",
            "        When the iterable is empty, return the start value.  This function is\n",
            "        intended specifically for use with numeric values and may reject\n",
            "        non-numeric types.\n",
            "    \n",
            "    radians(x, /)\n",
            "        Convert angle x from degrees to radians.\n",
            "    \n",
            "    remainder(x, y, /)\n",
            "        Difference between x and the closest integer multiple of y.\n",
            "        \n",
            "        Return x - n*y where n*y is the closest integer multiple of y.\n",
            "        In the case where x is exactly halfway between two multiples of\n",
            "        y, the nearest even value of n is used. The result is always exact.\n",
            "    \n",
            "    sin(x, /)\n",
            "        Return the sine of x (measured in radians).\n",
            "    \n",
            "    sinh(x, /)\n",
            "        Return the hyperbolic sine of x.\n",
            "    \n",
            "    sqrt(x, /)\n",
            "        Return the square root of x.\n",
            "    \n",
            "    tan(x, /)\n",
            "        Return the tangent of x (measured in radians).\n",
            "    \n",
            "    tanh(x, /)\n",
            "        Return the hyperbolic tangent of x.\n",
            "    \n",
            "    trunc(x, /)\n",
            "        Truncates the Real x to the nearest Integral toward 0.\n",
            "        \n",
            "        Uses the __trunc__ magic method.\n",
            "    \n",
            "    ulp(x, /)\n",
            "        Return the value of the least significant bit of the float x.\n",
            "\n",
            "DATA\n",
            "    e = 2.718281828459045\n",
            "    inf = inf\n",
            "    nan = nan\n",
            "    pi = 3.141592653589793\n",
            "    tau = 6.283185307179586\n",
            "\n",
            "FILE\n",
            "    (built-in)\n",
            "\n",
            "\n"
          ]
        }
      ],
      "source": [
        "help(math)"
      ]
    },
    {
      "cell_type": "code",
      "execution_count": 43,
      "metadata": {
        "colab": {
          "base_uri": "https://localhost:8080/"
        },
        "id": "5neoT9Imdzxn",
        "outputId": "70ab74fa-ddbf-433e-a8f6-b45d99e567ed"
      },
      "outputs": [
        {
          "name": "stdout",
          "output_type": "stream",
          "text": [
            "3.141592653589793\n"
          ]
        }
      ],
      "source": [
        "import math as m # if you're tired of typing \"math\", you can import it as a shorter name. So many letters saved!\n",
        "print(m.pi)"
      ]
    },
    {
      "cell_type": "markdown",
      "metadata": {
        "id": "e4uptKK4dzxp"
      },
      "source": [
        "### <font color=\"red\">Exercise 2A: Errors\n",
        "\n",
        "If you make a typo, Python will give you an error. Some may look cryptic, but you can try to figure out what they're telling you based on the line of the error. Try running the below, and identifying the errors in the code."
      ]
    },
    {
      "cell_type": "code",
      "execution_count": 44,
      "metadata": {
        "colab": {
          "base_uri": "https://localhost:8080/",
          "height": 141
        },
        "id": "m6YLbPcmdzxq",
        "outputId": "405fe386-8ccc-412f-d897-ca3b3dda285c"
      },
      "outputs": [
        {
          "ename": "SyntaxError",
          "evalue": "ignored",
          "output_type": "error",
          "traceback": [
            "\u001b[0;36m  File \u001b[0;32m\"<ipython-input-44-5f212731f709>\"\u001b[0;36m, line \u001b[0;32m1\u001b[0m\n\u001b[0;31m    name = \"Banana\u001b[0m\n\u001b[0m           ^\u001b[0m\n\u001b[0;31mSyntaxError\u001b[0m\u001b[0;31m:\u001b[0m unterminated string literal (detected at line 1)\n"
          ]
        }
      ],
      "source": [
        "name = \"Banana"
      ]
    },
    {
      "cell_type": "code",
      "execution_count": 45,
      "metadata": {
        "colab": {
          "base_uri": "https://localhost:8080/",
          "height": 193
        },
        "id": "uzhzXAX0dzxu",
        "outputId": "d99cfea7-d789-42b6-a1d9-8b41f20f8cbf"
      },
      "outputs": [
        {
          "ename": "NameError",
          "evalue": "ignored",
          "output_type": "error",
          "traceback": [
            "\u001b[0;31m---------------------------------------------------------------------------\u001b[0m",
            "\u001b[0;31mNameError\u001b[0m                                 Traceback (most recent call last)",
            "\u001b[0;32m<ipython-input-45-a9a6b02ac16c>\u001b[0m in \u001b[0;36m<cell line: 2>\u001b[0;34m()\u001b[0m\n\u001b[1;32m      1\u001b[0m \u001b[0mage\u001b[0m \u001b[0;34m=\u001b[0m \u001b[0;36m55\u001b[0m\u001b[0;34m\u001b[0m\u001b[0;34m\u001b[0m\u001b[0m\n\u001b[0;32m----> 2\u001b[0;31m \u001b[0mweeks_lived\u001b[0m \u001b[0;34m=\u001b[0m \u001b[0mage\u001b[0m \u001b[0;34m*\u001b[0m \u001b[0mweeksPerYear\u001b[0m\u001b[0;34m\u001b[0m\u001b[0;34m\u001b[0m\u001b[0m\n\u001b[0m",
            "\u001b[0;31mNameError\u001b[0m: name 'weeksPerYear' is not defined"
          ]
        }
      ],
      "source": [
        "age = 55\n",
        "weeks_lived = age * weeksPerYear"
      ]
    },
    {
      "cell_type": "code",
      "execution_count": 46,
      "metadata": {
        "colab": {
          "base_uri": "https://localhost:8080/",
          "height": 176
        },
        "id": "yOQXeiSldzxw",
        "outputId": "080575fa-72a4-4e35-9151-48fd652bbb91"
      },
      "outputs": [
        {
          "ename": "NameError",
          "evalue": "ignored",
          "output_type": "error",
          "traceback": [
            "\u001b[0;31m---------------------------------------------------------------------------\u001b[0m",
            "\u001b[0;31mNameError\u001b[0m                                 Traceback (most recent call last)",
            "\u001b[0;32m<ipython-input-46-eb898e3eb32f>\u001b[0m in \u001b[0;36m<cell line: 1>\u001b[0;34m()\u001b[0m\n\u001b[0;32m----> 1\u001b[0;31m \u001b[0mpront\u001b[0m\u001b[0;34m(\u001b[0m\u001b[0;34m\"Hello\"\u001b[0m\u001b[0;34m)\u001b[0m\u001b[0;34m\u001b[0m\u001b[0;34m\u001b[0m\u001b[0m\n\u001b[0m",
            "\u001b[0;31mNameError\u001b[0m: name 'pront' is not defined"
          ]
        }
      ],
      "source": [
        "pront(\"Hello\")"
      ]
    },
    {
      "cell_type": "code",
      "execution_count": null,
      "metadata": {
        "id": "Vw3jVPcZdzxz"
      },
      "outputs": [],
      "source": [
        "#reminder: you can Google for errors!"
      ]
    },
    {
      "cell_type": "markdown",
      "metadata": {
        "id": "BYG_9kfhdzx0"
      },
      "source": [
        "### <font color=\"red\">Exercise 2B: Cube\n",
        "\n",
        "Write a function, `cube(n)`, that takes in a number, `n`, and prints out the cubed result."
      ]
    },
    {
      "cell_type": "code",
      "execution_count": 47,
      "metadata": {
        "colab": {
          "base_uri": "https://localhost:8080/"
        },
        "id": "vAmXfgWydzx0",
        "outputId": "4e61b961-95ba-4c4d-ace3-3667ef1d9ea6"
      },
      "outputs": [
        {
          "name": "stdout",
          "output_type": "stream",
          "text": [
            "The result is 27\n"
          ]
        }
      ],
      "source": [
        "\"\"\"\n",
        "def cube(n):\n",
        "    result = 0 # FIXME\n",
        "    print(\"The result is\",result)\n",
        "\n",
        "cube(3) # this line is to test your code\n",
        "\"\"\"\n",
        "\n",
        "def cube(n):\n",
        "    result = n * n * n\n",
        "    print(\"The result is\",result)\n",
        "\n",
        "cube(3)"
      ]
    },
    {
      "cell_type": "code",
      "execution_count": null,
      "metadata": {
        "id": "eHlcQb2vdzx3"
      },
      "outputs": [],
      "source": []
    },
    {
      "cell_type": "markdown",
      "metadata": {
        "id": "TqjVttyzdzx7"
      },
      "source": [
        "### <font color=\"red\">Exercise 2C: Using functions\n",
        "\n",
        "Before running the code below, try predicting what each `print` statement will tell you. Can you explain what's going on with the third `max` function call, between `rich` and `poor`?"
      ]
    },
    {
      "cell_type": "code",
      "execution_count": 48,
      "metadata": {
        "colab": {
          "base_uri": "https://localhost:8080/"
        },
        "id": "CaUgO7oZdzx7",
        "outputId": "493d70f3-8a2d-4935-ce20-c487d513a2a3"
      },
      "outputs": [
        {
          "name": "stdout",
          "output_type": "stream",
          "text": [
            "c\n"
          ]
        }
      ],
      "source": [
        "a_string = \"abc\"\n",
        "print(max(a_string))"
      ]
    },
    {
      "cell_type": "code",
      "execution_count": 49,
      "metadata": {
        "colab": {
          "base_uri": "https://localhost:8080/",
          "height": 35
        },
        "collapsed": true,
        "id": "9P06oXAodzx8",
        "outputId": "ca7aa616-051e-4039-f39a-bdf637f019a5"
      },
      "outputs": [
        {
          "data": {
            "application/vnd.google.colaboratory.intrinsic+json": {
              "type": "string"
            },
            "text/plain": [
              "'0123456789ABCDEFGHIJKLMNOPQRSTUVWXYZabcdefghijklmnopqrstuvwxyz'"
            ]
          },
          "execution_count": 49,
          "metadata": {},
          "output_type": "execute_result"
        }
      ],
      "source": [
        "\"0123456789ABCDEFGHIJKLMNOPQRSTUVWXYZabcdefghijklmnopqrstuvwxyz\""
      ]
    },
    {
      "cell_type": "code",
      "execution_count": 50,
      "metadata": {
        "colab": {
          "base_uri": "https://localhost:8080/"
        },
        "id": "kPpWE-0fdzx-",
        "outputId": "455cc828-2a03-4823-c6ec-1fba4cbe3b39"
      },
      "outputs": [
        {
          "name": "stdout",
          "output_type": "stream",
          "text": [
            "4\n"
          ]
        }
      ],
      "source": [
        "rich = \"gold\"\n",
        "poor = \"tin\"\n",
        "print(max(len(rich), len(poor)))"
      ]
    },
    {
      "cell_type": "code",
      "execution_count": 51,
      "metadata": {
        "colab": {
          "base_uri": "https://localhost:8080/"
        },
        "id": "nlctxlTJdzx_",
        "outputId": "7e161a61-c2c7-4741-923f-75a1a9a74161"
      },
      "outputs": [
        {
          "name": "stdout",
          "output_type": "stream",
          "text": [
            "tin\n"
          ]
        }
      ],
      "source": [
        "print(max(rich, poor))"
      ]
    },
    {
      "cell_type": "code",
      "execution_count": 52,
      "metadata": {
        "colab": {
          "base_uri": "https://localhost:8080/",
          "height": 35
        },
        "id": "dmOa1u1DdzyB",
        "outputId": "53262541-e604-493a-cd24-95c41b8b619d"
      },
      "outputs": [
        {
          "data": {
            "application/vnd.google.colaboratory.intrinsic+json": {
              "type": "string"
            },
            "text/plain": [
              "'a'"
            ]
          },
          "execution_count": 52,
          "metadata": {},
          "output_type": "execute_result"
        }
      ],
      "source": [
        "max(\"a\",\"A\", \"1\")"
      ]
    },
    {
      "cell_type": "code",
      "execution_count": 53,
      "metadata": {
        "colab": {
          "base_uri": "https://localhost:8080/",
          "height": 35
        },
        "id": "BS5VeoTydzyC",
        "outputId": "8be1cb31-1ca4-46d0-9b53-c0de1d98eeba"
      },
      "outputs": [
        {
          "data": {
            "application/vnd.google.colaboratory.intrinsic+json": {
              "type": "string"
            },
            "text/plain": [
              "'3'"
            ]
          },
          "execution_count": 53,
          "metadata": {},
          "output_type": "execute_result"
        }
      ],
      "source": [
        "max(\"1\", \"3\", \"0\")"
      ]
    },
    {
      "cell_type": "code",
      "execution_count": 54,
      "metadata": {
        "colab": {
          "base_uri": "https://localhost:8080/",
          "height": 35
        },
        "id": "8jIHFRxHdzyD",
        "outputId": "44823085-4e20-494e-89df-7194d5a33f0f"
      },
      "outputs": [
        {
          "data": {
            "application/vnd.google.colaboratory.intrinsic+json": {
              "type": "string"
            },
            "text/plain": [
              "'50'"
            ]
          },
          "execution_count": 54,
          "metadata": {},
          "output_type": "execute_result"
        }
      ],
      "source": [
        "max(\"50\", \"100\")"
      ]
    },
    {
      "cell_type": "code",
      "execution_count": 55,
      "metadata": {
        "colab": {
          "base_uri": "https://localhost:8080/",
          "height": 35
        },
        "id": "deA6_r_fdzyG",
        "outputId": "61f5209c-d6c2-4b55-cf93-22a95d7ae088"
      },
      "outputs": [
        {
          "data": {
            "application/vnd.google.colaboratory.intrinsic+json": {
              "type": "string"
            },
            "text/plain": [
              "'5050'"
            ]
          },
          "execution_count": 55,
          "metadata": {},
          "output_type": "execute_result"
        }
      ],
      "source": [
        "\"50\" * 2"
      ]
    },
    {
      "cell_type": "markdown",
      "metadata": {
        "id": "Qqv7bAEgdzyH"
      },
      "source": [
        "<hr>"
      ]
    },
    {
      "cell_type": "markdown",
      "metadata": {
        "id": "cSn2zsFPdzyH"
      },
      "source": [
        "## Lists\n",
        "\n",
        "So far, we've stored information in single variables. This would be unwieldy if we're dealing with a lot of data, e.g. weather readings over a year--imagine declaring variables `rainfall1`, `rainfall2`, `rainfall3`, etc.\n",
        "\n",
        "We're going to introduce **lists** here--a way to store multiple pieces of data in one variable. The first list here is a list of pressure values, defined within square brackets `[]`, separated by commas:"
      ]
    },
    {
      "cell_type": "code",
      "execution_count": 56,
      "metadata": {
        "collapsed": true,
        "id": "RWdOHgWCdzyH"
      },
      "outputs": [],
      "source": [
        "pressures = [0.24, 0.25, 0.28, 0.23]"
      ]
    },
    {
      "cell_type": "code",
      "execution_count": 57,
      "metadata": {
        "colab": {
          "base_uri": "https://localhost:8080/"
        },
        "id": "_Vb0HqCXdzyJ",
        "outputId": "58c24b1c-6452-4f74-8afc-4d725077faf3"
      },
      "outputs": [
        {
          "data": {
            "text/plain": [
              "0.28"
            ]
          },
          "execution_count": 57,
          "metadata": {},
          "output_type": "execute_result"
        }
      ],
      "source": [
        "max(pressures)"
      ]
    },
    {
      "cell_type": "code",
      "execution_count": 58,
      "metadata": {
        "colab": {
          "base_uri": "https://localhost:8080/"
        },
        "id": "TEZQDTMMdzyN",
        "outputId": "331c314f-8256-4a4a-fd4e-4e0287283914"
      },
      "outputs": [
        {
          "name": "stdout",
          "output_type": "stream",
          "text": [
            "[0.24, 0.25, 0.28, 0.23]\n"
          ]
        }
      ],
      "source": [
        "print(pressures)"
      ]
    },
    {
      "cell_type": "code",
      "execution_count": 59,
      "metadata": {
        "colab": {
          "base_uri": "https://localhost:8080/"
        },
        "id": "vbcBMPWNdzyO",
        "outputId": "4ae66bd8-6ce4-4f49-b8fc-dbf989522923"
      },
      "outputs": [
        {
          "name": "stdout",
          "output_type": "stream",
          "text": [
            "4\n"
          ]
        }
      ],
      "source": [
        "print(len(pressures)) # this tells us the length"
      ]
    },
    {
      "cell_type": "markdown",
      "metadata": {
        "id": "RZPjkS6hdzyQ"
      },
      "source": [
        "You can also access individual elements in a list, by using the **square bracket notation** -- add a square bracket after your variable name, then have a number in it with the **index** of the element you want to access. Computer scientists count from 0, so if you want the first item, it's at index 0; second item is at index 1."
      ]
    },
    {
      "cell_type": "code",
      "execution_count": 60,
      "metadata": {
        "colab": {
          "base_uri": "https://localhost:8080/"
        },
        "id": "8jGQPvUadzyQ",
        "outputId": "dc93e737-1ed3-41b2-f014-056f7e5e3b5c"
      },
      "outputs": [
        {
          "name": "stdout",
          "output_type": "stream",
          "text": [
            "The first item is 0.24\n"
          ]
        }
      ],
      "source": [
        "print(\"The first item is\", pressures[0])"
      ]
    },
    {
      "cell_type": "code",
      "execution_count": 61,
      "metadata": {
        "colab": {
          "base_uri": "https://localhost:8080/"
        },
        "id": "y-74sH7RdzyR",
        "outputId": "dd0592a9-cb30-4db3-f7fb-314b31c2d321"
      },
      "outputs": [
        {
          "name": "stdout",
          "output_type": "stream",
          "text": [
            "The third item is 0.28\n"
          ]
        }
      ],
      "source": [
        "print(\"The third item is\", pressures[2])"
      ]
    },
    {
      "cell_type": "code",
      "execution_count": 62,
      "metadata": {
        "colab": {
          "base_uri": "https://localhost:8080/"
        },
        "id": "dMFd8eWSdzyT",
        "outputId": "8019a465-10d4-4603-9919-18731ede5688"
      },
      "outputs": [
        {
          "name": "stdout",
          "output_type": "stream",
          "text": [
            "[0.24, 0.25, 0.28, 0.99]\n"
          ]
        }
      ],
      "source": [
        "# You can also change values using index notation. Once you do, the info within the list changes.\n",
        "pressures[3] = 0.99\n",
        "print(pressures)"
      ]
    },
    {
      "cell_type": "markdown",
      "metadata": {
        "id": "x9R7a8xZdzyU"
      },
      "source": [
        "There are some list functions you can use. How do you find out about them? [Search](https://encrypted.google.com/search?q=python+list+functions)!"
      ]
    },
    {
      "cell_type": "code",
      "execution_count": 63,
      "metadata": {
        "colab": {
          "base_uri": "https://localhost:8080/"
        },
        "collapsed": true,
        "id": "DBf7MCA1dzyU",
        "outputId": "13a57fe4-c13a-4903-847d-606a161fd1dd"
      },
      "outputs": [
        {
          "name": "stdout",
          "output_type": "stream",
          "text": [
            "[0.24, 0.25, 0.28, 0.99, 0.45, 0.31]\n"
          ]
        }
      ],
      "source": [
        "pressures.append(0.45)\n",
        "pressures.append(0.31)\n",
        "print(pressures)"
      ]
    },
    {
      "cell_type": "code",
      "execution_count": 64,
      "metadata": {
        "colab": {
          "base_uri": "https://localhost:8080/"
        },
        "id": "CS4s1jkwdzyW",
        "outputId": "ca32f664-6e7e-4f9b-a40a-ec61d891c85b"
      },
      "outputs": [
        {
          "name": "stdout",
          "output_type": "stream",
          "text": [
            "[0.24, 0.01, 0.25, 0.5, 0.28, 0.99, 0.45, 0.31]\n"
          ]
        }
      ],
      "source": [
        "pressures.insert(1, 0.01)\n",
        "pressures.insert(3, 0.5)\n",
        "print(pressures)"
      ]
    },
    {
      "cell_type": "code",
      "execution_count": 65,
      "metadata": {
        "colab": {
          "base_uri": "https://localhost:8080/"
        },
        "id": "bQNN04p4dzyY",
        "outputId": "33cf2dfa-df78-4af1-8c0e-21710371b712"
      },
      "outputs": [
        {
          "name": "stdout",
          "output_type": "stream",
          "text": [
            "[0.24, 0.01, 0.25, 0.5, 0.28, 0.99, 0.45, 0.31, 'Banana']\n"
          ]
        }
      ],
      "source": [
        "pressures.append(\"Banana\")\n",
        "print(pressures)"
      ]
    },
    {
      "cell_type": "code",
      "execution_count": 66,
      "metadata": {
        "colab": {
          "base_uri": "https://localhost:8080/"
        },
        "id": "EdP475owdzya",
        "outputId": "aea7f507-a023-417b-ea30-b0ec2f1cd72e"
      },
      "outputs": [
        {
          "name": "stdout",
          "output_type": "stream",
          "text": [
            "0.45\n"
          ]
        }
      ],
      "source": [
        "# Can you figure out what this negative index does?\n",
        "print(pressures[-3])"
      ]
    },
    {
      "cell_type": "markdown",
      "metadata": {
        "id": "jiK-W8ysdzyc"
      },
      "source": [
        "Here's something you can do with lists: **slice** them using the slice operator, a colon. Instead of providing a single number in the index, get back part of the list by providing a range of numbers, for example:"
      ]
    },
    {
      "cell_type": "code",
      "execution_count": 67,
      "metadata": {
        "colab": {
          "base_uri": "https://localhost:8080/"
        },
        "id": "IicLUzD7dzyc",
        "outputId": "0e363da4-5e93-450c-a222-ca11661fe2f7"
      },
      "outputs": [
        {
          "name": "stdout",
          "output_type": "stream",
          "text": [
            "[0.24, 0.01, 0.25, 0.5, 0.28, 0.99, 0.45, 0.31, 'Banana']\n",
            "[0.01, 0.25, 0.5]\n"
          ]
        }
      ],
      "source": [
        "print(pressures)\n",
        "print(pressures[1:4]) # item 1, 2, and 3 -- 4 not inclusive"
      ]
    },
    {
      "cell_type": "markdown",
      "metadata": {
        "id": "TP36K8zqdzyd"
      },
      "source": [
        "### <font color=\"red\">Exercise 3A: I got a list, here's the order of my list that it's in\n",
        "\n",
        "Here's a list. Can you do the following manipulations to it?\n",
        "\n",
        "* Append “apple” and 76 to the list.\n",
        "* Insert the value “cat” at index 3.\n",
        "* Insert the value 99 at the start of the list.\n",
        "* Find the index of “hello”.\n",
        "* Count the number of 76s in the list.\n",
        "* Remove the first occurrence of 76 from the list.\n",
        "\n",
        "Print out your final list to check your answer."
      ]
    },
    {
      "cell_type": "code",
      "execution_count": 68,
      "metadata": {
        "colab": {
          "base_uri": "https://localhost:8080/"
        },
        "id": "sJWINdgUdzye",
        "outputId": "797f3685-c80c-497c-c52e-f99298467127"
      },
      "outputs": [
        {
          "name": "stdout",
          "output_type": "stream",
          "text": [
            "[76, 92.3, 'hello', True, 4, 76, 'apple', 76]\n",
            "[76, 92.3, 'hello', 'cat', True, 4, 76, 'apple', 76]\n",
            "2\n",
            "3\n",
            "[92.3, 'hello', 'cat', True, 4, 76, 'apple', 76]\n"
          ]
        }
      ],
      "source": [
        "# Space for your working here\n",
        "# Remember to run the above cell first!\n",
        "myList = [76, 92.3, 'hello', True, 4, 76]\n",
        "\n",
        "myList.append(\"apple\")\n",
        "myList.append(76)\n",
        "print(myList)\n",
        "\n",
        "myList.insert(3, \"cat\")\n",
        "print(myList)\n",
        "\n",
        "print(myList.index(\"hello\"))\n",
        "print(myList.count(76))\n",
        "\n",
        "myList.remove(76)\n",
        "print(myList)"
      ]
    },
    {
      "cell_type": "code",
      "execution_count": 69,
      "metadata": {
        "colab": {
          "base_uri": "https://localhost:8080/"
        },
        "id": "jl71iknzdzyg",
        "outputId": "6bda33bf-3e73-43ae-eab5-3bc84807aec9"
      },
      "outputs": [
        {
          "data": {
            "text/plain": [
              "[92.3, 'hello', 'cat', True, 4, 76, 'apple']"
            ]
          },
          "execution_count": 69,
          "metadata": {},
          "output_type": "execute_result"
        }
      ],
      "source": [
        "myList.pop()\n",
        "myList"
      ]
    },
    {
      "cell_type": "code",
      "execution_count": 70,
      "metadata": {
        "colab": {
          "base_uri": "https://localhost:8080/"
        },
        "collapsed": true,
        "id": "yqwgs4EEdzym",
        "outputId": "bdb8b295-0cfb-4678-bb75-ac5cf955cbf5"
      },
      "outputs": [
        {
          "name": "stdout",
          "output_type": "stream",
          "text": [
            "3\n",
            "3\n"
          ]
        },
        {
          "data": {
            "text/plain": [
              "[92.3, 'cat', 'hello', True, 4, 'apple']"
            ]
          },
          "execution_count": 70,
          "metadata": {},
          "output_type": "execute_result"
        }
      ],
      "source": [
        "#how to loop through and delete all 76s?\n",
        "\n",
        "myList = [76, 92.3, 'hello', True, 4, 76]\n",
        "\n",
        "myList.append(\"apple\")\n",
        "myList.append(76)\n",
        "myList.insert(2, \"cat\")\n",
        "\n",
        "print(myList.index(\"hello\"))\n",
        "print(myList.count(76))\n",
        "\n",
        "#counter=myList.count(76)\n",
        "for i in range(myList.count(76)):\n",
        "    myList.remove(76)\n",
        "myList"
      ]
    },
    {
      "cell_type": "code",
      "execution_count": 71,
      "metadata": {
        "colab": {
          "base_uri": "https://localhost:8080/"
        },
        "id": "KGwfTD8vdzyo",
        "outputId": "92e3c7b5-e1de-415d-f1b6-27dc80182821"
      },
      "outputs": [
        {
          "name": "stdout",
          "output_type": "stream",
          "text": [
            "3\n",
            "3\n",
            "[92.3, 'cat', 'hello', True, 4, 76, 'apple', 76]\n",
            "First Option\n",
            "5\n",
            "7\n",
            "Second Option\n",
            "index 5 is 76\n",
            "index 7 is 76\n"
          ]
        }
      ],
      "source": [
        "#how to find index of second occurrence of element?\n",
        "\n",
        "myList = [76, 92.3, 'hello', True, 4, 76]\n",
        "\n",
        "myList.append(\"apple\")\n",
        "myList.append(76)\n",
        "myList.insert(2, \"cat\")\n",
        "\n",
        "print(myList.index(\"hello\"))\n",
        "print(myList.count(76))\n",
        "\n",
        "myList.remove(76)\n",
        "print(myList)\n",
        "\n",
        "print(\"First Option\")\n",
        "listSlice = myList\n",
        "last=0\n",
        "for i in range(myList.count(76)):\n",
        "    #find index of first 76 in listSlice\n",
        "    currIndex = listSlice.index(76)\n",
        "    print(currIndex + last)\n",
        "\n",
        "    #create new slice to use next time\n",
        "    listSlice = myList[currIndex+1:]\n",
        "    last=currIndex+1\n",
        "\n",
        "\n",
        "print(\"Second Option\")\n",
        "for i in range(len(myList)):\n",
        "    #check if element is 76\n",
        "    if myList[i] == 76:\n",
        "        print(\"index\", i, \"is 76\")"
      ]
    },
    {
      "cell_type": "markdown",
      "metadata": {
        "id": "gVcdXRYTdzyp"
      },
      "source": [
        "### <font color=\"red\">Exercise 3B: Fill in the blanks\n",
        "\n",
        "Fill in the blanks so that the program below produces the output shown:"
      ]
    },
    {
      "cell_type": "raw",
      "metadata": {
        "id": "qZ3tN-7ndzyq"
      },
      "source": [
        "first time: [1, 3, 5]\n",
        "\n",
        "second time: [3, 5]"
      ]
    },
    {
      "cell_type": "code",
      "execution_count": 72,
      "metadata": {
        "colab": {
          "base_uri": "https://localhost:8080/"
        },
        "id": "xqCOxZKEdzyq",
        "outputId": "9cb6acbd-4e43-43db-de58-b9703b60c0d5"
      },
      "outputs": [
        {
          "name": "stdout",
          "output_type": "stream",
          "text": [
            "first time: [1, 3, 5]\n",
            "second time: [3, 5]\n"
          ]
        }
      ],
      "source": [
        "\"\"\"\n",
        "values = []\n",
        "values.____(1)  #hint: we need to add values to the list somehow!\n",
        "values.____(3)\n",
        "values.____(5)\n",
        "print('first time:', values)\n",
        "values = values[____]  #hint: use list slicing!\n",
        "print('second time:', values)\n",
        "\"\"\"\n",
        "\n",
        "#Explain initialising empty list here\n",
        "values = []\n",
        "values.append(1)\n",
        "values.append(3)\n",
        "values.append(5)\n",
        "print('first time:', values)\n",
        "values = values[1:]\n",
        "print('second time:', values)\n"
      ]
    },
    {
      "cell_type": "markdown",
      "metadata": {
        "id": "h1iaMDh1dzyr"
      },
      "source": [
        "<hr>"
      ]
    },
    {
      "cell_type": "markdown",
      "metadata": {
        "id": "VdmEOb48dzyr"
      },
      "source": [
        "## Loops\n",
        "\n",
        "Now that we have lists, we want to be able to work on the data within them at one swoop, i.e. not have to edit `item[0]`, `item[1]`, `item[2]` one by one. For this, we can use a loop.\n",
        "\n",
        "A loop starts with `for`, ends with a colon, and subsequent lines are indented:"
      ]
    },
    {
      "cell_type": "code",
      "execution_count": 73,
      "metadata": {
        "colab": {
          "base_uri": "https://localhost:8080/"
        },
        "id": "i_Z0rhrGdzys",
        "outputId": "c8f0013a-ab4d-4760-d1ce-7085d8bc168d"
      },
      "outputs": [
        {
          "name": "stdout",
          "output_type": "stream",
          "text": [
            "potatoes\n",
            "bananas\n",
            "pie\n"
          ]
        }
      ],
      "source": [
        "stuff = [\"potatoes\", \"bananas\", \"pie\"]\n",
        "\n",
        "for thing in stuff:\n",
        "    print(thing)"
      ]
    },
    {
      "cell_type": "code",
      "execution_count": 74,
      "metadata": {
        "colab": {
          "base_uri": "https://localhost:8080/"
        },
        "id": "HQ6zqx6ndzyt",
        "outputId": "c61a797a-f1f7-47c0-c2f6-5517cf6fdcde"
      },
      "outputs": [
        {
          "name": "stdout",
          "output_type": "stream",
          "text": [
            "potatoes\n",
            "bananas\n",
            "pie\n"
          ]
        }
      ],
      "source": [
        "# We can call the looping variable any name really. E.g.:\n",
        "for any_name_really in stuff:\n",
        "    print(any_name_really)"
      ]
    },
    {
      "cell_type": "code",
      "execution_count": 75,
      "metadata": {
        "colab": {
          "base_uri": "https://localhost:8080/"
        },
        "id": "tAeTqeKrdzyu",
        "outputId": "b3443ed6-33e0-4f9a-8f63-67998c179631"
      },
      "outputs": [
        {
          "name": "stdout",
          "output_type": "stream",
          "text": [
            "I like potatoes\n",
            "I really really like potatoes\n",
            "Mmmmmmm\n",
            "I like bananas\n",
            "I really really like bananas\n",
            "Mmmmmmm\n",
            "I like pie\n",
            "I really really like pie\n",
            "Mmmmmmm\n"
          ]
        }
      ],
      "source": [
        "# Many statements in a loop? Sure. Just make sure they're indented--have a tab before them.\n",
        "for i in stuff:\n",
        "    print(\"I like\", i)\n",
        "    print(\"I really really like\",i)\n",
        "    print(\"Mmmmmmm\")"
      ]
    },
    {
      "cell_type": "code",
      "execution_count": 76,
      "metadata": {
        "colab": {
          "base_uri": "https://localhost:8080/"
        },
        "id": "QitIfd64dzyv",
        "outputId": "724387bd-cef4-4a00-d879-7f6505e799fd"
      },
      "outputs": [
        {
          "name": "stdout",
          "output_type": "stream",
          "text": [
            "0\n",
            "1\n",
            "2\n",
            "3\n",
            "4\n",
            "5\n"
          ]
        }
      ],
      "source": [
        "# range will give you a sequence of numbers, starting from 0, up to but not including your range-number\n",
        "for n in range(6):\n",
        "    print(n)"
      ]
    },
    {
      "cell_type": "code",
      "execution_count": 77,
      "metadata": {
        "colab": {
          "base_uri": "https://localhost:8080/"
        },
        "id": "TbJXgnl5dzyw",
        "outputId": "25c9157c-bb0a-45f8-8e0d-430af4efb959"
      },
      "outputs": [
        {
          "name": "stdout",
          "output_type": "stream",
          "text": [
            "0\n",
            "0\n",
            "0\n",
            "\n",
            "1\n",
            "1\n",
            "1\n",
            "\n",
            "2\n",
            "4\n",
            "8\n",
            "\n",
            "3\n",
            "9\n",
            "27\n",
            "\n",
            "4\n",
            "16\n",
            "64\n",
            "\n",
            "I'm done!\n"
          ]
        }
      ],
      "source": [
        "for n in range(5):\n",
        "    print(n)\n",
        "    print(n*n)\n",
        "    print(n*n*n)\n",
        "    print(\"\")\n",
        "\n",
        "print(\"I'm done!\")"
      ]
    },
    {
      "cell_type": "code",
      "execution_count": 78,
      "metadata": {
        "colab": {
          "base_uri": "https://localhost:8080/"
        },
        "id": "mT7N4y89dzyx",
        "outputId": "97fa8057-ea1e-46fd-9981-7ffcb4300ca0"
      },
      "outputs": [
        {
          "name": "stdout",
          "output_type": "stream",
          "text": [
            "banana 0\n",
            "banana 1\n",
            "banana 2\n",
            "banana 3\n",
            "banana 4\n",
            "banana 5\n",
            "banana 6\n",
            "banana 7\n",
            "banana 8\n",
            "banana 9\n"
          ]
        }
      ],
      "source": [
        "for i in range(10):\n",
        "    print(\"banana\",i)"
      ]
    },
    {
      "cell_type": "markdown",
      "metadata": {
        "id": "5TGqW9SCdzyz"
      },
      "source": [
        "### <font color=\"red\">Exercise 4A: Multiply everything\n",
        "\n",
        "Given a list of values, print out 2x of everything. E.g. [1, 2, 3] will print out"
      ]
    },
    {
      "cell_type": "raw",
      "metadata": {
        "id": "wZSK76hcdzyz"
      },
      "source": [
        "2\n",
        "4\n",
        "6"
      ]
    },
    {
      "cell_type": "code",
      "execution_count": 79,
      "metadata": {
        "colab": {
          "base_uri": "https://localhost:8080/"
        },
        "id": "wzUk6G-idzyz",
        "outputId": "25f3da34-63df-4732-ac63-277ca224dc09"
      },
      "outputs": [
        {
          "name": "stdout",
          "output_type": "stream",
          "text": [
            "2\n",
            "4\n",
            "6\n",
            "8\n"
          ]
        }
      ],
      "source": [
        "values = [1,2,3,4]\n",
        "\n",
        "\"\"\"\n",
        "for i in values:\n",
        "    print(i) #FIXME\n",
        "\"\"\"\n",
        "\n",
        "for i in values:\n",
        "    print(i * 2)\n"
      ]
    },
    {
      "cell_type": "markdown",
      "metadata": {
        "id": "PjkTJsxQdzy0"
      },
      "source": [
        "### <font color=\"red\">Exercise 4B: Square everything\n",
        "\n",
        "Given a list of values, print out the square of everything. E.g. [1, 2, 3] will print out"
      ]
    },
    {
      "cell_type": "raw",
      "metadata": {
        "id": "zTENIYhxdzy0"
      },
      "source": [
        "1\n",
        "4\n",
        "9"
      ]
    },
    {
      "cell_type": "code",
      "execution_count": 80,
      "metadata": {
        "colab": {
          "base_uri": "https://localhost:8080/"
        },
        "id": "40qJFElYdzy1",
        "outputId": "c96d50b8-7121-46a4-f42d-c8e488859ab1"
      },
      "outputs": [
        {
          "name": "stdout",
          "output_type": "stream",
          "text": [
            "1\n",
            "4\n",
            "9\n",
            "16\n"
          ]
        }
      ],
      "source": [
        "values = [1,2,3,4]\n",
        "\n",
        "\"\"\"\n",
        "for i in values:\n",
        "    print(i) #FIXME\n",
        "\"\"\"\n",
        "\n",
        "values = [1,2,3,4]\n",
        "for i in values:\n",
        "    print(i*i)\n"
      ]
    },
    {
      "cell_type": "markdown",
      "metadata": {
        "id": "3L_G8HIDdzy2"
      },
      "source": [
        "### <font color=\"red\">Exercise 4C: Print this Christmas tree using a loop"
      ]
    },
    {
      "cell_type": "raw",
      "metadata": {
        "id": "n957FFBEdzy3"
      },
      "source": [
        "```\n",
        "*\n",
        "**\n",
        "***\n",
        "****\n",
        "```"
      ]
    },
    {
      "cell_type": "code",
      "execution_count": 81,
      "metadata": {
        "colab": {
          "base_uri": "https://localhost:8080/"
        },
        "id": "JhYfJ3F2dzy4",
        "outputId": "626209d2-265f-4b5d-c792-761c30c8645e"
      },
      "outputs": [
        {
          "name": "stdout",
          "output_type": "stream",
          "text": [
            "*\n",
            "**\n",
            "***\n",
            "****\n"
          ]
        }
      ],
      "source": [
        "# some starter code\n",
        "\"\"\"\n",
        "for i in range(4):\n",
        "    print(\"*\")\n",
        "\"\"\"\n",
        "\n",
        "\n",
        "for i in range(4):\n",
        "    print(\"*\" * (i+1))\n"
      ]
    },
    {
      "cell_type": "code",
      "execution_count": null,
      "metadata": {
        "collapsed": true,
        "id": "uwwt4L2Rdzy5"
      },
      "outputs": [],
      "source": []
    },
    {
      "cell_type": "code",
      "execution_count": 81,
      "metadata": {
        "collapsed": true,
        "id": "9dY4b3mJdzy7"
      },
      "outputs": [],
      "source": []
    },
    {
      "cell_type": "code",
      "execution_count": 82,
      "metadata": {
        "id": "K8KGEbA-dzy9"
      },
      "outputs": [],
      "source": [
        "#space= \" \"\n",
        "#n=5\n",
        "#print(space*n+\"*\")\n",
        "#for i in range(1,n):\n",
        "#    j=5-i\n",
        "#    print(space*j+\"*\"*i+\"*\"+\"*\"*i+space*j)"
      ]
    },
    {
      "cell_type": "code",
      "execution_count": 83,
      "metadata": {
        "colab": {
          "base_uri": "https://localhost:8080/"
        },
        "id": "XkUvDwEodzy-",
        "outputId": "fe85a3b6-3ddc-4f30-9add-b05f48e55388"
      },
      "outputs": [
        {
          "name": "stdout",
          "output_type": "stream",
          "text": [
            "    *    \n",
            "   ***   \n",
            "  *****  \n",
            " ******* \n"
          ]
        }
      ],
      "source": [
        "#better example:\n",
        "n=4\n",
        "for i in range(n):\n",
        "    print(\" \"*(n-i)  +  \"*\"*(1+2*i)  +  \" \"*(n-i))"
      ]
    },
    {
      "cell_type": "code",
      "execution_count": 84,
      "metadata": {
        "colab": {
          "base_uri": "https://localhost:8080/"
        },
        "id": "gPJXOKIbdzzA",
        "outputId": "fa956484-f1fc-4a3f-8638-58070163fed5"
      },
      "outputs": [
        {
          "name": "stdout",
          "output_type": "stream",
          "text": [
            "   *\n",
            "  ***\n",
            " *****\n",
            "*******\n"
          ]
        }
      ],
      "source": [
        "#better example:\n",
        "n=4\n",
        "for i in range(n):\n",
        "    print(\" \"*(n-(i+1))  +  \"*\"*(2*i+1))"
      ]
    },
    {
      "cell_type": "markdown",
      "metadata": {
        "id": "gGKSL0gxdzzC"
      },
      "source": [
        "<hr>"
      ]
    },
    {
      "cell_type": "markdown",
      "metadata": {
        "id": "AiNi898edzzC"
      },
      "source": [
        "## Conditionals\n",
        "\n",
        "To have Python make decisions for us, we use `if` statements. These control whether blocks of code are run or not. Structurally, they're similar to `for` loops; you start with an `if`, end with a colon, and indent the block of code you want to run conditionally:"
      ]
    },
    {
      "cell_type": "code",
      "execution_count": 85,
      "metadata": {
        "colab": {
          "base_uri": "https://localhost:8080/"
        },
        "id": "p-R8j_kqdzzC",
        "outputId": "d14d479a-12a5-4efb-a036-a6109e5c2f5c"
      },
      "outputs": [
        {
          "name": "stdout",
          "output_type": "stream",
          "text": [
            "That's a large mass\n",
            "The mass is 66\n"
          ]
        }
      ],
      "source": [
        "mass = 66\n",
        "\n",
        "if mass > 50:\n",
        "    print(\"That's a large mass\")\n",
        "if mass < 45:\n",
        "    print(\"That's a small mass\")\n",
        "if mass == 47:                        ## notice the ==, not =\n",
        "    print(\"That's EXACTLY RIGHT\")\n",
        "\n",
        "print(\"The mass is\", mass)\n",
        "\n",
        "# Edit the value of mass, and try this block out again."
      ]
    },
    {
      "cell_type": "code",
      "execution_count": 86,
      "metadata": {
        "colab": {
          "base_uri": "https://localhost:8080/"
        },
        "id": "cJX7jW11dzzE",
        "outputId": "abd9555c-d089-4185-c742-0c269dc5aef7"
      },
      "outputs": [
        {
          "name": "stdout",
          "output_type": "stream",
          "text": [
            "It's a hot and muggy day\n"
          ]
        }
      ],
      "source": [
        "temperature = 35\n",
        "precipitation = 99\n",
        "\n",
        "# you can define multiple conditions with and, or\n",
        "\n",
        "if temperature > 30 and precipitation > 90:\n",
        "    print(\"It's a hot and muggy day\")"
      ]
    },
    {
      "cell_type": "markdown",
      "metadata": {
        "id": "ELjta0ehdzzG"
      },
      "source": [
        "That seemed rather pointless, because we _knew_ what the values were before we ran the loop. Conditionals become more useful when dealing with data we don't define ourselves, e.g. when the data comes in a list:"
      ]
    },
    {
      "cell_type": "code",
      "execution_count": 87,
      "metadata": {
        "colab": {
          "base_uri": "https://localhost:8080/"
        },
        "id": "lt3RtcgSdzzG",
        "outputId": "e143edbf-8322-4c29-fa32-6a27eb3c70b3"
      },
      "outputs": [
        {
          "name": "stdout",
          "output_type": "stream",
          "text": [
            "3.24 is large!\n",
            "3.22 is large!\n",
            "5.86 is large!\n"
          ]
        }
      ],
      "source": [
        "costs = [3.24, 1.07, 3.22, 5.86, 1.91]\n",
        "for c in costs:\n",
        "    if c > 3.0:\n",
        "        print(c, 'is large!')"
      ]
    },
    {
      "cell_type": "markdown",
      "metadata": {
        "id": "gY-CkDGUdzzH"
      },
      "source": [
        "`else` can be used following an `if`, to specify an alternative course of action:\n"
      ]
    },
    {
      "cell_type": "code",
      "execution_count": 88,
      "metadata": {
        "colab": {
          "base_uri": "https://localhost:8080/"
        },
        "id": "kTQq33x7dzzI",
        "outputId": "8ddb0a02-fde1-4eb0-df2c-410296f69ce0"
      },
      "outputs": [
        {
          "name": "stdout",
          "output_type": "stream",
          "text": [
            "3.24 is large!\n",
            "1.07 is alright, I guess.\n",
            "3.22 is large!\n",
            "5.86 is large!\n",
            "1.91 is alright, I guess.\n"
          ]
        }
      ],
      "source": [
        "costs = [3.24, 1.07, 3.22, 5.86, 1.91]\n",
        "for c in costs:\n",
        "    if c > 3.0:\n",
        "        print(c, 'is large!')\n",
        "    else:\n",
        "        print(c, 'is alright, I guess.')"
      ]
    },
    {
      "cell_type": "markdown",
      "metadata": {
        "id": "in_wbg3zdzzJ"
      },
      "source": [
        "and `elif` can be used to define more conditions:"
      ]
    },
    {
      "cell_type": "code",
      "execution_count": 89,
      "metadata": {
        "colab": {
          "base_uri": "https://localhost:8080/"
        },
        "id": "_5tODPUNdzzJ",
        "outputId": "f7616b34-cefa-4083-c465-b90580e12fa1"
      },
      "outputs": [
        {
          "name": "stdout",
          "output_type": "stream",
          "text": [
            "3.24 is large!\n",
            "1.07 is alright, I guess.\n",
            "3.22 is large!\n",
            "5.86 is HUGE!\n",
            "1.91 is alright, I guess.\n"
          ]
        }
      ],
      "source": [
        "costs = [3.24, 1.07, 3.22, 5.86, 1.91]\n",
        "for c in costs:\n",
        "    if c > 5.0:\n",
        "        print(c, 'is HUGE!')\n",
        "    elif c > 3.0:\n",
        "        print(c, 'is large!')\n",
        "    else:\n",
        "        print(c, 'is alright, I guess.')\n",
        "\n",
        "# notice we had to re-order the conditions? Can you figure out why?"
      ]
    },
    {
      "cell_type": "markdown",
      "metadata": {
        "id": "giqa2khZdzzK"
      },
      "source": [
        "### <font color=\"red\">Exercise 5A: Print this list, but numbered\n",
        "\n",
        "Given a list of values, print them out, but with numbering. E.g.:"
      ]
    },
    {
      "cell_type": "raw",
      "metadata": {
        "id": "VCaCW6frdzzL"
      },
      "source": [
        "```\n",
        "Day 1 reading: 0.44\n",
        "Day 2 reading: 0.01\n",
        "Day 3 reading: 0.24\n",
        "```"
      ]
    },
    {
      "cell_type": "markdown",
      "metadata": {
        "id": "icDh69JadzzL"
      },
      "source": [
        "Note: this first exercise doesn't use conditionals, but the following ones will!"
      ]
    },
    {
      "cell_type": "code",
      "execution_count": 90,
      "metadata": {
        "colab": {
          "base_uri": "https://localhost:8080/"
        },
        "id": "1-q90rAgdzzL",
        "outputId": "53ca755f-6660-4d2c-81ee-14aadf4856f5"
      },
      "outputs": [
        {
          "name": "stdout",
          "output_type": "stream",
          "text": [
            "Day 1 reading: 0.44\n",
            "Day 2 reading: 0.01\n",
            "Day 3 reading: 0.24\n"
          ]
        }
      ],
      "source": [
        "\"\"\"readings = [0.44, 0.01, 0.24]\n",
        "index = 1 # hint!\n",
        "\n",
        "for r in readings:\n",
        "    print(r) # FIXME\n",
        "\"\"\"\n",
        "\n",
        "readings = [0.44, 0.01, 0.24]\n",
        "index = 1 # hint!\n",
        "\n",
        "for r in readings:\n",
        "    print(\"Day\",index,\"reading:\",r)\n",
        "    index = index + 1\n"
      ]
    },
    {
      "cell_type": "markdown",
      "metadata": {
        "id": "TWWNeaPedzzN"
      },
      "source": [
        "### <font color=\"red\">Exercise 5B: Panic if something is too low\n",
        "\n",
        "Same as above, but insert a huge warning if the value is below 0.1."
      ]
    },
    {
      "cell_type": "raw",
      "metadata": {
        "id": "TwJIzvi1dzzN"
      },
      "source": [
        "```\n",
        "Day 1 reading: 0.44\n",
        "Day 2 reading: 0.01 . WHAT! THIS IS TOO LOW!\n",
        "Day 3 reading: 0.24\n",
        "```"
      ]
    },
    {
      "cell_type": "code",
      "execution_count": 91,
      "metadata": {
        "colab": {
          "base_uri": "https://localhost:8080/"
        },
        "id": "_NjfqeGBdzzO",
        "outputId": "46beb689-fae4-4193-ca4a-166878bc9c3d"
      },
      "outputs": [
        {
          "name": "stdout",
          "output_type": "stream",
          "text": [
            "Day 1 reading: 0.44\n",
            "Day 2 reading: 0.01   WHAT! THIS IS TOO LOW!\n",
            "Day 3 reading: 0.24\n",
            "Day 4 reading: 0.02   WHAT! THIS IS TOO LOW!\n"
          ]
        }
      ],
      "source": [
        "\"\"\"\n",
        "readings = [0.44, 0.01, 0.24, 0.02]\n",
        "index = 1\n",
        "\n",
        "for r in readings:\n",
        "    print(r) # FIXME\n",
        "\"\"\"\n",
        "\n",
        "readings = [0.44, 0.01, 0.24, 0.02]\n",
        "index = 1\n",
        "\n",
        "for r in readings:\n",
        "    if (r < 0.1):\n",
        "        print(\"Day\",index,\"reading:\",r,\"  WHAT! THIS IS TOO LOW!\")\n",
        "    else:\n",
        "        print(\"Day\",index,\"reading:\",r)\n",
        "    index = index + 1\n"
      ]
    },
    {
      "cell_type": "code",
      "execution_count": null,
      "metadata": {
        "id": "Q3MyUpfodzzP"
      },
      "outputs": [],
      "source": []
    },
    {
      "cell_type": "markdown",
      "metadata": {
        "id": "rpk2iBcSdzzS"
      },
      "source": [
        "### <font color=\"red\">Exercise 5C: Generate multiples\n",
        "\n",
        "Print out all the positive multiples of 7 that are smaller than 200. The largest number printed should be 196. It's OK to print 0 to start out."
      ]
    },
    {
      "cell_type": "code",
      "execution_count": 92,
      "metadata": {
        "colab": {
          "base_uri": "https://localhost:8080/"
        },
        "id": "1DO29QjYdzzS",
        "outputId": "9ac8df6c-086a-49ff-de4d-c9db3ec2e8e2"
      },
      "outputs": [
        {
          "name": "stdout",
          "output_type": "stream",
          "text": [
            "0\n",
            "7\n",
            "14\n",
            "21\n",
            "28\n",
            "35\n",
            "42\n",
            "49\n",
            "56\n",
            "63\n",
            "70\n",
            "77\n",
            "84\n",
            "91\n",
            "98\n",
            "105\n",
            "112\n",
            "119\n",
            "126\n",
            "133\n",
            "140\n",
            "147\n",
            "154\n",
            "161\n",
            "168\n",
            "175\n",
            "182\n",
            "189\n",
            "196\n"
          ]
        }
      ],
      "source": [
        "for i in range(200):\n",
        "    if i % 7 == 0:\n",
        "        print(i)\n",
        "\n",
        "\n",
        "#demonstrate ways to eliminate the 0 at the start"
      ]
    },
    {
      "cell_type": "code",
      "execution_count": 93,
      "metadata": {
        "colab": {
          "base_uri": "https://localhost:8080/"
        },
        "id": "GWCWfNnJdzzT",
        "outputId": "942fbabe-322c-4666-abe2-2921750f302b"
      },
      "outputs": [
        {
          "name": "stdout",
          "output_type": "stream",
          "text": [
            "0\n",
            "7\n",
            "14\n",
            "21\n",
            "28\n",
            "35\n",
            "42\n",
            "49\n",
            "56\n",
            "63\n",
            "70\n",
            "77\n",
            "84\n",
            "91\n",
            "98\n",
            "105\n",
            "112\n",
            "119\n",
            "126\n",
            "133\n",
            "140\n",
            "147\n",
            "154\n",
            "161\n",
            "168\n",
            "175\n",
            "182\n",
            "189\n",
            "196\n"
          ]
        }
      ],
      "source": [
        "for i in range(0, 200, 7):\n",
        "    print(i)"
      ]
    },
    {
      "cell_type": "markdown",
      "metadata": {
        "collapsed": true,
        "id": "jAx1ZsYidzzU"
      },
      "source": [
        "### <font color=\"red\">Exercise 5D: Multi-multiples\n",
        "\n",
        "Print out all the positive multiples of 7 _or_ 13 that are smaller than 200."
      ]
    },
    {
      "cell_type": "code",
      "execution_count": 94,
      "metadata": {
        "colab": {
          "base_uri": "https://localhost:8080/"
        },
        "id": "_43KWQMndzzU",
        "outputId": "2c4f2cd8-5355-4acd-cb93-6197a85b1eb5"
      },
      "outputs": [
        {
          "name": "stdout",
          "output_type": "stream",
          "text": [
            "0\n",
            "7\n",
            "13\n",
            "14\n",
            "21\n",
            "26\n",
            "28\n",
            "35\n",
            "39\n",
            "42\n",
            "49\n",
            "52\n",
            "56\n",
            "63\n",
            "65\n",
            "70\n",
            "77\n",
            "78\n",
            "84\n",
            "91\n",
            "98\n",
            "104\n",
            "105\n",
            "112\n",
            "117\n",
            "119\n",
            "126\n",
            "130\n",
            "133\n",
            "140\n",
            "143\n",
            "147\n",
            "154\n",
            "156\n",
            "161\n",
            "168\n",
            "169\n",
            "175\n",
            "182\n",
            "189\n",
            "195\n",
            "196\n"
          ]
        }
      ],
      "source": [
        "for i in range(200):\n",
        "    if i % 7 == 0 or i % 13 == 0:    #can optionally include parentheses around conditionals\n",
        "        print(i)"
      ]
    },
    {
      "cell_type": "markdown",
      "metadata": {
        "collapsed": true,
        "id": "WT-ej_eadzzV"
      },
      "source": [
        "<hr>"
      ]
    },
    {
      "cell_type": "markdown",
      "metadata": {
        "collapsed": true,
        "id": "3vJ5A7dHdzzW"
      },
      "source": [
        "## Further reading\n",
        "\n",
        "Want to learn more? We recommend the following:\n",
        "\n",
        "* [How to think like a Computer Scientist](https://interactivepython.org/courselib/static/thinkcspy/toc.html#t-o-c), an interactive online book\n",
        "* [Learn Python the Hard Way](https://learnpythonthehardway.org/) has lots of exercises to try\n",
        "* [Automate the Boring Stuff with Python](https://automatetheboringstuff.com/), for your lifehacks. Also available on Udemy as video."
      ]
    },
    {
      "cell_type": "code",
      "execution_count": null,
      "metadata": {
        "collapsed": true,
        "id": "iqdJrRb7dzzW"
      },
      "outputs": [],
      "source": []
    },
    {
      "cell_type": "code",
      "execution_count": null,
      "metadata": {
        "id": "CyxeaBAIdzzX"
      },
      "outputs": [],
      "source": []
    },
    {
      "cell_type": "code",
      "execution_count": 95,
      "metadata": {
        "colab": {
          "base_uri": "https://localhost:8080/"
        },
        "id": "NZGUIEjOdzzY",
        "outputId": "b01bef2d-62ea-4ea9-ec31-acf73490925f"
      },
      "outputs": [
        {
          "data": {
            "text/plain": [
              "datetime.datetime(2018, 1, 24, 0, 0)"
            ]
          },
          "execution_count": 95,
          "metadata": {},
          "output_type": "execute_result"
        }
      ],
      "source": [
        "import datetime as dt\n",
        "\n",
        "x = dt.datetime(2018, 1, 24)\n",
        "x"
      ]
    },
    {
      "cell_type": "code",
      "execution_count": 96,
      "metadata": {
        "colab": {
          "base_uri": "https://localhost:8080/"
        },
        "id": "lKk5T4zzdzzZ",
        "outputId": "d778db33-d763-4d6d-e758-50b4a07dfa63"
      },
      "outputs": [
        {
          "data": {
            "text/plain": [
              "2018"
            ]
          },
          "execution_count": 96,
          "metadata": {},
          "output_type": "execute_result"
        }
      ],
      "source": [
        "x.year"
      ]
    },
    {
      "cell_type": "code",
      "execution_count": 97,
      "metadata": {
        "colab": {
          "base_uri": "https://localhost:8080/"
        },
        "id": "l4XqnoDWdzza",
        "outputId": "5c5fe0b8-d1bc-41f4-95ff-97b92bc4e3e1"
      },
      "outputs": [
        {
          "data": {
            "text/plain": [
              "1"
            ]
          },
          "execution_count": 97,
          "metadata": {},
          "output_type": "execute_result"
        }
      ],
      "source": [
        "x.month"
      ]
    },
    {
      "cell_type": "code",
      "execution_count": 98,
      "metadata": {
        "id": "hlwnaSiQdzzb"
      },
      "outputs": [],
      "source": [
        "#String Formatting"
      ]
    },
    {
      "cell_type": "code",
      "execution_count": 99,
      "metadata": {
        "colab": {
          "base_uri": "https://localhost:8080/"
        },
        "id": "T_UuZHWAdzzb",
        "outputId": "eb95a23b-2714-4863-97af-609b2ee86b7f"
      },
      "outputs": [
        {
          "name": "stdout",
          "output_type": "stream",
          "text": [
            "hello mike\n",
            "hello 12.35\n"
          ]
        }
      ],
      "source": [
        "name = \"mike\"\n",
        "a = 12.3456\n",
        "\n",
        "print(\"hello %s\" % name)\n",
        "print(\"hello %.2f\" % a)"
      ]
    },
    {
      "cell_type": "code",
      "execution_count": null,
      "metadata": {
        "collapsed": true,
        "id": "UxvYJXW9dzzc"
      },
      "outputs": [],
      "source": [
        "#strings are just lists\n",
        "#strings have their own methods\n",
        "#how to find a character in a string?"
      ]
    }
  ],
  "metadata": {
    "colab": {
      "include_colab_link": true,
      "provenance": []
    },
    "kernelspec": {
      "display_name": "Python 3",
      "language": "python",
      "name": "python3"
    },
    "language_info": {
      "codemirror_mode": {
        "name": "ipython",
        "version": 3
      },
      "file_extension": ".py",
      "mimetype": "text/x-python",
      "name": "python",
      "nbconvert_exporter": "python",
      "pygments_lexer": "ipython3",
      "version": "3.8.3"
    }
  },
  "nbformat": 4,
  "nbformat_minor": 0
}
