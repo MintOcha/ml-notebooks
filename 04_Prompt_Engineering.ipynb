{
  "nbformat": 4,
  "nbformat_minor": 0,
  "metadata": {
    "colab": {
      "provenance": [],
      "include_colab_link": true
    },
    "kernelspec": {
      "name": "python3",
      "display_name": "Python 3"
    },
    "language_info": {
      "name": "python"
    }
  },
  "cells": [
    {
      "cell_type": "markdown",
      "metadata": {
        "id": "view-in-github",
        "colab_type": "text"
      },
      "source": [
        "<a href=\"https://colab.research.google.com/github/tinkercademy/ml-notebooks/blob/main/04_Prompt_Engineering.ipynb\" target=\"_parent\"><img src=\"https://colab.research.google.com/assets/colab-badge.svg\" alt=\"Open In Colab\"/></a>"
      ]
    },
    {
      "cell_type": "code",
      "execution_count": null,
      "metadata": {
        "id": "sGor403m1rLP"
      },
      "outputs": [],
      "source": [
        "!pip install openai\n",
        "import openai\n",
        "import os\n",
        "openai.api_key  = 'ENTERAPIKEYHERE'\n"
      ]
    },
    {
      "cell_type": "code",
      "source": [
        "def chat(prompt, model=\"gpt-3.5-turbo\"):\n",
        "    response = openai.ChatCompletion.create(\n",
        "        model=model,\n",
        "        messages=[{\"role\": \"user\", \"content\": prompt}],\n",
        "        temperature=0.7, # this is the degree of randomness of the output\n",
        "    )\n",
        "    print(response.choices[0].message[\"content\"])\n",
        "\n"
      ],
      "metadata": {
        "id": "tHRXDHe_Bve4"
      },
      "execution_count": null,
      "outputs": []
    },
    {
      "cell_type": "code",
      "source": [
        "chat(\"ENTER PROMPT HERE\")"
      ],
      "metadata": {
        "id": "98n6e7V2Bww9"
      },
      "execution_count": null,
      "outputs": []
    }
  ]
}