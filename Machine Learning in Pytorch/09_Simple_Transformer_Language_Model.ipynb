{
 "cells": [
  {
   "cell_type": "markdown",
   "metadata": {},
   "source": [
    "Taken from: https://colab.research.google.com/github/jalammar/jalammar.github.io/blob/master/notebooks/Simple_Transformer_Language_Model.ipynb#scrollTo=ZT5lmGVK60mJ\n"
   ]
  },
  {
   "cell_type": "code",
   "execution_count": null,
   "metadata": {
    "id": "SfaGYwr6QGl0",
    "scrolled": true
   },
   "outputs": [],
   "source": [
    "!pip install transformers"
   ]
  },
  {
   "cell_type": "code",
   "execution_count": null,
   "metadata": {
    "id": "SKOHXyzNQ5Wa"
   },
   "outputs": [],
   "source": [
    "from transformers import AutoTokenizer, AutoModelForCausalLM\n",
    "import torch\n",
    "tokenizer = AutoTokenizer.from_pretrained(\"distilgpt2\")\n",
    "model = AutoModelForCausalLM.from_pretrained(\"distilgpt2\", output_hidden_states=True)"
   ]
  },
  {
   "cell_type": "code",
   "execution_count": null,
   "metadata": {
    "id": "zdQBaZZcQ_Sa"
   },
   "outputs": [],
   "source": [
    "text = \"Shawshank Redemption \"\n",
    "\n",
    "# Tokenize the input string\n",
    "input = tokenizer.encode(text, return_tensors=\"pt\")\n",
    "\n",
    "# Run the model\n",
    "output = model.generate(input, max_length=5, do_sample=False)\n",
    "\n",
    "# Print the output\n",
    "print('\\n',tokenizer.decode(output[0]))"
   ]
  },
  {
   "cell_type": "code",
   "execution_count": null,
   "metadata": {
    "id": "m8m1rK3gNNW4"
   },
   "outputs": [],
   "source": [
    "# Print the token ides (of the input and output)\n",
    "output"
   ]
  },
  {
   "cell_type": "markdown",
   "metadata": {
    "id": "tProbSeTJATA"
   },
   "source": [
    "## From words to vectors and back"
   ]
  },
  {
   "cell_type": "code",
   "execution_count": null,
   "metadata": {
    "colab": {
     "base_uri": "https://localhost:8080/",
     "height": 34
    },
    "id": "Dy2Pjd--ROa5",
    "outputId": "1227d405-a6b1-48bd-f6e6-127ea739cc04"
   },
   "outputs": [],
   "source": [
    "# Print the input token ids\n",
    "text = \"Shawshank Redemption\"\n",
    "input = tokenizer(text, return_tensors=\"pt\")['input_ids']\n",
    "input"
   ]
  },
  {
   "cell_type": "code",
   "execution_count": null,
   "metadata": {
    "colab": {
     "base_uri": "https://localhost:8080/",
     "height": 34
    },
    "id": "sTGffdCOJbdo",
    "outputId": "e45abbde-d575-40bb-82b8-48dc2c90ffb3"
   },
   "outputs": [],
   "source": [
    "tokenizer.convert_ids_to_tokens(input[0])"
   ]
  },
  {
   "cell_type": "markdown",
   "metadata": {
    "id": "4lbn94y0P2UV"
   },
   "source": [
    "## Breathe meaning into numbers (Embedding)"
   ]
  },
  {
   "cell_type": "code",
   "execution_count": null,
   "metadata": {
    "colab": {
     "base_uri": "https://localhost:8080/",
     "height": 34
    },
    "id": "5QCFBcxZQIN8",
    "outputId": "78f4012c-3c7c-4c89-813a-62abae5cd98d"
   },
   "outputs": [],
   "source": [
    "# This is the embedding matrix of the model\n",
    "model.transformer.wte # Dimensions are: (Number of tokens in vocabulary, dimension of model)"
   ]
  },
  {
   "cell_type": "code",
   "execution_count": null,
   "metadata": {
    "id": "0Ah9tc1gP7lX"
   },
   "outputs": [],
   "source": [
    "# Get the embedding vector of token # 464 ('The')\n",
    "model.transformer.wte(torch.tensor(464))"
   ]
  },
  {
   "cell_type": "code",
   "execution_count": null,
   "metadata": {
    "id": "ZT5lmGVK60mJ"
   },
   "outputs": [],
   "source": [
    "text = \"The chicken didn't cross the road because it was\"\n",
    "\n",
    "# Tokenize the input string\n",
    "input = tokenizer.encode(text, return_tensors=\"pt\")\n",
    "\n",
    "# Run the model\n",
    "output = model.generate(input, max_length=20, do_sample=True)\n",
    "\n",
    "# Print the output\n",
    "print('\\n',tokenizer.decode(output[0]))"
   ]
  },
  {
   "cell_type": "code",
   "execution_count": null,
   "metadata": {
    "id": "BstYQU6NkkDA"
   },
   "outputs": [],
   "source": []
  }
 ],
 "metadata": {
  "colab": {
   "name": "Simple Transformer Language Model.ipynb",
   "provenance": []
  },
  "kernelspec": {
   "display_name": "Python 3 (ipykernel)",
   "language": "python",
   "name": "python3"
  },
  "language_info": {
   "codemirror_mode": {
    "name": "ipython",
    "version": 3
   },
   "file_extension": ".py",
   "mimetype": "text/x-python",
   "name": "python",
   "nbconvert_exporter": "python",
   "pygments_lexer": "ipython3",
   "version": "3.11.5"
  }
 },
 "nbformat": 4,
 "nbformat_minor": 4
}
