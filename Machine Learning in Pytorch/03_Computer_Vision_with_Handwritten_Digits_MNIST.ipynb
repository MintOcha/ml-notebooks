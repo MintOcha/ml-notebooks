{
  "cells": [
    {
      "cell_type": "markdown",
      "metadata": {
        "colab_type": "text",
        "id": "view-in-github"
      },
      "source": [
        "<a href=\"https://colab.research.google.com/github/tinkercademy/ml-notebooks/blob/main/Machine Learning in Pytorch/03_Computer_Vision_with_Handwritten_Digits_MNIST.ipynb\" target=\"_parent\"><img src=\"https://colab.research.google.com/assets/colab-badge.svg\" alt=\"Open In Colab\"/></a>"
      ]
    },
    {
      "cell_type": "code",
      "execution_count": null,
      "metadata": {
        "id": "zX4Kg8DUTKWO"
      },
      "outputs": [],
      "source": [
        "#@title Licensed under the Apache License, Version 2.0 (the \"License\");\n",
        "# you may not use this file except in compliance with the License.\n",
        "# You may obtain a copy of the License at\n",
        "#\n",
        "# https://www.apache.org/licenses/LICENSE-2.0\n",
        "#\n",
        "# Unless required by applicable law or agreed to in writing, software\n",
        "# distributed under the License is distributed on an \"AS IS\" BASIS,\n",
        "# WITHOUT WARRANTIES OR CONDITIONS OF ANY KIND, either express or implied.\n",
        "# See the License for the specific language governing permissions and\n",
        "# limitations under the License."
      ]
    },
    {
      "cell_type": "markdown",
      "metadata": {
        "id": "tOoyQ70H00_s"
      },
      "source": [
        "## Exercise 2\n",
        "In the course you learned how to do classification using Fashion MNIST, a data set containing items of clothing. There's another, similar dataset called MNIST which has items of handwriting -- the digits 0 through 9.\n",
        "\n",
        "Write an MNIST classifier that trains to 99% accuracy or above, and does it without a fixed number of epochs -- i.e. you should stop training once you reach that level of accuracy.\n",
        "\n",
        "Some notes:\n",
        "1. It should succeed in less than 10 epochs, so it is okay to change epochs to 10, but nothing larger\n",
        "2. When it reaches 99% or greater it should print out the string \"Reached 99% accuracy so cancelling training!\"\n",
        "3. If you add any additional variables, make sure you use the same names as the ones used in the class\n",
        "\n",
        "I've started the code for you below -- how would you finish it?"
      ]
    },
    {
      "cell_type": "code",
      "execution_count": 1,
      "metadata": {
        "colab": {
          "base_uri": "https://localhost:8080/"
        },
        "id": "9rvXQGAA0ssC",
        "outputId": "4d02134d-84c0-4bb8-d309-50191430f77c"
      },
      "outputs": [
        {
          "name": "stdout",
          "output_type": "stream",
          "text": [
            "Downloading data from https://storage.googleapis.com/tensorflow/tf-keras-datasets/mnist.npz\n",
            "11490434/11490434 [==============================] - 0s 0us/step\n",
            "Epoch 1/10\n",
            "1869/1875 [============================>.] - ETA: 0s - loss: 0.2569 - accuracy: 0.9272Finished one epoch\n",
            "1875/1875 [==============================] - 17s 8ms/step - loss: 0.2564 - accuracy: 0.9273\n",
            "Epoch 2/10\n",
            "1873/1875 [============================>.] - ETA: 0s - loss: 0.1127 - accuracy: 0.9665Finished one epoch\n",
            "1875/1875 [==============================] - 14s 7ms/step - loss: 0.1127 - accuracy: 0.9665\n",
            "Epoch 3/10\n",
            "1875/1875 [==============================] - ETA: 0s - loss: 0.0762 - accuracy: 0.9768Finished one epoch\n",
            "1875/1875 [==============================] - 7s 4ms/step - loss: 0.0762 - accuracy: 0.9768\n",
            "Epoch 4/10\n",
            "1873/1875 [============================>.] - ETA: 0s - loss: 0.0576 - accuracy: 0.9822Finished one epoch\n",
            "1875/1875 [==============================] - 8s 4ms/step - loss: 0.0576 - accuracy: 0.9822\n",
            "Epoch 5/10\n",
            "1866/1875 [============================>.] - ETA: 0s - loss: 0.0432 - accuracy: 0.9868Finished one epoch\n",
            "1875/1875 [==============================] - 6s 3ms/step - loss: 0.0431 - accuracy: 0.9867\n",
            "Epoch 6/10\n",
            "1862/1875 [============================>.] - ETA: 0s - loss: 0.0348 - accuracy: 0.9896Finished one epoch\n",
            "1875/1875 [==============================] - 7s 4ms/step - loss: 0.0348 - accuracy: 0.9896\n",
            "Epoch 7/10\n",
            "1869/1875 [============================>.] - ETA: 0s - loss: 0.0266 - accuracy: 0.9920Finished one epoch\n",
            "Short cutting cos I am happy with the performance\n",
            "1875/1875 [==============================] - 6s 3ms/step - loss: 0.0269 - accuracy: 0.9919\n"
          ]
        },
        {
          "data": {
            "text/plain": [
              "<keras.callbacks.History at 0x7892d2fb7fa0>"
            ]
          },
          "execution_count": 1,
          "metadata": {},
          "output_type": "execute_result"
        }
      ],
      "source": [
        "import tensorflow as tf\n",
        "mnist = tf.keras.datasets.mnist\n",
        "\n",
        "class myCallback(tf.keras.callbacks.Callback):\n",
        "  def on_epoch_end(self, epoch, logs={}):\n",
        "    print(\"Finished one epoch\")\n",
        "    if (logs.get('accuracy') > 0.99):\n",
        "      print(\"Short cutting cos I am happy with the performance\")\n",
        "      self.model.stop_training = True\n",
        "\n",
        "callback = myCallback()\n",
        "\n",
        "\n",
        "(x_train, y_train),(x_test, y_test) = mnist.load_data()\n",
        "x_train = x_train / 255.0\n",
        "x_test = x_test / 255.0\n",
        "\n",
        "model = tf.keras.models.Sequential(\n",
        "    [\n",
        "       tf.keras.layers.Flatten(input_shape=(28,28)),\n",
        "       tf.keras.layers.Dense(128, activation=tf.nn.relu),\n",
        "       tf.keras.layers.Dense(10, activation=tf.nn.softmax)\n",
        "    ]\n",
        ")\n",
        "\n",
        "model.compile(optimizer='adam',\n",
        "              loss='sparse_categorical_crossentropy',\n",
        "              metrics=['accuracy'])\n",
        "\n",
        "\n",
        "model.fit(x_train, y_train, epochs=10, callbacks=[callback])"
      ]
    },
    {
      "cell_type": "code",
      "execution_count": 2,
      "metadata": {
        "colab": {
          "base_uri": "https://localhost:8080/"
        },
        "id": "3E31VvgNlsH_",
        "outputId": "2faf677d-4a32-4c17-c7f8-250c0b30222a"
      },
      "outputs": [
        {
          "name": "stdout",
          "output_type": "stream",
          "text": [
            "1/1 [==============================] - 0s 84ms/step\n"
          ]
        },
        {
          "data": {
            "text/plain": [
              "array([[1.0437586e-08, 2.2727871e-09, 5.7508515e-07, 3.7916507e-06,\n",
              "        3.3554453e-13, 6.7804407e-08, 5.9563709e-14, 9.9999511e-01,\n",
              "        1.6241552e-08, 3.1371462e-07]], dtype=float32)"
            ]
          },
          "execution_count": 2,
          "metadata": {},
          "output_type": "execute_result"
        }
      ],
      "source": [
        "import numpy as np\n",
        "model.predict(np.array([x_test[0]]))\n",
        "\n",
        "# 3.232e-09 => 3.23 x 10^-9 = 0.00000000323\n",
        "# 5.145e-05 => 5.145 x 10^-5 = 0.00005145\n",
        "# 9.999e-01 => 9.999 x 10^-1 = 0.99 => 99%"
      ]
    },
    {
      "cell_type": "code",
      "execution_count": 3,
      "metadata": {
        "colab": {
          "base_uri": "https://localhost:8080/"
        },
        "id": "Gsyu7ccVQg6X",
        "outputId": "99cb4423-677d-4f6e-9b04-53b7ca101df9"
      },
      "outputs": [
        {
          "name": "stdout",
          "output_type": "stream",
          "text": [
            "7\n"
          ]
        }
      ],
      "source": [
        "print(y_test[0])"
      ]
    },
    {
      "cell_type": "code",
      "execution_count": 4,
      "metadata": {
        "colab": {
          "base_uri": "https://localhost:8080/",
          "height": 447
        },
        "id": "hINPdRC9eFfJ",
        "outputId": "00f93598-b73d-40c1-ca00-63100a958940"
      },
      "outputs": [
        {
          "data": {
            "text/plain": [
              "<matplotlib.image.AxesImage at 0x7892d04977c0>"
            ]
          },
          "execution_count": 4,
          "metadata": {},
          "output_type": "execute_result"
        },
        {
          "data": {
            "image/png": "[encoded data removed]",
            "text/plain": [
              "<Figure size 640x480 with 1 Axes>"
            ]
          },
          "metadata": {},
          "output_type": "display_data"
        }
      ],
      "source": [
        "import matplotlib.pyplot as plt\n",
        "plt.imshow(x_test[0])\n"
      ]
    },
    {
      "cell_type": "code",
      "execution_count": 5,
      "metadata": {
        "colab": {
          "base_uri": "https://localhost:8080/"
        },
        "id": "BsBQhwtheMPB",
        "outputId": "d08bd6f7-3513-4425-81b4-8fcdba61188b"
      },
      "outputs": [
        {
          "data": {
            "text/plain": [
              "(28, 28)"
            ]
          },
          "execution_count": 5,
          "metadata": {},
          "output_type": "execute_result"
        }
      ],
      "source": [
        "x_test[0].shape"
      ]
    },
    {
      "cell_type": "code",
      "execution_count": null,
      "metadata": {
        "id": "gF585IDzeQfG"
      },
      "outputs": [],
      "source": []
    }
  ],
  "metadata": {
    "colab": {
      "include_colab_link": true,
      "provenance": []
    },
    "kernelspec": {
      "display_name": "Python 3",
      "name": "python3"
    }
  },
  "nbformat": 4,
  "nbformat_minor": 0
}
