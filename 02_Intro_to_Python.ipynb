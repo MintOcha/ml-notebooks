{
  "cells": [
    {
      "cell_type": "markdown",
      "metadata": {
        "id": "view-in-github",
        "colab_type": "text"
      },
      "source": [
        "<a href=\"https://colab.research.google.com/github/tinkercademy/ml-notebooks/blob/main/02_Intro_to_Python.ipynb\" target=\"_parent\"><img src=\"https://colab.research.google.com/assets/colab-badge.svg\" alt=\"Open In Colab\"/></a>"
      ]
    },
    {
      "cell_type": "markdown",
      "metadata": {
        "id": "yYlRbn-EEud0"
      },
      "source": [
        "# Intro to Python\n",
        "\n",
        "In this notebook, we'll do some very basic Python to get you warmed up with programming. Experienced coders can try the exercises the end of each section, or if you already know intro Python, move ahead to the next notebook."
      ]
    },
    {
      "cell_type": "markdown",
      "metadata": {
        "id": "eynTpaxeEueA"
      },
      "source": [
        "## Variables\n",
        "\n",
        "Variables are used to store data. In Python, we use `=` to *assign* data from the right item, to the variable name in the left item. For example:"
      ]
    },
    {
      "cell_type": "code",
      "execution_count": null,
      "metadata": {
        "collapsed": true,
        "id": "uKi0FlB_EueB"
      },
      "outputs": [],
      "source": []
    },
    {
      "cell_type": "markdown",
      "metadata": {
        "id": "GJcprIQDEueC"
      },
      "source": [
        "Start your variables with letters--you can't use numbers, so `3banana` is not a valid variable name. For variables with many words, use underscores: `three_banana` or camel case: `threeBanana`."
      ]
    },
    {
      "cell_type": "markdown",
      "metadata": {
        "id": "wkDepOEYEueD"
      },
      "source": [
        "## Printing\n",
        "\n",
        "Use `print` to send information from your code to the results bar, underneath the cell."
      ]
    },
    {
      "cell_type": "code",
      "execution_count": null,
      "metadata": {
        "id": "XfILyjpBEueD"
      },
      "outputs": [],
      "source": []
    },
    {
      "cell_type": "code",
      "execution_count": null,
      "metadata": {
        "id": "12YE8zgzEueE"
      },
      "outputs": [],
      "source": []
    },
    {
      "cell_type": "code",
      "execution_count": null,
      "metadata": {
        "id": "N2hDV9VuEueE"
      },
      "outputs": [],
      "source": []
    },
    {
      "cell_type": "markdown",
      "metadata": {
        "id": "uU4Udp5OEueF"
      },
      "source": [
        "## Operators\n",
        "\n",
        "You can do math in Python! It's like a really expensive (and clunky) calculator."
      ]
    },
    {
      "cell_type": "code",
      "execution_count": null,
      "metadata": {
        "id": "oa8YWDZKEueG"
      },
      "outputs": [],
      "source": []
    },
    {
      "cell_type": "code",
      "execution_count": null,
      "metadata": {
        "id": "bLQq9ISEEueG"
      },
      "outputs": [],
      "source": []
    },
    {
      "cell_type": "code",
      "execution_count": null,
      "metadata": {
        "id": "dhj3xLX6EueG"
      },
      "outputs": [],
      "source": []
    },
    {
      "cell_type": "code",
      "execution_count": null,
      "metadata": {
        "id": "U7jOTMoLEueH"
      },
      "outputs": [],
      "source": []
    },
    {
      "cell_type": "code",
      "execution_count": null,
      "metadata": {
        "id": "LSY7dy6wEueH"
      },
      "outputs": [],
      "source": []
    },
    {
      "cell_type": "code",
      "execution_count": null,
      "metadata": {
        "collapsed": true,
        "id": "kV4F3z67EueH"
      },
      "outputs": [],
      "source": []
    },
    {
      "cell_type": "code",
      "execution_count": null,
      "metadata": {
        "id": "06iGDxyHEueH"
      },
      "outputs": [],
      "source": []
    },
    {
      "cell_type": "markdown",
      "metadata": {
        "id": "R6pXJL8pEueI"
      },
      "source": [
        "## Types\n",
        "\n",
        "Variables have **types**, of which you've seen three: **int**s (integers, whole numbers), **float**s (decimal numbers), and **str**s (strings of text, with inverted commas around them--single or double inverted commas are fine, as long as you're consistent)."
      ]
    },
    {
      "cell_type": "code",
      "execution_count": null,
      "metadata": {
        "collapsed": true,
        "id": "ZIhVm94gEueI"
      },
      "outputs": [],
      "source": []
    },
    {
      "cell_type": "code",
      "execution_count": null,
      "metadata": {
        "collapsed": true,
        "id": "cDJCvJKDEueI"
      },
      "outputs": [],
      "source": []
    },
    {
      "cell_type": "code",
      "execution_count": null,
      "metadata": {
        "collapsed": true,
        "id": "QS76o9WkEueI"
      },
      "outputs": [],
      "source": []
    },
    {
      "cell_type": "markdown",
      "metadata": {
        "id": "xmQEa3dAEueJ"
      },
      "source": [
        "### <font color=\"red\">Exercise 1A: More operators</font>\n",
        "\n",
        "Why stop at four when we have more? Try to `print` these out, and write comments (with `#` in front) to say what they do."
      ]
    },
    {
      "cell_type": "code",
      "execution_count": null,
      "metadata": {
        "collapsed": true,
        "id": "9jSfbmgWEueJ"
      },
      "outputs": [],
      "source": [
        "a = 5 ** 2\n",
        "b = 3 ** 3\n",
        "c = 4 ** 5\n",
        "d = 15 // 12\n",
        "e = 12 // 15\n",
        "f = 200 // 50\n",
        "g = 200 // 51\n",
        "h = 6 % 2\n",
        "i_need_better_variable_names = 5 % 2\n",
        "j = 9 % 5\n",
        "k = 6 % 6\n",
        "l = 0 % 7"
      ]
    },
    {
      "cell_type": "markdown",
      "metadata": {
        "id": "5ejkdJhSEueL"
      },
      "source": [
        "### <font color=\"red\">Exercise 1B: Calculate and print\n",
        "\n",
        "What if I want to calculate the age of someone who's 3x my age?\n",
        "\n",
        "Edit the variables below, and print: \"3 times my age is 108\"."
      ]
    },
    {
      "cell_type": "code",
      "execution_count": null,
      "metadata": {
        "id": "g467iIZaEueM"
      },
      "outputs": [],
      "source": [
        "age=99  #CHANGE ME\n",
        "n=5001  #CHANGE ME\n",
        "print(n,\"times my age is\",age) #this line needs fixing! FIXME!"
      ]
    },
    {
      "cell_type": "markdown",
      "metadata": {
        "id": "M-zoZ2nXEueN"
      },
      "source": [
        "### <font color=\"red\">Exercise 1C: Seconds in a year\n",
        "\n",
        "Let's use Python as a glorified calculator again. Below is some code to help you get started--can you figure out how many seconds there are in a year?"
      ]
    },
    {
      "cell_type": "code",
      "execution_count": null,
      "metadata": {
        "id": "GyjOScwUEueO"
      },
      "outputs": [],
      "source": [
        "num_seconds_in_minute = 60\n",
        "num_minutes_in_hour = 0 # FIXME\n",
        "num_hours_in_day = 0 # FIXME\n",
        "num_days_in_year = 0 #FIXME\n",
        "total = ____ * ____  # FIXME\n",
        "print(\"The number of seconds in a year is\",total)"
      ]
    },
    {
      "cell_type": "markdown",
      "metadata": {
        "id": "IU53q-yGEueQ"
      },
      "source": [
        "### <font color=\"red\">Exercise 1D: Pixels\n",
        "\n",
        "You are given the width and height of a screen in pixels. Calculate the total number of pixels on the screen and store them in a variable called `numberOfPixels`."
      ]
    },
    {
      "cell_type": "code",
      "execution_count": null,
      "metadata": {
        "id": "9OumQFJxEueQ"
      },
      "outputs": [],
      "source": [
        "height = 1920\n",
        "width = 1080\n",
        "\n",
        "# Your code here\n",
        "\n",
        "# Some code to print out the results\n",
        "print(\"For a screen with height\", height, \"pixels\")\n",
        "print(\"And width\", width, \"pixels\")\n",
        "print(\"The total number of pixels is\", numberOfPixels)"
      ]
    },
    {
      "cell_type": "markdown",
      "metadata": {
        "id": "9rvIMMXdEueR"
      },
      "source": [
        "### <font color=\"red\">Exercise 1E: Boys and girls\n",
        "\n",
        "Calculate the percentage of boys (`percentBoys`) and the percentage of girls (`percentGirls`) in a class, and print it out."
      ]
    },
    {
      "cell_type": "code",
      "execution_count": null,
      "metadata": {
        "collapsed": true,
        "id": "5-iCgFfpEueR"
      },
      "outputs": [],
      "source": [
        "numberOfBoys = 60\n",
        "numberOfGirls = 20\n",
        "\n",
        "# Your code here"
      ]
    },
    {
      "cell_type": "markdown",
      "metadata": {
        "id": "mYsQOP0OEueR"
      },
      "source": [
        "<hr>"
      ]
    },
    {
      "cell_type": "markdown",
      "metadata": {
        "id": "3l0bzAdUEueR"
      },
      "source": [
        "## Functions"
      ]
    },
    {
      "cell_type": "markdown",
      "metadata": {
        "id": "DdIfQPMcEueS"
      },
      "source": [
        "A function is a piece of reusable code that lets you run it again and again, but possibly with different parameters. Try running this function below with some different parameters:"
      ]
    },
    {
      "cell_type": "code",
      "execution_count": null,
      "metadata": {
        "collapsed": true,
        "id": "szrqPNhhEueS"
      },
      "outputs": [],
      "source": []
    },
    {
      "cell_type": "code",
      "execution_count": null,
      "metadata": {
        "id": "r1EcRga7EueS"
      },
      "outputs": [],
      "source": []
    },
    {
      "cell_type": "code",
      "execution_count": null,
      "metadata": {
        "id": "9pp7OG-JEueS"
      },
      "outputs": [],
      "source": []
    },
    {
      "cell_type": "markdown",
      "metadata": {
        "collapsed": false,
        "id": "HMd8uChLEueS"
      },
      "source": [
        "There are some useful built-in functions, too! You've been using `print`, a function that prints things out. Let's now use it to print the results of other functions:"
      ]
    },
    {
      "cell_type": "code",
      "execution_count": null,
      "metadata": {
        "id": "cagVxtD0EueT"
      },
      "outputs": [],
      "source": []
    },
    {
      "cell_type": "code",
      "execution_count": null,
      "metadata": {
        "id": "q8Y2z-JdEueT"
      },
      "outputs": [],
      "source": []
    },
    {
      "cell_type": "code",
      "execution_count": null,
      "metadata": {
        "id": "8h-SEKaTEueU"
      },
      "outputs": [],
      "source": []
    },
    {
      "cell_type": "code",
      "execution_count": null,
      "metadata": {
        "id": "i5pH3n9FEueV"
      },
      "outputs": [],
      "source": []
    },
    {
      "cell_type": "code",
      "execution_count": null,
      "metadata": {
        "id": "eheoX79EEueV"
      },
      "outputs": [],
      "source": []
    },
    {
      "cell_type": "code",
      "execution_count": null,
      "metadata": {
        "collapsed": true,
        "id": "39kNgimYEueV"
      },
      "outputs": [],
      "source": []
    },
    {
      "cell_type": "markdown",
      "metadata": {
        "id": "t1JjorLTEueV"
      },
      "source": [
        "Some functions are in _modules_, e.g. the `math` module. To get started, you have to first `import math`, then try the functions within. Here is some gratuitious trigonometry:"
      ]
    },
    {
      "cell_type": "code",
      "execution_count": null,
      "metadata": {
        "collapsed": true,
        "id": "Q-1dIE_FEueW"
      },
      "outputs": [],
      "source": []
    },
    {
      "cell_type": "code",
      "execution_count": null,
      "metadata": {
        "id": "V8Sho8hZEueW"
      },
      "outputs": [],
      "source": []
    },
    {
      "cell_type": "code",
      "execution_count": null,
      "metadata": {
        "id": "YcHK97cJEueW"
      },
      "outputs": [],
      "source": []
    },
    {
      "cell_type": "code",
      "execution_count": null,
      "metadata": {
        "id": "1-n_XhBDEueW"
      },
      "outputs": [],
      "source": []
    },
    {
      "cell_type": "code",
      "execution_count": null,
      "metadata": {
        "id": "6ZaZiatZEueX"
      },
      "outputs": [],
      "source": []
    },
    {
      "cell_type": "markdown",
      "metadata": {
        "id": "YyBC7PJgEueX"
      },
      "source": [
        "### <font color=\"red\">Exercise 2A: Errors\n",
        "\n",
        "If you make a typo, Python will give you an error. Some may look cryptic, but you can try to figure out what they're telling you based on the line of the error. Try running the below, and identifying the errors in the code."
      ]
    },
    {
      "cell_type": "code",
      "execution_count": null,
      "metadata": {
        "id": "CG2haCs5EueX"
      },
      "outputs": [],
      "source": [
        "name = \"Banana"
      ]
    },
    {
      "cell_type": "code",
      "execution_count": null,
      "metadata": {
        "id": "-RnmzXfmEueX"
      },
      "outputs": [],
      "source": [
        "age = 55\n",
        "weeks_lived = age * weeksPerYear"
      ]
    },
    {
      "cell_type": "code",
      "execution_count": null,
      "metadata": {
        "id": "te10azu3EueY"
      },
      "outputs": [],
      "source": [
        "pront(\"Hello\")"
      ]
    },
    {
      "cell_type": "markdown",
      "metadata": {
        "id": "aXmynObtEueY"
      },
      "source": [
        "### <font color=\"red\">Exercise 2B: Cube\n",
        "\n",
        "Write a function, `cube(n)`, that takes in a number, `n`, and prints out the cubed result."
      ]
    },
    {
      "cell_type": "code",
      "execution_count": null,
      "metadata": {
        "id": "sfqazHVQEueY"
      },
      "outputs": [],
      "source": [
        "def cube(n):\n",
        "    result = 0 # FIXME\n",
        "    print(\"The result is\",result)\n",
        "\n",
        "cube(3) # this line is to test your code"
      ]
    },
    {
      "cell_type": "markdown",
      "metadata": {
        "id": "ZjOkiHwzEueZ"
      },
      "source": [
        "### <font color=\"red\">Exercise 2C: Using functions\n",
        "\n",
        "Before running the code below, try predicting what each `print` statement will tell you. Can you explain what's going on with the third `max` function call, between `rich` and `poor`?"
      ]
    },
    {
      "cell_type": "code",
      "execution_count": null,
      "metadata": {
        "id": "yHwcnrsdEueZ"
      },
      "outputs": [],
      "source": [
        "a_string = \"abc\"\n",
        "print(max(a_string))"
      ]
    },
    {
      "cell_type": "code",
      "execution_count": null,
      "metadata": {
        "id": "7JtdTpKNEuea"
      },
      "outputs": [],
      "source": [
        "rich = \"gold\"\n",
        "poor = \"tin\"\n",
        "print(max(len(rich), len(poor)))"
      ]
    },
    {
      "cell_type": "code",
      "execution_count": null,
      "metadata": {
        "collapsed": true,
        "id": "vUJG5VmOEuea"
      },
      "outputs": [],
      "source": [
        "print(max(rich, poor))"
      ]
    },
    {
      "cell_type": "markdown",
      "metadata": {
        "id": "9NzfonlTEuea"
      },
      "source": [
        "<hr>"
      ]
    },
    {
      "cell_type": "markdown",
      "metadata": {
        "id": "MK386_zyEueb"
      },
      "source": [
        "## Lists\n",
        "\n",
        "So far, we've stored information in single variables. This would be unwieldy if we're dealing with a lot of data, e.g. weather readings over a year--imagine declaring variables `rainfall1`, `rainfall2`, `rainfall3`, etc.\n",
        "\n",
        "We're going to introduce **lists** here--a way to store multiple pieces of data in one variable. The first list here is a list of pressure values, defined within square brackets `[]`, separated by commas:"
      ]
    },
    {
      "cell_type": "code",
      "execution_count": null,
      "metadata": {
        "collapsed": true,
        "id": "XSm_stYdEueb"
      },
      "outputs": [],
      "source": []
    },
    {
      "cell_type": "code",
      "execution_count": null,
      "metadata": {
        "id": "3Q--pgytEuec"
      },
      "outputs": [],
      "source": []
    },
    {
      "cell_type": "code",
      "execution_count": null,
      "metadata": {
        "id": "Y6eOeqjQEuec"
      },
      "outputs": [],
      "source": []
    },
    {
      "cell_type": "markdown",
      "metadata": {
        "id": "GlMlYQXQEued"
      },
      "source": [
        "You can also access individual elements in a list, by using the **square bracket notation** -- add a square bracket after your variable name, then have a number in it with the **index** of the element you want to access. Computer scientists count from 0, so if you want the first item, it's at index 0; second item is at index 1."
      ]
    },
    {
      "cell_type": "code",
      "execution_count": null,
      "metadata": {
        "id": "ZAHf3hUiEuee"
      },
      "outputs": [],
      "source": []
    },
    {
      "cell_type": "code",
      "execution_count": null,
      "metadata": {
        "id": "GG_uZ5JzEuee"
      },
      "outputs": [],
      "source": []
    },
    {
      "cell_type": "code",
      "execution_count": null,
      "metadata": {
        "id": "J3vrmkdwEuef"
      },
      "outputs": [],
      "source": []
    },
    {
      "cell_type": "markdown",
      "metadata": {
        "id": "r_eC7y0nEuef"
      },
      "source": [
        "There are some list functions you can use. How do you find out about them? [Search](https://encrypted.google.com/search?q=python+list+functions)!"
      ]
    },
    {
      "cell_type": "code",
      "execution_count": null,
      "metadata": {
        "collapsed": true,
        "id": "1Uf04yg5Euef"
      },
      "outputs": [],
      "source": []
    },
    {
      "cell_type": "code",
      "execution_count": null,
      "metadata": {
        "id": "q-9Aw-lIEueg"
      },
      "outputs": [],
      "source": []
    },
    {
      "cell_type": "code",
      "execution_count": null,
      "metadata": {
        "id": "J9zz-si3Eueg"
      },
      "outputs": [],
      "source": []
    },
    {
      "cell_type": "code",
      "execution_count": null,
      "metadata": {
        "id": "OSD3gsHyEueg"
      },
      "outputs": [],
      "source": []
    },
    {
      "cell_type": "markdown",
      "metadata": {
        "collapsed": false,
        "id": "c51yY81hEueg"
      },
      "source": [
        "Here's something you can do with lists: **slice** them using the slice operator, a colon. Instead of providing a single number in the index, get back part of the list by providing a range of numbers, for example:"
      ]
    },
    {
      "cell_type": "code",
      "execution_count": null,
      "metadata": {
        "id": "7GhsUu6JEueh"
      },
      "outputs": [],
      "source": []
    },
    {
      "cell_type": "markdown",
      "metadata": {
        "id": "W0kYJjKgEueh"
      },
      "source": [
        "### <font color=\"red\">Exercise 3A: I got a list, here's the order of my list that it's in\n",
        "\n",
        "Here's a list. Can you do the following manipulations to it?\n",
        "\n",
        "* Append “apple” and 76 to the list.\n",
        "* Insert the value “cat” at index 3.\n",
        "* Insert the value 99 at the start of the list.\n",
        "* Find the index of “hello”.\n",
        "* Count the number of 76s in the list.\n",
        "* Remove the first occurrence of 76 from the list.\n",
        "\n",
        "Print out your final list to check your answer."
      ]
    },
    {
      "cell_type": "code",
      "execution_count": null,
      "metadata": {
        "collapsed": true,
        "id": "2xhYL7CuEuei"
      },
      "outputs": [],
      "source": [
        "myList = [76, 92.3, 'hello', True, 4, 76]\n",
        "# Space for your working here"
      ]
    },
    {
      "cell_type": "code",
      "execution_count": null,
      "metadata": {
        "collapsed": true,
        "id": "PtB31Y1KEuei"
      },
      "outputs": [],
      "source": [
        "\n"
      ]
    },
    {
      "cell_type": "markdown",
      "metadata": {
        "id": "sH3UHm13Euej"
      },
      "source": [
        "### <font color=\"red\">Exercise 3B: Fill in the blanks\n",
        "\n",
        "Fill in the blanks so that the program below produces the output shown:"
      ]
    },
    {
      "cell_type": "raw",
      "metadata": {
        "id": "qgyVm59-Euej"
      },
      "source": [
        "first time: [1, 3, 5]\n",
        "second time: [3, 5]"
      ]
    },
    {
      "cell_type": "code",
      "execution_count": null,
      "metadata": {
        "collapsed": true,
        "id": "HqsanomUEuek"
      },
      "outputs": [],
      "source": [
        "values = []\n",
        "values.____(1)  #hint: we need to add values to the list somehow!\n",
        "values.____(3)\n",
        "values.____(5)\n",
        "print('first time:', values)\n",
        "values = values[____]  #hint: use list slicing!\n",
        "print('second time:', values)"
      ]
    },
    {
      "cell_type": "markdown",
      "metadata": {
        "id": "bql42nXfEuek"
      },
      "source": [
        "<hr>"
      ]
    },
    {
      "cell_type": "markdown",
      "metadata": {
        "id": "YvEuCBXhEuek"
      },
      "source": [
        "## Loops\n",
        "\n",
        "Now that we have lists, we want to be able to work on the data within them at one swoop, i.e. not have to edit `item[0]`, `item[1]`, `item[2]` one by one. For this, we can use a loop.\n",
        "\n",
        "A loop starts with `for`, ends with a colon, and subsequent lines are indented:"
      ]
    },
    {
      "cell_type": "code",
      "execution_count": null,
      "metadata": {
        "id": "STifSV3aEuek"
      },
      "outputs": [],
      "source": []
    },
    {
      "cell_type": "code",
      "execution_count": null,
      "metadata": {
        "id": "14lyrnwMEuel"
      },
      "outputs": [],
      "source": []
    },
    {
      "cell_type": "code",
      "execution_count": null,
      "metadata": {
        "id": "wSiey90BEuel"
      },
      "outputs": [],
      "source": []
    },
    {
      "cell_type": "code",
      "execution_count": null,
      "metadata": {
        "id": "lDkPtX5oEuel"
      },
      "outputs": [],
      "source": []
    },
    {
      "cell_type": "code",
      "execution_count": null,
      "metadata": {
        "id": "eHyI7uscEuel"
      },
      "outputs": [],
      "source": []
    },
    {
      "cell_type": "code",
      "execution_count": null,
      "metadata": {
        "id": "d4wI6iGnEuem"
      },
      "outputs": [],
      "source": []
    },
    {
      "cell_type": "markdown",
      "metadata": {
        "id": "UJTgWZCGEuem"
      },
      "source": [
        "### <font color=\"red\">Exercise 4A: Multiply everything\n",
        "\n",
        "Given a list of values, print out 2x of everything. E.g. [1, 2, 3] will print out"
      ]
    },
    {
      "cell_type": "raw",
      "metadata": {
        "id": "Sr-wPlxWEuem"
      },
      "source": [
        "2\n",
        "4\n",
        "6"
      ]
    },
    {
      "cell_type": "code",
      "execution_count": null,
      "metadata": {
        "id": "qxwvGjl8Euen"
      },
      "outputs": [],
      "source": [
        "values = [1,2,3,4]\n",
        "\n",
        "for i in values:\n",
        "    print(i) #FIXME"
      ]
    },
    {
      "cell_type": "markdown",
      "metadata": {
        "id": "ZYCH56DLEueo"
      },
      "source": [
        "### <font color=\"red\">Exercise 4B: Square everything\n",
        "\n",
        "Given a list of values, print out the square of everything. E.g. [1, 2, 3] will print out"
      ]
    },
    {
      "cell_type": "raw",
      "metadata": {
        "id": "fPYt0mhwEueo"
      },
      "source": [
        "1\n",
        "4\n",
        "9"
      ]
    },
    {
      "cell_type": "code",
      "execution_count": null,
      "metadata": {
        "collapsed": true,
        "id": "6QBdtjV5Eueo"
      },
      "outputs": [],
      "source": [
        "values = [1,2,3,4]\n",
        "for i in values:\n",
        "    print(i) #FIXME"
      ]
    },
    {
      "cell_type": "markdown",
      "metadata": {
        "id": "h1JJ4qXjEueo"
      },
      "source": [
        "### <font color=\"red\">Exercise 4C: Print this Christmas tree using a loop"
      ]
    },
    {
      "cell_type": "raw",
      "metadata": {
        "id": "dKhKmNGaEuep"
      },
      "source": [
        "*\n",
        "**\n",
        "***\n",
        "****"
      ]
    },
    {
      "cell_type": "code",
      "execution_count": null,
      "metadata": {
        "id": "86OJpdJaEuep"
      },
      "outputs": [],
      "source": [
        "# some starter code\n",
        "for i in range(4):\n",
        "    print(\"*\")"
      ]
    },
    {
      "cell_type": "markdown",
      "metadata": {
        "id": "Q5W5XFZnEuep"
      },
      "source": [
        "<hr>"
      ]
    },
    {
      "cell_type": "markdown",
      "metadata": {
        "id": "uiNZq9U5Eueq"
      },
      "source": [
        "## Conditionals\n",
        "\n",
        "To have Python make decisions for us, we use `if` statements. These control whether blocks of code are run or not. Structurally, they're similar to `for` loops; you start with an `if`, end with a colon, and indent the block of code you want to run conditionally:"
      ]
    },
    {
      "cell_type": "code",
      "execution_count": null,
      "metadata": {
        "id": "IHRbzv6DEueq"
      },
      "outputs": [],
      "source": []
    },
    {
      "cell_type": "code",
      "execution_count": null,
      "metadata": {
        "id": "MTQj72t5Eueq"
      },
      "outputs": [],
      "source": []
    },
    {
      "cell_type": "markdown",
      "metadata": {
        "id": "du1JXce9Eueq"
      },
      "source": [
        "That seemed rather pointless, because we _knew_ what the values were before we ran the loop. Conditionals become more useful when dealing with data we don't define ourselves, e.g. when the data comes in a list:"
      ]
    },
    {
      "cell_type": "code",
      "execution_count": null,
      "metadata": {
        "id": "r06cfP-6Eueq"
      },
      "outputs": [],
      "source": []
    },
    {
      "cell_type": "markdown",
      "metadata": {
        "id": "KUjd_deGEuer"
      },
      "source": [
        "`else` can be used following an `if`, to specify an alternative course of action:\n"
      ]
    },
    {
      "cell_type": "code",
      "execution_count": null,
      "metadata": {
        "id": "GD-XIgnjEuer"
      },
      "outputs": [],
      "source": []
    },
    {
      "cell_type": "markdown",
      "metadata": {
        "collapsed": false,
        "id": "mtQbjLTtEuer"
      },
      "source": [
        "and `elif` can be used to define more conditions:"
      ]
    },
    {
      "cell_type": "code",
      "execution_count": null,
      "metadata": {
        "id": "E-NBYnsxEuer"
      },
      "outputs": [],
      "source": []
    },
    {
      "cell_type": "markdown",
      "metadata": {
        "id": "yGrFKRu7Eues"
      },
      "source": [
        "### <font color=\"red\">Exercise 5A: Print this list, but numbered\n",
        "\n",
        "Given a list of values, print them out, but with numbering. E.g.:"
      ]
    },
    {
      "cell_type": "raw",
      "metadata": {
        "id": "wONDJCPjEues"
      },
      "source": [
        "Day 1 reading: 0.44\n",
        "Day 2 reading: 0.01\n",
        "Day 3 reading: 0.24"
      ]
    },
    {
      "cell_type": "markdown",
      "metadata": {
        "id": "b2Nv2uqvEues"
      },
      "source": [
        "Note: this first exercise doesn't use conditionals, but the following ones will!"
      ]
    },
    {
      "cell_type": "code",
      "execution_count": null,
      "metadata": {
        "collapsed": true,
        "id": "YvIdn3hrEuet"
      },
      "outputs": [],
      "source": [
        "readings = [0.44, 0.01, 0.24]\n",
        "index = 1 # hint!\n",
        "\n",
        "for r in readings:\n",
        "    print(r) # FIXME"
      ]
    },
    {
      "cell_type": "markdown",
      "metadata": {
        "id": "dO1OJ40KEuet"
      },
      "source": [
        "### <font color=\"red\">Exercise 5B: Panic if something is too low\n",
        "\n",
        "Same as above, but insert a huge warning if the value is below 0.1."
      ]
    },
    {
      "cell_type": "raw",
      "metadata": {
        "id": "9QPMqbLXEueu"
      },
      "source": [
        "Day 1 reading: 0.44\n",
        "Day 2 reading: 0.01 . WHAT! THIS IS TOO LOW!\n",
        "Day 3 reading: 0.24"
      ]
    },
    {
      "cell_type": "code",
      "execution_count": null,
      "metadata": {
        "id": "oW78cUKFEueu"
      },
      "outputs": [],
      "source": [
        "readings = [0.44, 0.01, 0.24, 0.02]\n",
        "index = 1 # hint!\n",
        "\n",
        "for r in readings:\n",
        "    print(r) # FIXME"
      ]
    },
    {
      "cell_type": "markdown",
      "metadata": {
        "id": "elOEgeh0Eueu"
      },
      "source": [
        "### <font color=\"red\">Exercise 5C: Generate multiples\n",
        "\n",
        "Print out all the positive multiples of 7 that are smaller than 200. The largest number printed should be 196. It's OK to print 0 to start out."
      ]
    },
    {
      "cell_type": "code",
      "execution_count": null,
      "metadata": {
        "id": "AoLwaEpcEuev"
      },
      "outputs": [],
      "source": [
        "for i in range(200):\n",
        "    print(i) #FIXME"
      ]
    },
    {
      "cell_type": "markdown",
      "metadata": {
        "collapsed": true,
        "id": "3vd05k-MEuev"
      },
      "source": [
        "### <font color=\"red\">Exercise 5D: Multi-multiples\n",
        "\n",
        "Print out all the positive multiples of 7 _or_ 13 that are smaller than 200."
      ]
    },
    {
      "cell_type": "code",
      "execution_count": null,
      "metadata": {
        "collapsed": true,
        "id": "8AyPD98oEuev"
      },
      "outputs": [],
      "source": []
    },
    {
      "cell_type": "markdown",
      "metadata": {
        "collapsed": true,
        "id": "4pQwuB0zEuev"
      },
      "source": [
        "<hr>"
      ]
    },
    {
      "cell_type": "markdown",
      "metadata": {
        "collapsed": true,
        "id": "Rk3kfAdBEuew"
      },
      "source": [
        "## Further reading\n",
        "\n",
        "Want to learn more? We recommend the following:\n",
        "\n",
        "* [How to think like a Computer Scientist](https://runestone.academy/ns/books/published/thinkcspy/index.html), an interactive online book\n",
        "* [Learn Python the Hard Way](https://learnpythonthehardway.org/) has lots of exercises to try\n",
        "* [Automate the Boring Stuff with Python](https://automatetheboringstuff.com/), for your lifehacks. Also available on Udemy as video."
      ]
    },
    {
      "cell_type": "code",
      "execution_count": null,
      "metadata": {
        "collapsed": true,
        "id": "PwOoaRivEuew"
      },
      "outputs": [],
      "source": []
    },
    {
      "cell_type": "code",
      "execution_count": null,
      "metadata": {
        "collapsed": true,
        "id": "wAlj-KBUEuew"
      },
      "outputs": [],
      "source": []
    },
    {
      "cell_type": "code",
      "execution_count": null,
      "metadata": {
        "collapsed": true,
        "id": "l-gwI6zIEuew"
      },
      "outputs": [],
      "source": []
    }
  ],
  "metadata": {
    "kernelspec": {
      "display_name": "Python 3",
      "language": "python",
      "name": "python3"
    },
    "language_info": {
      "codemirror_mode": {
        "name": "ipython",
        "version": 3
      },
      "file_extension": ".py",
      "mimetype": "text/x-python",
      "name": "python",
      "nbconvert_exporter": "python",
      "pygments_lexer": "ipython3",
      "version": "3.6.8"
    },
    "colab": {
      "provenance": [],
      "include_colab_link": true
    }
  },
  "nbformat": 4,
  "nbformat_minor": 0
}