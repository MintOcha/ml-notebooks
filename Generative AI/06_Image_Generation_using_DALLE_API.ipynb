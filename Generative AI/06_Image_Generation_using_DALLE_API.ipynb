{
  "cells": [
    {
      "cell_type": "markdown",
      "metadata": {
        "colab_type": "text",
        "id": "view-in-github"
      },
      "source": [
        "<a href=\"https://colab.research.google.com/github/tinkercademy/ml-notebooks/blob/main/Generative AI/06_Image_Generation_using_DALLE_API.ipynb\" target=\"_parent\"><img src=\"https://colab.research.google.com/assets/colab-badge.svg\" alt=\"Open In Colab\"/></a>"
      ]
    },
    {
      "cell_type": "code",
      "execution_count": null,
      "metadata": {
        "id": "sGor403m1rLP"
      },
      "outputs": [],
      "source": [
        "!pip install openai\n",
        "import openai\n",
        "import os\n",
        "openai.api_key  = 'ENTERAPIKEYHERE'\n"
      ]
    },
    {
      "cell_type": "code",
      "execution_count": null,
      "metadata": {
        "id": "tHRXDHe_Bve4"
      },
      "outputs": [],
      "source": [
        "def generate_image(prompt):\n",
        "\n",
        "  response = openai.Image.create(\n",
        "    prompt=prompt,\n",
        "    n=1,\n",
        "    size=\"256x256\",\n",
        "  )\n",
        "\n",
        "  return response[\"data\"][0][\"url\"]"
      ]
    },
    {
      "cell_type": "code",
      "execution_count": null,
      "metadata": {
        "id": "98n6e7V2Bww9"
      },
      "outputs": [],
      "source": [
        "generate_image(\"ENTER PROMPT HERE\")"
      ]
    }
  ],
  "metadata": {
    "colab": {
      "include_colab_link": true,
      "provenance": []
    },
    "kernelspec": {
      "display_name": "Python 3",
      "name": "python3"
    },
    "language_info": {
      "name": "python"
    }
  },
  "nbformat": 4,
  "nbformat_minor": 0
}
