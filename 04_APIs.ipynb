{
  "nbformat": 4,
  "nbformat_minor": 0,
  "metadata": {
    "anaconda-cloud": {},
    "kernelspec": {
      "display_name": "Python 3",
      "language": "python",
      "name": "python3"
    },
    "language_info": {
      "codemirror_mode": {
        "name": "ipython",
        "version": 3
      },
      "file_extension": ".py",
      "mimetype": "text/x-python",
      "name": "python",
      "nbconvert_exporter": "python",
      "pygments_lexer": "ipython3",
      "version": "3.6.8"
    },
    "colab": {
      "provenance": [],
      "collapsed_sections": [
        "uAT_kvwg5lIA",
        "pKcxa2nC5lIA",
        "amDZKIH15lIB",
        "PVnNb8h45lIF",
        "7od_Npow5lIG",
        "H3HmmVHl5lIH",
        "udGEuuYX5lIJ",
        "M7I8mWD55lIJ",
        "Isniq-B-5lIO",
        "bjiedFkU5lIO",
        "YifAVife5lIP",
        "a49pwOLo5lIP",
        "jJLrZhxR5lIQ"
      ],
      "include_colab_link": true
    }
  },
  "cells": [
    {
      "cell_type": "markdown",
      "metadata": {
        "id": "view-in-github",
        "colab_type": "text"
      },
      "source": [
        "<a href=\"https://colab.research.google.com/github/tinkercademy/ml-notebooks/blob/main/04_APIs.ipynb\" target=\"_parent\"><img src=\"https://colab.research.google.com/assets/colab-badge.svg\" alt=\"Open In Colab\"/></a>"
      ]
    },
    {
      "cell_type": "markdown",
      "metadata": {
        "id": "GiBpT2RM5lHv"
      },
      "source": [
        "# APIs"
      ]
    },
    {
      "cell_type": "markdown",
      "metadata": {
        "id": "4_UN8ftU5lHy"
      },
      "source": [
        "Before we jump into APIs, we need to talk about one more structure in Python that we haven't covered yet: <b>dictionaries</b>"
      ]
    },
    {
      "cell_type": "markdown",
      "metadata": {
        "id": "OAieD8gl5lH0"
      },
      "source": [
        "## Dictionaries"
      ]
    },
    {
      "cell_type": "markdown",
      "metadata": {
        "id": "2Oz7307w5lH1"
      },
      "source": [
        "Dictionaries consist of key:value pairs. We can look up a key, and find its value.\n",
        "\n",
        "The python structures we've used so far (lists, strings, etc.) are all ordered from left to right - we use indexing to access data stored in different places. Dictionaries are different and are unordered. Instead, they use mapping to allow us to access data stored."
      ]
    },
    {
      "cell_type": "code",
      "metadata": {
        "collapsed": true,
        "id": "qZJ_egNy5lH2"
      },
      "source": [],
      "execution_count": null,
      "outputs": []
    },
    {
      "cell_type": "code",
      "metadata": {
        "collapsed": true,
        "id": "SaaIIpKU5lH2"
      },
      "source": [],
      "execution_count": null,
      "outputs": []
    },
    {
      "cell_type": "code",
      "metadata": {
        "collapsed": true,
        "id": "l8zim-_G5lH4"
      },
      "source": [],
      "execution_count": null,
      "outputs": []
    },
    {
      "cell_type": "code",
      "metadata": {
        "collapsed": true,
        "id": "O7t8QQhI5lH4"
      },
      "source": [],
      "execution_count": null,
      "outputs": []
    },
    {
      "cell_type": "code",
      "metadata": {
        "collapsed": true,
        "id": "xvvDG6jP5lH5"
      },
      "source": [],
      "execution_count": null,
      "outputs": []
    },
    {
      "cell_type": "markdown",
      "metadata": {
        "id": "SyODyqgg5lH6"
      },
      "source": [
        "<p><b>Interacting with Dictionaries</b></p>\n",
        "Just creating dictionaries isn't enough. We want to be able to dynamically interact and update dictionary values. Just like strings, lists and dataframes, there are a number of ways we can interact and manipulate dictionaries."
      ]
    },
    {
      "cell_type": "code",
      "metadata": {
        "collapsed": true,
        "id": "pUEk44yP5lH7"
      },
      "source": [],
      "execution_count": null,
      "outputs": []
    },
    {
      "cell_type": "code",
      "metadata": {
        "collapsed": true,
        "id": "igzo3O-j5lH8"
      },
      "source": [],
      "execution_count": null,
      "outputs": []
    },
    {
      "cell_type": "code",
      "metadata": {
        "collapsed": true,
        "id": "h_lw4a1T5lH8"
      },
      "source": [],
      "execution_count": null,
      "outputs": []
    },
    {
      "cell_type": "code",
      "metadata": {
        "collapsed": true,
        "id": "lWfPlA4w5lH8"
      },
      "source": [],
      "execution_count": null,
      "outputs": []
    },
    {
      "cell_type": "code",
      "metadata": {
        "collapsed": true,
        "id": "16skeC7G5lH8"
      },
      "source": [],
      "execution_count": null,
      "outputs": []
    },
    {
      "cell_type": "markdown",
      "metadata": {
        "id": "tShL-pYp5lIA"
      },
      "source": [
        "# APIs"
      ]
    },
    {
      "cell_type": "markdown",
      "metadata": {
        "id": "uAT_kvwg5lIA"
      },
      "source": [
        "#### Challenge:\n",
        "We want to create a visualisation using live weather data. For this, we’ll use Particulate Matter 2.5 readings from data.gov.sg.\n",
        "\n",
        "When we were using data.gov.sg data to plot using matplotlib, we downloaded a CSV file. But this requires manual interaction. Every time we want updated info, we have to manually go to the website and download the most recent CSV. Is there a way to automate this?"
      ]
    },
    {
      "cell_type": "markdown",
      "metadata": {
        "id": "pKcxa2nC5lIA"
      },
      "source": [
        "#### Intro to APIs\n",
        "\n",
        "If I wanted to ask someone what the weather was, I might ask them \"Hey, what's the weather today?\" or \"How’s the weather?\" or \"Is it hot today?\" and you’d know I’m asking about the weather.\n",
        "\n",
        "But computers talk to one another in a slightly different way: by exchanging data in nicely-formatted data packets.  These have to be properly formatted so that computers can recognise them, just like with your Python syntax. As a result, we need to be very specific when sending requests to computers. It also means that they're going to send responses in very specific formats.\n",
        "\n",
        "(See slides for more info!)\n",
        "\n",
        "\n",
        "\n",
        "\n",
        "\n",
        "\n",
        "Some notes on APIs:\n",
        "\n",
        "* Computers that are online--servers--can choose what information they want to provide.\n",
        "* Servers can require registration and user access keys, to identify and protect against unwanted behaviour.\n",
        "* The information can be requested through a series of \"calls\", e.g. \"hey, can I have the weather today in Singapore?\"\n",
        "* The information provided should be in a format recognisable to both ends, e.g. \"31 degrees Celsius, sunny conditions\" or \"31, sunny\".\n",
        "* Often, the request is through a URL, e.g. `getweather.com/request/singapore/today`\n",
        "* Often, the reply is in pre-formatted XML or JSON, e.g. `{temperature: 31, condition: sunny}`\n",
        "\n",
        "This request-reply mechanism is known as an API, an **Application Programming Interface**. Lots and lots of services provide APIs, so that people can make things with them, e.g.\n",
        "\n",
        "* [Google Maps APIs](https://developers.google.com/maps/) for people to make property price mashups\n",
        "* [Singapore Government APIs](https://www.data.gov.sg) for public information the government wants to share\n",
        "* [Facebook APIs](https://developers.facebook.com/) so you can build off people's social networks\n",
        "* [Chuck Norris API](https://github.com/chucknorris-io/chuck-api) so... umm. We don't know why this exists.\n"
      ]
    },
    {
      "cell_type": "code",
      "metadata": {
        "collapsed": true,
        "id": "hEQ9BGLk5lIA"
      },
      "source": [],
      "execution_count": null,
      "outputs": []
    },
    {
      "cell_type": "code",
      "metadata": {
        "id": "D5l3otJb5lIB"
      },
      "source": [],
      "execution_count": null,
      "outputs": []
    },
    {
      "cell_type": "markdown",
      "metadata": {
        "id": "amDZKIH15lIB"
      },
      "source": [
        "#### Using the data.gov.sg API"
      ]
    },
    {
      "cell_type": "code",
      "metadata": {
        "id": "Ua8jeKE15lIB"
      },
      "source": [
        "# Import the modules\n",
        "import urllib.request\n",
        "import json\n",
        "\n",
        "# Create a request\n",
        "url = \"https://api.data.gov.sg/v1/environment/pm25?date=2018-01-24\"\n",
        "request = urllib.request.Request(url)\n",
        "\n",
        "# Get the response and store it\n",
        "response = urllib.request.urlopen(request)\n",
        "\n",
        "# response is also an object with various methods/attributes\n",
        "data = response.read()\n",
        "\n",
        "#Decode the bytes object\n",
        "json_string = data.decode('utf-8')\n",
        "\n",
        "# Convert the JSON data to a Python dictionary\n",
        "parsed_json = json.loads(json_string)\n",
        "\n",
        "# Print\n",
        "parsed_json"
      ],
      "execution_count": null,
      "outputs": []
    },
    {
      "cell_type": "code",
      "metadata": {
        "id": "BpLbX09L5lID"
      },
      "source": [],
      "execution_count": null,
      "outputs": []
    },
    {
      "cell_type": "code",
      "metadata": {
        "id": "7hQ8Wq2H5lID"
      },
      "source": [],
      "execution_count": null,
      "outputs": []
    },
    {
      "cell_type": "code",
      "metadata": {
        "id": "jwfSQBut5lID"
      },
      "source": [],
      "execution_count": null,
      "outputs": []
    },
    {
      "cell_type": "code",
      "metadata": {
        "id": "MkN8Pr0d5lIE"
      },
      "source": [],
      "execution_count": null,
      "outputs": []
    },
    {
      "cell_type": "code",
      "metadata": {
        "id": "hfMs1Dn15lIE"
      },
      "source": [],
      "execution_count": null,
      "outputs": []
    },
    {
      "cell_type": "code",
      "metadata": {
        "id": "QNxTQGZ05lIE"
      },
      "source": [],
      "execution_count": null,
      "outputs": []
    },
    {
      "cell_type": "code",
      "metadata": {
        "id": "pbRaJHid5lIE"
      },
      "source": [],
      "execution_count": null,
      "outputs": []
    },
    {
      "cell_type": "code",
      "metadata": {
        "collapsed": true,
        "id": "7nIPeYxm5lIF"
      },
      "source": [],
      "execution_count": null,
      "outputs": []
    },
    {
      "cell_type": "markdown",
      "metadata": {
        "id": "PVnNb8h45lIF"
      },
      "source": [
        "#### Try it out:\n",
        "Can you find the average of the PM25 hourly readings in the South on Dec 31, 2017?"
      ]
    },
    {
      "cell_type": "code",
      "metadata": {
        "collapsed": true,
        "id": "ELiea6uw5lIF"
      },
      "source": [
        "#Hint:\n",
        "#    Step 1: Get all the south readings for 31 Dec\n",
        "#    Step 2: Average them"
      ],
      "execution_count": null,
      "outputs": []
    },
    {
      "cell_type": "code",
      "metadata": {
        "id": "QF2p6j0S5lIF"
      },
      "source": [],
      "execution_count": null,
      "outputs": []
    },
    {
      "cell_type": "code",
      "metadata": {
        "id": "VFW-DZoC5lIF"
      },
      "source": [],
      "execution_count": null,
      "outputs": []
    },
    {
      "cell_type": "code",
      "metadata": {
        "id": "ZF2Tb5he5lIF"
      },
      "source": [],
      "execution_count": null,
      "outputs": []
    },
    {
      "cell_type": "code",
      "metadata": {
        "id": "PQNrNspF5lIG"
      },
      "source": [],
      "execution_count": null,
      "outputs": []
    },
    {
      "cell_type": "code",
      "metadata": {
        "collapsed": true,
        "id": "myr3svCz5lIG"
      },
      "source": [],
      "execution_count": null,
      "outputs": []
    },
    {
      "cell_type": "markdown",
      "metadata": {
        "id": "7od_Npow5lIG"
      },
      "source": [
        "### <font color=\"red\">Bonus Exercise:</font>\n",
        "\n",
        "Can you convert the JSON data into a dataframe so that it's easier to work with? Let's assume we only care about the timestamps and the PM2.5 readings for the 5 regions at each timestamp.\n"
      ]
    },
    {
      "cell_type": "code",
      "metadata": {
        "id": "RRtlBcUF5lIH"
      },
      "source": [],
      "execution_count": null,
      "outputs": []
    },
    {
      "cell_type": "code",
      "metadata": {
        "collapsed": true,
        "id": "f9DXLcxO5lIH"
      },
      "source": [],
      "execution_count": null,
      "outputs": []
    },
    {
      "cell_type": "markdown",
      "metadata": {
        "id": "H3HmmVHl5lIH"
      },
      "source": [
        "## Putting It All Together - APIs, Plot.ly, and Mapbox\n",
        "\n",
        "1. Request the latest Particulate Matter 2.5 readings from data.gov.sg. Store the returned data in a python dictionary (hint: don’t specify a date to get current data)\n",
        "\n",
        "2. Plot the longitude and latitude coordinates of the five locations on a map of Singapore using Plotly and Mapbox. (Your code should read the longitude and latitude coordinates directly from the response data; coordinates should not be hardcoded.)\n",
        "\n",
        "3. Add hover text that displays:\n",
        "    - the location name (north, east, central, etc.)\n",
        "    - the current PM reading for that location.\n"
      ]
    },
    {
      "cell_type": "code",
      "metadata": {
        "id": "XyhSeVzF5lII"
      },
      "source": [],
      "execution_count": null,
      "outputs": []
    },
    {
      "cell_type": "code",
      "metadata": {
        "collapsed": true,
        "id": "212odpCu5lII"
      },
      "source": [],
      "execution_count": null,
      "outputs": []
    },
    {
      "cell_type": "code",
      "metadata": {
        "collapsed": true,
        "id": "wADGd15l5lII"
      },
      "source": [],
      "execution_count": null,
      "outputs": []
    },
    {
      "cell_type": "code",
      "metadata": {
        "id": "hpXaRC3b5lII"
      },
      "source": [],
      "execution_count": null,
      "outputs": []
    },
    {
      "cell_type": "code",
      "metadata": {
        "collapsed": true,
        "id": "7OWmDGHb5lII"
      },
      "source": [],
      "execution_count": null,
      "outputs": []
    },
    {
      "cell_type": "code",
      "metadata": {
        "collapsed": true,
        "id": "XVYjK_FM5lII"
      },
      "source": [],
      "execution_count": null,
      "outputs": []
    },
    {
      "cell_type": "code",
      "metadata": {
        "collapsed": true,
        "id": "kGCaYKFY5lII"
      },
      "source": [],
      "execution_count": null,
      "outputs": []
    },
    {
      "cell_type": "code",
      "metadata": {
        "collapsed": true,
        "id": "2eFLUtQH5lIJ"
      },
      "source": [],
      "execution_count": null,
      "outputs": []
    },
    {
      "cell_type": "markdown",
      "metadata": {
        "id": "udGEuuYX5lIJ"
      },
      "source": [
        "## Stock APIs\n",
        "\n",
        "This exercise will go through the following:\n",
        "\n",
        "* Reading financial data from online sources\n",
        "* Basic dataframe and series manipulation\n",
        "* Basic plotting\n",
        "* Exporting to Excel"
      ]
    },
    {
      "cell_type": "code",
      "metadata": {
        "id": "IyPiA5aa5lIJ"
      },
      "source": [
        "import numpy as np\n",
        "import pandas as pd\n",
        "import datetime\n",
        "import matplotlib.pyplot as plt\n",
        "%matplotlib inline"
      ],
      "execution_count": null,
      "outputs": []
    },
    {
      "cell_type": "markdown",
      "metadata": {
        "id": "M7I8mWD55lIJ"
      },
      "source": [
        "\n",
        "## DataReader"
      ]
    },
    {
      "cell_type": "markdown",
      "metadata": {
        "id": "vwf42_-t5lIK"
      },
      "source": [
        "Pandas has it's own **DataReader** function, from the **`pandas_datareader`** module, which makes it easy to read data (e.g. historical stock price data) from the following online sources, and to save them as DataFrames:\n",
        "\n",
        "* Yahoo Finance _(only allows user downloads, not automated requests)_\n",
        "* Google Finance _(discontinued as of Sept 2017)_\n",
        "* St.Louis FED (FRED)\n",
        "* World Bank\n",
        "* Enigma\n",
        "* Quandl        \n",
        "* Kenneth French’s data library\n",
        "* OECD\n",
        "* Eurostat\n",
        "* Thrift Savings Plan\n",
        "* Nasdaq Trader symbol definitions\n",
        "* Alpha\n",
        "\n",
        "More information, including tutorials to access each of these sites, can be found at the [pandas documentation page](https://pandas.pydata.org/docs/).\n",
        "\n",
        "The downsides, however, are that:\n",
        "* many of these sites have been changing and no longer offer data (for example, Yahoo and Google both recently shut down their APIs)\n",
        "* sites return different formats of data of varying levels of completeness.\n",
        "* it requires you to install the pandas-datareader module\n",
        "\n",
        "There are actually a lot of different modules that individuals have written and posted online. Oftentimes they're looking for an easy way to grab stock data for their own means and share their resulting code on github. These code snippets can be really useful! But they might not be maintained, and they could have specifically tailored solutions that might not be relevant to you."
      ]
    },
    {
      "cell_type": "markdown",
      "metadata": {
        "id": "QhheSOkN5lIK"
      },
      "source": [
        "Because pandas-datareader requires an extra install, and requires learning additional functions, we're not going to use that method (but know that it exists if you're interested in it!). Instead, we're going to use a free stock info service called Alpha Vantage (https://www.alphavantage.co/). You can get a free API key which allows you to access their stock info. They return data as either a downloadable CSV, or JSON format (just like data.gov.sg!).\n",
        "\n",
        "Example usage can be found at: https://www.alphavantage.co/documentation/\n",
        "\n",
        "Here, we'll start by reading Microsoft stock prices for the past two weeks."
      ]
    },
    {
      "cell_type": "code",
      "metadata": {
        "collapsed": true,
        "id": "xy9flZZU5lIL"
      },
      "source": [],
      "execution_count": null,
      "outputs": []
    },
    {
      "cell_type": "code",
      "metadata": {
        "id": "B5cat3RV5lIL"
      },
      "source": [],
      "execution_count": null,
      "outputs": []
    },
    {
      "cell_type": "code",
      "metadata": {
        "collapsed": true,
        "id": "RkDIBUqB5lIM"
      },
      "source": [],
      "execution_count": null,
      "outputs": []
    },
    {
      "cell_type": "code",
      "metadata": {
        "collapsed": true,
        "id": "ir0W7EVz5lIM"
      },
      "source": [],
      "execution_count": null,
      "outputs": []
    },
    {
      "cell_type": "code",
      "metadata": {
        "collapsed": true,
        "id": "o774ZUIQ5lIM"
      },
      "source": [],
      "execution_count": null,
      "outputs": []
    },
    {
      "cell_type": "code",
      "metadata": {
        "id": "uaFkp6Jn5lIM"
      },
      "source": [],
      "execution_count": null,
      "outputs": []
    },
    {
      "cell_type": "code",
      "metadata": {
        "id": "RSdDOcZe5lIM"
      },
      "source": [],
      "execution_count": null,
      "outputs": []
    },
    {
      "cell_type": "code",
      "metadata": {
        "id": "fN1srdNc5lIM"
      },
      "source": [],
      "execution_count": null,
      "outputs": []
    },
    {
      "cell_type": "code",
      "metadata": {
        "collapsed": true,
        "id": "x1JC7Lsk5lIM"
      },
      "source": [],
      "execution_count": null,
      "outputs": []
    },
    {
      "cell_type": "code",
      "metadata": {
        "collapsed": true,
        "id": "u5OABnRn5lIM"
      },
      "source": [],
      "execution_count": null,
      "outputs": []
    },
    {
      "cell_type": "code",
      "metadata": {
        "collapsed": true,
        "id": "zMO2Elr45lIM"
      },
      "source": [],
      "execution_count": null,
      "outputs": []
    },
    {
      "cell_type": "code",
      "metadata": {
        "collapsed": true,
        "id": "1q65lawx5lIN"
      },
      "source": [],
      "execution_count": null,
      "outputs": []
    },
    {
      "cell_type": "code",
      "metadata": {
        "id": "XnulqarS5lIN"
      },
      "source": [],
      "execution_count": null,
      "outputs": []
    },
    {
      "cell_type": "code",
      "metadata": {
        "collapsed": true,
        "id": "TLCLu3mc5lIN"
      },
      "source": [],
      "execution_count": null,
      "outputs": []
    },
    {
      "cell_type": "markdown",
      "metadata": {
        "collapsed": true,
        "id": "qwX5R-gP5lIN"
      },
      "source": [
        "<hr>"
      ]
    },
    {
      "cell_type": "code",
      "metadata": {
        "id": "p4J15q1G5lIN"
      },
      "source": [
        "#Optional Exercises:"
      ],
      "execution_count": null,
      "outputs": []
    },
    {
      "cell_type": "markdown",
      "metadata": {
        "id": "Isniq-B-5lIO"
      },
      "source": [
        "### <font color=\"red\">Exercise 1: Get Google Data from Google\n",
        "\n",
        "Create a variable called `goog` to store Google stock price. Slice the data so that it only looks at the time period from 1 Jan 2016 to 1 June 2017.\n"
      ]
    },
    {
      "cell_type": "code",
      "metadata": {
        "collapsed": true,
        "id": "9x5xS4y_5lIO"
      },
      "source": [],
      "execution_count": null,
      "outputs": []
    },
    {
      "cell_type": "markdown",
      "metadata": {
        "id": "bjiedFkU5lIO"
      },
      "source": [
        "### <font color=\"red\">Exercise 2\n",
        "\n",
        "For your `goog` data between 1 Jan 2016 and 1 June 2017:\n",
        "\n",
        "* Find the average trading volume\n",
        "* Find the days which exceed twice its average trading volume (should be 14)"
      ]
    },
    {
      "cell_type": "code",
      "metadata": {
        "collapsed": true,
        "id": "vTlO9ZLZ5lIO"
      },
      "source": [],
      "execution_count": null,
      "outputs": []
    },
    {
      "cell_type": "markdown",
      "metadata": {
        "id": "YifAVife5lIP"
      },
      "source": [
        "### <font color=\"red\">Exercise 3\n",
        "\n",
        "For the Google data set:\n",
        "\n",
        "* Make a new column called \"Prev Close\", and shift the close data by 1 downwards, i.e. today's \"Prev Close\" is what was in yesterday's \"Close\". There's a `.shift()` function you can use for this.\n",
        "* Add a new column showing the % difference between the current day's open and the previous day's close.\n",
        "* Group the % difference by integer percentages, and show the counts of these.\n",
        "\n",
        "For this last one, take a look at the `groupby` command."
      ]
    },
    {
      "cell_type": "code",
      "metadata": {
        "collapsed": true,
        "id": "YLnZudxT5lIP"
      },
      "source": [],
      "execution_count": null,
      "outputs": []
    },
    {
      "cell_type": "markdown",
      "metadata": {
        "id": "a49pwOLo5lIP"
      },
      "source": [
        "### <font color=\"red\">Exercise 4\n",
        "\n",
        "* Plot the closing prices for AAPL, MSFT, and GOOG in the same graph, normalising for their different scales in a sensible manner."
      ]
    },
    {
      "cell_type": "code",
      "metadata": {
        "collapsed": true,
        "id": "l93T5LZC5lIP"
      },
      "source": [],
      "execution_count": null,
      "outputs": []
    },
    {
      "cell_type": "markdown",
      "metadata": {
        "id": "jJLrZhxR5lIQ"
      },
      "source": [
        "### <font color=\"red\">Exercise 5: Make your own stock analysis generator\n",
        "\n",
        "For this final exercise, generate some interesting insight from a basket of stocks, that creates an Excel file automatically for you. Also, have it export a couple of graphs that you can plonk into your PowerPoint presentations!"
      ]
    },
    {
      "cell_type": "code",
      "metadata": {
        "collapsed": true,
        "id": "tJ4mzLQ55lIQ"
      },
      "source": [],
      "execution_count": null,
      "outputs": []
    }
  ]
}